{
 "cells": [
  {
   "cell_type": "code",
   "execution_count": 1,
   "id": "aeffafbd",
   "metadata": {},
   "outputs": [
    {
     "data": {
      "text/plain": [
       "'adit'"
      ]
     },
     "execution_count": 1,
     "metadata": {},
     "output_type": "execute_result"
    }
   ],
   "source": [
    "str1 = \"aditya\"\n",
    "\n",
    "str1[0:4]"
   ]
  },
  {
   "cell_type": "code",
   "execution_count": 2,
   "id": "b3c11db1",
   "metadata": {},
   "outputs": [
    {
     "data": {
      "text/plain": [
       "'Hack'"
      ]
     },
     "execution_count": 2,
     "metadata": {},
     "output_type": "execute_result"
    }
   ],
   "source": [
    "str1 = \"HackerRank\"\n",
    "str1[0:4]"
   ]
  },
  {
   "cell_type": "code",
   "execution_count": 3,
   "id": "1dc70aa6",
   "metadata": {},
   "outputs": [
    {
     "data": {
      "text/plain": [
       "'defgh'"
      ]
     },
     "execution_count": 3,
     "metadata": {},
     "output_type": "execute_result"
    }
   ],
   "source": [
    "str1 = \"abcdefghij\"\n",
    "str1[3:8]"
   ]
  },
  {
   "cell_type": "code",
   "execution_count": 7,
   "id": "1004ce97",
   "metadata": {},
   "outputs": [
    {
     "data": {
      "text/plain": [
       "'mobileph'"
      ]
     },
     "execution_count": 7,
     "metadata": {},
     "output_type": "execute_result"
    }
   ],
   "source": [
    "str2 = \"mobilephone\"\n",
    "str2[:-3]"
   ]
  },
  {
   "cell_type": "code",
   "execution_count": null,
   "id": "1d80f7fd",
   "metadata": {},
   "outputs": [],
   "source": []
  }
 ],
 "metadata": {
  "kernelspec": {
   "display_name": "Python 3",
   "language": "python",
   "name": "python3"
  },
  "language_info": {
   "codemirror_mode": {
    "name": "ipython",
    "version": 3
   },
   "file_extension": ".py",
   "mimetype": "text/x-python",
   "name": "python",
   "nbconvert_exporter": "python",
   "pygments_lexer": "ipython3",
   "version": "3.9.12"
  }
 },
 "nbformat": 4,
 "nbformat_minor": 5
}
