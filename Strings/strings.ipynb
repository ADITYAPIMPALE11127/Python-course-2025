{
 "cells": [
  {
   "cell_type": "markdown",
   "id": "6ad53d6b",
   "metadata": {},
   "source": [
    "#### Accessing an character in a string by index"
   ]
  },
  {
   "cell_type": "code",
   "execution_count": 2,
   "id": "22630c4c",
   "metadata": {},
   "outputs": [
    {
     "data": {
      "text/plain": [
       "'A'"
      ]
     },
     "execution_count": 2,
     "metadata": {},
     "output_type": "execute_result"
    }
   ],
   "source": [
    "name = \"Aditya\"\n",
    "name[0] # 0th element accessed "
   ]
  },
  {
   "cell_type": "markdown",
   "id": "bc7d6171",
   "metadata": {},
   "source": [
    "#### String Slicing"
   ]
  },
  {
   "cell_type": "code",
   "execution_count": null,
   "id": "aeffafbd",
   "metadata": {},
   "outputs": [
    {
     "data": {
      "text/plain": [
       "'adit'"
      ]
     },
     "execution_count": 1,
     "metadata": {},
     "output_type": "execute_result"
    }
   ],
   "source": [
    "str1 = \"aditya\"\n",
    "\n",
    "str1[0:4] # goes from 0th to the 3rd index i.e. 4 - 1 th index here"
   ]
  },
  {
   "cell_type": "markdown",
   "id": "e65eb43c",
   "metadata": {},
   "source": [
    "#### Slicing with step\n",
    "*  step is a 3rd argument in slicing a string syntax"
   ]
  },
  {
   "cell_type": "code",
   "execution_count": null,
   "id": "eb8c9f7b",
   "metadata": {},
   "outputs": [
    {
     "data": {
      "text/plain": [
       "'Aiy90'"
      ]
     },
     "execution_count": 7,
     "metadata": {},
     "output_type": "execute_result"
    }
   ],
   "source": [
    "# Step is used to skip the characters in a string\n",
    "\n",
    "str4 = \"Aditya9607544258\"\n",
    "# if we want to skip 1 character then mention step as 2\n",
    "\n",
    "str4[0:10:2]"
   ]
  },
  {
   "cell_type": "code",
   "execution_count": null,
   "id": "931695f4",
   "metadata": {},
   "outputs": [
    {
     "data": {
      "text/plain": [
       "'At97'"
      ]
     },
     "execution_count": 8,
     "metadata": {},
     "output_type": "execute_result"
    }
   ],
   "source": [
    "# if we want to increase the skip size like by 2 then \n",
    "# step size will be 3 i.e. 3 -1  = 2 skips\n",
    "str4[0:12:3]"
   ]
  },
  {
   "cell_type": "markdown",
   "id": "3b635184",
   "metadata": {},
   "source": [
    "##### How to reverse a string by index "
   ]
  },
  {
   "cell_type": "code",
   "execution_count": null,
   "id": "6cd67234",
   "metadata": {},
   "outputs": [
    {
     "data": {
      "text/plain": [
       "6"
      ]
     },
     "execution_count": 17,
     "metadata": {},
     "output_type": "execute_result"
    }
   ],
   "source": [
    "string2 = \"Family\"\n",
    "string2[::-1]"
   ]
  },
  {
   "cell_type": "markdown",
   "id": "9f16e514",
   "metadata": {},
   "source": [
    "##### Replaces the first empty number with 0 i.e. [0:4]"
   ]
  },
  {
   "cell_type": "code",
   "execution_count": 20,
   "id": "76b654b2",
   "metadata": {},
   "outputs": [
    {
     "data": {
      "text/plain": [
       "'Fami'"
      ]
     },
     "execution_count": 20,
     "metadata": {},
     "output_type": "execute_result"
    }
   ],
   "source": [
    "string2[:4]"
   ]
  },
  {
   "cell_type": "markdown",
   "id": "af709904",
   "metadata": {},
   "source": [
    "#####  Replaces the second empty number with length i.e. [1:6]"
   ]
  },
  {
   "cell_type": "code",
   "execution_count": null,
   "id": "4a0cb981",
   "metadata": {},
   "outputs": [
    {
     "data": {
      "text/plain": [
       "'amily'"
      ]
     },
     "execution_count": 18,
     "metadata": {},
     "output_type": "execute_result"
    }
   ],
   "source": [
    "\n",
    "string2[1:] # takes the element itself till the end of the string"
   ]
  },
  {
   "cell_type": "markdown",
   "id": "574c18d0",
   "metadata": {},
   "source": [
    "##### Examples of slicing"
   ]
  },
  {
   "cell_type": "code",
   "execution_count": 2,
   "id": "b3c11db1",
   "metadata": {},
   "outputs": [
    {
     "data": {
      "text/plain": [
       "'Hack'"
      ]
     },
     "execution_count": 2,
     "metadata": {},
     "output_type": "execute_result"
    }
   ],
   "source": [
    "str1 = \"HackerRank\"\n",
    "str1[0:4]"
   ]
  },
  {
   "cell_type": "code",
   "execution_count": 3,
   "id": "1dc70aa6",
   "metadata": {},
   "outputs": [
    {
     "data": {
      "text/plain": [
       "'defgh'"
      ]
     },
     "execution_count": 3,
     "metadata": {},
     "output_type": "execute_result"
    }
   ],
   "source": [
    "str1 = \"abcdefghij\"\n",
    "str1[3:8]"
   ]
  },
  {
   "cell_type": "code",
   "execution_count": 7,
   "id": "1004ce97",
   "metadata": {},
   "outputs": [
    {
     "data": {
      "text/plain": [
       "'mobileph'"
      ]
     },
     "execution_count": 7,
     "metadata": {},
     "output_type": "execute_result"
    }
   ],
   "source": [
    "str2 = \"mobilephone\"\n",
    "str2[:-3]"
   ]
  }
 ],
 "metadata": {
  "kernelspec": {
   "display_name": "Python 3",
   "language": "python",
   "name": "python3"
  },
  "language_info": {
   "codemirror_mode": {
    "name": "ipython",
    "version": 3
   },
   "file_extension": ".py",
   "mimetype": "text/x-python",
   "name": "python",
   "nbconvert_exporter": "python",
   "pygments_lexer": "ipython3",
   "version": "3.9.12"
  }
 },
 "nbformat": 4,
 "nbformat_minor": 5
}
