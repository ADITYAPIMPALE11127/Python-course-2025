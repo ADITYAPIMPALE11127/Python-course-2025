{
 "cells": [
  {
   "cell_type": "markdown",
   "id": "fd5da4ce",
   "metadata": {},
   "source": [
    "##### Strings are immutable\n",
    "* string object does not support item assignment\n",
    "* None of the string manipulations examples below \n",
    "changes the original string object,it never can :)"
   ]
  },
  {
   "cell_type": "code",
   "execution_count": 3,
   "id": "6bca1e61",
   "metadata": {},
   "outputs": [
    {
     "data": {
      "text/plain": [
       "'Wagon-R'"
      ]
     },
     "execution_count": 3,
     "metadata": {},
     "output_type": "execute_result"
    }
   ],
   "source": [
    "car = \"Wagon-R\"\n",
    "# car[1] = \"o\" # will throw error at runtime\n",
    "car"
   ]
  },
  {
   "cell_type": "markdown",
   "id": "8cc7f750",
   "metadata": {},
   "source": [
    "##### String value can always be changed "
   ]
  },
  {
   "cell_type": "code",
   "execution_count": 5,
   "id": "0b434916",
   "metadata": {},
   "outputs": [
    {
     "data": {
      "text/plain": [
       "'HONDA-CIVIC'"
      ]
     },
     "execution_count": 5,
     "metadata": {},
     "output_type": "execute_result"
    }
   ],
   "source": [
    "car = \"HONDA-CIVIC\"\n",
    "car"
   ]
  },
  {
   "cell_type": "markdown",
   "id": "ce56851c",
   "metadata": {},
   "source": [
    "#### String Methods\n",
    "* white space is also counted as a character"
   ]
  },
  {
   "cell_type": "code",
   "execution_count": null,
   "id": "5a7a82a0",
   "metadata": {},
   "outputs": [
    {
     "data": {
      "text/plain": [
       "11"
      ]
     },
     "execution_count": 6,
     "metadata": {},
     "output_type": "execute_result"
    }
   ],
   "source": [
    "a = len(car)\n",
    "a # prints the length of the character in the string"
   ]
  },
  {
   "cell_type": "markdown",
   "id": "4a802157",
   "metadata": {},
   "source": [
    "##### upper() returns a capitized string like below"
   ]
  },
  {
   "cell_type": "code",
   "execution_count": 15,
   "id": "390a9fa2",
   "metadata": {},
   "outputs": [
    {
     "name": "stdout",
     "output_type": "stream",
     "text": [
      "new string: MANSI,  original string: mansi\n"
     ]
    }
   ],
   "source": [
    "name = \"mansi\"\n",
    "# here new string is created \n",
    "# does not change the original string \n",
    "print(f\"new string: {name.upper()},  original string: {name}\") "
   ]
  },
  {
   "cell_type": "markdown",
   "id": "11396cb5",
   "metadata": {},
   "source": [
    "#### lower() returns the string as a lower case string"
   ]
  },
  {
   "cell_type": "code",
   "execution_count": 16,
   "id": "5f1e4660",
   "metadata": {},
   "outputs": [
    {
     "data": {
      "text/plain": [
       "'cbz'"
      ]
     },
     "execution_count": 16,
     "metadata": {},
     "output_type": "execute_result"
    }
   ],
   "source": [
    "bike = \"CBZ\"\n",
    "bike.lower()"
   ]
  },
  {
   "cell_type": "markdown",
   "id": "ea4a9be3",
   "metadata": {},
   "source": [
    "##### capitalize() converts the first char of the string as Capital"
   ]
  },
  {
   "cell_type": "code",
   "execution_count": 21,
   "id": "a20ce4ba",
   "metadata": {},
   "outputs": [
    {
     "data": {
      "text/plain": [
       "'Hello world'"
      ]
     },
     "execution_count": 21,
     "metadata": {},
     "output_type": "execute_result"
    }
   ],
   "source": [
    "str = \"hello world\"\n",
    "str.capitalize()"
   ]
  },
  {
   "cell_type": "markdown",
   "id": "9c9f8381",
   "metadata": {},
   "source": [
    "#### title() returns a string where each char after the white space and the first char of the first word as capital"
   ]
  },
  {
   "cell_type": "code",
   "execution_count": 22,
   "id": "0491bf1a",
   "metadata": {},
   "outputs": [
    {
     "data": {
      "text/plain": [
       "'Hello World'"
      ]
     },
     "execution_count": 22,
     "metadata": {},
     "output_type": "execute_result"
    }
   ],
   "source": [
    "str.title()"
   ]
  },
  {
   "cell_type": "markdown",
   "id": "900bbffe",
   "metadata": {},
   "source": [
    "##### Removing white spaces \n",
    "* strip function"
   ]
  },
  {
   "cell_type": "code",
   "execution_count": null,
   "id": "f39aab87",
   "metadata": {},
   "outputs": [
    {
     "data": {
      "text/plain": [
       "'Soham Raut is a developer'"
      ]
     },
     "execution_count": 23,
     "metadata": {},
     "output_type": "execute_result"
    }
   ],
   "source": [
    "str1 = \"    Soham Raut is a developer    \"\n",
    "str1.strip() # removes the white spaces from the start and the end "
   ]
  },
  {
   "cell_type": "markdown",
   "id": "4098fc70",
   "metadata": {},
   "source": [
    "* rstrip()"
   ]
  },
  {
   "cell_type": "code",
   "execution_count": 25,
   "id": "26a13c73",
   "metadata": {},
   "outputs": [
    {
     "data": {
      "text/plain": [
       "'    Soham Raut is a developer'"
      ]
     },
     "execution_count": 25,
     "metadata": {},
     "output_type": "execute_result"
    }
   ],
   "source": [
    "str1.rstrip() # only removes white spaces from the end i.e. right side"
   ]
  },
  {
   "cell_type": "markdown",
   "id": "61a7abe9",
   "metadata": {},
   "source": [
    "* lstrip()"
   ]
  },
  {
   "cell_type": "code",
   "execution_count": 27,
   "id": "1e5a99bd",
   "metadata": {},
   "outputs": [
    {
     "data": {
      "text/plain": [
       "'Soham Raut is a developer    '"
      ]
     },
     "execution_count": 27,
     "metadata": {},
     "output_type": "execute_result"
    }
   ],
   "source": [
    "str1.lstrip() # only removes white spaces from the start i.e. left side"
   ]
  },
  {
   "cell_type": "code",
   "execution_count": null,
   "id": "b262518a",
   "metadata": {},
   "outputs": [
    {
     "data": {
      "text/plain": [
       "'Soham Raut is a \\ndeveloper'"
      ]
     },
     "execution_count": 29,
     "metadata": {},
     "output_type": "execute_result"
    }
   ],
   "source": [
    "str2 = '''Soham Raut is a \n",
    "developer    '''\n",
    "str2.strip() # but prints the \\n i.e escape sequence for a new line"
   ]
  },
  {
   "cell_type": "markdown",
   "id": "9c4b53e0",
   "metadata": {},
   "source": [
    "##### find() and replcae() method"
   ]
  },
  {
   "cell_type": "code",
   "execution_count": null,
   "id": "b9b533cd",
   "metadata": {},
   "outputs": [
    {
     "data": {
      "text/plain": [
       "11"
      ]
     },
     "execution_count": 30,
     "metadata": {},
     "output_type": "execute_result"
    }
   ],
   "source": [
    "str3  = \"Rohan is a Civil Engineer\"\n",
    "str3.find(\"Civil\") # returns the position of the 1st char of that word in the string"
   ]
  },
  {
   "cell_type": "code",
   "execution_count": 31,
   "id": "4e7eccee",
   "metadata": {},
   "outputs": [
    {
     "data": {
      "text/plain": [
       "'Rohan is a Computer Engineer'"
      ]
     },
     "execution_count": 31,
     "metadata": {},
     "output_type": "execute_result"
    }
   ],
   "source": [
    "str3.replace(\"Civil\",\"Computer\") # replaces civil sub-string by \"computer\""
   ]
  },
  {
   "cell_type": "markdown",
   "id": "2bb4b19f",
   "metadata": {},
   "source": [
    "##### splitting and Joining"
   ]
  },
  {
   "cell_type": "code",
   "execution_count": null,
   "id": "4c5a90dc",
   "metadata": {},
   "outputs": [
    {
     "data": {
      "text/plain": [
       "['mango', 'apple', 'orange']"
      ]
     },
     "execution_count": 36,
     "metadata": {},
     "output_type": "execute_result"
    }
   ],
   "source": [
    "text = \"mango,apple,orange\"\n",
    "fruits = text.split(\",\") # splitting by comma converts a string to list \n",
    "fruits"
   ]
  },
  {
   "cell_type": "code",
   "execution_count": null,
   "id": "92281274",
   "metadata": {},
   "outputs": [
    {
     "data": {
      "text/plain": [
       "list"
      ]
     },
     "execution_count": 34,
     "metadata": {},
     "output_type": "execute_result"
    }
   ],
   "source": [
    "type(fruits) "
   ]
  },
  {
   "cell_type": "code",
   "execution_count": 41,
   "id": "4eadeceb",
   "metadata": {},
   "outputs": [
    {
     "data": {
      "text/plain": [
       "'mango,apple,orange'"
      ]
     },
     "execution_count": 41,
     "metadata": {},
     "output_type": "execute_result"
    }
   ],
   "source": [
    "\",\".join(fruits) # here join converts a list to a string as it was "
   ]
  },
  {
   "cell_type": "markdown",
   "id": "52fe8005",
   "metadata": {},
   "source": [
    "##### String Properties\n",
    "* isalpha() - tells if all characters in the string are alphabets are not"
   ]
  },
  {
   "cell_type": "code",
   "execution_count": 44,
   "id": "f50cee45",
   "metadata": {},
   "outputs": [
    {
     "data": {
      "text/plain": [
       "False"
      ]
     },
     "execution_count": 44,
     "metadata": {},
     "output_type": "execute_result"
    }
   ],
   "source": [
    "text = 'Python9898666'\n",
    "text1= \"Python\"\n",
    "text.isalpha()"
   ]
  },
  {
   "cell_type": "code",
   "execution_count": 45,
   "id": "d39dbd56",
   "metadata": {},
   "outputs": [
    {
     "data": {
      "text/plain": [
       "True"
      ]
     },
     "execution_count": 45,
     "metadata": {},
     "output_type": "execute_result"
    }
   ],
   "source": [
    "text1.isalpha()"
   ]
  },
  {
   "cell_type": "markdown",
   "id": "9b215e46",
   "metadata": {},
   "source": [
    "* isdigit() -  returns True if all characters in the string are digits"
   ]
  },
  {
   "cell_type": "code",
   "execution_count": 47,
   "id": "06e57b35",
   "metadata": {},
   "outputs": [
    {
     "data": {
      "text/plain": [
       "False"
      ]
     },
     "execution_count": 47,
     "metadata": {},
     "output_type": "execute_result"
    }
   ],
   "source": [
    "text.isdigit()"
   ]
  },
  {
   "cell_type": "code",
   "execution_count": 48,
   "id": "8a6c2c29",
   "metadata": {},
   "outputs": [
    {
     "data": {
      "text/plain": [
       "True"
      ]
     },
     "execution_count": 48,
     "metadata": {},
     "output_type": "execute_result"
    }
   ],
   "source": [
    "nums = \"12344\"\n",
    "nums.isdigit()"
   ]
  },
  {
   "cell_type": "markdown",
   "id": "aec0d933",
   "metadata": {},
   "source": [
    "* isalnum() - if the strings has any one of  digits or letters then returns True"
   ]
  },
  {
   "cell_type": "code",
   "execution_count": 49,
   "id": "6997967e",
   "metadata": {},
   "outputs": [
    {
     "data": {
      "text/plain": [
       "True"
      ]
     },
     "execution_count": 49,
     "metadata": {},
     "output_type": "execute_result"
    }
   ],
   "source": [
    "text.isalnum()"
   ]
  },
  {
   "cell_type": "code",
   "execution_count": 50,
   "id": "84d87486",
   "metadata": {},
   "outputs": [
    {
     "data": {
      "text/plain": [
       "True"
      ]
     },
     "execution_count": 50,
     "metadata": {},
     "output_type": "execute_result"
    }
   ],
   "source": [
    "text1.isalnum()"
   ]
  },
  {
   "cell_type": "code",
   "execution_count": 52,
   "id": "3d13f40f",
   "metadata": {},
   "outputs": [
    {
     "data": {
      "text/plain": [
       "False"
      ]
     },
     "execution_count": 52,
     "metadata": {},
     "output_type": "execute_result"
    }
   ],
   "source": [
    "special_chars = \"^&*()\"\n",
    "special_chars.isalnum()"
   ]
  },
  {
   "cell_type": "markdown",
   "id": "c51c99ad",
   "metadata": {},
   "source": [
    "* isspace() - tells if string has only white space characters"
   ]
  },
  {
   "cell_type": "code",
   "execution_count": 56,
   "id": "8164ca1a",
   "metadata": {},
   "outputs": [
    {
     "data": {
      "text/plain": [
       "True"
      ]
     },
     "execution_count": 56,
     "metadata": {},
     "output_type": "execute_result"
    }
   ],
   "source": [
    "text2 = \" \"\n",
    "text2.isspace()"
   ]
  },
  {
   "cell_type": "code",
   "execution_count": 57,
   "id": "bd7311a6",
   "metadata": {},
   "outputs": [
    {
     "data": {
      "text/plain": [
       "False"
      ]
     },
     "execution_count": 57,
     "metadata": {},
     "output_type": "execute_result"
    }
   ],
   "source": [
    "text.isspace()"
   ]
  },
  {
   "cell_type": "code",
   "execution_count": null,
   "id": "a34f3410",
   "metadata": {},
   "outputs": [],
   "source": []
  }
 ],
 "metadata": {
  "kernelspec": {
   "display_name": "Python 3",
   "language": "python",
   "name": "python3"
  },
  "language_info": {
   "codemirror_mode": {
    "name": "ipython",
    "version": 3
   },
   "file_extension": ".py",
   "mimetype": "text/x-python",
   "name": "python",
   "nbconvert_exporter": "python",
   "pygments_lexer": "ipython3",
   "version": "3.13.5"
  }
 },
 "nbformat": 4,
 "nbformat_minor": 5
}
