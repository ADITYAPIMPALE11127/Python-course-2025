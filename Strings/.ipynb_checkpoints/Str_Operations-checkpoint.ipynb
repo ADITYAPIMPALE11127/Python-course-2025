{
 "cells": [
  {
   "cell_type": "markdown",
   "id": "92cbdafd-37ef-4771-bf47-68a683da155d",
   "metadata": {},
   "source": [
    "#### String Operations Revision"
   ]
  },
  {
   "cell_type": "code",
   "execution_count": null,
   "id": "a73191b1-75b5-4642-8cc8-b57373004129",
   "metadata": {},
   "outputs": [],
   "source": [
    "msg = \"Hello Python\""
   ]
  },
  {
   "cell_type": "markdown",
   "id": "9fb40568-5cf8-409d-b163-345a359e5b0c",
   "metadata": {},
   "source": [
    "* upper() method"
   ]
  },
  {
   "cell_type": "code",
   "execution_count": 2,
   "id": "3998b6d8-d25e-4551-bc86-09611ca3f29e",
   "metadata": {},
   "outputs": [],
   "source": [
    "uppercase_msg = msg.upper() "
   ]
  },
  {
   "cell_type": "code",
   "execution_count": 3,
   "id": "b812714d-d55d-404a-8b61-10668108dced",
   "metadata": {},
   "outputs": [
    {
     "name": "stdout",
     "output_type": "stream",
     "text": [
      "HELLO PYTHON\n"
     ]
    }
   ],
   "source": [
    "print(uppercase_msg)"
   ]
  },
  {
   "cell_type": "markdown",
   "id": "11eec41b-fb02-4229-ae0e-182baadd7d01",
   "metadata": {},
   "source": [
    "* lower() method"
   ]
  },
  {
   "cell_type": "code",
   "execution_count": 4,
   "id": "e0fa0717-67c3-4f13-9312-6bfbcfbf647a",
   "metadata": {},
   "outputs": [],
   "source": [
    "lower_word = msg.lower()"
   ]
  },
  {
   "cell_type": "code",
   "execution_count": 5,
   "id": "0479435a-e4aa-4f9c-b98d-a9756cf88c79",
   "metadata": {},
   "outputs": [
    {
     "name": "stdout",
     "output_type": "stream",
     "text": [
      "hello python\n"
     ]
    }
   ],
   "source": [
    "print(lower_word)"
   ]
  },
  {
   "cell_type": "markdown",
   "id": "69f2ddb4-fc9a-4406-9751-740af8c74b48",
   "metadata": {},
   "source": [
    "* capitalize() method "
   ]
  },
  {
   "cell_type": "code",
   "execution_count": 8,
   "id": "31880cf7-8ed4-404a-bc3b-c9faaf92d871",
   "metadata": {},
   "outputs": [],
   "source": [
    "capital_msg = msg.capitalize()"
   ]
  },
  {
   "cell_type": "code",
   "execution_count": 9,
   "id": "d045eab2-c290-4397-bea2-7e98b6a5f55c",
   "metadata": {},
   "outputs": [
    {
     "name": "stdout",
     "output_type": "stream",
     "text": [
      "Hello python\n"
     ]
    }
   ],
   "source": [
    "print(capital_msg)"
   ]
  },
  {
   "cell_type": "markdown",
   "id": "3cbd6616-40b9-4304-b7a6-c38b2e30e771",
   "metadata": {},
   "source": [
    "* title() method "
   ]
  },
  {
   "cell_type": "code",
   "execution_count": 10,
   "id": "e245c6b6-788c-4cf0-913e-2fea542dd8ee",
   "metadata": {},
   "outputs": [
    {
     "name": "stdout",
     "output_type": "stream",
     "text": [
      "Hello Python\n"
     ]
    }
   ],
   "source": [
    "msg_title = msg.title()\n",
    "print(msg_title)"
   ]
  },
  {
   "cell_type": "markdown",
   "id": "fb50dc1d-c673-4df8-8975-ed9cb4096447",
   "metadata": {},
   "source": [
    "* replace() method"
   ]
  },
  {
   "cell_type": "code",
   "execution_count": 11,
   "id": "abaa70a1-8761-4860-ab65-46a0db6399bd",
   "metadata": {},
   "outputs": [
    {
     "name": "stdout",
     "output_type": "stream",
     "text": [
      "Namaste Python\n"
     ]
    }
   ],
   "source": [
    "msg_replace = msg.replace(\"Hello\",\"Namaste\")\n",
    "print(msg_replace)"
   ]
  },
  {
   "cell_type": "markdown",
   "id": "beac699e-23a0-475d-b2cf-b87529e4bc2e",
   "metadata": {},
   "source": [
    "* find() method returns the index of that subtring "
   ]
  },
  {
   "cell_type": "code",
   "execution_count": 12,
   "id": "c4af92e7-0d57-41a1-b572-532147a3f4bb",
   "metadata": {},
   "outputs": [
    {
     "name": "stdout",
     "output_type": "stream",
     "text": [
      "6\n"
     ]
    }
   ],
   "source": [
    "msg_find = msg.find(\"Python\")\n",
    "print(msg_find)"
   ]
  },
  {
   "cell_type": "markdown",
   "id": "a0f1e295-6d80-460c-8323-34e76810766b",
   "metadata": {},
   "source": [
    "* if the substring does not exist then it returns -1"
   ]
  },
  {
   "cell_type": "code",
   "execution_count": 13,
   "id": "11f6b099-0bf2-425c-900b-c30da560e3ad",
   "metadata": {},
   "outputs": [
    {
     "name": "stdout",
     "output_type": "stream",
     "text": [
      "-1\n"
     ]
    }
   ],
   "source": [
    "msg_find1 = msg.find(\"Amul\")\n",
    "print(msg_find1)"
   ]
  },
  {
   "cell_type": "markdown",
   "id": "89596723-1fc4-4060-bf4e-907618a2efd4",
   "metadata": {},
   "source": [
    "* casefold() converts to lower case"
   ]
  },
  {
   "cell_type": "code",
   "execution_count": 14,
   "id": "d5e1b774-dda5-4daf-bf67-ef0744ae3f01",
   "metadata": {},
   "outputs": [
    {
     "name": "stdout",
     "output_type": "stream",
     "text": [
      "hello python\n"
     ]
    }
   ],
   "source": [
    "msg_casefold = msg.casefold()\n",
    "print(msg_casefold)"
   ]
  },
  {
   "cell_type": "code",
   "execution_count": null,
   "id": "efbd714a-a070-4b08-9433-dbf42fdeac37",
   "metadata": {},
   "outputs": [],
   "source": []
  }
 ],
 "metadata": {
  "kernelspec": {
   "display_name": "Python 3 (ipykernel)",
   "language": "python",
   "name": "python3"
  },
  "language_info": {
   "codemirror_mode": {
    "name": "ipython",
    "version": 3
   },
   "file_extension": ".py",
   "mimetype": "text/x-python",
   "name": "python",
   "nbconvert_exporter": "python",
   "pygments_lexer": "ipython3",
   "version": "3.13.5"
  }
 },
 "nbformat": 4,
 "nbformat_minor": 5
}
