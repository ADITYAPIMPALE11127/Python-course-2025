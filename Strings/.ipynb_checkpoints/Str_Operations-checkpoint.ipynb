{
 "cells": [
  {
   "cell_type": "markdown",
   "id": "92cbdafd-37ef-4771-bf47-68a683da155d",
   "metadata": {},
   "source": [
    "#### String Operations Revision"
   ]
  },
  {
   "cell_type": "code",
   "execution_count": 3,
   "id": "a73191b1-75b5-4642-8cc8-b57373004129",
   "metadata": {},
   "outputs": [],
   "source": [
    "msg = \"Hello Python\""
   ]
  },
  {
   "cell_type": "markdown",
   "id": "9fb40568-5cf8-409d-b163-345a359e5b0c",
   "metadata": {},
   "source": [
    "* upper() method"
   ]
  },
  {
   "cell_type": "code",
   "execution_count": 4,
   "id": "3998b6d8-d25e-4551-bc86-09611ca3f29e",
   "metadata": {},
   "outputs": [],
   "source": [
    "uppercase_msg = msg.upper() "
   ]
  },
  {
   "cell_type": "code",
   "execution_count": 5,
   "id": "b812714d-d55d-404a-8b61-10668108dced",
   "metadata": {},
   "outputs": [
    {
     "name": "stdout",
     "output_type": "stream",
     "text": [
      "HELLO PYTHON\n"
     ]
    }
   ],
   "source": [
    "print(uppercase_msg)"
   ]
  },
  {
   "cell_type": "markdown",
   "id": "11eec41b-fb02-4229-ae0e-182baadd7d01",
   "metadata": {},
   "source": [
    "* lower() method"
   ]
  },
  {
   "cell_type": "code",
   "execution_count": 6,
   "id": "e0fa0717-67c3-4f13-9312-6bfbcfbf647a",
   "metadata": {},
   "outputs": [],
   "source": [
    "lower_word = msg.lower()"
   ]
  },
  {
   "cell_type": "code",
   "execution_count": 7,
   "id": "0479435a-e4aa-4f9c-b98d-a9756cf88c79",
   "metadata": {},
   "outputs": [
    {
     "name": "stdout",
     "output_type": "stream",
     "text": [
      "hello python\n"
     ]
    }
   ],
   "source": [
    "print(lower_word)"
   ]
  },
  {
   "cell_type": "markdown",
   "id": "69f2ddb4-fc9a-4406-9751-740af8c74b48",
   "metadata": {},
   "source": [
    "* capitalize() method "
   ]
  },
  {
   "cell_type": "code",
   "execution_count": 8,
   "id": "31880cf7-8ed4-404a-bc3b-c9faaf92d871",
   "metadata": {},
   "outputs": [],
   "source": [
    "capital_msg = msg.capitalize()"
   ]
  },
  {
   "cell_type": "code",
   "execution_count": 9,
   "id": "d045eab2-c290-4397-bea2-7e98b6a5f55c",
   "metadata": {},
   "outputs": [
    {
     "name": "stdout",
     "output_type": "stream",
     "text": [
      "Hello python\n"
     ]
    }
   ],
   "source": [
    "print(capital_msg)"
   ]
  },
  {
   "cell_type": "markdown",
   "id": "3cbd6616-40b9-4304-b7a6-c38b2e30e771",
   "metadata": {},
   "source": [
    "* title() method "
   ]
  },
  {
   "cell_type": "code",
   "execution_count": 10,
   "id": "e245c6b6-788c-4cf0-913e-2fea542dd8ee",
   "metadata": {},
   "outputs": [
    {
     "name": "stdout",
     "output_type": "stream",
     "text": [
      "Hello Python\n"
     ]
    }
   ],
   "source": [
    "msg_title = msg.title()\n",
    "print(msg_title)"
   ]
  },
  {
   "cell_type": "markdown",
   "id": "fb50dc1d-c673-4df8-8975-ed9cb4096447",
   "metadata": {},
   "source": [
    "* replace() method"
   ]
  },
  {
   "cell_type": "code",
   "execution_count": 11,
   "id": "abaa70a1-8761-4860-ab65-46a0db6399bd",
   "metadata": {},
   "outputs": [
    {
     "name": "stdout",
     "output_type": "stream",
     "text": [
      "Namaste Python\n"
     ]
    }
   ],
   "source": [
    "msg_replace = msg.replace(\"Hello\",\"Namaste\")\n",
    "print(msg_replace)"
   ]
  },
  {
   "cell_type": "markdown",
   "id": "beac699e-23a0-475d-b2cf-b87529e4bc2e",
   "metadata": {},
   "source": [
    "* find() method returns the index of that subtring "
   ]
  },
  {
   "cell_type": "code",
   "execution_count": 12,
   "id": "c4af92e7-0d57-41a1-b572-532147a3f4bb",
   "metadata": {},
   "outputs": [
    {
     "name": "stdout",
     "output_type": "stream",
     "text": [
      "6\n"
     ]
    }
   ],
   "source": [
    "msg_find = msg.find(\"Python\")\n",
    "print(msg_find)"
   ]
  },
  {
   "cell_type": "markdown",
   "id": "a0f1e295-6d80-460c-8323-34e76810766b",
   "metadata": {},
   "source": [
    "* if the substring does not exist then it returns -1"
   ]
  },
  {
   "cell_type": "code",
   "execution_count": 13,
   "id": "11f6b099-0bf2-425c-900b-c30da560e3ad",
   "metadata": {},
   "outputs": [
    {
     "name": "stdout",
     "output_type": "stream",
     "text": [
      "-1\n"
     ]
    }
   ],
   "source": [
    "msg_find1 = msg.find(\"Amul\")\n",
    "print(msg_find1)"
   ]
  },
  {
   "cell_type": "markdown",
   "id": "89596723-1fc4-4060-bf4e-907618a2efd4",
   "metadata": {},
   "source": [
    "* casefold() converts to lower case"
   ]
  },
  {
   "cell_type": "code",
   "execution_count": 14,
   "id": "d5e1b774-dda5-4daf-bf67-ef0744ae3f01",
   "metadata": {},
   "outputs": [
    {
     "name": "stdout",
     "output_type": "stream",
     "text": [
      "hello python\n"
     ]
    }
   ],
   "source": [
    "msg_casefold = msg.casefold()\n",
    "print(msg_casefold)"
   ]
  },
  {
   "cell_type": "markdown",
   "id": "f4a054fa-3986-4261-8cea-f1325e687460",
   "metadata": {},
   "source": [
    "* center() is a method that makes the string string appear in the center and also takes second parameter as an symbol we want to enter in the whitespaces"
   ]
  },
  {
   "cell_type": "code",
   "execution_count": 21,
   "id": "efbd714a-a070-4b08-9433-dbf42fdeac37",
   "metadata": {},
   "outputs": [
    {
     "name": "stdout",
     "output_type": "stream",
     "text": [
      "Hello Python\n"
     ]
    }
   ],
   "source": [
    "msg_center = msg.center(10,\"+\")\n",
    "print(msg_center)"
   ]
  },
  {
   "cell_type": "markdown",
   "id": "1251e0fb-662c-4312-9686-1243d421188d",
   "metadata": {},
   "source": [
    "### Format() method\n",
    "* it formats the specified value (s) and inserts the string's placeholder inside them. The placeholder is defined using\n",
    "* curly brackets: {}\n",
    "* replaces only one occuurence as {} are applied to that specific char"
   ]
  },
  {
   "cell_type": "markdown",
   "id": "17555d71-2102-4acd-a0e6-c7c2780ef68b",
   "metadata": {},
   "source": [
    "* First way"
   ]
  },
  {
   "cell_type": "code",
   "execution_count": 16,
   "id": "e5c8ada4-cd69-4ac2-b761-0f8832dec8c8",
   "metadata": {},
   "outputs": [
    {
     "name": "stdout",
     "output_type": "stream",
     "text": [
      "Hello people\n"
     ]
    }
   ],
   "source": [
    "txt = \"Hello {word}\"\n",
    "print(txt.format(word=\"people\"))"
   ]
  },
  {
   "cell_type": "markdown",
   "id": "4699cf89-7383-410b-be20-bf06e5e4b9e1",
   "metadata": {},
   "source": [
    "* Second way"
   ]
  },
  {
   "cell_type": "code",
   "execution_count": 17,
   "id": "cf919cc3-0d0d-4064-a239-4cb9d8f0f445",
   "metadata": {},
   "outputs": [
    {
     "name": "stdout",
     "output_type": "stream",
     "text": [
      "My name is Aditya and my age is 22\n"
     ]
    }
   ],
   "source": [
    "message1 = \"My name is {name} and my age is {number}\"\n",
    "print(message1.format(name=\"Aditya\",number=\"22\"))"
   ]
  },
  {
   "cell_type": "markdown",
   "id": "f3c02f33-9cd0-4fb3-a858-c291313b57d3",
   "metadata": {},
   "source": [
    "* 3rd way:"
   ]
  },
  {
   "cell_type": "code",
   "execution_count": 18,
   "id": "34fd95e4-2115-43a8-9da2-0a4eb841169c",
   "metadata": {},
   "outputs": [
    {
     "name": "stdout",
     "output_type": "stream",
     "text": [
      "My name is Soham and my age is 23\n"
     ]
    }
   ],
   "source": [
    "message = \"My name is {} and my age is {}\"\n",
    "print(message.format(\"Soham\",23))"
   ]
  },
  {
   "cell_type": "markdown",
   "id": "12079efd-f40a-4495-8085-9b3fba3140c2",
   "metadata": {},
   "source": [
    "* 4th Way: by index we can put values"
   ]
  },
  {
   "cell_type": "code",
   "execution_count": 19,
   "id": "d3b62a09-cfe1-4d1a-a02b-e27f78a8d224",
   "metadata": {},
   "outputs": [
    {
     "name": "stdout",
     "output_type": "stream",
     "text": [
      "My name is Aditya and I live in 22\n"
     ]
    }
   ],
   "source": [
    "message2 = \"My name is {0} and I live in {1}\"\n",
    "print(message2.format(\"Aditya\",22))"
   ]
  },
  {
   "cell_type": "code",
   "execution_count": 20,
   "id": "385076ac-b2f5-4871-b6a3-f51747f95a84",
   "metadata": {},
   "outputs": [
    {
     "name": "stdout",
     "output_type": "stream",
     "text": [
      "4\n"
     ]
    }
   ],
   "source": [
    "print(3+True)"
   ]
  },
  {
   "cell_type": "code",
   "execution_count": null,
   "id": "ce3125e6-d4e7-4202-a2f1-818fb7b862c3",
   "metadata": {},
   "outputs": [],
   "source": []
  }
 ],
 "metadata": {
  "kernelspec": {
   "display_name": "Python 3 (ipykernel)",
   "language": "python",
   "name": "python3"
  },
  "language_info": {
   "codemirror_mode": {
    "name": "ipython",
    "version": 3
   },
   "file_extension": ".py",
   "mimetype": "text/x-python",
   "name": "python",
   "nbconvert_exporter": "python",
   "pygments_lexer": "ipython3",
   "version": "3.13.5"
  }
 },
 "nbformat": 4,
 "nbformat_minor": 5
}
