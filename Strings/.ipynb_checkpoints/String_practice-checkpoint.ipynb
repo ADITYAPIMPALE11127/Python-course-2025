{
 "cells": [
  {
   "cell_type": "markdown",
   "id": "04ea0f8b-776c-4c05-8919-4ede124574b2",
   "metadata": {},
   "source": [
    " * Write a Python program to take a string input and print its length"
   ]
  },
  {
   "cell_type": "code",
   "execution_count": 4,
   "id": "a31a3edd-dd87-4082-9f2c-63acc9063bb9",
   "metadata": {},
   "outputs": [
    {
     "name": "stdin",
     "output_type": "stream",
     "text": [
      " moon\n"
     ]
    },
    {
     "name": "stdout",
     "output_type": "stream",
     "text": [
      "length of string is:4\n"
     ]
    }
   ],
   "source": [
    "str1 = input()\n",
    "count = 0\n",
    "for i in str1:\n",
    "    count += 1\n",
    "\n",
    "print(f\"length of string is: {count}\")   "
   ]
  },
  {
   "cell_type": "markdown",
   "id": "2fb02367-e473-4fb1-94f9-ed556aad88a7",
   "metadata": {},
   "source": [
    "* 2. Write a program to reverse a given string without using slicing ([::-1])"
   ]
  },
  {
   "cell_type": "code",
   "execution_count": 11,
   "id": "23c522f5-d570-4ef0-a692-ead25b2d280b",
   "metadata": {},
   "outputs": [
    {
     "name": "stdin",
     "output_type": "stream",
     "text": [
      " hello\n"
     ]
    },
    {
     "name": "stdout",
     "output_type": "stream",
     "text": [
      "olleh\n"
     ]
    },
    {
     "data": {
      "text/plain": [
       "5"
      ]
     },
     "execution_count": 11,
     "metadata": {},
     "output_type": "execute_result"
    }
   ],
   "source": [
    "word = input()\n",
    "reversed = \"\"\n",
    "for i in range(0,len(word)):\n",
    "    reversed = word[i] + reversed \n",
    "print(reversed)\n"
   ]
  },
  {
   "cell_type": "markdown",
   "id": "109b73d2-a059-44a4-bdba-830d97a04bf2",
   "metadata": {},
   "source": [
    "3. Take a string input and count how many vowels (a, e, i, o, u) it has."
   ]
  },
  {
   "cell_type": "code",
   "execution_count": 17,
   "id": "510defb8-f420-4aeb-a2fa-82d9a541b7cf",
   "metadata": {},
   "outputs": [
    {
     "name": "stdin",
     "output_type": "stream",
     "text": [
      " soham\n"
     ]
    },
    {
     "name": "stdout",
     "output_type": "stream",
     "text": [
      "vowel count is : 2 and consonant count is :3\n"
     ]
    }
   ],
   "source": [
    "string1 = input()\n",
    "string1 = string1.lower()\n",
    "consonants_count = 0\n",
    "count = 0\n",
    "for i in string1:\n",
    "    if i == 'a' or i == 'u' or i == 'o' or i == 'e' or i == 'i':\n",
    "        count += 1\n",
    "    else:\n",
    "        consonants_count += 1\n",
    "\n",
    "print(f\"vowel count is : {count} and consonant count is :{consonants_count}\")\n",
    "    "
   ]
  }
 ],
 "metadata": {
  "kernelspec": {
   "display_name": "Python 3 (ipykernel)",
   "language": "python",
   "name": "python3"
  },
  "language_info": {
   "codemirror_mode": {
    "name": "ipython",
    "version": 3
   },
   "file_extension": ".py",
   "mimetype": "text/x-python",
   "name": "python",
   "nbconvert_exporter": "python",
   "pygments_lexer": "ipython3",
   "version": "3.13.5"
  }
 },
 "nbformat": 4,
 "nbformat_minor": 5
}
