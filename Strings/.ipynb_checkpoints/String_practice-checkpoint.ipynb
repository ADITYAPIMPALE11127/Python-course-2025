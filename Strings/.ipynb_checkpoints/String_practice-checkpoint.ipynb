{
 "cells": [
  {
   "cell_type": "markdown",
   "id": "04ea0f8b-776c-4c05-8919-4ede124574b2",
   "metadata": {},
   "source": [
    " * Write a Python program to take a string input and print its length"
   ]
  },
  {
   "cell_type": "code",
   "execution_count": 4,
   "id": "a31a3edd-dd87-4082-9f2c-63acc9063bb9",
   "metadata": {},
   "outputs": [
    {
     "name": "stdin",
     "output_type": "stream",
     "text": [
      " moon\n"
     ]
    },
    {
     "name": "stdout",
     "output_type": "stream",
     "text": [
      "length of string is:4\n"
     ]
    }
   ],
   "source": [
    "str1 = input()\n",
    "count = 0\n",
    "for i in str1:\n",
    "    count += 1\n",
    "\n",
    "print(f\"length of string is: {count}\")   "
   ]
  },
  {
   "cell_type": "code",
   "execution_count": null,
   "id": "fffd5e9b-b45a-437b-a3c9-a9a6cdd6aac4",
   "metadata": {},
   "outputs": [],
   "source": []
  }
 ],
 "metadata": {
  "kernelspec": {
   "display_name": "Python 3 (ipykernel)",
   "language": "python",
   "name": "python3"
  },
  "language_info": {
   "codemirror_mode": {
    "name": "ipython",
    "version": 3
   },
   "file_extension": ".py",
   "mimetype": "text/x-python",
   "name": "python",
   "nbconvert_exporter": "python",
   "pygments_lexer": "ipython3",
   "version": "3.13.5"
  }
 },
 "nbformat": 4,
 "nbformat_minor": 5
}
