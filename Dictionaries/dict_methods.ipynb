{
 "cells": [
  {
   "cell_type": "markdown",
   "id": "b420940b",
   "metadata": {},
   "source": [
    "#### Methods in Dictionary"
   ]
  },
  {
   "cell_type": "markdown",
   "id": "fe3aec45",
   "metadata": {},
   "source": [
    "#### keys() gets us the keys from the dictionary"
   ]
  },
  {
   "cell_type": "code",
   "execution_count": 18,
   "id": "1698042d",
   "metadata": {},
   "outputs": [
    {
     "name": "stdout",
     "output_type": "stream",
     "text": [
      "dict_keys(['Tulsi', 'Mogra', 'Money-Plant', 'Hibbiscus'])\n"
     ]
    }
   ],
   "source": [
    "\n",
    "nursery_plants = {\"Tulsi\":50,\"Mogra\":120,\"Money-Plant\":30,\"Hibbiscus\":100}\n",
    "\n",
    "print(nursery_plants.keys())"
   ]
  },
  {
   "cell_type": "markdown",
   "id": "193cce43",
   "metadata": {},
   "source": [
    "#### values() gets us only the values of the pairs from the dictionary"
   ]
  },
  {
   "cell_type": "code",
   "execution_count": 19,
   "id": "77f760ad",
   "metadata": {},
   "outputs": [
    {
     "name": "stdout",
     "output_type": "stream",
     "text": [
      "dict_values([50, 120, 30, 100])\n"
     ]
    }
   ],
   "source": [
    "print(nursery_plants.values())"
   ]
  },
  {
   "cell_type": "markdown",
   "id": "1a6635b1",
   "metadata": {},
   "source": [
    "#### pop() removes any specified key value pair when the respective key is mentioned"
   ]
  },
  {
   "cell_type": "code",
   "execution_count": 20,
   "id": "3d78e306",
   "metadata": {},
   "outputs": [
    {
     "name": "stdout",
     "output_type": "stream",
     "text": [
      "{'Tulsi': 50, 'Mogra': 120, 'Money-Plant': 30}\n"
     ]
    }
   ],
   "source": [
    "nursery_plants.pop(\"Hibbiscus\")\n",
    "print(nursery_plants)"
   ]
  },
  {
   "cell_type": "markdown",
   "id": "3f60fc51",
   "metadata": {},
   "source": [
    "#### if we want to delete and make dictionary empty we can use clear()"
   ]
  },
  {
   "cell_type": "code",
   "execution_count": 21,
   "id": "51172ce2",
   "metadata": {},
   "outputs": [
    {
     "name": "stdout",
     "output_type": "stream",
     "text": [
      "{}\n"
     ]
    }
   ],
   "source": [
    "nursery_plants.clear()\n",
    "print(nursery_plants)"
   ]
  },
  {
   "cell_type": "code",
   "execution_count": null,
   "id": "4def1764",
   "metadata": {},
   "outputs": [
    {
     "ename": "TypeError",
     "evalue": "dict.popitem() takes no arguments (1 given)",
     "output_type": "error",
     "traceback": [
      "\u001b[1;31m---------------------------------------------------------------------------\u001b[0m",
      "\u001b[1;31mTypeError\u001b[0m                                 Traceback (most recent call last)",
      "Cell \u001b[1;32mIn[22], line 1\u001b[0m\n\u001b[1;32m----> 1\u001b[0m \u001b[43mnursery_plants\u001b[49m\u001b[38;5;241;43m.\u001b[39;49m\u001b[43mpopitem\u001b[49m\u001b[43m(\u001b[49m\u001b[38;5;124;43m\"\u001b[39;49m\u001b[38;5;124;43mTulsi\u001b[39;49m\u001b[38;5;124;43m\"\u001b[39;49m\u001b[43m)\u001b[49m\n",
      "\u001b[1;31mTypeError\u001b[0m: dict.popitem() takes no arguments (1 given)"
     ]
    }
   ],
   "source": [
    "nursery_plants.popitem()"
   ]
  },
  {
   "cell_type": "code",
   "execution_count": null,
   "id": "1507f781",
   "metadata": {},
   "outputs": [],
   "source": []
  }
 ],
 "metadata": {
  "kernelspec": {
   "display_name": "Python 3",
   "language": "python",
   "name": "python3"
  },
  "language_info": {
   "codemirror_mode": {
    "name": "ipython",
    "version": 3
   },
   "file_extension": ".py",
   "mimetype": "text/x-python",
   "name": "python",
   "nbconvert_exporter": "python",
   "pygments_lexer": "ipython3",
   "version": "3.9.12"
  }
 },
 "nbformat": 4,
 "nbformat_minor": 5
}
