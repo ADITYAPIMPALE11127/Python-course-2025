{
 "cells": [
  {
   "cell_type": "code",
   "execution_count": 1,
   "id": "690dc6a0",
   "metadata": {},
   "outputs": [
    {
     "name": "stdout",
     "output_type": "stream",
     "text": [
      "{'apple': 250, 'banana': 70, 'Watermelon': 50} <class 'dict'>\n"
     ]
    }
   ],
   "source": [
    "fruit_prices = {\"apple\":250,\"banana\":70,\"Watermelon\":50}\n",
    "\n",
    "print(fruit_prices,type(fruit_prices))"
   ]
  },
  {
   "cell_type": "markdown",
   "id": "7eb0e2fa",
   "metadata": {},
   "source": [
    "#### Accessing value by key"
   ]
  },
  {
   "cell_type": "code",
   "execution_count": 2,
   "id": "c18aec35",
   "metadata": {},
   "outputs": [
    {
     "name": "stdout",
     "output_type": "stream",
     "text": [
      "50\n"
     ]
    }
   ],
   "source": [
    "print(fruit_prices[\"Watermelon\"])"
   ]
  },
  {
   "cell_type": "markdown",
   "id": "d1839685",
   "metadata": {},
   "source": [
    "#### Values of key-value pairs can be updated "
   ]
  },
  {
   "cell_type": "code",
   "execution_count": 4,
   "id": "79c27419",
   "metadata": {},
   "outputs": [
    {
     "name": "stdout",
     "output_type": "stream",
     "text": [
      "{'apple': 200, 'banana': 70, 'Watermelon': 50}\n"
     ]
    }
   ],
   "source": [
    "fruit_prices[\"apple\"] = 200\n",
    "print(fruit_prices)"
   ]
  },
  {
   "cell_type": "markdown",
   "id": "e8af7c74",
   "metadata": {},
   "source": [
    "#### Adding new key-value pair to the existing dictionary"
   ]
  },
  {
   "cell_type": "code",
   "execution_count": 6,
   "id": "af5c4a7c",
   "metadata": {},
   "outputs": [
    {
     "name": "stdout",
     "output_type": "stream",
     "text": [
      "{'apple': 200, 'banana': 70, 'Watermelon': 50, 'coconut': 50}\n"
     ]
    }
   ],
   "source": [
    "fruit_prices[\"coconut\"] = 50\n",
    "print(fruit_prices)"
   ]
  },
  {
   "cell_type": "code",
   "execution_count": null,
   "id": "5d30faf5",
   "metadata": {},
   "outputs": [],
   "source": []
  }
 ],
 "metadata": {
  "kernelspec": {
   "display_name": "Python 3",
   "language": "python",
   "name": "python3"
  },
  "language_info": {
   "codemirror_mode": {
    "name": "ipython",
    "version": 3
   },
   "file_extension": ".py",
   "mimetype": "text/x-python",
   "name": "python",
   "nbconvert_exporter": "python",
   "pygments_lexer": "ipython3",
   "version": "3.9.12"
  }
 },
 "nbformat": 4,
 "nbformat_minor": 5
}
