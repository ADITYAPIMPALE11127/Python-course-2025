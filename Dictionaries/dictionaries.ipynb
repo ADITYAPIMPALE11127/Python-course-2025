{
 "cells": [
  {
   "cell_type": "markdown",
   "id": "b91c0bb7-3aa3-402d-959a-da5159d2a0b1",
   "metadata": {},
   "source": [
    "## Dictionaries\n",
    "* Dictionary is used to store data values in key: value pairs.\n",
    "* A dictionary is a collection which is ordered, changeable or mutable and does not allow duplicates.\n",
    "* Dictionary items are presented in key: value pairs, and can be referred to by using the key name.\n",
    "* we can change, add, or remove items after the dictionary is created\n",
    "* Dictionaries cannot have two items with the same key.\n",
    "* A dictionary can be nested and can contain another dictionary.\n",
    "* A curly bracket {} is used in dictonary"
   ]
  },
  {
   "cell_type": "markdown",
   "id": "e93e8b74-6e8e-44d5-8f98-30d2eceb917a",
   "metadata": {},
   "source": [
    "#### __Note: As you see that the whole dictionary is enclosed in curly bracket each key is separated by its value by a colon ':', and comma are used to separate items__"
   ]
  },
  {
   "cell_type": "code",
   "execution_count": null,
   "id": "7d113cf3-4e29-4ba6-a241-e6d26e67ab3b",
   "metadata": {},
   "outputs": [],
   "source": []
  },
  {
   "cell_type": "code",
   "execution_count": 1,
   "id": "690dc6a0",
   "metadata": {},
   "outputs": [
    {
     "name": "stdout",
     "output_type": "stream",
     "text": [
      "{'apple': 250, 'banana': 70, 'Watermelon': 50} <class 'dict'>\n"
     ]
    }
   ],
   "source": [
    "fruit_prices = {\"apple\":250,\"banana\":70,\"Watermelon\":50}\n",
    "\n",
    "print(fruit_prices,type(fruit_prices))"
   ]
  },
  {
   "cell_type": "markdown",
   "id": "7eb0e2fa",
   "metadata": {},
   "source": [
    "#### Accessing value by key"
   ]
  },
  {
   "cell_type": "code",
   "execution_count": 2,
   "id": "c18aec35",
   "metadata": {},
   "outputs": [
    {
     "name": "stdout",
     "output_type": "stream",
     "text": [
      "50\n"
     ]
    }
   ],
   "source": [
    "print(fruit_prices[\"Watermelon\"])"
   ]
  },
  {
   "cell_type": "markdown",
   "id": "d1839685",
   "metadata": {},
   "source": [
    "#### Values of key-value pairs can be updated "
   ]
  },
  {
   "cell_type": "code",
   "execution_count": 4,
   "id": "79c27419",
   "metadata": {},
   "outputs": [
    {
     "name": "stdout",
     "output_type": "stream",
     "text": [
      "{'apple': 200, 'banana': 70, 'Watermelon': 50}\n"
     ]
    }
   ],
   "source": [
    "fruit_prices[\"apple\"] = 200\n",
    "print(fruit_prices)"
   ]
  },
  {
   "cell_type": "markdown",
   "id": "e8af7c74",
   "metadata": {},
   "source": [
    "#### Adding new key-value pair to the existing dictionary"
   ]
  },
  {
   "cell_type": "code",
   "execution_count": 6,
   "id": "af5c4a7c",
   "metadata": {},
   "outputs": [
    {
     "name": "stdout",
     "output_type": "stream",
     "text": [
      "{'apple': 200, 'banana': 70, 'Watermelon': 50, 'coconut': 50}\n"
     ]
    }
   ],
   "source": [
    "fruit_prices[\"coconut\"] = 50\n",
    "print(fruit_prices)"
   ]
  }
 ],
 "metadata": {
  "kernelspec": {
   "display_name": "Python 3 (ipykernel)",
   "language": "python",
   "name": "python3"
  },
  "language_info": {
   "codemirror_mode": {
    "name": "ipython",
    "version": 3
   },
   "file_extension": ".py",
   "mimetype": "text/x-python",
   "name": "python",
   "nbconvert_exporter": "python",
   "pygments_lexer": "ipython3",
   "version": "3.13.5"
  }
 },
 "nbformat": 4,
 "nbformat_minor": 5
}
