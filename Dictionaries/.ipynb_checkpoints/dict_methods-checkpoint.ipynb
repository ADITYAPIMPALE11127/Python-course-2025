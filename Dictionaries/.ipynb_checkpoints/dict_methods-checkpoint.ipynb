{
 "cells": [
  {
   "cell_type": "markdown",
   "id": "b420940b",
   "metadata": {},
   "source": [
    "#### Methods in Dictionary"
   ]
  },
  {
   "cell_type": "markdown",
   "id": "fe3aec45",
   "metadata": {},
   "source": [
    "#### keys() gets us the keys from the dictionary"
   ]
  },
  {
   "cell_type": "code",
   "execution_count": 7,
   "id": "1698042d",
   "metadata": {},
   "outputs": [
    {
     "name": "stdout",
     "output_type": "stream",
     "text": [
      "dict_keys(['Tulsi', 'Mogra', 'Money-Plant', 'Hibbiscus'])\n"
     ]
    }
   ],
   "source": [
    "\n",
    "nursery_plants = {\"Tulsi\":50,\"Mogra\":120,\"Money-Plant\":30,\"Hibbiscus\":100}\n",
    "\n",
    "print(nursery_plants.keys())"
   ]
  },
  {
   "cell_type": "markdown",
   "id": "193cce43",
   "metadata": {},
   "source": [
    "#### values() gets us only the values of the pairs from the dictionary"
   ]
  },
  {
   "cell_type": "code",
   "execution_count": 8,
   "id": "77f760ad",
   "metadata": {},
   "outputs": [
    {
     "name": "stdout",
     "output_type": "stream",
     "text": [
      "dict_values([50, 120, 30, 100])\n"
     ]
    }
   ],
   "source": [
    "print(nursery_plants.values())"
   ]
  },
  {
   "cell_type": "markdown",
   "id": "1a6635b1",
   "metadata": {},
   "source": [
    "#### pop() removes any specified key value pair when the respective key is mentioned"
   ]
  },
  {
   "cell_type": "code",
   "execution_count": 9,
   "id": "3d78e306",
   "metadata": {},
   "outputs": [
    {
     "name": "stdout",
     "output_type": "stream",
     "text": [
      "{'Tulsi': 50, 'Mogra': 120, 'Money-Plant': 30}\n"
     ]
    }
   ],
   "source": [
    "nursery_plants.pop(\"Hibbiscus\")\n",
    "print(nursery_plants)"
   ]
  },
  {
   "cell_type": "markdown",
   "id": "3f60fc51",
   "metadata": {},
   "source": [
    "#### if we want to delete and make dictionary empty we can use clear()"
   ]
  },
  {
   "cell_type": "code",
   "execution_count": 10,
   "id": "51172ce2",
   "metadata": {},
   "outputs": [],
   "source": [
    "# nursery_plants.clear()\n",
    "# print(nursery_plants)"
   ]
  },
  {
   "cell_type": "code",
   "execution_count": 11,
   "id": "4def1764",
   "metadata": {},
   "outputs": [
    {
     "data": {
      "text/plain": [
       "('Money-Plant', 30)"
      ]
     },
     "execution_count": 11,
     "metadata": {},
     "output_type": "execute_result"
    }
   ],
   "source": [
    "nursery_plants.popitem()"
   ]
  },
  {
   "cell_type": "code",
   "execution_count": 12,
   "id": "1507f781",
   "metadata": {},
   "outputs": [
    {
     "data": {
      "text/plain": [
       "dict_items([('Tulsi', 50), ('Mogra', 120)])"
      ]
     },
     "execution_count": 12,
     "metadata": {},
     "output_type": "execute_result"
    }
   ],
   "source": [
    "nursery_plants.items()"
   ]
  },
  {
   "cell_type": "markdown",
   "id": "6efa2ee9-9e6d-4e6a-bc5b-b96a41935cec",
   "metadata": {},
   "source": [
    "### Verification using in or not in - works only on keys"
   ]
  },
  {
   "cell_type": "code",
   "execution_count": 15,
   "id": "358da2e4-4186-452d-995a-65fb5c201743",
   "metadata": {},
   "outputs": [
    {
     "name": "stdout",
     "output_type": "stream",
     "text": [
      "True\n"
     ]
    }
   ],
   "source": [
    "print(\"Tulsi\" in nursery_plants)"
   ]
  },
  {
   "cell_type": "code",
   "execution_count": 28,
   "id": "18620b72-3e3f-46c4-962e-80731064df5c",
   "metadata": {},
   "outputs": [
    {
     "name": "stdout",
     "output_type": "stream",
     "text": [
      "{'music': 'old songs', 'city': 'pune', 'w1': 12}\n"
     ]
    }
   ],
   "source": [
    "dict2 = dict(music = \"old songs\",city = \"pune\",w1 = 12)\n",
    "print(dict2)"
   ]
  },
  {
   "cell_type": "markdown",
   "id": "60b51057-95db-4f65-8f87-bcffbe0abf86",
   "metadata": {},
   "source": [
    "#### get() function is used in full stack to get the key value pair, checks if key exists then returns the value"
   ]
  },
  {
   "cell_type": "code",
   "execution_count": 29,
   "id": "b79a7a2f-44c5-474d-a6e2-5616a2d06430",
   "metadata": {},
   "outputs": [],
   "source": [
    "dict3 = {\"name\":\"Aditya\",\"age\":23}"
   ]
  },
  {
   "cell_type": "code",
   "execution_count": 31,
   "id": "b9d63509-3910-4396-abeb-3636abe8b109",
   "metadata": {},
   "outputs": [
    {
     "data": {
      "text/plain": [
       "'Aditya'"
      ]
     },
     "execution_count": 31,
     "metadata": {},
     "output_type": "execute_result"
    }
   ],
   "source": [
    "dict3.get('name')"
   ]
  },
  {
   "cell_type": "markdown",
   "id": "c09967a4-53ae-4db4-954f-28c01b9b94fa",
   "metadata": {},
   "source": [
    "### fromkeys() function -  returns a new dictionary with a certain sequence of th items as the key of the dictionary and the values are not assigned "
   ]
  },
  {
   "cell_type": "code",
   "execution_count": 32,
   "id": "71ae4ead-e754-4199-af62-03f98b4f9c7f",
   "metadata": {},
   "outputs": [],
   "source": [
    "set1 = {1,2,3}\n",
    "dict1 = dict.fromkeys(set1)"
   ]
  },
  {
   "cell_type": "code",
   "execution_count": 33,
   "id": "5821e97f-d45f-486f-9d6f-4e80d96f86f0",
   "metadata": {},
   "outputs": [
    {
     "data": {
      "text/plain": [
       "{1: None, 2: None, 3: None}"
      ]
     },
     "execution_count": 33,
     "metadata": {},
     "output_type": "execute_result"
    }
   ],
   "source": [
    "dict1"
   ]
  },
  {
   "cell_type": "markdown",
   "id": "a98128fb-db0e-4481-895c-3caf757de25c",
   "metadata": {},
   "source": []
  }
 ],
 "metadata": {
  "kernelspec": {
   "display_name": "Python 3 (ipykernel)",
   "language": "python",
   "name": "python3"
  },
  "language_info": {
   "codemirror_mode": {
    "name": "ipython",
    "version": 3
   },
   "file_extension": ".py",
   "mimetype": "text/x-python",
   "name": "python",
   "nbconvert_exporter": "python",
   "pygments_lexer": "ipython3",
   "version": "3.13.5"
  }
 },
 "nbformat": 4,
 "nbformat_minor": 5
}
