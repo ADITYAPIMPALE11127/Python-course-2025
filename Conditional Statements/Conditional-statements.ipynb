{
 "cells": [
  {
   "cell_type": "markdown",
   "id": "0023cc61-07f8-42ea-9933-970b9e9fc2b6",
   "metadata": {},
   "source": [
    "* Comparison operator\n",
    "* Less than(<)\n",
    "* Greater than(>)\n",
    "* Less than or equal to(<=)\n",
    "* Greater than or equal to(>=)\n",
    "* Equal to (==)\n",
    "* Not equal to(!=)\n",
    "* Branching (if,elif,else) in c programming(if,else-if, else)\n",
    "* Decision making is required when we want to execute a code only if a certain condition is satisfied.\n",
    "\n",
    "### The if/elif/else statement is used in Python for decision making.\n",
    "\n",
    "* An else statement can be combined with an if statement.\n",
    "* An else statement contains the block of code that executes if the conditional expression in the if statement resolves to 0 or a False value\n",
    "* The else statement is optional and there could be at most only one else statement following if.\n",
    "* The elif statement allows you to check multiple expressions for True and execute a block of code as soon as one of the conditions evaluates True.\n",
    "* Similar to the else, the elif statement is optional."
   ]
  },
  {
   "cell_type": "markdown",
   "id": "2c2e7e29-67d0-4259-9215-65da0799db6c",
   "metadata": {},
   "source": [
    "### write to check the value is even or odd - userNumber"
   ]
  },
  {
   "cell_type": "code",
   "execution_count": 2,
   "id": "432d0833-bd31-4069-bf9c-4b7a1d14c461",
   "metadata": {},
   "outputs": [
    {
     "name": "stdin",
     "output_type": "stream",
     "text": [
      "enter a number:  3\n"
     ]
    },
    {
     "name": "stdout",
     "output_type": "stream",
     "text": [
      "3It is odd number\n"
     ]
    }
   ],
   "source": [
    "num = int(input(\"enter a number: \"))\n",
    "\n",
    "if num % 2 == 0:\n",
    "    print(f\"{num} is even number \")\n",
    "else:\n",
    "    print(f\"{num}It is odd number\")\n",
    "    "
   ]
  },
  {
   "cell_type": "markdown",
   "id": "82963aaa-7ca5-4d96-88c2-9c4391b320ed",
   "metadata": {},
   "source": [
    "#### write a program to check any number entered by the user is divisible by 3 and 5,\n",
    "#### 15- is divisible by both 3 and 5\n",
    "#### 10- is divisible by only 5 not 3\n",
    "#### 9- is divisible by only 3 not 5\n",
    "#### 23- is not divisible by both of them like 3 and 5."
   ]
  },
  {
   "cell_type": "code",
   "execution_count": 11,
   "id": "89a263d7-f99b-454c-b7c4-eebc5045945d",
   "metadata": {},
   "outputs": [
    {
     "name": "stdin",
     "output_type": "stream",
     "text": [
      "enter a number:  50\n"
     ]
    },
    {
     "name": "stdout",
     "output_type": "stream",
     "text": [
      "50 is divisible by 5 and not by 3\n"
     ]
    }
   ],
   "source": [
    "n = int(input(\"enter a number: \"))\n",
    "\n",
    "if n % 3 == 0 and n % 5 == 0:\n",
    "    print(f\"{n} is divisible by 3 and 5\")\n",
    "elif n % 5 == 0 and n % 3 != 0:  # always add and in elif with proper conditioning \n",
    "    print(f\"{n} is divisible by 5 and not by 3\")\n",
    "elif n % 3 == 0 and n % 5 != 0:  # same \"\"              '\"        ' ' '' ''\"'\n",
    "    print(f\"{n} is divisible by 3 and not by 5\")\n",
    "else:\n",
    "    print(f\" {n} is not divisible by both of them like 3 and 5\")"
   ]
  },
  {
   "cell_type": "code",
   "execution_count": 12,
   "id": "6171053a-d7fa-4fa9-ba5f-44818d4846a0",
   "metadata": {},
   "outputs": [],
   "source": [
    "# Accept any character from user and guess vowel and consonant"
   ]
  },
  {
   "cell_type": "code",
   "execution_count": 18,
   "id": "51a3ab15-7305-4568-b7b5-55609d86d592",
   "metadata": {},
   "outputs": [
    {
     "name": "stdin",
     "output_type": "stream",
     "text": [
      "Enter any character:  E\n"
     ]
    },
    {
     "name": "stdout",
     "output_type": "stream",
     "text": [
      "E is a vowel letter\n"
     ]
    }
   ],
   "source": [
    "letter = input(\"Enter any character: \")  \n",
    "char = letter.lower()\n",
    "\n",
    "if char in ['a', 'e', 'i', 'o', 'u']:\n",
    "    print(f\"{letter} is a vowel letter\")\n",
    "else:\n",
    "    print(f\"{letter} is a consonant\")"
   ]
  },
  {
   "cell_type": "code",
   "execution_count": null,
   "id": "d377b07f-b044-480f-a913-cff89ab22cbb",
   "metadata": {},
   "outputs": [],
   "source": [
    "# 1. Accepts any city and display their Monuments.\n",
    "\n",
    "#cityName-------------------> Monument\n",
    "\n",
    "# \"Delhi\"--------------------> ['Redfort','QutubMinar','LotusTemple']\n",
    "# Agra-----------------------> \"TajMahal\"\n",
    "# Jaipur---------------------> \"HawaMahal/JalMahal\"\n",
    "# Amritsar-------------------> \"GoldenTemple,Jalliawalabagh\"\n",
    "# Madurai--------------------> \"Meenakshi Temple\"\n",
    "# Mysore---------------------> \"Mysore palace\"\n",
    "# Mumbai --------------------> \"Gateway of India\"\n",
    "# Sanchi---------------------> \"Sanchi Stupa\"\n",
    "# Hydrabad-------------------> \"Charminar\"\n",
    "# Gujarat -------------------> \"Statue of Unity\"\n"
   ]
  },
  {
   "cell_type": "code",
   "execution_count": 30,
   "id": "16c7f587-5240-45b1-b6bf-0aad82bde4e6",
   "metadata": {},
   "outputs": [
    {
     "name": "stdout",
     "output_type": "stream",
     "text": [
      "Choose a city from the list: \n",
      " ['Delhi', 'Agra', 'Jaipur', 'Amritsar', 'Madurai', 'Mysore', 'Mumbai', 'Sanchi', 'Hyderabad', 'Gujarat']\n"
     ]
    }
   ],
   "source": [
    "city_list = ['Delhi','Agra','Jaipur','Amritsar','Madurai','Mysore','Mumbai','Sanchi','Hyderabad','Gujarat']\n",
    "print(f\"Choose a city from the list: \\n {city_list}\")"
   ]
  },
  {
   "cell_type": "code",
   "execution_count": 33,
   "id": "3c4d7e32-fe51-4347-8054-32db11b7706f",
   "metadata": {},
   "outputs": [
    {
     "name": "stdin",
     "output_type": "stream",
     "text": [
      "Enter a city name:  del hi\n"
     ]
    },
    {
     "name": "stdout",
     "output_type": "stream",
     "text": [
      "Invalid city name or spelling mistake\n"
     ]
    }
   ],
   "source": [
    "city_name = input(\"Enter a city name: \").strip().lower()\n",
    "\n",
    "if city_name == city_list[0].lower():\n",
    "    print(\"Redfort, QutubMinar, LotusTemple\")\n",
    "elif city_name == city_list[1].lower():\n",
    "    print(\"TajMahal\")\n",
    "elif city_name == city_list[2].lower():\n",
    "    print(\"HawaMahal, JalMahal\")\n",
    "elif city_name == city_list[3].lower():\n",
    "    print(\"GoldenTemple, Jalliawalabagh\") \n",
    "elif city_name == city_list[4].lower():\n",
    "    print(\"Meenakshi Temple\")\n",
    "elif city_name == city_list[5].lower():\n",
    "    print(\"Mysore palace\")\n",
    "elif city_name == city_list[6].lower():\n",
    "    print(\"Gateway of India\")\n",
    "elif city_name == city_list[7].lower():\n",
    "    print(\"Sanchi Stupa\")\n",
    "elif city_name == city_list[8].lower():\n",
    "    print(\"Charminar\")\n",
    "elif city_name == city_list[9].lower():\n",
    "    print(\"Statue of Unity\")\n",
    "else:\n",
    "    print(\"Invalid city name or spelling mistake\")"
   ]
  },
  {
   "cell_type": "code",
   "execution_count": 34,
   "id": "e7f8f3e3-5b05-441a-976f-54678f1101d5",
   "metadata": {},
   "outputs": [],
   "source": [
    "# 2. A shop wil give you discount of 20%, if the cost of purchased is more than 2000, and if \n",
    "# purchased amount will be 1000 more than then it will discount 10%, And if purchased amout \n",
    "# is less than 1000- \"No discount\" as well print how much need more shopping \n",
    "# amount will to get minimum discount."
   ]
  },
  {
   "cell_type": "code",
   "execution_count": 32,
   "id": "7f1b7873-09af-49a7-87d0-5fa10ffb8f34",
   "metadata": {},
   "outputs": [
    {
     "name": "stdin",
     "output_type": "stream",
     "text": [
      " 1001\n"
     ]
    },
    {
     "name": "stdout",
     "output_type": "stream",
     "text": [
      "You will get 10 % discount\n",
      " buy more of 1000.0 to get discount of 20%\n"
     ]
    }
   ],
   "source": [
    "cost_of_purchase = float(input())\n",
    "amount_needed = 1001 - cost_of_purchase\n",
    "max_amount = 2001 - cost_of_purchase\n",
    "\n",
    "if cost_of_purchase > 2000:\n",
    "    print(\"You will get 20 % discount\")\n",
    "elif cost_of_purchase > 1000:\n",
    "    print(f\"You will get 10 % discount\\n buy more of {max_amount} to get discount of 20%\")\n",
    "else:\n",
    "    print(f\"No discount\\n Shop more of: {amount_needed} to get least discount of 10%\")"
   ]
  },
  {
   "cell_type": "code",
   "execution_count": 1,
   "id": "2f5175ac-e0de-4a3d-9d86-0a7fd0117e81",
   "metadata": {},
   "outputs": [],
   "source": [
    "# 3.A compay will decided to give bonus to the employee according to the following criteria:\n",
    "# Time period of the service -------------------> Bonus\n",
    "# More then 10 Years ---------------------------> 10%\n",
    "# >=6 and <=10 ---------------------------------> 8%\n",
    "# <6 -------------------------------------------> 5%\n",
    "# Ask the user for their salary and yers of service and then calcualte the bonus amount is, \n",
    "# and display the total salary after increment of bonus.\n"
   ]
  },
  {
   "cell_type": "code",
   "execution_count": 11,
   "id": "a9bf0c3b-c9d3-44fd-b869-1c3d73af3b33",
   "metadata": {},
   "outputs": [
    {
     "name": "stdin",
     "output_type": "stream",
     "text": [
      "enter the salary:  100000\n",
      "enter the years of service:  8\n"
     ]
    },
    {
     "name": "stdout",
     "output_type": "stream",
     "text": [
      "you will get 8 % bonus as per experience: 8000.0\n",
      " new salary is :108000.0\n"
     ]
    }
   ],
   "source": [
    "salary = int(input(\"enter the salary: \"))\n",
    "years_of_service = int(input(\"enter the years of service: \"))\n",
    "\n",
    "if years_of_service > 10:\n",
    "    bonus = salary * (10 / 100)\n",
    "    new_salary = bonus + salary\n",
    "    print(f\"you will get 10 % bonus as per experience: {bonus}\\n new salary is :{new_salary}\")\n",
    "elif years_of_service >= 6 and years_of_service <= 10:\n",
    "    bonus = salary * (8 / 100)\n",
    "    new_salary = bonus + salary\n",
    "    print(f\"you will get 8 % bonus as per experience: {bonus}\\n new salary is :{new_salary}\")\n",
    "else:\n",
    "    bonus = salary * (5 / 100)\n",
    "    new_salary = bonus + salary\n",
    "    print(f\"you will get 5 % bonus as per experience: {bonus}\\n new salary is :{new_salary}\")"
   ]
  },
  {
   "cell_type": "code",
   "execution_count": 7,
   "id": "73d66645-17b0-46ce-8dbe-a5da35d17126",
   "metadata": {},
   "outputs": [],
   "source": [
    "# 13. Based on the number of sides entered (3,5,7 etc), Identify Triangle shape\n",
    "# (trianlge,pentagon, septagon etc)"
   ]
  },
  {
   "cell_type": "code",
   "execution_count": 12,
   "id": "9a4e15f3-0963-409d-90c5-f34ad48adc3c",
   "metadata": {},
   "outputs": [
    {
     "name": "stdin",
     "output_type": "stream",
     "text": [
      "enter the number of sides:  7\n"
     ]
    },
    {
     "name": "stdout",
     "output_type": "stream",
     "text": [
      "total sides are 7, So it is a Septagon\n"
     ]
    }
   ],
   "source": [
    "sides = int(input(\"enter the number of sides: \"))\n",
    "\n",
    "if sides == 3:\n",
    "    print(f\"total sides are {sides}, So it is a Triangle\")\n",
    "elif sides == 5:\n",
    "    print(f\"total sides are {sides}, So it is a Pentagon\")\n",
    "elif sides == 7:\n",
    "    print(f\"total sides are {sides}, So it is a Septagon\")\n",
    "else:\n",
    "    print(f\"Unknown shape\")"
   ]
  },
  {
   "cell_type": "code",
   "execution_count": 13,
   "id": "e7150068-9f74-4f68-b20a-8f6f520237b7",
   "metadata": {},
   "outputs": [],
   "source": [
    "# 5. Write a program to check person is sernior citizen or not?"
   ]
  },
  {
   "cell_type": "code",
   "execution_count": 53,
   "id": "a486c64a-b70a-4663-adf3-cec79f3fd001",
   "metadata": {},
   "outputs": [
    {
     "name": "stdin",
     "output_type": "stream",
     "text": [
      "enter your age:  129\n"
     ]
    },
    {
     "name": "stdout",
     "output_type": "stream",
     "text": [
      "129 is a old age, So you are a senior citizen\n"
     ]
    }
   ],
   "source": [
    "age = int(input(\"enter your age: \"))\n",
    "\n",
    "if age > 0 and age <= 130:\n",
    "    if age >= 60:\n",
    "        print(f\"{age} is a old age, So you are a senior citizen\")\n",
    "    else:\n",
    "        print(\"You are not a senior citizen\")\n",
    "else:\n",
    "    print(\"Please enter a valid age\")"
   ]
  },
  {
   "cell_type": "code",
   "execution_count": 17,
   "id": "56f254ec-2af8-49e5-abf8-0dd58b30385a",
   "metadata": {},
   "outputs": [],
   "source": [
    "# 6. Write a program to check whether a number (accepted from the user) is positive or negative."
   ]
  },
  {
   "cell_type": "code",
   "execution_count": 24,
   "id": "78bb238a-005d-4392-9c58-e1f496c217a3",
   "metadata": {},
   "outputs": [
    {
     "name": "stdin",
     "output_type": "stream",
     "text": [
      "enter a number 0.00\n"
     ]
    },
    {
     "name": "stdout",
     "output_type": "stream",
     "text": [
      "0.0 is neutral number\n"
     ]
    }
   ],
   "source": [
    "num = float(input(\"enter a number\"))\n",
    "\n",
    "if num > 0:\n",
    "    print(f\"{num} is a positive number\")\n",
    "elif num < 0:\n",
    "    print(f\"{num} is a negative number\")\n",
    "else:\n",
    "    print(f\"{num} is neutral number\")"
   ]
  },
  {
   "cell_type": "code",
   "execution_count": 25,
   "id": "a0c5966a-6909-417b-9f81-dbf14c8d6448",
   "metadata": {},
   "outputs": [],
   "source": [
    "# 4. Write a program to accept the cost price of a bike and display the road tax to be paid \n",
    "# according to the following criteria:\n",
    "# Cost price of bike (in RS) ------------ Tax:\n",
    "# >100000 -------------------------------> 15%\n",
    "# >50000 and <=100000---------------------> 10%\n",
    "# <50000 --------------------------------> 8%"
   ]
  },
  {
   "cell_type": "code",
   "execution_count": 45,
   "id": "4a32a2ae-9d13-4d17-9a41-09cd59437e97",
   "metadata": {},
   "outputs": [
    {
     "name": "stdin",
     "output_type": "stream",
     "text": [
      "Enter the price of the bike 274000\n"
     ]
    },
    {
     "name": "stdout",
     "output_type": "stream",
     "text": [
      "as the price of the bike is : 274000\n",
      " So the tax is 41100.0 \n",
      " total price of the bike after tax: 315100.0\n"
     ]
    }
   ],
   "source": [
    "bike_price = int(input(\"Enter the price of the bike\" ))\n",
    "if bike_price > 0:\n",
    "    if bike_price > 100000:\n",
    "        tax = bike_price * 0.15\n",
    "        total_price = tax + bike_price\n",
    "        print(f\"as the price of the bike is : {bike_price}\\n So the tax is {tax} \\n total price of the bike after tax: {total_price}\")\n",
    "    \n",
    "    elif bike_price > 50000 and bike_price <= 100000:\n",
    "        tax = bike_price * 0.10\n",
    "        total_price = tax + bike_price\n",
    "        print(f\"as the price of the bike is : {bike_price}\\n So the tax is {tax} \\n total price of the bike after tax: {total_price}\")\n",
    "    \n",
    "    \n",
    "    elif bike_price <= 50000:\n",
    "        tax = bike_price * 0.08\n",
    "        total_price = tax + bike_price\n",
    "        print(f\"as the price of the bike is : {bike_price}\\n So the tax is {tax} \\n total price of the bike after tax: {total_price}\")\n",
    "else:\n",
    "    print(\"Enter a positive bike price\")\n",
    "    "
   ]
  },
  {
   "cell_type": "code",
   "execution_count": 46,
   "id": "33dd1fa0-96f6-40f1-b2fb-c6dac245ba9c",
   "metadata": {},
   "outputs": [],
   "source": [
    "# 7. Accept the following from the user and calculate the percentage of the class attendence.\n",
    "# Total number of working days.\n",
    "# Total number of absent.\n",
    "# if percentage is less than 75%, then student will not sit the exam."
   ]
  },
  {
   "cell_type": "code",
   "execution_count": 72,
   "id": "2e87a3ba-ac96-4f86-8469-6935be0e80ea",
   "metadata": {},
   "outputs": [
    {
     "name": "stdin",
     "output_type": "stream",
     "text": [
      "Enter no of working days:  -120\n",
      "Enter total no of absent days:  -33\n"
     ]
    },
    {
     "name": "stdout",
     "output_type": "stream",
     "text": [
      "Please enter a valid number of working days.\n"
     ]
    }
   ],
   "source": [
    "total_working_days = int(input(\"Enter no of working days: \"))\n",
    "total_absent_days = int(input(\"Enter total no of absent days: \"))\n",
    "\n",
    "if total_working_days > 0 and 0 <= total_absent_days <= total_working_days:\n",
    "    present_days = total_working_days - total_absent_days\n",
    "    attendance_percentage = (present_days / total_working_days) * 100\n",
    "\n",
    "    if attendance_percentage < 75:\n",
    "        print(f\"As {attendance_percentage:}% attendance is less than 75%, you cannot sit for exam.\")\n",
    "    else:\n",
    "        print(f\"You can sit for exam, as your attendance {attendance_percentage:}% is in acceptable range.\")\n",
    "elif total_working_days <= 0:\n",
    "    print(\"Please enter a valid number of working days.\")\n",
    "else:\n",
    "    print(\"Please enter a valid number of absent days.\")"
   ]
  },
  {
   "cell_type": "code",
   "execution_count": 73,
   "id": "cc56a6e9-01f0-4953-bd73-6892291fc4f0",
   "metadata": {},
   "outputs": [],
   "source": [
    "#8. Calculate letters grades (A,B,C,D,E) based on score ranges (eg.-90-100:A,80-89:B,70-79:C,\n",
    "#60-69:D,50-59:E)"
   ]
  },
  {
   "cell_type": "code",
   "execution_count": 74,
   "id": "95dfdb0c-2a92-49a7-b68b-9ea82c077855",
   "metadata": {},
   "outputs": [
    {
     "name": "stdin",
     "output_type": "stream",
     "text": [
      "enter the score:  -1200\n"
     ]
    },
    {
     "name": "stdout",
     "output_type": "stream",
     "text": [
      "Enter a valid score\n"
     ]
    }
   ],
   "source": [
    "score = int(input(\"enter the score: \"))\n",
    "\n",
    "if score >0:\n",
    "    if score > 90 and score <=100:\n",
    "        print(f\"As score {score}, is in range between 90 t0 100 \\n So the grade is: A \")\n",
    "    elif score > 80 and score <= 89:\n",
    "        print(f\"As score {score}, is in range between 80 t0 89 \\n So the grade is: B \")\n",
    "    elif score > 70 and score <=79:\n",
    "        print(f\"As score {score}, is in range between 70 t0 79 \\n So the grade is: C \")\n",
    "    elif score > 60 and score <= 69:\n",
    "        print(f\"As score {score}, is in range between 60 t0 69 \\n So the grade is: D \")\n",
    "    elif score > 50  and score <=59:\n",
    "        print(f\"As score {score}, is in range between 50 t0 59  \\n So the grade is: E \")\n",
    "    else:\n",
    "        print(f\"As score is {score} so you are fail\")\n",
    "else:\n",
    "    print(\"Enter a valid score\")"
   ]
  },
  {
   "cell_type": "code",
   "execution_count": 75,
   "id": "0e774259-98b6-4313-b9bf-b5451afd4fb5",
   "metadata": {},
   "outputs": [],
   "source": [
    " # 12. Determine if a character is uppercase, lowercase, a digit or a special character."
   ]
  },
  {
   "cell_type": "code",
   "execution_count": 82,
   "id": "34d19df7-3fbd-4516-bd20-a4b41bf242c7",
   "metadata": {},
   "outputs": [
    {
     "name": "stdin",
     "output_type": "stream",
     "text": [
      "Enter a character:  122\n"
     ]
    },
    {
     "name": "stdout",
     "output_type": "stream",
     "text": [
      "Please enter only a single character.\n"
     ]
    }
   ],
   "source": [
    "n = input(\"Enter a character: \")\n",
    "\n",
    "special_chars = \"!@#$%^&*()_+=-{}[]';.,/~`\"\n",
    "digits = \"0123456789\"\n",
    "\n",
    "if len(n) != 1:\n",
    "    print(\"Please enter only a single character.\")\n",
    "elif n.islower():\n",
    "    print(\"It is a lowercase letter.\")\n",
    "elif n.isupper():\n",
    "    print(\"It is an uppercase letter.\")\n",
    "elif n in digits:\n",
    "    print(\"It is a digit.\")\n",
    "elif n in special_chars:\n",
    "    print(\"It is a special character.\")\n",
    "elif n == ' ':\n",
    "    print(\"it is a white space\")\n",
    "else:\n",
    "    print(\"Unknown character type.\")\n"
   ]
  },
  {
   "cell_type": "markdown",
   "id": "4353f2b7-3e1e-49a6-b17f-705f8ebbd79e",
   "metadata": {},
   "source": [
    "# 9. Simulate a traffic light, if the light is \"Green\", print \"Go\", If yellow, print \"Caution\",\n",
    "# if red \"Stop!\""
   ]
  },
  {
   "cell_type": "code",
   "execution_count": 5,
   "id": "35fb7224-4269-491e-8b08-6b75e7b8f7ef",
   "metadata": {},
   "outputs": [
    {
     "name": "stdin",
     "output_type": "stream",
     "text": [
      "Enter the signal:  orange\n"
     ]
    },
    {
     "name": "stdout",
     "output_type": "stream",
     "text": [
      "Invalid traffic light, enter a correct light\n"
     ]
    }
   ],
   "source": [
    "signal = input(\"Enter the signal: \")\n",
    "if signal.lower() == 'green':\n",
    "    print(\"Go\")\n",
    "elif signal.lower() == 'yellow':\n",
    "    print(\"Caution\")\n",
    "elif signal.lower() == 'red':\n",
    "    print(\"Stop!\")\n",
    "else:\n",
    "    print(\"Invalid traffic light, enter a correct light\")"
   ]
  },
  {
   "cell_type": "markdown",
   "id": "45f9450f-195f-4d71-b661-dd53fed719a0",
   "metadata": {},
   "source": [
    "### # 15. Crete a simple calulator that performs basic arithmetic operations based on two user input.\n",
    "# (^,*,/,-,+)"
   ]
  },
  {
   "cell_type": "code",
   "execution_count": 10,
   "id": "8c192acd-ee93-4aea-ba4d-b001214763c9",
   "metadata": {},
   "outputs": [
    {
     "name": "stdout",
     "output_type": "stream",
     "text": [
      "Note: - If ^ operator is selected then, result will be a ** b e.g. 2 ** 3  = 8 \n"
     ]
    },
    {
     "name": "stdin",
     "output_type": "stream",
     "text": [
      "enter a operation:  +\n",
      "enter first number:  3.4212\n",
      "enter second number:  56.43\n"
     ]
    },
    {
     "name": "stdout",
     "output_type": "stream",
     "text": [
      "The addtion of 3.4212 and 56.43 is, 59.8512 \n"
     ]
    }
   ],
   "source": [
    "print(\"Note: - If ^ operator is selected then, result will be a ** b e.g. 2 ** 3  = 8 \")\n",
    "op = input(\"enter a operation: \")\n",
    "a = float(input(\"enter first number: \"))\n",
    "b = float(input(\"enter second number: \"))\n",
    "\n",
    "if op == '+':\n",
    "    sum1 = a + b\n",
    "    print(f\"The addtion of {a} and {b} is, {sum1} \")\n",
    "elif op == '^':\n",
    "    expo = a**b\n",
    "    print(f\"The exponent of {a} to the power {b} is, {expo}\")\n",
    "elif op == '/':\n",
    "    div = a / b\n",
    "    print(f\"The division of {a} by {b} is, {div}\")\n",
    "elif op == '-':\n",
    "    sub = a - b\n",
    "    print(f\"The subtration of {a} minus {b} is,{sub}\")\n",
    "elif op == '*':\n",
    "    mult = a * b\n",
    "    print(f\"The multiplication of {a} and {b} is, {mult}\")\n",
    "else:\n",
    "    print(\"Invalid operator, please enter valid operator\")"
   ]
  },
  {
   "cell_type": "code",
   "execution_count": 2,
   "id": "237db0c2-7154-4a92-be45-9922e62abf8a",
   "metadata": {},
   "outputs": [
    {
     "name": "stdout",
     "output_type": "stream",
     "text": [
      "2\n",
      "44\n"
     ]
    }
   ],
   "source": [
    "lstn1 = [1,2,3,45,65,44]\n",
    "\n",
    "for i in lst:\n",
    "    if i % 2 == 0:\n",
    "        print(i)"
   ]
  },
  {
   "cell_type": "code",
   "execution_count": null,
   "id": "6ccdf159-20ce-40d5-818e-94bbb24f316f",
   "metadata": {},
   "outputs": [],
   "source": [
    "sum = 0 \n",
    "for i in lstn1:\n",
    "    sum = sum + i \n",
    "    "
   ]
  }
 ],
 "metadata": {
  "kernelspec": {
   "display_name": "Python 3 (ipykernel)",
   "language": "python",
   "name": "python3"
  },
  "language_info": {
   "codemirror_mode": {
    "name": "ipython",
    "version": 3
   },
   "file_extension": ".py",
   "mimetype": "text/x-python",
   "name": "python",
   "nbconvert_exporter": "python",
   "pygments_lexer": "ipython3",
   "version": "3.13.5"
  }
 },
 "nbformat": 4,
 "nbformat_minor": 5
}
