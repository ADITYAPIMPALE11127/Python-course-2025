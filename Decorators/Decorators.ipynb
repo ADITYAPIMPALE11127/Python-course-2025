{
 "cells": [
  {
   "cell_type": "markdown",
   "id": "bb243587-2671-41f6-855c-5d6bd8c500b2",
   "metadata": {},
   "source": [
    "# Decorators\n",
    "* Decorator provides a simple syntax for calling higher order functions.\n",
    "* By definition, a decorator is a function that takes other functions and extends their behaviour without modifing them.\n",
    "* Decorator can be extremely useful as they allow the extension of an existing functions,without any modification to the original functionsource code.\n",
    "* In Fact, there are two types of decorators in python : 1) Class decorator 2) Function decorator\n",
    "* In application, decorator are mainly used in creating a middle layer in the backend, which perform tasks like token authentication, image compression, validation and manymore."
   ]
  },
  {
   "cell_type": "code",
   "execution_count": 1,
   "id": "cdb703e4-23b1-40eb-945d-43f16d61b77f",
   "metadata": {},
   "outputs": [
    {
     "data": {
      "text/plain": [
       "7"
      ]
     },
     "execution_count": 1,
     "metadata": {},
     "output_type": "execute_result"
    }
   ],
   "source": [
    "def sum1(a,b):\n",
    "    Sum = a + b\n",
    "    return Sum\n",
    "sum1(3,4)"
   ]
  },
  {
   "cell_type": "markdown",
   "id": "195dafe3-976b-4fd4-96b9-dc121533051e",
   "metadata": {},
   "source": [
    "## Way 1 :  decorators"
   ]
  },
  {
   "cell_type": "code",
   "execution_count": 7,
   "id": "8fe8b943-c8e1-49d1-b719-385b39a25b29",
   "metadata": {},
   "outputs": [],
   "source": [
    "def square1(s):\n",
    "    return s ** 2"
   ]
  },
  {
   "cell_type": "code",
   "execution_count": 11,
   "id": "bfce7898-04a8-4781-a70f-1e54fd51038c",
   "metadata": {},
   "outputs": [
    {
     "data": {
      "text/plain": [
       "23"
      ]
     },
     "execution_count": 11,
     "metadata": {},
     "output_type": "execute_result"
    }
   ],
   "source": [
    "def operator(func,x):\n",
    "    num = func(*x) # multiple arguments\n",
    "    return num\n",
    "\n",
    "operator(sum1,(20,3))"
   ]
  },
  {
   "cell_type": "code",
   "execution_count": 13,
   "id": "9aac6455-583b-41b3-8790-0ff6e70ba04c",
   "metadata": {},
   "outputs": [
    {
     "data": {
      "text/plain": [
       "16"
      ]
     },
     "execution_count": 13,
     "metadata": {},
     "output_type": "execute_result"
    }
   ],
   "source": [
    "def operator(func,x):\n",
    "    num = func(x)\n",
    "    return num\n",
    "operator(square1,4)\n"
   ]
  },
  {
   "cell_type": "markdown",
   "id": "fbb12037-27d9-484e-a8b0-7d6251510f61",
   "metadata": {},
   "source": [
    "## Way 2: function as a decorator for another function"
   ]
  },
  {
   "cell_type": "code",
   "execution_count": 25,
   "id": "cfc19179-5869-4cb5-86de-43bb451b0195",
   "metadata": {},
   "outputs": [
    {
     "data": {
      "text/plain": [
       "'AdiTyA'"
      ]
     },
     "execution_count": 25,
     "metadata": {},
     "output_type": "execute_result"
    }
   ],
   "source": [
    "def decoratorText(val):\n",
    "    def  text1():\n",
    "        function = val()\n",
    "        textLower = function.lower()\n",
    "        return f\"lower text is : {textLower}\"\n",
    "    return text1\n",
    "\n",
    "def text1():\n",
    "    text = 'AdiTyA'\n",
    "    return text\n",
    "text1()"
   ]
  },
  {
   "cell_type": "code",
   "execution_count": 26,
   "id": "f15f1b08-96fd-456e-b58f-d9453b515a04",
   "metadata": {},
   "outputs": [
    {
     "name": "stdout",
     "output_type": "stream",
     "text": [
      "lower text is : aditya\n"
     ]
    }
   ],
   "source": [
    "@decoratorText\n",
    "def text1():\n",
    "    text = 'aditya'\n",
    "    return text\n",
    "print(text1()) "
   ]
  },
  {
   "cell_type": "code",
   "execution_count": 1,
   "id": "2d57ed8a-de9e-42d2-b803-9be5d31a2832",
   "metadata": {},
   "outputs": [],
   "source": [
    "# 1. Write a decorator that prints \"Function started\" before and \"Function ended\" after running a function."
   ]
  },
  {
   "cell_type": "code",
   "execution_count": 8,
   "id": "affde575-b47a-4086-807a-6c744b2b5159",
   "metadata": {},
   "outputs": [],
   "source": [
    "def logfunc(func):\n",
    "    def wrapper(*args,**kwargs):\n",
    "        print(\"Function started\")\n",
    "        result = func(*args,**kwargs)\n",
    "        print(\"Function ended\")\n",
    "        return result\n",
    "    return wrapper"
   ]
  },
  {
   "cell_type": "code",
   "execution_count": 10,
   "id": "68d8c452-cd94-456e-bd97-9bd828f4a596",
   "metadata": {},
   "outputs": [
    {
     "name": "stdout",
     "output_type": "stream",
     "text": [
      "Function started\n"
     ]
    },
    {
     "name": "stdin",
     "output_type": "stream",
     "text": [
      "enter a number:  12\n",
      "enter 2nd number:  3\n"
     ]
    },
    {
     "name": "stdout",
     "output_type": "stream",
     "text": [
      "Function ended\n"
     ]
    },
    {
     "data": {
      "text/plain": [
       "'sum of 2 numbers: 15'"
      ]
     },
     "execution_count": 10,
     "metadata": {},
     "output_type": "execute_result"
    }
   ],
   "source": [
    "@logfunc \n",
    "def Sum1():\n",
    "    n1 = int(input(\"enter a number: \"))\n",
    "    n2 = int(input(\"enter 2nd number: \"))\n",
    "    Sum1 = n1 + n2\n",
    "    return f\"sum of 2 numbers: {Sum1}\"\n",
    "\n",
    "Sum1()"
   ]
  },
  {
   "cell_type": "code",
   "execution_count": 12,
   "id": "4e5b8cf0-072e-48fb-aad4-a0305829b60d",
   "metadata": {},
   "outputs": [],
   "source": [
    "# 2. Create a decorator that logs the name of the function being called."
   ]
  },
  {
   "cell_type": "code",
   "execution_count": 22,
   "id": "945e3c93-7efa-46da-b3d7-7584f8099872",
   "metadata": {},
   "outputs": [],
   "source": [
    "def logName(func):\n",
    "    def wrapper(*args,**kwargs):\n",
    "        print(\"Function started\")\n",
    "        print(f\"Calling function: {func.__name__}\")\n",
    "        print(\"Function ended\")\n",
    "        return func(*args,**kwargs)\n",
    "    return wrapper"
   ]
  },
  {
   "cell_type": "code",
   "execution_count": 23,
   "id": "56ce89ca-be31-4fb8-a88c-95c999b4f2f7",
   "metadata": {},
   "outputs": [
    {
     "name": "stdout",
     "output_type": "stream",
     "text": [
      "Function started\n",
      "Calling function: mult\n",
      "Function ended\n",
      "6\n"
     ]
    }
   ],
   "source": [
    "@logName\n",
    "def mult(a,b):\n",
    "    mult = a * b\n",
    "    return mult\n",
    "result = mult(2,3)\n",
    "print(result)"
   ]
  },
  {
   "cell_type": "code",
   "execution_count": 24,
   "id": "15739a2f-829b-4b93-8fbb-2e132929a48f",
   "metadata": {},
   "outputs": [],
   "source": [
    "# 3. Write a decorator that prints all arguments passed to the function."
   ]
  },
  {
   "cell_type": "code",
   "execution_count": 26,
   "id": "40ef4baf-48f6-4d35-81be-2e739182b86d",
   "metadata": {},
   "outputs": [],
   "source": [
    "def logArgs(func):\n",
    "    def wrapper(*args,**kwargs):\n",
    "        print(f\"calling function : {func.__name__}\")\n",
    "        if args:\n",
    "            print(f\"printing args:{args}\")\n",
    "        return func(*args,**kwargs)\n",
    "    return wrapper\n"
   ]
  },
  {
   "cell_type": "code",
   "execution_count": 31,
   "id": "6ea39a3c-f1d1-4a98-bbdf-8c23629eb147",
   "metadata": {},
   "outputs": [
    {
     "name": "stdout",
     "output_type": "stream",
     "text": [
      "calling function : greet\n",
      "printing args:('aditya', 23)\n",
      "Bonjour aditya, I'm 23 years old\n"
     ]
    }
   ],
   "source": [
    "@logArgs\n",
    "def greet(name,age):\n",
    "    print(f\"Bonjour {name}, I'm {age} years old\")\n",
    "greet('aditya',23)"
   ]
  },
  {
   "cell_type": "code",
   "execution_count": 36,
   "id": "f92478ea-ebad-4e78-a369-0c705d7a7569",
   "metadata": {},
   "outputs": [],
   "source": [
    "# 4. Create a decorator that measures the execution time of a function.\n",
    "import time \n",
    "\n",
    "def executionTime(func):\n",
    "    def wrapper(*args,**kwargs):\n",
    "        start_time = time.time()\n",
    "        print(\"function started\")\n",
    "        result = func(*args,**kwargs)\n",
    "        end_time = time.time()\n",
    "        execution_time = end_time - start_time\n",
    "        return f\"execution time is: {execution_time}\"\n",
    "    return wrapper"
   ]
  },
  {
   "cell_type": "code",
   "execution_count": 40,
   "id": "38a41e15-6048-4c10-83a8-1e5cca0c903b",
   "metadata": {},
   "outputs": [
    {
     "name": "stdout",
     "output_type": "stream",
     "text": [
      "function started\n"
     ]
    },
    {
     "name": "stdin",
     "output_type": "stream",
     "text": [
      "enter number:  2345\n"
     ]
    },
    {
     "name": "stdout",
     "output_type": "stream",
     "text": [
      "It is odd number\n"
     ]
    },
    {
     "data": {
      "text/plain": [
       "'execution time is: 8.715320348739624'"
      ]
     },
     "execution_count": 40,
     "metadata": {},
     "output_type": "execute_result"
    }
   ],
   "source": [
    "@executionTime\n",
    "def evenNum():\n",
    "    n = int(input(\"enter number: \"))\n",
    "    if n % 2 == 0:\n",
    "        print(\"It is even number\")\n",
    "    else:\n",
    "        print(\"It is odd number\")\n",
    "evenNum()"
   ]
  },
  {
   "cell_type": "code",
   "execution_count": null,
   "id": "96dd1ba4-77f4-4da8-9ee8-b8575a7bfa94",
   "metadata": {},
   "outputs": [],
   "source": []
  }
 ],
 "metadata": {
  "kernelspec": {
   "display_name": "Python 3 (ipykernel)",
   "language": "python",
   "name": "python3"
  },
  "language_info": {
   "codemirror_mode": {
    "name": "ipython",
    "version": 3
   },
   "file_extension": ".py",
   "mimetype": "text/x-python",
   "name": "python",
   "nbconvert_exporter": "python",
   "pygments_lexer": "ipython3",
   "version": "3.13.5"
  }
 },
 "nbformat": 4,
 "nbformat_minor": 5
}
