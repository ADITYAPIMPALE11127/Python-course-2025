{
 "cells": [
  {
   "cell_type": "markdown",
   "id": "83fe82db-c983-4607-913b-71805445d985",
   "metadata": {},
   "source": [
    "# API in Python\n",
    "\n",
    "* API stands for Application programming interface.\n",
    "* It allows different software system to communicate with each other.\n",
    "* In Python we often work with the Web API to send request and get data usually in JSON format.\n"
   ]
  },
  {
   "cell_type": "markdown",
   "id": "d5fee8b4-56b9-48c7-8b7c-21854431f2c9",
   "metadata": {},
   "source": [
    "| Method | Purpose | Theoretical Role | Common Use Cases | Typical Status Codes |\n",
    "|--------|---------|------------------|------------------|------------------------|\n",
    "| **GET** | Retrieve data from the server without altering it. | \"Read\" operation in CRUD; idempotent (repeatable without side effects). | Fetching lists of items, searching data, or retrieving details. | 200 OK (success), 404 Not Found (resource missing). |\n",
    "| **POST** | Submit new data to the server to create a resource. | \"Create\" operation; non-idempotent (may create multiples if repeated). | Registering new users, submitting forms, or adding items to a collection. | 201 Created (success with new resource), 400 Bad Request (invalid data). |\n",
    "| **PUT** | Replace an existing resource entirely with new data. | Full \"Update\" operation; idempotent (consistent results on repeats). | Overwriting complete records, like updating a full user profile. | 200 OK (success), 404 Not Found (resource doesn't exist). |\n",
    "| **PATCH** | Modify specific parts of an existing resource. | Partial \"Update\" operation; idempotent if applied carefully. | Changing isolated fields, such as updating only an email or status. | 200 OK (success), 404 Not Found (resource missing). |\n",
    "| **DELETE** | Remove a resource from the server. | \"Delete\" operation; idempotent (deleting twice has the same effect). | Removing accounts, clearing items, or archiving data. | 204 No Content (success, no body returned), 404 Not Found. |\n"
   ]
  },
  {
   "cell_type": "markdown",
   "id": "52a2470a-3c6c-49a6-b8de-ecd876d49cf4",
   "metadata": {},
   "source": [
    "| Term | Layman Definition | What It Does | Common Use |\n",
    "|------|--------------------|--------------|------------|\n",
    "| **API** (Application Programming Interface) | A way for two software systems to talk to each other, like a waiter taking your order to the kitchen and bringing back the food. | Sends requests and receives data between apps or services. | Logging in, fetching weather, payment processing, etc. |\n",
    "| **Request Library** | A tool in Python that helps you easily send messages to websites or APIs—like using a delivery app instead of going yourself. | Handles making GET, POST, PUT, PATCH, DELETE requests. | `requests` in Python to call web APIs and get data. |\n",
    "| **Response Object** | The “reply” you get back after sending a request—like getting your delivery with food plus details. | Holds the server’s answer (data, status code, headers). | Accessing `.status_code`, `.json()`, or `.text` from API responses. |\n"
   ]
  },
  {
   "cell_type": "code",
   "execution_count": 3,
   "id": "9acca06c-f141-4232-baab-c659b64cdcef",
   "metadata": {},
   "outputs": [],
   "source": [
    "# ┌──────────────┐         ┌──────────────┐         ┌──────────────┐\n",
    "# │  Frontend    │         │    Backend   │         │   Database   │\n",
    "# │ (Client App) │  --->   │ (API Layer)  │  --->   │    (DB)      │\n",
    "# └──────────────┘         └──────────────┘         └──────────────┘\n",
    "#         ↑                        ↑\n",
    "#         └──────── Response ◄────┘\n"
   ]
  },
  {
   "cell_type": "code",
   "execution_count": 5,
   "id": "60f09214-55db-4083-98ff-a1499a482a77",
   "metadata": {},
   "outputs": [],
   "source": [
    "# ┌──────────────┐      API Call      ┌──────────────┐\n",
    "# │  App A       │  ───────────────▶  │    App B     │\n",
    "# │ (Client)     │ ◀───────────────  │ (Server/API) │\n",
    "# └──────────────┘   Response        └──────────────┘"
   ]
  },
  {
   "cell_type": "code",
   "execution_count": 2,
   "id": "8c4d850e-4288-49f4-98c0-ddeb7090d647",
   "metadata": {},
   "outputs": [],
   "source": [
    "import requests"
   ]
  },
  {
   "cell_type": "code",
   "execution_count": 3,
   "id": "0ed1494d-5271-49ce-978c-db05663efc90",
   "metadata": {},
   "outputs": [
    {
     "name": "stdout",
     "output_type": "stream",
     "text": [
      "Help on package requests:\n",
      "\n",
      "NAME\n",
      "    requests\n",
      "\n",
      "DESCRIPTION\n",
      "    Requests HTTP Library\n",
      "    ~~~~~~~~~~~~~~~~~~~~~\n",
      "\n",
      "    Requests is an HTTP library, written in Python, for human beings.\n",
      "    Basic GET usage:\n",
      "\n",
      "       >>> import requests\n",
      "       >>> r = requests.get('https://www.python.org')\n",
      "       >>> r.status_code\n",
      "       200\n",
      "       >>> b'Python is a programming language' in r.content\n",
      "       True\n",
      "\n",
      "    ... or POST:\n",
      "\n",
      "       >>> payload = dict(key1='value1', key2='value2')\n",
      "       >>> r = requests.post('https://httpbin.org/post', data=payload)\n",
      "       >>> print(r.text)\n",
      "       {\n",
      "         ...\n",
      "         \"form\": {\n",
      "           \"key1\": \"value1\",\n",
      "           \"key2\": \"value2\"\n",
      "         },\n",
      "         ...\n",
      "       }\n",
      "\n",
      "    The other HTTP methods are supported - see `requests.api`. Full documentation\n",
      "    is at <https://requests.readthedocs.io>.\n",
      "\n",
      "    :copyright: (c) 2017 by Kenneth Reitz.\n",
      "    :license: Apache 2.0, see LICENSE for more details.\n",
      "\n",
      "PACKAGE CONTENTS\n",
      "    __version__\n",
      "    _internal_utils\n",
      "    adapters\n",
      "    api\n",
      "    auth\n",
      "    certs\n",
      "    compat\n",
      "    cookies\n",
      "    exceptions\n",
      "    help\n",
      "    hooks\n",
      "    models\n",
      "    packages\n",
      "    sessions\n",
      "    status_codes\n",
      "    structures\n",
      "    utils\n",
      "\n",
      "FUNCTIONS\n",
      "    check_compatibility(\n",
      "        urllib3_version,\n",
      "        chardet_version,\n",
      "        charset_normalizer_version\n",
      "    )\n",
      "\n",
      "DATA\n",
      "    __author_email__ = 'me@kennethreitz.org'\n",
      "    __build__ = 143876\n",
      "    __cake__ = '✨ 🍰 ✨'\n",
      "    __copyright__ = 'Copyright Kenneth Reitz'\n",
      "    __description__ = 'Python HTTP for Humans.'\n",
      "    __license__ = 'Apache-2.0'\n",
      "    __title__ = 'requests'\n",
      "    __url__ = 'https://requests.readthedocs.io'\n",
      "    chardet_version = None\n",
      "    charset_normalizer_version = '3.4.2'\n",
      "    codes = <lookup 'status_codes'>\n",
      "\n",
      "VERSION\n",
      "    2.32.4\n",
      "\n",
      "AUTHOR\n",
      "    Kenneth Reitz\n",
      "\n",
      "FILE\n",
      "    c:\\users\\shree\\appdata\\local\\programs\\python\\python313\\lib\\site-packages\\requests\\__init__.py\n",
      "\n",
      "\n"
     ]
    }
   ],
   "source": [
    "help(requests)"
   ]
  },
  {
   "cell_type": "code",
   "execution_count": 19,
   "id": "cddbaa96-759a-403f-bc91-810a6918c9a6",
   "metadata": {},
   "outputs": [
    {
     "name": "stdin",
     "output_type": "stream",
     "text": [
      "Enter your city name:  Pune\n",
      "Enter country code (e.g., IN):  IN\n"
     ]
    },
    {
     "name": "stdout",
     "output_type": "stream",
     "text": [
      "\n",
      "Fetching weather for Pune,IN...\n",
      "\n",
      "Location: Pune, IN\n",
      "Weather: Clouds (broken clouds)\n",
      "Temperature: 27.16°C (feels like 28.95°C)\n",
      "Min Temp: 27.16°C | Max Temp: 27.16°C\n",
      "Humidity: 68%\n",
      "Pressure: 1010 hPa\n",
      "Visibility: 100.0  km\n",
      "Wind: 4.24 m/s at 281°\n",
      "Cloud Cover: 82%\n",
      "Sunrise: 06:26:10\n",
      "Sunset: 18:18:27\n"
     ]
    }
   ],
   "source": [
    "import requests\n",
    "from datetime import datetime, timezone, timedelta\n",
    "def getWeather():\n",
    "    api_key = \"e106b5cc7bd4bb56ee0d17771aea3ee6\"\n",
    "    cityName = input(\"Enter your city name: \")\n",
    "    countryCode = input(\"Enter country code (e.g., IN): \")\n",
    "    combinedLocation = f\"{cityName},{countryCode}\"\n",
    "    url = f\"https://api.openweathermap.org/data/2.5/weather?q={combinedLocation}&appid={api_key}\"\n",
    "    print(f\"\\nFetching weather for {combinedLocation}...\\n\")\n",
    "    response = requests.get(url)\n",
    "    if response.status_code == 200:\n",
    "        data = response.json()\n",
    "        timezone_offset = data.get('timezone', 0)\n",
    "        local_tz = timezone(timedelta(seconds=timezone_offset))\n",
    "        name = data.get('name', 'N/A')\n",
    "        country = data['sys'].get('country', 'N/A')\n",
    "        weather_main = data['weather'][0].get('main', 'N/A')\n",
    "        description = data['weather'][0].get('description', 'N/A')\n",
    "        temp = data['main'].get('temp', 0)\n",
    "        feels_like = data['main'].get('feels_like', 0)\n",
    "        pressure = data['main'].get('pressure', 'N/A')\n",
    "        humidity = data['main'].get('humidity', 'N/A')\n",
    "        temp_min = data['main'].get('temp_min', 0)\n",
    "        temp_max = data['main'].get('temp_max', 0)\n",
    "        visibility = data.get('visibility', 'N/A')\n",
    "        wind_speed = data['wind'].get('speed', 'N/A')\n",
    "        wind_deg = data['wind'].get('deg', 'N/A')\n",
    "        clouds = data['clouds'].get('all', 'N/A')\n",
    "        sunrise = datetime.fromtimestamp(data['sys'].get('sunrise', 0), tz=local_tz).strftime('%H:%M:%S')\n",
    "        sunset = datetime.fromtimestamp(data['sys'].get('sunset', 0), tz=local_tz).strftime('%H:%M:%S')\n",
    "        temp_c = round(temp - 273.15, 2)\n",
    "        feels_c = round(feels_like - 273.15, 2)\n",
    "        temp_min_c = round(temp_min - 273.15, 2)\n",
    "        temp_max_c = round(temp_max - 273.15, 2)\n",
    "        print(f\"Location: {name}, {country}\")\n",
    "        print(f\"Weather: {weather_main} ({description})\")\n",
    "        print(f\"Temperature: {temp_c}°C (feels like {feels_c}°C)\")\n",
    "        print(f\"Min Temp: {temp_min_c}°C | Max Temp: {temp_max_c}°C\")\n",
    "        print(f\"Humidity: {humidity}%\")\n",
    "        print(f\"Pressure: {pressure} hPa\")\n",
    "        print(f\"Visibility: {visibility / 100}  km\")\n",
    "        print(f\"Wind: {wind_speed} m/s at {wind_deg}°\")\n",
    "        print(f\"Cloud Cover: {clouds}%\")\n",
    "        print(f\"Sunrise: {sunrise}\")\n",
    "        print(f\"Sunset: {sunset}\")\n",
    "    else:\n",
    "        print(f\"Failed to fetch weather data! Status Code: {response.status_code}\")\n",
    "getWeather()"
   ]
  },
  {
   "cell_type": "code",
   "execution_count": 10,
   "id": "967ca7c0-a515-458e-9315-f0af948a8d31",
   "metadata": {},
   "outputs": [],
   "source": [
    "# https://api.openweathermap.org/data/2.5/weather?q=Pune,IN&appid=e106b5cc7bd4bb56ee0d17771aea3ee6 this is an response "
   ]
  },
  {
   "cell_type": "code",
   "execution_count": 33,
   "id": "c7e83b8a-a296-4588-91e4-69094a144ccd",
   "metadata": {},
   "outputs": [
    {
     "name": "stdout",
     "output_type": "stream",
     "text": [
      "2025-10-06 17:23:25.428935\n"
     ]
    }
   ],
   "source": [
    "import datetime\n",
    "print(datetime.datetime.now())"
   ]
  },
  {
   "cell_type": "code",
   "execution_count": null,
   "id": "c6b36ed0-b57b-4e3e-8769-446a8397d6a0",
   "metadata": {},
   "outputs": [],
   "source": []
  },
  {
   "cell_type": "code",
   "execution_count": null,
   "id": "a1f2dbe3-fab4-4795-a845-f48d7b8635a4",
   "metadata": {},
   "outputs": [],
   "source": []
  }
 ],
 "metadata": {
  "kernelspec": {
   "display_name": "Python 3 (ipykernel)",
   "language": "python",
   "name": "python3"
  },
  "language_info": {
   "codemirror_mode": {
    "name": "ipython",
    "version": 3
   },
   "file_extension": ".py",
   "mimetype": "text/x-python",
   "name": "python",
   "nbconvert_exporter": "python",
   "pygments_lexer": "ipython3",
   "version": "3.13.5"
  }
 },
 "nbformat": 4,
 "nbformat_minor": 5
}
