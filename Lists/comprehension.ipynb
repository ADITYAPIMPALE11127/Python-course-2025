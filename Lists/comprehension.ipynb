{
 "cells": [
  {
   "cell_type": "markdown",
   "id": "dbdf4925",
   "metadata": {},
   "source": [
    "### List Comprehension"
   ]
  },
  {
   "cell_type": "markdown",
   "id": "b6aba93d",
   "metadata": {},
   "source": [
    "##### Create a list of squares of numbers from 1 to 10."
   ]
  },
  {
   "cell_type": "code",
   "execution_count": null,
   "id": "f1eb2469",
   "metadata": {},
   "outputs": [
    {
     "data": {
      "text/plain": [
       "[1, 4, 9, 16, 25, 36, 49, 64, 81, 100]"
      ]
     },
     "execution_count": 2,
     "metadata": {},
     "output_type": "execute_result"
    }
   ],
   "source": [
    "squares_list = [i*i for i in range(1,10)]\n",
    "squares_list"
   ]
  },
  {
   "cell_type": "markdown",
   "id": "e276aef8",
   "metadata": {},
   "source": [
    "##### Create a list of even numbers from 1 to 20."
   ]
  },
  {
   "cell_type": "code",
   "execution_count": 5,
   "id": "b608cfcb",
   "metadata": {},
   "outputs": [
    {
     "data": {
      "text/plain": [
       "[2, 4, 6, 8, 10, 12, 14, 16, 18, 20]"
      ]
     },
     "execution_count": 5,
     "metadata": {},
     "output_type": "execute_result"
    }
   ],
   "source": [
    "even_list = [i  for i in range(1,21) if i % 2 == 0]\n",
    "even_list"
   ]
  },
  {
   "cell_type": "markdown",
   "id": "1fb374b9",
   "metadata": {},
   "source": [
    "##### Create a list of characters from the word \"Python\"."
   ]
  },
  {
   "cell_type": "code",
   "execution_count": 7,
   "id": "a9a0675e",
   "metadata": {},
   "outputs": [
    {
     "data": {
      "text/plain": [
       "['P', 'y', 't', 'h', 'o', 'n']"
      ]
     },
     "execution_count": 7,
     "metadata": {},
     "output_type": "execute_result"
    }
   ],
   "source": [
    "lst = [i for i in \"Python\"]\n",
    "lst"
   ]
  },
  {
   "cell_type": "markdown",
   "id": "0ae90aaa",
   "metadata": {},
   "source": [
    "##### Create a list of numbers from 1 to 20 that are divisible by 3."
   ]
  },
  {
   "cell_type": "code",
   "execution_count": 9,
   "id": "fcd4be5f",
   "metadata": {},
   "outputs": [
    {
     "data": {
      "text/plain": [
       "[3, 6, 9, 12, 15, 18]"
      ]
     },
     "execution_count": 9,
     "metadata": {},
     "output_type": "execute_result"
    }
   ],
   "source": [
    "mult_of_3 = [i for i in range(1,21) if i % 3 == 0]\n",
    "mult_of_3"
   ]
  },
  {
   "cell_type": "code",
   "execution_count": null,
   "id": "d532f342",
   "metadata": {},
   "outputs": [],
   "source": []
  }
 ],
 "metadata": {
  "kernelspec": {
   "display_name": "Python 3",
   "language": "python",
   "name": "python3"
  },
  "language_info": {
   "codemirror_mode": {
    "name": "ipython",
    "version": 3
   },
   "file_extension": ".py",
   "mimetype": "text/x-python",
   "name": "python",
   "nbconvert_exporter": "python",
   "pygments_lexer": "ipython3",
   "version": "3.13.3"
  }
 },
 "nbformat": 4,
 "nbformat_minor": 5
}
