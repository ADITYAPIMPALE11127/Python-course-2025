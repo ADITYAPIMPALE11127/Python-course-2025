{
 "cells": [
  {
   "cell_type": "markdown",
   "id": "28349446",
   "metadata": {},
   "source": [
    "create a list of sqaures of numbers from 0 to 5 "
   ]
  },
  {
   "cell_type": "code",
   "execution_count": 2,
   "id": "b236490c",
   "metadata": {},
   "outputs": [
    {
     "data": {
      "text/plain": [
       "[1, 4, 9, 16, 25]"
      ]
     },
     "execution_count": 2,
     "metadata": {},
     "output_type": "execute_result"
    }
   ],
   "source": [
    "sqaure_lst = [i ** 2 for i in range(1,6)]\n",
    "\n",
    "sqaure_lst"
   ]
  },
  {
   "cell_type": "markdown",
   "id": "43259cb6",
   "metadata": {},
   "source": [
    "#### Remove vowels from a string"
   ]
  },
  {
   "cell_type": "code",
   "execution_count": 6,
   "id": "6f091337",
   "metadata": {},
   "outputs": [
    {
     "data": {
      "text/plain": [
       "['h', 'l', 'l']"
      ]
     },
     "execution_count": 6,
     "metadata": {},
     "output_type": "execute_result"
    }
   ],
   "source": [
    "consonant_string = [i for i in \"hello\" if i not in \"aeiuo\" ]\n",
    "consonant_string"
   ]
  },
  {
   "cell_type": "code",
   "execution_count": 8,
   "id": "cc20d1b0",
   "metadata": {},
   "outputs": [
    {
     "data": {
      "text/plain": [
       "['a', 'i', 'a']"
      ]
     },
     "execution_count": 8,
     "metadata": {},
     "output_type": "execute_result"
    }
   ],
   "source": [
    "vowel_string = [ i for i in \"aditya\" if i in \"aeiou\"]\n",
    "vowel_string"
   ]
  },
  {
   "cell_type": "markdown",
   "id": "559c2688",
   "metadata": {},
   "source": [
    "#### Create a list of numbers from 0 to 9 using list comprehension."
   ]
  },
  {
   "cell_type": "code",
   "execution_count": 11,
   "id": "d69571ea",
   "metadata": {},
   "outputs": [
    {
     "data": {
      "text/plain": [
       "[0, 1, 2, 3, 4, 5, 6, 7, 8, 9]"
      ]
     },
     "execution_count": 11,
     "metadata": {},
     "output_type": "execute_result"
    }
   ],
   "source": [
    "lst_nums = [i for i in range(0,10)]\n",
    "lst_nums"
   ]
  },
  {
   "cell_type": "markdown",
   "id": "e5ed87ad",
   "metadata": {},
   "source": [
    "#### Convert all vowels in \"education\" to uppercase using list comprehension."
   ]
  },
  {
   "cell_type": "code",
   "execution_count": null,
   "id": "b76e6ead",
   "metadata": {},
   "outputs": [
    {
     "data": {
      "text/plain": [
       "['e', 'u', 'a', 'i', 'o']"
      ]
     },
     "execution_count": 14,
     "metadata": {},
     "output_type": "execute_result"
    }
   ],
   "source": [
    "lst = [i.upper() for i in \"education\" if i in \"aeuio\"]\n",
    "lst"
   ]
  },
  {
   "cell_type": "markdown",
   "id": "3995101d",
   "metadata": {},
   "source": [
    "#### From the string \"MISSISSIPPI\", make a list of characters that occur more than once."
   ]
  },
  {
   "cell_type": "code",
   "execution_count": 19,
   "id": "16818bb6",
   "metadata": {},
   "outputs": [
    {
     "data": {
      "text/plain": [
       "['I', 'S', 'S', 'I', 'S', 'S', 'I', 'P', 'P', 'I']"
      ]
     },
     "execution_count": 19,
     "metadata": {},
     "output_type": "execute_result"
    }
   ],
   "source": [
    "[i for i in \"MISSISSIPPI\" if \"MISSISSIPPI\".count(i) > 1]\n"
   ]
  },
  {
   "cell_type": "code",
   "execution_count": null,
   "id": "c5e7a1a4",
   "metadata": {},
   "outputs": [],
   "source": []
  }
 ],
 "metadata": {
  "kernelspec": {
   "display_name": "Python 3",
   "language": "python",
   "name": "python3"
  },
  "language_info": {
   "codemirror_mode": {
    "name": "ipython",
    "version": 3
   },
   "file_extension": ".py",
   "mimetype": "text/x-python",
   "name": "python",
   "nbconvert_exporter": "python",
   "pygments_lexer": "ipython3",
   "version": "3.9.12"
  }
 },
 "nbformat": 4,
 "nbformat_minor": 5
}
