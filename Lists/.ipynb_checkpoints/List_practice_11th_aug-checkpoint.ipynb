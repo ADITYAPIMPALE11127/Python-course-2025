{
 "cells": [
  {
   "cell_type": "markdown",
   "id": "84b364f1-556b-46a5-b26b-ef26176932ff",
   "metadata": {},
   "source": [
    "# Lists in Python\n",
    "* Lists are ordered.\n",
    "* Lists can contain any objects\n",
    "* List elements can be accessed by index value.\n",
    "* List is a mutable data type in python "
   ]
  },
  {
   "cell_type": "code",
   "execution_count": 10,
   "id": "dfe59ded-e563-4ee5-8131-21afe0668bfd",
   "metadata": {},
   "outputs": [
    {
     "name": "stdout",
     "output_type": "stream",
     "text": [
      "<class 'list'> ['python', 3.147, 50, True, False]\n"
     ]
    }
   ],
   "source": [
    "list1 = ['python',3.147,50,True,False]\n",
    "print(type(list1),list1)"
   ]
  },
  {
   "cell_type": "markdown",
   "id": "243368a6-58b1-4d3d-a761-61e1669674a5",
   "metadata": {},
   "source": [
    "# Slicing of list"
   ]
  },
  {
   "cell_type": "code",
   "execution_count": 12,
   "id": "1cb87050-5ea5-4195-a8a1-7b05a75d8514",
   "metadata": {},
   "outputs": [
    {
     "name": "stdout",
     "output_type": "stream",
     "text": [
      "[3.147, 50]\n"
     ]
    }
   ],
   "source": [
    "print(list1[1:3])"
   ]
  },
  {
   "cell_type": "markdown",
   "id": "cd52ede9-dd35-42db-b5c4-eccd4f153dad",
   "metadata": {},
   "source": [
    "# striding value"
   ]
  },
  {
   "cell_type": "code",
   "execution_count": 13,
   "id": "bece2727-0068-4973-93ad-e029e3787be4",
   "metadata": {},
   "outputs": [
    {
     "name": "stdout",
     "output_type": "stream",
     "text": [
      "['python', 50, False]\n"
     ]
    }
   ],
   "source": [
    "print(list1[::2])"
   ]
  },
  {
   "cell_type": "code",
   "execution_count": 14,
   "id": "5fc8dd19-e861-4daf-8082-f5667f4db6bc",
   "metadata": {},
   "outputs": [],
   "source": [
    "x1 = ['Py',[[[10,20],'Python']],[[0],[['Ashwini']],['Aditya']],[[[[[5],['Shankarshan']]],'Asma sayyed'],['Hawaldar']]]\n",
    "        "
   ]
  },
  {
   "cell_type": "code",
   "execution_count": 23,
   "id": "694387fd-df35-4fd9-8a48-7c0424aaa8b1",
   "metadata": {},
   "outputs": [
    {
     "data": {
      "text/plain": [
       "'Aditya'"
      ]
     },
     "execution_count": 23,
     "metadata": {},
     "output_type": "execute_result"
    }
   ],
   "source": [
    "x1[2][2][0] # list unpacking"
   ]
  },
  {
   "cell_type": "code",
   "execution_count": 35,
   "id": "61c6071b-9090-4a9f-9811-df658dde0374",
   "metadata": {},
   "outputs": [
    {
     "data": {
      "text/plain": [
       "'Shankar'"
      ]
     },
     "execution_count": 35,
     "metadata": {},
     "output_type": "execute_result"
    }
   ],
   "source": [
    "x1[3][0][0][0][1][0][0:7] # gives Shankar"
   ]
  },
  {
   "cell_type": "code",
   "execution_count": null,
   "id": "78d3eefb-467d-4d89-a436-540d82c6d47e",
   "metadata": {},
   "outputs": [],
   "source": []
  },
  {
   "cell_type": "code",
   "execution_count": 38,
   "id": "8e196280-f5a9-488c-a64f-cdd8a6332350",
   "metadata": {},
   "outputs": [
    {
     "data": {
      "text/plain": [
       "'Hawaldar'"
      ]
     },
     "execution_count": 38,
     "metadata": {},
     "output_type": "execute_result"
    }
   ],
   "source": [
    "x1[3][1][0]"
   ]
  },
  {
   "cell_type": "markdown",
   "id": "3666fa29-c449-48e9-a1b9-c2dea53d9990",
   "metadata": {},
   "source": [
    "#### mutable"
   ]
  },
  {
   "cell_type": "code",
   "execution_count": 40,
   "id": "767b61da-d69a-406f-a1bd-5321b185849e",
   "metadata": {},
   "outputs": [
    {
     "name": "stdout",
     "output_type": "stream",
     "text": [
      "<class 'list'> ['python', 3.147, 50, True, False]\n"
     ]
    }
   ],
   "source": [
    "list1 = ['python',3.147,50,True,False]\n",
    "print(type(list1),list1)"
   ]
  },
  {
   "cell_type": "code",
   "execution_count": 41,
   "id": "4ecd5681-86b5-49f8-8e07-217dffe007e4",
   "metadata": {},
   "outputs": [],
   "source": [
    "list1[0] = 'Hello World'"
   ]
  },
  {
   "cell_type": "code",
   "execution_count": 42,
   "id": "62d89c4d-8e52-49c0-9df7-1f961bc2ade0",
   "metadata": {},
   "outputs": [
    {
     "data": {
      "text/plain": [
       "['Hello World', 3.147, 50, True, False]"
      ]
     },
     "execution_count": 42,
     "metadata": {},
     "output_type": "execute_result"
    }
   ],
   "source": [
    "list1"
   ]
  },
  {
   "cell_type": "code",
   "execution_count": 43,
   "id": "e492acc8-f537-47e7-a356-d5c1c6839bdf",
   "metadata": {},
   "outputs": [],
   "source": [
    "list1.append([12,34,\"Aditya\"])"
   ]
  },
  {
   "cell_type": "code",
   "execution_count": 44,
   "id": "2e187bc2-dd03-4ab8-affa-f68cc5a26cbf",
   "metadata": {},
   "outputs": [
    {
     "name": "stdout",
     "output_type": "stream",
     "text": [
      "['Hello World', 3.147, 50, True, False, [12, 34, 'Aditya']]\n"
     ]
    }
   ],
   "source": [
    "print(list1)"
   ]
  },
  {
   "cell_type": "code",
   "execution_count": 46,
   "id": "6d66d57d-92f0-4238-9a66-f55b83911c1b",
   "metadata": {},
   "outputs": [],
   "source": [
    "list1.extend(['jose',0,13])"
   ]
  },
  {
   "cell_type": "code",
   "execution_count": 47,
   "id": "783f867f-100c-42c4-be0c-f9821e401ee8",
   "metadata": {},
   "outputs": [
    {
     "data": {
      "text/plain": [
       "['Hello World',\n",
       " 3.147,\n",
       " 50,\n",
       " True,\n",
       " False,\n",
       " [12, 34, 'Aditya'],\n",
       " 'jose',\n",
       " 0,\n",
       " 13,\n",
       " 'jose',\n",
       " 0,\n",
       " 13]"
      ]
     },
     "execution_count": 47,
     "metadata": {},
     "output_type": "execute_result"
    }
   ],
   "source": [
    "list1"
   ]
  },
  {
   "cell_type": "code",
   "execution_count": 1,
   "id": "c9de5f70-7fef-4188-9b4f-ea6ec520bc9c",
   "metadata": {},
   "outputs": [
    {
     "name": "stdout",
     "output_type": "stream",
     "text": [
      "2559581990912\n"
     ]
    }
   ],
   "source": [
    "a = [1, 2, 3]\n",
    "print(id(a))"
   ]
  },
  {
   "cell_type": "markdown",
   "id": "c081d506-b8f6-42bf-bbc0-532247573952",
   "metadata": {},
   "source": [
    "#### Deep copy"
   ]
  },
  {
   "cell_type": "code",
   "execution_count": 4,
   "id": "8f2429f4-fb06-4f26-8b66-797717aa1971",
   "metadata": {},
   "outputs": [
    {
     "name": "stdout",
     "output_type": "stream",
     "text": [
      "2559581892352\n"
     ]
    }
   ],
   "source": [
    "b = a\n",
    "print(id(b))"
   ]
  },
  {
   "cell_type": "code",
   "execution_count": 3,
   "id": "9b3a812e-9cfa-4ca4-b84b-e331744d461a",
   "metadata": {},
   "outputs": [
    {
     "name": "stdout",
     "output_type": "stream",
     "text": [
      "2559582065856\n"
     ]
    }
   ],
   "source": [
    "c = [1, 2, 3]\n",
    "print(id(c))"
   ]
  },
  {
   "cell_type": "markdown",
   "id": "8219490e-3955-433f-951d-fcc3fbe0a1cd",
   "metadata": {},
   "source": [
    "#### shallow copy"
   ]
  },
  {
   "cell_type": "code",
   "execution_count": 7,
   "id": "00f8d86a-c85d-46e2-8927-9184aedcd8fd",
   "metadata": {},
   "outputs": [
    {
     "name": "stdout",
     "output_type": "stream",
     "text": [
      "2559581893376 [1, 2, 3]\n",
      "2559581990912\n"
     ]
    }
   ],
   "source": [
    "b = a.copy()\n",
    "print(id(b),b)\n",
    "print(id(a))"
   ]
  },
  {
   "cell_type": "code",
   "execution_count": null,
   "id": "39db9cb7-1426-46af-a5a2-97e96200fe26",
   "metadata": {},
   "outputs": [],
   "source": []
  }
 ],
 "metadata": {
  "kernelspec": {
   "display_name": "Python 3 (ipykernel)",
   "language": "python",
   "name": "python3"
  },
  "language_info": {
   "codemirror_mode": {
    "name": "ipython",
    "version": 3
   },
   "file_extension": ".py",
   "mimetype": "text/x-python",
   "name": "python",
   "nbconvert_exporter": "python",
   "pygments_lexer": "ipython3",
   "version": "3.13.5"
  }
 },
 "nbformat": 4,
 "nbformat_minor": 5
}
