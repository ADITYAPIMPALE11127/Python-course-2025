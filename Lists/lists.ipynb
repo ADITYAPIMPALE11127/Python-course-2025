{
 "cells": [
  {
   "cell_type": "markdown",
   "id": "fe3b083f",
   "metadata": {},
   "source": [
    "### List is muttable that means it can be updated or changed"
   ]
  },
  {
   "cell_type": "code",
   "execution_count": 2,
   "id": "769b2ae0",
   "metadata": {},
   "outputs": [
    {
     "data": {
      "text/plain": [
       "[46, 78, 43, 21, 68, 89]"
      ]
     },
     "execution_count": 2,
     "metadata": {},
     "output_type": "execute_result"
    }
   ],
   "source": [
    "marks = [46,78,43,21,68,89]\n",
    "mixed_list= [1,True,\"Aditya\",4.55]\n",
    "marks"
   ]
  },
  {
   "cell_type": "code",
   "execution_count": 3,
   "id": "f95128eb",
   "metadata": {},
   "outputs": [
    {
     "data": {
      "text/plain": [
       "21"
      ]
     },
     "execution_count": 3,
     "metadata": {},
     "output_type": "execute_result"
    }
   ],
   "source": [
    "marks[3] # accessing element by index"
   ]
  },
  {
   "cell_type": "code",
   "execution_count": 4,
   "id": "7cc7057b",
   "metadata": {},
   "outputs": [
    {
     "data": {
      "text/plain": [
       "True"
      ]
     },
     "execution_count": 4,
     "metadata": {},
     "output_type": "execute_result"
    }
   ],
   "source": [
    "mixed_list[1]"
   ]
  },
  {
   "cell_type": "markdown",
   "id": "be68e716",
   "metadata": {},
   "source": [
    "#### slicing by index"
   ]
  },
  {
   "cell_type": "code",
   "execution_count": 18,
   "id": "0f5bf1c8",
   "metadata": {},
   "outputs": [
    {
     "data": {
      "text/plain": [
       "[89, 78, 68, 46, 43]"
      ]
     },
     "execution_count": 18,
     "metadata": {},
     "output_type": "execute_result"
    }
   ],
   "source": [
    "marks[0:5] # got elements from 0th to 2nd last as last index is 5th "
   ]
  },
  {
   "cell_type": "markdown",
   "id": "bf438fc9",
   "metadata": {},
   "source": [
    "### appending a element "
   ]
  },
  {
   "cell_type": "code",
   "execution_count": 6,
   "id": "6017ae8b",
   "metadata": {},
   "outputs": [],
   "source": [
    "marks.append(100)"
   ]
  },
  {
   "cell_type": "code",
   "execution_count": 7,
   "id": "5004374e",
   "metadata": {},
   "outputs": [
    {
     "data": {
      "text/plain": [
       "[46, 78, 43, 21, 68, 89, 100]"
      ]
     },
     "execution_count": 7,
     "metadata": {},
     "output_type": "execute_result"
    }
   ],
   "source": [
    "marks"
   ]
  },
  {
   "cell_type": "markdown",
   "id": "2f4505ce",
   "metadata": {},
   "source": [
    "## pop = deletes last element in the list"
   ]
  },
  {
   "cell_type": "code",
   "execution_count": 8,
   "id": "7114a944",
   "metadata": {},
   "outputs": [
    {
     "data": {
      "text/plain": [
       "[46, 78, 43, 21, 68, 89]"
      ]
     },
     "execution_count": 8,
     "metadata": {},
     "output_type": "execute_result"
    }
   ],
   "source": [
    "marks.pop()\n",
    "marks"
   ]
  },
  {
   "cell_type": "markdown",
   "id": "3f6dba87",
   "metadata": {},
   "source": [
    "## Insert adds an element in the list at specified index"
   ]
  },
  {
   "cell_type": "markdown",
   "id": "bc4e38ec",
   "metadata": {},
   "source": []
  },
  {
   "cell_type": "code",
   "execution_count": 9,
   "id": "e2e05ce4",
   "metadata": {},
   "outputs": [
    {
     "data": {
      "text/plain": [
       "[46, 78, 43, 40, 21, 68, 89]"
      ]
     },
     "execution_count": 9,
     "metadata": {},
     "output_type": "execute_result"
    }
   ],
   "source": [
    "marks.insert(3,40)\n",
    "marks\n"
   ]
  },
  {
   "cell_type": "markdown",
   "id": "cc221162",
   "metadata": {},
   "source": [
    "#### Extend method adds elements from another list which is opted for extending"
   ]
  },
  {
   "cell_type": "code",
   "execution_count": 10,
   "id": "5ebd8938",
   "metadata": {},
   "outputs": [],
   "source": [
    "# marks.extend(mixed_list) # adds elements from the other list to the end of the main list\n",
    "# # marks"
   ]
  },
  {
   "cell_type": "markdown",
   "id": "d45c7e0b",
   "metadata": {},
   "source": [
    "### sort() will sort the element of the list"
   ]
  },
  {
   "cell_type": "code",
   "execution_count": 11,
   "id": "d974c3d7",
   "metadata": {},
   "outputs": [
    {
     "data": {
      "text/plain": [
       "[21, 40, 43, 46, 68, 78, 89]"
      ]
     },
     "execution_count": 11,
     "metadata": {},
     "output_type": "execute_result"
    }
   ],
   "source": [
    "marks.sort()\n",
    "marks"
   ]
  },
  {
   "cell_type": "markdown",
   "id": "d7172eb2",
   "metadata": {},
   "source": [
    "### reverse() will reverse the elements of the list "
   ]
  },
  {
   "cell_type": "code",
   "execution_count": 12,
   "id": "26f31181",
   "metadata": {},
   "outputs": [
    {
     "data": {
      "text/plain": [
       "[89, 78, 68, 46, 43, 40, 21]"
      ]
     },
     "execution_count": 12,
     "metadata": {},
     "output_type": "execute_result"
    }
   ],
   "source": [
    "marks.reverse()\n",
    "marks"
   ]
  },
  {
   "cell_type": "markdown",
   "id": "c31d740b",
   "metadata": {},
   "source": [
    "##### remove method deletes the first instance of the element to be removed"
   ]
  },
  {
   "cell_type": "code",
   "execution_count": 13,
   "id": "545967f0",
   "metadata": {},
   "outputs": [
    {
     "data": {
      "text/plain": [
       "[89, 78, 68, 46, 43, 40, 21, 90, 90]"
      ]
     },
     "execution_count": 13,
     "metadata": {},
     "output_type": "execute_result"
    }
   ],
   "source": [
    "marks.append(90)\n",
    "marks.append(90)\n",
    "marks"
   ]
  },
  {
   "cell_type": "code",
   "execution_count": 14,
   "id": "4102f54b",
   "metadata": {},
   "outputs": [
    {
     "data": {
      "text/plain": [
       "[89, 78, 68, 46, 43, 40, 21, 90]"
      ]
     },
     "execution_count": 14,
     "metadata": {},
     "output_type": "execute_result"
    }
   ],
   "source": [
    "marks.remove(90)\n",
    "marks"
   ]
  },
  {
   "cell_type": "markdown",
   "id": "5ad5e89b",
   "metadata": {},
   "source": [
    "#### copy() allows us to copy all elements from one list to another"
   ]
  },
  {
   "cell_type": "code",
   "execution_count": 15,
   "id": "cd468d9f",
   "metadata": {},
   "outputs": [
    {
     "data": {
      "text/plain": [
       "[1, True, 'Aditya', 4.55]"
      ]
     },
     "execution_count": 15,
     "metadata": {},
     "output_type": "execute_result"
    }
   ],
   "source": [
    "new_list = mixed_list.copy()\n",
    "new_list"
   ]
  },
  {
   "cell_type": "markdown",
   "id": "32b75381",
   "metadata": {},
   "source": [
    "#### index() method is used to find the first occurrence of a specified value within a list or string and returns the index position of that value."
   ]
  },
  {
   "cell_type": "code",
   "execution_count": 16,
   "id": "26551dec",
   "metadata": {},
   "outputs": [
    {
     "data": {
      "text/plain": [
       "1"
      ]
     },
     "execution_count": 16,
     "metadata": {},
     "output_type": "execute_result"
    }
   ],
   "source": [
    "first_occ = marks.index(78) # retruns the index location for the element \n",
    "first_occ  "
   ]
  },
  {
   "cell_type": "markdown",
   "id": "f12f8457",
   "metadata": {},
   "source": [
    "#### count method return the count of how many times a element is repeated"
   ]
  },
  {
   "cell_type": "code",
   "execution_count": 17,
   "id": "d5af0898",
   "metadata": {},
   "outputs": [
    {
     "data": {
      "text/plain": [
       "2"
      ]
     },
     "execution_count": 17,
     "metadata": {},
     "output_type": "execute_result"
    }
   ],
   "source": [
    "marks.append(90)\n",
    "marks.count(90)"
   ]
  },
  {
   "cell_type": "code",
   "execution_count": 28,
   "id": "beaceb04",
   "metadata": {},
   "outputs": [
    {
     "name": "stdout",
     "output_type": "stream",
     "text": [
      "25\n"
     ]
    }
   ],
   "source": [
    "lst1= [2,33,222,14,25]\n",
    "print(lst1[-1])"
   ]
  },
  {
   "cell_type": "markdown",
   "id": "21159a52-71fa-40ff-904e-e9de66a08b18",
   "metadata": {},
   "source": [
    "#### conversion of a string into a list using split() function"
   ]
  },
  {
   "cell_type": "code",
   "execution_count": 2,
   "id": "a2f77790-ff87-4fea-8f0d-f3bf005eb877",
   "metadata": {},
   "outputs": [
    {
     "data": {
      "text/plain": [
       "['Python', 'is', 'a', 'Programming', 'Language']"
      ]
     },
     "execution_count": 2,
     "metadata": {},
     "output_type": "execute_result"
    }
   ],
   "source": [
    "x = 'Python is a Programming Language'\n",
    "x.split()"
   ]
  },
  {
   "cell_type": "code",
   "execution_count": 3,
   "id": "dd06c429-9dea-4858-92a4-d8be8b2beb66",
   "metadata": {},
   "outputs": [
    {
     "data": {
      "text/plain": [
       "['A', 's', 'm', 'a']"
      ]
     },
     "execution_count": 3,
     "metadata": {},
     "output_type": "execute_result"
    }
   ],
   "source": [
    "text = 'A,s,m,a's\n",
    "text.split(',')"
   ]
  },
  {
   "cell_type": "code",
   "execution_count": null,
   "id": "79fa68bc-7f8f-4c08-9068-22db86c7d19d",
   "metadata": {},
   "outputs": [],
   "source": []
  }
 ],
 "metadata": {
  "kernelspec": {
   "display_name": "Python 3 (ipykernel)",
   "language": "python",
   "name": "python3"
  },
  "language_info": {
   "codemirror_mode": {
    "name": "ipython",
    "version": 3
   },
   "file_extension": ".py",
   "mimetype": "text/x-python",
   "name": "python",
   "nbconvert_exporter": "python",
   "pygments_lexer": "ipython3",
   "version": "3.13.5"
  }
 },
 "nbformat": 4,
 "nbformat_minor": 5
}
