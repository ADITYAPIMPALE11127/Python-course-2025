{
 "cells": [
  {
   "cell_type": "code",
   "execution_count": 2,
   "id": "52fce4e6-d53a-4a20-8ec1-225975005cab",
   "metadata": {},
   "outputs": [
    {
     "data": {
      "text/plain": [
       "'element found at index : 7'"
      ]
     },
     "execution_count": 2,
     "metadata": {},
     "output_type": "execute_result"
    }
   ],
   "source": [
    "def BinarySearch(Nums,target):\n",
    "    left = 0\n",
    "    right = len(Nums) -1\n",
    "    while left  <= right:\n",
    "        mid = (left + right) // 2\n",
    "        if Nums[mid] == target:\n",
    "            return f\"element found at index : {mid}\"\n",
    "        elif Nums[mid] < target:\n",
    "            left = mid + 1\n",
    "        elif Nums[mid] > target:\n",
    "            right = mid - 1\n",
    "    return -1\n",
    "BinarySearch([1,2,3,4,5,6,7,45,75],45)"
   ]
  },
  {
   "cell_type": "code",
   "execution_count": null,
   "id": "521c2c0d-941d-413b-b41e-c37ba8b0d4a3",
   "metadata": {},
   "outputs": [],
   "source": []
  }
 ],
 "metadata": {
  "kernelspec": {
   "display_name": "Python 3 (ipykernel)",
   "language": "python",
   "name": "python3"
  },
  "language_info": {
   "codemirror_mode": {
    "name": "ipython",
    "version": 3
   },
   "file_extension": ".py",
   "mimetype": "text/x-python",
   "name": "python",
   "nbconvert_exporter": "python",
   "pygments_lexer": "ipython3",
   "version": "3.13.5"
  }
 },
 "nbformat": 4,
 "nbformat_minor": 5
}
