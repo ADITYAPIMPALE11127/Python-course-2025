{
 "cells": [
  {
   "cell_type": "markdown",
   "id": "6907d1c8-e3fe-4771-b345-d6055fe37e0d",
   "metadata": {},
   "source": [
    "## ✅ Linear Search – Practice Questions (Python)\n",
    "### Q1.\n",
    "\n",
    "#### Write a Python function to perform a linear search on a list of integers.\n",
    "#### The function should return the index of the target element, or -1 if not found."
   ]
  },
  {
   "cell_type": "code",
   "execution_count": 10,
   "id": "fcd3f814-ee23-458f-bb9a-10b0363ee514",
   "metadata": {},
   "outputs": [
    {
     "data": {
      "text/plain": [
       "'Element 543 found at index: 4'"
      ]
     },
     "execution_count": 10,
     "metadata": {},
     "output_type": "execute_result"
    }
   ],
   "source": [
    "# list1 = [23,11,344,22,543,32,12]\n",
    "# target = 543\n",
    "\n",
    "def linearSearch(Nums,target):\n",
    "    for i in range(len(Nums)):\n",
    "        if Nums[i] == target:\n",
    "            return f\"Element {Nums[i]} found at index: {i}\"\n",
    "        \n",
    "    return -1\n",
    "linearSearch([23,11,344,22,543,32,12],543)"
   ]
  },
  {
   "cell_type": "markdown",
   "id": "e26cc547-1a16-4e74-91b4-c0b93fcf4aa5",
   "metadata": {},
   "source": [
    "### Q2.\n",
    "\n",
    "#### Take a list of numbers and a target value as input from the user.\n",
    "#### Use linear search to check whether the target exists in the list or not."
   ]
  },
  {
   "cell_type": "code",
   "execution_count": 26,
   "id": "7b4e48de-521d-4bf6-9cf7-6f026ed1576f",
   "metadata": {},
   "outputs": [
    {
     "name": "stdin",
     "output_type": "stream",
     "text": [
      "Enter the size of the list:  5\n",
      "Enter the target number:  25\n",
      "enter a number:  12\n",
      "enter a number:  32\n",
      "enter a number:  43\n",
      "enter a number:  543\n",
      "enter a number:  25\n"
     ]
    },
    {
     "data": {
      "text/plain": [
       "'Element 25 found at index: 4'"
      ]
     },
     "execution_count": 26,
     "metadata": {},
     "output_type": "execute_result"
    }
   ],
   "source": [
    "def linearSearch1():\n",
    "    size = int(input(\"Enter the size of the list: \"))\n",
    "    target = int(input(\"Enter the target number: \"))\n",
    "    list2 = []\n",
    "    for i in range(size):\n",
    "        n = int(input(\"enter a number: \"))\n",
    "        list2.append(n)\n",
    "    for j in range(size):\n",
    "        if list2[j] == target:\n",
    "            return f\"Element {list2[j]} found at index: {j}\"\n",
    "    return -1\n",
    "linearSearch1()"
   ]
  },
  {
   "cell_type": "markdown",
   "id": "7288ad6f-9797-4207-ab59-0d6e54fc5672",
   "metadata": {},
   "source": [
    "### Q3.\n",
    "\n",
    "#### Given a list of strings, write a function that searches for a specific string using linear search."
   ]
  },
  {
   "cell_type": "code",
   "execution_count": 33,
   "id": "e527911e-e465-4a9b-850f-11d4af4af191",
   "metadata": {},
   "outputs": [
    {
     "data": {
      "text/plain": [
       "'krishna found at index: 4 '"
      ]
     },
     "execution_count": 33,
     "metadata": {},
     "output_type": "execute_result"
    }
   ],
   "source": [
    "def LinearSearchStr(names,targetName):\n",
    "    for name in range(len(names)):\n",
    "        if names[name] == targetName:\n",
    "            return f\"{targetName} found at index: {name} \"\n",
    "    return -1\n",
    "LinearSearchStr(['aditya','aman','ashok','joel','krishna'],'krishna')"
   ]
  },
  {
   "cell_type": "code",
   "execution_count": null,
   "id": "ae01d5a4-c53b-40b5-9f02-ea2834c39822",
   "metadata": {},
   "outputs": [],
   "source": []
  }
 ],
 "metadata": {
  "kernelspec": {
   "display_name": "Python 3 (ipykernel)",
   "language": "python",
   "name": "python3"
  },
  "language_info": {
   "codemirror_mode": {
    "name": "ipython",
    "version": 3
   },
   "file_extension": ".py",
   "mimetype": "text/x-python",
   "name": "python",
   "nbconvert_exporter": "python",
   "pygments_lexer": "ipython3",
   "version": "3.13.5"
  }
 },
 "nbformat": 4,
 "nbformat_minor": 5
}
