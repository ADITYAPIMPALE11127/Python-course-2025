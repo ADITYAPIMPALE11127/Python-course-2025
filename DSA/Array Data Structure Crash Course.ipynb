{
 "cells": [
  {
   "cell_type": "markdown",
   "id": "777ed663-a19e-44bd-89a1-9a65a940fbcd",
   "metadata": {},
   "source": [
    "##### Print each element of [4, 6, 8] plus 1."
   ]
  },
  {
   "cell_type": "code",
   "execution_count": 7,
   "id": "9658076b-321b-4e7f-b0c8-41d9c4a73c4f",
   "metadata": {},
   "outputs": [
    {
     "name": "stdout",
     "output_type": "stream",
     "text": [
      "5\n",
      "7\n",
      "9\n"
     ]
    }
   ],
   "source": [
    "arr = [4,6,8]\n",
    "sum = 0\n",
    "for i in range(0,len(arr)):\n",
    "    sum = arr[i] + 1\n",
    "    print(sum)"
   ]
  },
  {
   "cell_type": "markdown",
   "id": "f83de48d-0789-4216-9ee3-a38009ca601f",
   "metadata": {},
   "source": [
    "* Given arr = [1, 2, 3], use a loop to multiply each element by 3 and store it back in the same list."
   ]
  },
  {
   "cell_type": "code",
   "execution_count": 8,
   "id": "f9998c63-5c0d-45ba-95f4-425644106306",
   "metadata": {},
   "outputs": [
    {
     "name": "stdout",
     "output_type": "stream",
     "text": [
      "[3, 6, 9]\n"
     ]
    }
   ],
   "source": [
    "arr = [1,2,3]\n",
    "for num in range(len(arr)):\n",
    "    arr[num] = arr[num] * 3\n",
    "print(arr)"
   ]
  },
  {
   "cell_type": "markdown",
   "id": "f66e0edd-503b-4ffc-a674-21e1c61f7c54",
   "metadata": {},
   "source": [
    "#### range(len(...)) = “I want positions” 📍\n",
    "\n",
    "#### for x in arr = “I just care about values” 📦"
   ]
  },
  {
   "cell_type": "markdown",
   "id": "e3faca6e-9aeb-4d9e-b99f-8ce16ddb6a8c",
   "metadata": {},
   "source": [
    "* From the list [7, 2, 9, 4, 6], print only the numbers greater than 5."
   ]
  },
  {
   "cell_type": "code",
   "execution_count": 9,
   "id": "569dcfe2-6e9a-4ad1-b347-7309966ac5f7",
   "metadata": {},
   "outputs": [
    {
     "name": "stdout",
     "output_type": "stream",
     "text": [
      "7\n",
      "9\n",
      "6\n"
     ]
    }
   ],
   "source": [
    "arr = [7,2,9,4,6]\n",
    "for num in arr:\n",
    "    if num > 5:\n",
    "        print(num)"
   ]
  },
  {
   "cell_type": "markdown",
   "id": "74bb70d0-1a18-4f97-aba7-080b379bb8fe",
   "metadata": {},
   "source": [
    "* From [3, 1, 8, 6], find the maximum number using a loop (no max() function)."
   ]
  },
  {
   "cell_type": "code",
   "execution_count": 10,
   "id": "5ba7d89d-82fb-4e5e-903f-889f1bad52d0",
   "metadata": {},
   "outputs": [
    {
     "name": "stdout",
     "output_type": "stream",
     "text": [
      "8\n"
     ]
    }
   ],
   "source": [
    "arr = [3,1,8,6]\n",
    "max = 0\n",
    "for i in range(len(arr)):\n",
    "    if arr[i] > max:\n",
    "        max = arr[i]\n",
    "print(max)"
   ]
  },
  {
   "cell_type": "code",
   "execution_count": 11,
   "id": "411febed-a417-47b1-b4b5-c652e54c7859",
   "metadata": {},
   "outputs": [
    {
     "name": "stdout",
     "output_type": "stream",
     "text": [
      "8\n"
     ]
    }
   ],
   "source": [
    "# better approach , use max value as index 0 position\n",
    "arr = [3, 1, 8, 6]\n",
    "max_val = arr[0]  # start with first element\n",
    "for i in range(len(arr)):\n",
    "    if arr[i] > max_val:\n",
    "        max_val = arr[i]\n",
    "print(max_val)\n"
   ]
  },
  {
   "cell_type": "markdown",
   "id": "f4ffd7dc-9c44-4ee2-9f2f-4678ffc55a59",
   "metadata": {},
   "source": [
    "##### Question 1: Sorted Squared Array - You are given an array of Integers in which each subsequent value is not less than the previous value. Write a function that takes this array as an input and returns a new array with the squares of each number sorted in ascending order."
   ]
  },
  {
   "cell_type": "code",
   "execution_count": 12,
   "id": "e1a1e5d0-5def-4a18-b423-ed5872ba41c6",
   "metadata": {},
   "outputs": [
    {
     "name": "stdout",
     "output_type": "stream",
     "text": [
      "[4, 9, 16, 25, 36, 49, 64]\n"
     ]
    }
   ],
   "source": [
    "# base version\n",
    "arr = [2,3,4,5,6,7,8]\n",
    "\n",
    "def square(n):\n",
    "    return n ** 2\n",
    "\n",
    "sqauredArray = list(map(square,arr))\n",
    "print(sqauredArray)"
   ]
  },
  {
   "cell_type": "markdown",
   "id": "288c9857-5646-48d3-a8c9-763ff91a0317",
   "metadata": {},
   "source": [
    "##### Given an array of integers, reverse the elements without using any built-in reverse functions."
   ]
  },
  {
   "cell_type": "code",
   "execution_count": 13,
   "id": "3369a368-c0a0-4e33-98a0-aa5a4586b0b2",
   "metadata": {},
   "outputs": [
    {
     "name": "stdout",
     "output_type": "stream",
     "text": [
      "[1, 2, 3, 4, 5]\n"
     ]
    }
   ],
   "source": [
    "arr = [1, 2, 3, 4, 5]\n",
    "\n",
    "# Two-pointer approach\n",
    "start = 0\n",
    "end = len(arr) - 1\n",
    "\n",
    "for i in range(len(arr) // 2):\n",
    "    \n",
    "    start += 1\n",
    "    end -= 1\n",
    "\n",
    "print(arr)  # [5, 4, 3, 2, 1]\n"
   ]
  },
  {
   "cell_type": "markdown",
   "id": "044b49c8-ff2e-45e6-8c34-d7e269ab5b15",
   "metadata": {},
   "source": [
    "##### Given an array of integers, print each element multiplied by 2."
   ]
  },
  {
   "cell_type": "code",
   "execution_count": 14,
   "id": "41a4c492-b826-4d34-b04f-db19c9bf48f9",
   "metadata": {},
   "outputs": [
    {
     "name": "stdout",
     "output_type": "stream",
     "text": [
      "4\n",
      "8\n",
      "12\n"
     ]
    }
   ],
   "source": [
    "arr = [2,4,6]\n",
    "for num in arr:\n",
    "    print(num * 2)"
   ]
  },
  {
   "cell_type": "markdown",
   "id": "2b14f3fe-0b81-4e97-9d46-286d8986395e",
   "metadata": {},
   "source": [
    "##### Given an array of integers, print each element increased by 3."
   ]
  },
  {
   "cell_type": "code",
   "execution_count": 15,
   "id": "e4638e9c-83db-4ce9-a3ff-b9181037d228",
   "metadata": {},
   "outputs": [
    {
     "name": "stdout",
     "output_type": "stream",
     "text": [
      "4\n",
      "8\n",
      "10\n"
     ]
    }
   ],
   "source": [
    "arrNew = [1,5,7]\n",
    "for num in arrNew:\n",
    "    print(num + 3)"
   ]
  },
  {
   "cell_type": "markdown",
   "id": "b38e9183-45a4-40a5-b2ed-ec9daa7a82b8",
   "metadata": {},
   "source": [
    "#### Given an array of integers, find the sum of all even numbers in the array."
   ]
  },
  {
   "cell_type": "code",
   "execution_count": 23,
   "id": "19a3000d-8484-4a84-8836-9be8c60cceed",
   "metadata": {},
   "outputs": [
    {
     "name": "stdout",
     "output_type": "stream",
     "text": [
      "18\n"
     ]
    }
   ],
   "source": [
    "arrNew1 = [4,7,2,9,12]\n",
    "total = 0\n",
    "for num in range(len(arrNew1)):\n",
    "    if arrNew1[num] % 2 == 0:\n",
    "        total += arrNew1[num]\n",
    "print(total)"
   ]
  },
  {
   "cell_type": "markdown",
   "id": "c0f7c9bc-5331-4a3d-902b-ec8c621ba537",
   "metadata": {},
   "source": [
    "#### Given an array of integers and a number X, count how many elements are greater than X."
   ]
  },
  {
   "cell_type": "code",
   "execution_count": 25,
   "id": "4c8d1f1d-08f0-4562-b17a-d5194736c469",
   "metadata": {},
   "outputs": [
    {
     "name": "stdout",
     "output_type": "stream",
     "text": [
      "2\n"
     ]
    }
   ],
   "source": [
    "arr4 = [5, 12, 3, 20, 7]\n",
    "X = 10\n",
    "count = 0\n",
    "for num in arr4:\n",
    "    if num > X:\n",
    "        count += 1\n",
    "print(count)"
   ]
  },
  {
   "cell_type": "markdown",
   "id": "b70bc588-6703-4081-b983-caa3faa102cf",
   "metadata": {},
   "source": [
    "#### Given an array of integers, find the second largest distinct element without sorting the array."
   ]
  },
  {
   "cell_type": "code",
   "execution_count": 30,
   "id": "2ef08320-d1db-4e56-8870-2ade68dba3d6",
   "metadata": {},
   "outputs": [
    {
     "name": "stdout",
     "output_type": "stream",
     "text": [
      "99,10\n"
     ]
    }
   ],
   "source": [
    "arr5 = [10, 99]\n",
    "\n",
    "max_val = arr5[0]\n",
    "second_max =  arr5[1]\n",
    "\n",
    "for num in range(len(arr5)):\n",
    "    if arr5[num] > max_val:\n",
    "        second_max = max_val\n",
    "        max_val = arr5[num]\n",
    "    elif arr5[num] > second_max:\n",
    "        second_max = arr5[num]\n",
    "\n",
    "print(f\"{max_val},{second_max}\")"
   ]
  },
  {
   "cell_type": "code",
   "execution_count": null,
   "id": "ca7b6bfb-af08-4269-b743-4190588b16fc",
   "metadata": {},
   "outputs": [],
   "source": []
  }
 ],
 "metadata": {
  "kernelspec": {
   "display_name": "Python 3 (ipykernel)",
   "language": "python",
   "name": "python3"
  },
  "language_info": {
   "codemirror_mode": {
    "name": "ipython",
    "version": 3
   },
   "file_extension": ".py",
   "mimetype": "text/x-python",
   "name": "python",
   "nbconvert_exporter": "python",
   "pygments_lexer": "ipython3",
   "version": "3.13.5"
  }
 },
 "nbformat": 4,
 "nbformat_minor": 5
}
