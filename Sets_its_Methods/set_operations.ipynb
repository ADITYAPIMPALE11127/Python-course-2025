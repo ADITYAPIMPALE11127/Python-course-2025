{
 "cells": [
  {
   "cell_type": "markdown",
   "id": "3a5963cd",
   "metadata": {},
   "source": [
    "#### Set operations"
   ]
  },
  {
   "cell_type": "code",
   "execution_count": null,
   "id": "05e72b32",
   "metadata": {},
   "outputs": [],
   "source": []
  },
  {
   "cell_type": "code",
   "execution_count": 1,
   "id": "f08e4a34",
   "metadata": {},
   "outputs": [],
   "source": [
    "a = {1,2,4,5,20}\n",
    "b = {23,1,4,3,12}"
   ]
  },
  {
   "cell_type": "markdown",
   "id": "b227ee88",
   "metadata": {},
   "source": [
    "#### If we want and union of a and b we use union() method which returns all elements except the duplictes"
   ]
  },
  {
   "cell_type": "code",
   "execution_count": null,
   "id": "518d6474",
   "metadata": {},
   "outputs": [
    {
     "name": "stdout",
     "output_type": "stream",
     "text": [
      "{1, 2, 3, 4, 5, 12, 20, 23}\n",
      "3\n"
     ]
    }
   ],
   "source": [
    "print(a.union(b))"
   ]
  },
  {
   "cell_type": "markdown",
   "id": "9cb41ea6",
   "metadata": {},
   "source": [
    "#### Intersection allows only elements that are present in a and b"
   ]
  },
  {
   "cell_type": "code",
   "execution_count": 4,
   "id": "0b83c0ed",
   "metadata": {},
   "outputs": [
    {
     "name": "stdout",
     "output_type": "stream",
     "text": [
      "{1, 4}\n"
     ]
    }
   ],
   "source": [
    "print(a.intersection(b))"
   ]
  },
  {
   "cell_type": "markdown",
   "id": "7c84677f",
   "metadata": {},
   "source": [
    "#### difference()  method returns elements that are not common in both "
   ]
  },
  {
   "cell_type": "code",
   "execution_count": 5,
   "id": "9543e20c",
   "metadata": {},
   "outputs": [
    {
     "name": "stdout",
     "output_type": "stream",
     "text": [
      "{2, 20, 5}\n"
     ]
    }
   ],
   "source": [
    "print(a.difference(b))"
   ]
  },
  {
   "cell_type": "code",
   "execution_count": 1,
   "id": "a3565651",
   "metadata": {},
   "outputs": [
    {
     "data": {
      "text/plain": [
       "[1, 3, 4, 5]"
      ]
     },
     "execution_count": 1,
     "metadata": {},
     "output_type": "execute_result"
    }
   ],
   "source": [
    "def common_lst(lst1,lst2):\n",
    "    set1  = set(lst1)\n",
    "    set2 = set(lst2)\n",
    "    set3 = set1.intersection(set2)\n",
    "    return list(set3)\n",
    "\n",
    "common_lst([1,2,3,4,5],[1,6,5,4,3])"
   ]
  },
  {
   "cell_type": "code",
   "execution_count": 6,
   "id": "a84c6b0f",
   "metadata": {},
   "outputs": [
    {
     "data": {
      "text/plain": [
       "[1, 2, 3, 4, 5]"
      ]
     },
     "execution_count": 6,
     "metadata": {},
     "output_type": "execute_result"
    }
   ],
   "source": [
    "lst = [4, 2, 3, 2, 4, 1, 3, 5]\n",
    "set1 = set(lst)\n",
    "lst_with_no_dups = list(set1)\n",
    "lst_with_no_dups"
   ]
  },
  {
   "cell_type": "code",
   "execution_count": 10,
   "id": "8980b6bb",
   "metadata": {},
   "outputs": [
    {
     "name": "stdout",
     "output_type": "stream",
     "text": [
      "1\n"
     ]
    }
   ],
   "source": [
    "def min_num(arr):\n",
    "    min_element = float('inf')\n",
    "    for num in arr:\n",
    "        if num <min_element:\n",
    "            min_element = num\n",
    "    if min_element == float('inf'):\n",
    "        return None\n",
    "    else:\n",
    "        return min_element\n",
    "    \n",
    "print(min_num([23,2,1,32]))"
   ]
  },
  {
   "cell_type": "code",
   "execution_count": 4,
   "id": "cba79f92",
   "metadata": {},
   "outputs": [
    {
     "data": {
      "text/plain": [
       "1"
      ]
     },
     "execution_count": 4,
     "metadata": {},
     "output_type": "execute_result"
    }
   ],
   "source": [
    "def solve(N):\n",
    "  fact = 1\n",
    "  for i in range(1,N +1):\n",
    "    if N == 0 or N == 1:\n",
    "        return 1\n",
    "    else:\n",
    "      fact = fact * i\n",
    "  print(fact)\n",
    "solve(1)"
   ]
  },
  {
   "cell_type": "code",
   "execution_count": 5,
   "id": "c18c4fde",
   "metadata": {},
   "outputs": [
    {
     "name": "stdout",
     "output_type": "stream",
     "text": [
      "4\n"
     ]
    }
   ],
   "source": [
    "x = [1,2,3]\n",
    "x.append([4,5])\n",
    "print(len(x))"
   ]
  },
  {
   "cell_type": "code",
   "execution_count": null,
   "id": "ac30ec09",
   "metadata": {},
   "outputs": [],
   "source": []
  }
 ],
 "metadata": {
  "kernelspec": {
   "display_name": "Python 3",
   "language": "python",
   "name": "python3"
  },
  "language_info": {
   "codemirror_mode": {
    "name": "ipython",
    "version": 3
   },
   "file_extension": ".py",
   "mimetype": "text/x-python",
   "name": "python",
   "nbconvert_exporter": "python",
   "pygments_lexer": "ipython3",
   "version": "3.9.12"
  }
 },
 "nbformat": 4,
 "nbformat_minor": 5
}
