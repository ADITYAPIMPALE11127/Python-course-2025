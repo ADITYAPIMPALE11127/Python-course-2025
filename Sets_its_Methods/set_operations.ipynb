{
 "cells": [
  {
   "cell_type": "markdown",
   "id": "3a5963cd",
   "metadata": {},
   "source": [
    "#### Set operations"
   ]
  },
  {
   "cell_type": "code",
   "execution_count": 1,
   "id": "f08e4a34",
   "metadata": {},
   "outputs": [],
   "source": [
    "a = {1,2,4,5,20}\n",
    "b = {23,1,4,3,12}"
   ]
  },
  {
   "cell_type": "markdown",
   "id": "b227ee88",
   "metadata": {},
   "source": [
    "#### If we want and union of a and b we use union() method which returns all elements except the duplictes"
   ]
  },
  {
   "cell_type": "code",
   "execution_count": 2,
   "id": "518d6474",
   "metadata": {},
   "outputs": [
    {
     "name": "stdout",
     "output_type": "stream",
     "text": [
      "{1, 2, 3, 4, 5, 12, 20, 23}\n"
     ]
    }
   ],
   "source": [
    "print(a.union(b))"
   ]
  },
  {
   "cell_type": "markdown",
   "id": "9cb41ea6",
   "metadata": {},
   "source": [
    "#### Intersection allows only elements that are present in a and b"
   ]
  },
  {
   "cell_type": "code",
   "execution_count": 11,
   "id": "0b83c0ed",
   "metadata": {},
   "outputs": [
    {
     "name": "stdout",
     "output_type": "stream",
     "text": [
      "{1, 4}\n"
     ]
    },
    {
     "data": {
      "text/plain": [
       "{1, 4}"
      ]
     },
     "execution_count": 11,
     "metadata": {},
     "output_type": "execute_result"
    }
   ],
   "source": [
    "print(a.intersection(b))\n",
    "a&b"
   ]
  },
  {
   "cell_type": "markdown",
   "id": "7c84677f",
   "metadata": {},
   "source": [
    "#### difference()  method returns elements that are not common in both "
   ]
  },
  {
   "cell_type": "code",
   "execution_count": 13,
   "id": "9543e20c",
   "metadata": {},
   "outputs": [
    {
     "name": "stdout",
     "output_type": "stream",
     "text": [
      "{3, 12, 23}\n"
     ]
    },
    {
     "data": {
      "text/plain": [
       "{2, 5, 20}"
      ]
     },
     "execution_count": 13,
     "metadata": {},
     "output_type": "execute_result"
    }
   ],
   "source": [
    "print(b.difference(a)) # returns elements unique in set b\n",
    "a.difference(b) # returns elements unique in set a"
   ]
  },
  {
   "cell_type": "code",
   "execution_count": 5,
   "id": "a3565651",
   "metadata": {},
   "outputs": [
    {
     "data": {
      "text/plain": [
       "[1, 3, 4, 5]"
      ]
     },
     "execution_count": 5,
     "metadata": {},
     "output_type": "execute_result"
    }
   ],
   "source": [
    "def common_lst(lst1,lst2):\n",
    "    set1  = set(lst1)\n",
    "    set2 = set(lst2)\n",
    "    set3 = set1.intersection(set2)\n",
    "    return list(set3)\n",
    "\n",
    "common_lst([1,2,3,4,5],[1,6,5,4,3])"
   ]
  },
  {
   "cell_type": "code",
   "execution_count": 6,
   "id": "a84c6b0f",
   "metadata": {},
   "outputs": [
    {
     "data": {
      "text/plain": [
       "[1, 2, 3, 4, 5]"
      ]
     },
     "execution_count": 6,
     "metadata": {},
     "output_type": "execute_result"
    }
   ],
   "source": [
    "lst = [4, 2, 3, 2, 4, 1, 3, 5]\n",
    "set1 = set(lst)\n",
    "lst_with_no_dups = list(set1)\n",
    "lst_with_no_dups"
   ]
  },
  {
   "cell_type": "code",
   "execution_count": 7,
   "id": "8980b6bb",
   "metadata": {},
   "outputs": [
    {
     "name": "stdout",
     "output_type": "stream",
     "text": [
      "1\n"
     ]
    }
   ],
   "source": [
    "def min_num(arr):\n",
    "    min_element = float('inf')\n",
    "    for num in arr:\n",
    "        if num <min_element:\n",
    "            min_element = num\n",
    "    if min_element == float('inf'):\n",
    "        return None\n",
    "    else:\n",
    "        return min_element\n",
    "    \n",
    "print(min_num([23,2,1,32]))"
   ]
  },
  {
   "cell_type": "code",
   "execution_count": 8,
   "id": "cba79f92",
   "metadata": {},
   "outputs": [
    {
     "data": {
      "text/plain": [
       "1"
      ]
     },
     "execution_count": 8,
     "metadata": {},
     "output_type": "execute_result"
    }
   ],
   "source": [
    "def solve(N):\n",
    "  fact = 1\n",
    "  for i in range(1,N +1):\n",
    "    if N == 0 or N == 1:\n",
    "        return 1\n",
    "    else:\n",
    "      fact = fact * i\n",
    "  print(fact)\n",
    "solve(1)"
   ]
  },
  {
   "cell_type": "code",
   "execution_count": 9,
   "id": "c18c4fde",
   "metadata": {},
   "outputs": [
    {
     "name": "stdout",
     "output_type": "stream",
     "text": [
      "4\n"
     ]
    }
   ],
   "source": [
    "x = [1,2,3]\n",
    "x.append([4,5])\n",
    "print(len(x))"
   ]
  },
  {
   "cell_type": "markdown",
   "id": "248ecb17-9e86-4282-9b90-8a8bff1c8e69",
   "metadata": {},
   "source": [
    "### Symmetric Difference in sets - return unique elements from both sets"
   ]
  },
  {
   "cell_type": "code",
   "execution_count": 14,
   "id": "f2257578-42fb-47e8-8c43-b509509cbb43",
   "metadata": {},
   "outputs": [
    {
     "data": {
      "text/plain": [
       "{1, 4, 5, 6, 7, 8, 9, 10}"
      ]
     },
     "execution_count": 14,
     "metadata": {},
     "output_type": "execute_result"
    }
   ],
   "source": [
    "a = {1,2,3,4,5,6}\n",
    "b = {2,3,7,8,9,10}\n",
    "a.symmetric_difference(b)"
   ]
  },
  {
   "cell_type": "markdown",
   "id": "2457dcd5-d470-4234-88b4-9c085149203a",
   "metadata": {},
   "source": [
    "### issubset() function returns true if all emenets of a set are in the other set "
   ]
  },
  {
   "cell_type": "code",
   "execution_count": 16,
   "id": "ac11c74f-4e73-4b37-ba93-962f2a05121d",
   "metadata": {},
   "outputs": [
    {
     "data": {
      "text/plain": [
       "True"
      ]
     },
     "execution_count": 16,
     "metadata": {},
     "output_type": "execute_result"
    }
   ],
   "source": [
    "x = {1,2,3,4,5,6}\n",
    "y = {1,3,5}\n",
    "y.issubset(x)"
   ]
  },
  {
   "cell_type": "code",
   "execution_count": 17,
   "id": "3875a689-2882-45de-bc9b-c1c2df1f79fd",
   "metadata": {},
   "outputs": [
    {
     "data": {
      "text/plain": [
       "False"
      ]
     },
     "execution_count": 17,
     "metadata": {},
     "output_type": "execute_result"
    }
   ],
   "source": [
    "x.issubset(y)"
   ]
  },
  {
   "cell_type": "markdown",
   "id": "d292e21c-0d07-4bda-8434-234efa098485",
   "metadata": {},
   "source": [
    "### issuperset() function returns true if all elements are encompassed in other set "
   ]
  },
  {
   "cell_type": "code",
   "execution_count": 18,
   "id": "247df2a7-cc86-4ea8-8f17-f3e2da03ddbb",
   "metadata": {},
   "outputs": [
    {
     "data": {
      "text/plain": [
       "False"
      ]
     },
     "execution_count": 18,
     "metadata": {},
     "output_type": "execute_result"
    }
   ],
   "source": [
    "x1 = {1,2,3}\n",
    "y1 = {1,2,3,4,5}\n",
    "\n",
    "x1.issuperset(y1)"
   ]
  },
  {
   "cell_type": "code",
   "execution_count": 19,
   "id": "462bbd92-a736-41a1-b18a-253c93f118d8",
   "metadata": {},
   "outputs": [
    {
     "data": {
      "text/plain": [
       "True"
      ]
     },
     "execution_count": 19,
     "metadata": {},
     "output_type": "execute_result"
    }
   ],
   "source": [
    "y1.issuperset(x1)"
   ]
  },
  {
   "cell_type": "markdown",
   "id": "aea306ea-51dc-49ce-987c-a8ac12564443",
   "metadata": {},
   "source": [
    "### clear() function - clears the whole set "
   ]
  },
  {
   "cell_type": "code",
   "execution_count": 20,
   "id": "f6dcb58c-cec4-45e8-9079-d6257040a57a",
   "metadata": {},
   "outputs": [],
   "source": [
    "set2 = {1,2,3,4,5,67,}\n",
    "set2.clear()"
   ]
  },
  {
   "cell_type": "code",
   "execution_count": 21,
   "id": "0e05f565-5a73-4e64-beae-ca8367010414",
   "metadata": {},
   "outputs": [
    {
     "data": {
      "text/plain": [
       "set()"
      ]
     },
     "execution_count": 21,
     "metadata": {},
     "output_type": "execute_result"
    }
   ],
   "source": [
    "set2"
   ]
  },
  {
   "cell_type": "code",
   "execution_count": null,
   "id": "0dfd20b4-0812-47f2-8b15-fa2fefd4aca6",
   "metadata": {},
   "outputs": [],
   "source": []
  }
 ],
 "metadata": {
  "kernelspec": {
   "display_name": "Python 3 (ipykernel)",
   "language": "python",
   "name": "python3"
  },
  "language_info": {
   "codemirror_mode": {
    "name": "ipython",
    "version": 3
   },
   "file_extension": ".py",
   "mimetype": "text/x-python",
   "name": "python",
   "nbconvert_exporter": "python",
   "pygments_lexer": "ipython3",
   "version": "3.13.5"
  }
 },
 "nbformat": 4,
 "nbformat_minor": 5
}
