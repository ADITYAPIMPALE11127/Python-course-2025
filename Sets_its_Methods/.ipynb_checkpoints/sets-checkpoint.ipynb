{
 "cells": [
  {
   "cell_type": "markdown",
   "id": "aa921fd6",
   "metadata": {},
   "source": [
    "## Set\n",
    "#### In Sets the no duplicate of elements is allowed, they are unordered or random order, unique Collections \n",
    "* Set is one of the 4-built-in data type in python used to store collections of data including: -\n",
    "   * tuples, dictionaries, sets but not lists\n",
    "* Sets are unordered, but you can remove items and add new items.\n",
    "* Set elements are unique, duplicate elements are not allowed\n",
    "* A set itself may be modified, but the elements contains in the set must be immutable type.\n",
    "* Sets are used to store multiple items in a single variable.\n",
    "* You can denote set with a pair of curly brackets {}.\n",
    "* Here’s your refined sentence:\n",
    "\n",
    "**Mutables can be added to mutables, mutables can also be stored in immutables but not replaced, and immutables can be added to immutables by creating a new object.**\n"
   ]
  },
  {
   "cell_type": "markdown",
   "id": "21c3f5c9-bf22-4a6c-b354-5793c95fdff4",
   "metadata": {},
   "source": [
    "#### empty set can be made using set() function"
   ]
  },
  {
   "cell_type": "code",
   "execution_count": 3,
   "id": "e43837ab-b911-42c4-bcb4-a966a961db0a",
   "metadata": {},
   "outputs": [
    {
     "name": "stdout",
     "output_type": "stream",
     "text": [
      "set() <class 'set'>\n"
     ]
    }
   ],
   "source": [
    "set1 = set()\n",
    "print(set1,type(set1))"
   ]
  },
  {
   "cell_type": "code",
   "execution_count": 12,
   "id": "3b09b46f",
   "metadata": {},
   "outputs": [
    {
     "name": "stdout",
     "output_type": "stream",
     "text": [
      "<class 'set'>\n"
     ]
    },
    {
     "data": {
      "text/plain": [
       "{1, 2, 3, 4, 5, 6, 7}"
      ]
     },
     "execution_count": 12,
     "metadata": {},
     "output_type": "execute_result"
    }
   ],
   "source": [
    "set1 = {1,2,3,4,5,6,7,}\n",
    "print(type(set1))\n",
    "set1"
   ]
  },
  {
   "cell_type": "code",
   "execution_count": 8,
   "id": "0001312f",
   "metadata": {},
   "outputs": [
    {
     "ename": "TypeError",
     "evalue": "'set' object is not subscriptable",
     "output_type": "error",
     "traceback": [
      "\u001b[31m---------------------------------------------------------------------------\u001b[39m",
      "\u001b[31mTypeError\u001b[39m                                 Traceback (most recent call last)",
      "\u001b[36mCell\u001b[39m\u001b[36m \u001b[39m\u001b[32mIn[8]\u001b[39m\u001b[32m, line 2\u001b[39m\n\u001b[32m      1\u001b[39m \u001b[38;5;66;03m# as the elements are not ordered , so the index cannot be used as it can be considered as a basket of elements\u001b[39;00m\n\u001b[32m----> \u001b[39m\u001b[32m2\u001b[39m \u001b[38;5;28mprint\u001b[39m(\u001b[43mset1\u001b[49m\u001b[43m[\u001b[49m\u001b[32;43m2\u001b[39;49m\u001b[43m]\u001b[49m) \n",
      "\u001b[31mTypeError\u001b[39m: 'set' object is not subscriptable"
     ]
    }
   ],
   "source": [
    "# as the elements are not ordered , so the index cannot be used as it can be considered as a basket of elements\n",
    "# print(set1[2]) "
   ]
  },
  {
   "cell_type": "markdown",
   "id": "b71d8dc2",
   "metadata": {},
   "source": [
    "#### Adding an element to the set , we use add() function, if the same element is added to the set nothing will happen because the set accepts no duplicates"
   ]
  },
  {
   "cell_type": "code",
   "execution_count": 29,
   "id": "6a9823d6",
   "metadata": {},
   "outputs": [
    {
     "name": "stdout",
     "output_type": "stream",
     "text": [
      "{1, 2, 3, 4, 5, 6, 7, 8, 129, 18}\n"
     ]
    }
   ],
   "source": [
    "set1 \n",
    "set1.add(18)\n",
    "set1.add(129)\n",
    "print(set1)"
   ]
  },
  {
   "cell_type": "markdown",
   "id": "aab1d88f",
   "metadata": {},
   "source": [
    "#### Removing an element from the set\n"
   ]
  },
  {
   "cell_type": "code",
   "execution_count": 30,
   "id": "f69c06dc",
   "metadata": {},
   "outputs": [
    {
     "name": "stdout",
     "output_type": "stream",
     "text": [
      "{1, 2, 3, 4, 5, 6, 7, 8, 18}\n"
     ]
    }
   ],
   "source": [
    "set1.remove(129)\n",
    "\n",
    "# REMOVING AN element using remove () will throw an error if the element opted to remove does not exist to remove it \n",
    "\n",
    "print(set1)"
   ]
  },
  {
   "cell_type": "markdown",
   "id": "a4f2aeb4",
   "metadata": {},
   "source": [
    "#### discard() method  removes the element only if its present and does not throw an error"
   ]
  },
  {
   "cell_type": "code",
   "execution_count": 31,
   "id": "4c31b062",
   "metadata": {},
   "outputs": [
    {
     "name": "stdout",
     "output_type": "stream",
     "text": [
      "{1, 3, 4, 5, 6, 7, 8, 18}\n"
     ]
    }
   ],
   "source": [
    "set1.discard(3131)\n",
    "set1.discard(2)\n",
    "print(set1)"
   ]
  },
  {
   "cell_type": "markdown",
   "id": "1d4b350b",
   "metadata": {},
   "source": [
    "#### to remove an random element from the set we can use pop() method, not used so much"
   ]
  },
  {
   "cell_type": "code",
   "execution_count": 32,
   "id": "b5970a88",
   "metadata": {},
   "outputs": [
    {
     "data": {
      "text/plain": [
       "{3, 4, 5, 6, 7, 8, 18}"
      ]
     },
     "execution_count": 32,
     "metadata": {},
     "output_type": "execute_result"
    }
   ],
   "source": [
    "set1.pop()\n",
    "set1"
   ]
  },
  {
   "cell_type": "code",
   "execution_count": 14,
   "id": "a162e4e4",
   "metadata": {},
   "outputs": [
    {
     "name": "stdout",
     "output_type": "stream",
     "text": [
      "{6, 7, 8, 9, 'aditya'}\n"
     ]
    }
   ],
   "source": [
    "x_set = {6,7,8,9}\n",
    "x_set.update({6,7,8,\"aditya\"})\n",
    "print(x_set)"
   ]
  },
  {
   "cell_type": "code",
   "execution_count": null,
   "id": "bbfce97b-d074-4bfe-af8b-ce6d80a201dd",
   "metadata": {},
   "outputs": [],
   "source": []
  }
 ],
 "metadata": {
  "kernelspec": {
   "display_name": "Python 3 (ipykernel)",
   "language": "python",
   "name": "python3"
  },
  "language_info": {
   "codemirror_mode": {
    "name": "ipython",
    "version": 3
   },
   "file_extension": ".py",
   "mimetype": "text/x-python",
   "name": "python",
   "nbconvert_exporter": "python",
   "pygments_lexer": "ipython3",
   "version": "3.13.5"
  }
 },
 "nbformat": 4,
 "nbformat_minor": 5
}
