{
 "cells": [
  {
   "cell_type": "markdown",
   "id": "aa921fd6",
   "metadata": {},
   "source": [
    "#### In Sets the no duplicate of elements is allowed, they are unordered or random order, unique Collections "
   ]
  },
  {
   "cell_type": "code",
   "execution_count": 27,
   "id": "3b09b46f",
   "metadata": {},
   "outputs": [
    {
     "name": "stdout",
     "output_type": "stream",
     "text": [
      "<class 'set'>\n"
     ]
    },
    {
     "data": {
      "text/plain": [
       "{1, 2, 3, 4, 5, 6, 7, 8}"
      ]
     },
     "execution_count": 27,
     "metadata": {},
     "output_type": "execute_result"
    }
   ],
   "source": [
    "set1 = {1,2,3,4,5,6,7,8}\n",
    "print(type(set1))\n",
    "set1"
   ]
  },
  {
   "cell_type": "code",
   "execution_count": 28,
   "id": "0001312f",
   "metadata": {},
   "outputs": [],
   "source": [
    "# as the elements are not ordered , so the index cannot be used as it can be considered as a basket of elements\n",
    "# print(set1[2]) "
   ]
  },
  {
   "cell_type": "markdown",
   "id": "b71d8dc2",
   "metadata": {},
   "source": [
    "#### Adding an element to the set"
   ]
  },
  {
   "cell_type": "code",
   "execution_count": 29,
   "id": "6a9823d6",
   "metadata": {},
   "outputs": [
    {
     "name": "stdout",
     "output_type": "stream",
     "text": [
      "{1, 2, 3, 4, 5, 6, 7, 8, 129, 18}\n"
     ]
    }
   ],
   "source": [
    "set1 \n",
    "set1.add(18)\n",
    "set1.add(129)\n",
    "print(set1)"
   ]
  },
  {
   "cell_type": "markdown",
   "id": "aab1d88f",
   "metadata": {},
   "source": [
    "#### Removing an element from the set\n"
   ]
  },
  {
   "cell_type": "code",
   "execution_count": 30,
   "id": "f69c06dc",
   "metadata": {},
   "outputs": [
    {
     "name": "stdout",
     "output_type": "stream",
     "text": [
      "{1, 2, 3, 4, 5, 6, 7, 8, 18}\n"
     ]
    }
   ],
   "source": [
    "set1.remove(129)\n",
    "\n",
    "# REMOVING AN element using remove () will throw an error if the element opted to remove does not exist to remove it \n",
    "\n",
    "print(set1)"
   ]
  },
  {
   "cell_type": "markdown",
   "id": "a4f2aeb4",
   "metadata": {},
   "source": [
    "#### discard() method  removes the element only if its present and does not throw an error"
   ]
  },
  {
   "cell_type": "code",
   "execution_count": 31,
   "id": "4c31b062",
   "metadata": {},
   "outputs": [
    {
     "name": "stdout",
     "output_type": "stream",
     "text": [
      "{1, 3, 4, 5, 6, 7, 8, 18}\n"
     ]
    }
   ],
   "source": [
    "set1.discard(3131)\n",
    "set1.discard(2)\n",
    "print(set1)"
   ]
  },
  {
   "cell_type": "markdown",
   "id": "1d4b350b",
   "metadata": {},
   "source": [
    "#### to remove an random element from the set we can use pop() method, not used so much"
   ]
  },
  {
   "cell_type": "code",
   "execution_count": 32,
   "id": "b5970a88",
   "metadata": {},
   "outputs": [
    {
     "data": {
      "text/plain": [
       "{3, 4, 5, 6, 7, 8, 18}"
      ]
     },
     "execution_count": 32,
     "metadata": {},
     "output_type": "execute_result"
    }
   ],
   "source": [
    "set1.pop()\n",
    "set1"
   ]
  },
  {
   "cell_type": "code",
   "execution_count": null,
   "id": "a162e4e4",
   "metadata": {},
   "outputs": [],
   "source": []
  }
 ],
 "metadata": {
  "kernelspec": {
   "display_name": "Python 3",
   "language": "python",
   "name": "python3"
  },
  "language_info": {
   "codemirror_mode": {
    "name": "ipython",
    "version": 3
   },
   "file_extension": ".py",
   "mimetype": "text/x-python",
   "name": "python",
   "nbconvert_exporter": "python",
   "pygments_lexer": "ipython3",
   "version": "3.9.12"
  }
 },
 "nbformat": 4,
 "nbformat_minor": 5
}
