{
 "cells": [
  {
   "cell_type": "code",
   "execution_count": 9,
   "id": "33d24e12-257d-4a8c-a2ed-2a058b52e9ed",
   "metadata": {},
   "outputs": [
    {
     "name": "stdin",
     "output_type": "stream",
     "text": [
      "Enter your name:  aditya\n"
     ]
    },
    {
     "name": "stdout",
     "output_type": "stream",
     "text": [
      "Name entered Correctly ✔️\n"
     ]
    },
    {
     "name": "stdin",
     "output_type": "stream",
     "text": [
      "Enter your age:  23\n"
     ]
    },
    {
     "name": "stdout",
     "output_type": "stream",
     "text": [
      "age entered Correctly ✔️\n"
     ]
    },
    {
     "name": "stdin",
     "output_type": "stream",
     "text": [
      "Enter your address:  sita residency, flat no 18, akurdi\n"
     ]
    },
    {
     "name": "stdout",
     "output_type": "stream",
     "text": [
      "❌ Enter a valid length address of at least 10 and maximum 30 characters \n"
     ]
    },
    {
     "name": "stdin",
     "output_type": "stream",
     "text": [
      "Enter your address:  sita residency, akurdi\n"
     ]
    },
    {
     "name": "stdout",
     "output_type": "stream",
     "text": [
      "Address entered successfully ✔️\n"
     ]
    },
    {
     "name": "stdin",
     "output_type": "stream",
     "text": [
      "Enter your adhar No:  12345\n"
     ]
    },
    {
     "name": "stdout",
     "output_type": "stream",
     "text": [
      "adhar no entered Correctly ✔️\n",
      "\n",
      "        \n",
      "1. Person Details\n",
      "        \n"
     ]
    },
    {
     "name": "stdin",
     "output_type": "stream",
     "text": [
      "Choose an Option:  1\n"
     ]
    },
    {
     "name": "stdout",
     "output_type": "stream",
     "text": [
      "Person Name is: aditya\n",
      "Person Age is: 23\n",
      "Person adhar No is :12345\n",
      "Address of the person is: sita residency, akurdi\n"
     ]
    },
    {
     "name": "stdin",
     "output_type": "stream",
     "text": [
      "Choose an Option:  8\n"
     ]
    },
    {
     "name": "stdout",
     "output_type": "stream",
     "text": [
      "\n",
      "Thank You\n"
     ]
    }
   ],
   "source": [
    "# Student Management System\n",
    "class Person:\n",
    "    def __init__(self):\n",
    "        while True:\n",
    "            self.name = input(\"Enter your name: \")\n",
    "            if self.name.replace(\" \", '').isalpha():\n",
    "                print(\"Name entered Correctly ✔️\")\n",
    "                break\n",
    "            else:\n",
    "                print(\"❌ Name should contain only alphabet characters. Try Again!!\")\n",
    "        while True:\n",
    "            self.age = int(input(\"Enter your age: \"))\n",
    "            if 4 < self.age <= 60:\n",
    "                print(\"age entered Correctly ✔️\")\n",
    "                break\n",
    "            else:\n",
    "                print(\"❌ Enter a valid age \")\n",
    "        while True:\n",
    "            self.Address = input(\"Enter your address: \")\n",
    "            if 10 < len(self.Address) < 30:\n",
    "                print(\"Address entered successfully ✔️\")\n",
    "                break\n",
    "            else:\n",
    "                print(\"❌ Enter a valid length address of at least 10 and maximum 30 characters \")\n",
    "        while True:\n",
    "            self.adharNo = input(\"Enter your adhar No: \")\n",
    "            if len(self.adharNo) == 5:\n",
    "                print(\"adhar no entered Correctly ✔️\")\n",
    "                break\n",
    "            else:\n",
    "                print(\"❌ Enter a valid length adhar no \")\n",
    "\n",
    "    def personDetails(self):\n",
    "        '''Details of a person'''\n",
    "        print(f\"Person Name is: {self.name}\")\n",
    "        print(f\"Person Age is: {self.age}\")\n",
    "        print(f\"Person adhar No is :{self.adharNo}\")\n",
    "        print(f\"Address of the person is: {self.Address}\")\n",
    "class student(Person):\n",
    "    def __init__(self):\n",
    "        while True:\n",
    "            self.roll_no = input(\"Enter your roll no: \")\n",
    "            if len(self.roll_no) == 6  :\n",
    "                if self.roll_no.isnumeric():\n",
    "                    print(\"roll no is entered Correctly ✔️\")\n",
    "                    break\n",
    "                else:\n",
    "                    print(\"❌ roll no can't have characters other than numbers\")\n",
    "            else:\n",
    "                print(\"❌ Enter a valid roll no, of correct length that is of 6 digit \")\n",
    "         while True:\n",
    "            course_count = int(input(\"Enter the number of courses: \"))\n",
    "            self.grade_dict = {}\n",
    "            for _ in range(course_count):\n",
    "                course = input(\"Enter course: \")\n",
    "                numerical_grade = input(\"Enter value: \")\n",
    "                grade_dict[cour] = numerical_grade\n",
    "                \n",
    "    def lmsPortal(self):\n",
    "        print(\"\"\"\n",
    "        \\n1. Person Details\n",
    "        \"\"\")\n",
    "        while True:\n",
    "            try:\n",
    "                opt = int(input(\"Choose an Option: \"))\n",
    "            except:\n",
    "                print(\"Error: Choose Correct Option\")\n",
    "            else:\n",
    "                if opt == 1:\n",
    "                    self.personDetails()\n",
    "                elif opt == 8:\n",
    "                    print(\"\\nThank You\")\n",
    "                    break\n",
    "aditya = Person()\n",
    "aditya.lmsPortal()"
   ]
  },
  {
   "cell_type": "code",
   "execution_count": 10,
   "id": "5e5d9251-fc48-4854-95b1-835327f37276",
   "metadata": {},
   "outputs": [
    {
     "name": "stdin",
     "output_type": "stream",
     "text": [
      "Enter the number of key-value pairs:  2\n",
      "Enter key:  math\n",
      "Enter value:  90\n",
      "Enter key:  english\n",
      "Enter value:  A\n"
     ]
    },
    {
     "name": "stdout",
     "output_type": "stream",
     "text": [
      "{'math': '90', 'english': 'A'}\n"
     ]
    }
   ],
   "source": [
    "   "
   ]
  },
  {
   "cell_type": "code",
   "execution_count": null,
   "id": "d98acb40-60bf-4bf8-9484-fa144bf1fadf",
   "metadata": {},
   "outputs": [],
   "source": []
  }
 ],
 "metadata": {
  "kernelspec": {
   "display_name": "Python 3 (ipykernel)",
   "language": "python",
   "name": "python3"
  },
  "language_info": {
   "codemirror_mode": {
    "name": "ipython",
    "version": 3
   },
   "file_extension": ".py",
   "mimetype": "text/x-python",
   "name": "python",
   "nbconvert_exporter": "python",
   "pygments_lexer": "ipython3",
   "version": "3.13.5"
  }
 },
 "nbformat": 4,
 "nbformat_minor": 5
}
