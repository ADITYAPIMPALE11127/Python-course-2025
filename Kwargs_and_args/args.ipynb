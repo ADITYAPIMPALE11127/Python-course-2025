{
 "cells": [
  {
   "cell_type": "code",
   "execution_count": 3,
   "id": "62f9e301",
   "metadata": {},
   "outputs": [
    {
     "data": {
      "text/plain": [
       "' my name is aditya'"
      ]
     },
     "execution_count": 3,
     "metadata": {},
     "output_type": "execute_result"
    }
   ],
   "source": [
    "def sentence_maker(*args):\n",
    "    sentence = \"\"\n",
    "    for word in args:\n",
    "        sentence = sentence +\" \"+ word\n",
    "    return sentence\n",
    "\n",
    "sentence_maker(\"my\",\"name\",\"is\",\"aditya\")"
   ]
  },
  {
   "cell_type": "code",
   "execution_count": 11,
   "id": "4163a0c4",
   "metadata": {},
   "outputs": [
    {
     "data": {
      "text/plain": [
       "120"
      ]
     },
     "execution_count": 11,
     "metadata": {},
     "output_type": "execute_result"
    }
   ],
   "source": [
    "def multiply_nums(*args):\n",
    "    result = 1\n",
    "    for num in args:\n",
    "        result = result * num\n",
    "    return result\n",
    "multiply_nums(2,3,4,5,)"
   ]
  },
  {
   "cell_type": "code",
   "execution_count": null,
   "id": "71dbd842",
   "metadata": {},
   "outputs": [],
   "source": []
  }
 ],
 "metadata": {
  "kernelspec": {
   "display_name": "Python 3",
   "language": "python",
   "name": "python3"
  },
  "language_info": {
   "codemirror_mode": {
    "name": "ipython",
    "version": 3
   },
   "file_extension": ".py",
   "mimetype": "text/x-python",
   "name": "python",
   "nbconvert_exporter": "python",
   "pygments_lexer": "ipython3",
   "version": "3.9.12"
  }
 },
 "nbformat": 4,
 "nbformat_minor": 5
}
