{
 "cells": [
  {
   "cell_type": "code",
   "execution_count": 1,
   "id": "b6eeecda",
   "metadata": {},
   "outputs": [
    {
     "name": "stdout",
     "output_type": "stream",
     "text": [
      "this is args: (23, 22, 43)\n",
      "this is kwargs: {'MOHAN': 'HAPPY', 'ROHAN': 'SAD'}\n"
     ]
    }
   ],
   "source": [
    "def info_data(*args,**kwargs):\n",
    "    print(f\"this is args: {args}\")\n",
    "    print(f\"this is kwargs: {kwargs}\")\n",
    "    \n",
    "info_data(23,22,43,MOHAN=\"HAPPY\",ROHAN=\"SAD\")"
   ]
  },
  {
   "cell_type": "code",
   "execution_count": null,
   "id": "460da7ab",
   "metadata": {},
   "outputs": [],
   "source": []
  }
 ],
 "metadata": {
  "kernelspec": {
   "display_name": "Python 3",
   "language": "python",
   "name": "python3"
  },
  "language_info": {
   "codemirror_mode": {
    "name": "ipython",
    "version": 3
   },
   "file_extension": ".py",
   "mimetype": "text/x-python",
   "name": "python",
   "nbconvert_exporter": "python",
   "pygments_lexer": "ipython3",
   "version": "3.9.12"
  }
 },
 "nbformat": 4,
 "nbformat_minor": 5
}
