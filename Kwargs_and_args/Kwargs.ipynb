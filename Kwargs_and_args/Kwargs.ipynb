{
 "cells": [
  {
   "cell_type": "code",
   "execution_count": 1,
   "id": "532d7f98",
   "metadata": {},
   "outputs": [
    {
     "name": "stdout",
     "output_type": "stream",
     "text": [
      "my name is aditya and my age is 23\n",
      "my name is gaurav and my age is 24\n",
      "my name is krishna and my age is 23\n"
     ]
    }
   ],
   "source": [
    "def info (**kwargs):\n",
    "    for item in kwargs.keys():\n",
    "        print(f\"my name is {item} and my age is {kwargs[item]}\")\n",
    "        \n",
    "info(aditya=23,gaurav=24,krishna=23)"
   ]
  },
  {
   "cell_type": "code",
   "execution_count": null,
   "id": "d9734797",
   "metadata": {},
   "outputs": [],
   "source": []
  }
 ],
 "metadata": {
  "kernelspec": {
   "display_name": "Python 3",
   "language": "python",
   "name": "python3"
  },
  "language_info": {
   "codemirror_mode": {
    "name": "ipython",
    "version": 3
   },
   "file_extension": ".py",
   "mimetype": "text/x-python",
   "name": "python",
   "nbconvert_exporter": "python",
   "pygments_lexer": "ipython3",
   "version": "3.9.12"
  }
 },
 "nbformat": 4,
 "nbformat_minor": 5
}
