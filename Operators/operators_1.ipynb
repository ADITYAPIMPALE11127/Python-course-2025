{
 "cells": [
  {
   "cell_type": "code",
   "execution_count": null,
   "id": "fc20b468-5fee-4c00-8c9f-1454da9b5341",
   "metadata": {},
   "outputs": [],
   "source": []
  }
 ],
 "metadata": {
  "kernelspec": {
   "display_name": "",
   "name": ""
  },
  "language_info": {
   "name": ""
  }
 },
 "nbformat": 4,
 "nbformat_minor": 5
}
