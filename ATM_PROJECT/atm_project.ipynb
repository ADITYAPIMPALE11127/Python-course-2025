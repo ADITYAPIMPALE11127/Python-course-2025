{
 "cells": [
  {
   "cell_type": "code",
   "execution_count": null,
   "id": "cb543499-4e46-4d13-8e9b-bdb163f13ffb",
   "metadata": {},
   "outputs": [
    {
     "name": "stdin",
     "output_type": "stream",
     "text": [
      "Enter Your Name here:  harsha\n"
     ]
    },
    {
     "name": "stdout",
     "output_type": "stream",
     "text": [
      "UserName Created Successfully ✔️\n"
     ]
    },
    {
     "name": "stdin",
     "output_type": "stream",
     "text": [
      "Enter your phone Number:  8779796543\n"
     ]
    },
    {
     "name": "stdout",
     "output_type": "stream",
     "text": [
      "Phone number Linked Successfully ✔️\n"
     ]
    },
    {
     "name": "stdin",
     "output_type": "stream",
     "text": [
      "Enter your Account Number:  12345\n"
     ]
    },
    {
     "name": "stdout",
     "output_type": "stream",
     "text": [
      "Account Number Created Successfully ✔️\n"
     ]
    },
    {
     "name": "stdin",
     "output_type": "stream",
     "text": [
      "Create Your PIN here:  1234\n"
     ]
    },
    {
     "name": "stdout",
     "output_type": "stream",
     "text": [
      "User PIN Created Successfully ✔️\n",
      "\n",
      "        \n",
      "1. Account Details\n",
      "        \n",
      "2. Account Balance\n",
      "        \n",
      "3. Deposit Cash\n",
      "        \n",
      "4. Withdraw Cash\n",
      "        \n",
      "5. Change Name\n",
      "        \n",
      "6. Show Account Number\n",
      "        \n",
      "7. Change PIN\n",
      "        \n",
      "8. Exit\n",
      "        \n"
     ]
    },
    {
     "name": "stdin",
     "output_type": "stream",
     "text": [
      "Choose an Option:  1\n",
      "Enter your Current PIN:  1234\n"
     ]
    },
    {
     "name": "stdout",
     "output_type": "stream",
     "text": [
      "Account Holder Name: harsha\n",
      "Your Account Number is: 12345\n",
      "Current Balance is: ₹0\n",
      "Your Phone Number is: 8779796543\n"
     ]
    },
    {
     "name": "stdin",
     "output_type": "stream",
     "text": [
      "Choose an Option:  3\n",
      "Enter your Current PIN:  1234\n",
      "Enter Your Amount ₹:  100\n"
     ]
    },
    {
     "name": "stdout",
     "output_type": "stream",
     "text": [
      "Deposited ₹100.\n",
      "Updated Balance ₹100\n"
     ]
    },
    {
     "name": "stdin",
     "output_type": "stream",
     "text": [
      "Choose an Option:  1\n",
      "Enter your Current PIN:  1234\n"
     ]
    },
    {
     "name": "stdout",
     "output_type": "stream",
     "text": [
      "Account Holder Name: harsha\n",
      "Your Account Number is: 12345\n",
      "Current Balance is: ₹100\n",
      "Your Phone Number is: 8779796543\n"
     ]
    }
   ],
   "source": [
    "class atm:\n",
    "    def __init__(self, balance=0):\n",
    "        while True:\n",
    "            self.accountHolderName = input(\"Enter Your Name here: \")  # Aditya Pimpale\n",
    "            if self.accountHolderName.replace(\" \", '').isalpha():\n",
    "                print(\"UserName Created Successfully ✔️\")\n",
    "                break\n",
    "            else:\n",
    "                print(\"❌ Name should contain only alphabet characters. Try Again!!\")\n",
    "                \n",
    "        while True:\n",
    "            self.phoneNumber = input(\"Enter your phone Number: \")\n",
    "            if self.phoneNumber.isnumeric():\n",
    "                if len(self.phoneNumber) == 10:\n",
    "                    print(\"Phone number Linked Successfully ✔️\")\n",
    "                    break\n",
    "                else:\n",
    "                    print(\"❌ Phone number length is not equal to 10\")\n",
    "            else:\n",
    "                print(\"❌ Alphabets or characters are invalid for a phone number Try Again\")\n",
    "            \n",
    "        while True:\n",
    "            self.accountNumber = input(\"Enter your Account Number: \")  # only 5 digit\n",
    "            if self.accountNumber.isnumeric() and len(self.accountNumber) == 5:\n",
    "                print(\"Account Number Created Successfully ✔️\")\n",
    "                break\n",
    "            else:\n",
    "                print(\"❌ Enter a Valid Account Number: Try Again!\")\n",
    "\n",
    "        while True:\n",
    "            self.__pin = input(\"Create Your PIN here: \")\n",
    "            if self.__pin.isnumeric():\n",
    "                if len(self.__pin) == 4:\n",
    "                    print(\"User PIN Created Successfully ✔️\")\n",
    "                    break\n",
    "                else:\n",
    "                    print(\"❌ Enter Only 4-Digit PIN is Valid!\")\n",
    "            else:\n",
    "                print(\"❌ Enter only Numeric Value. Try Again!!\")\n",
    "\n",
    "        self.__balance = balance\n",
    "        self.__isLocked = False      \n",
    "        self.__maxAttempts = 3       \n",
    "\n",
    "    def verify_pin(self):\n",
    "\n",
    "        if self.__isLocked:\n",
    "            print(\"❌ Account Locked! Too many wrong attempts.\")\n",
    "            return False\n",
    "\n",
    "        attempts = 0\n",
    "        while attempts < self.__maxAttempts:\n",
    "            pin = input(\"Enter your Current PIN: \")\n",
    "            if pin == self.__pin:\n",
    "                return True\n",
    "            else:\n",
    "                attempts += 1\n",
    "                print(f\"❌ Wrong PIN! Attempts left: {self.__maxAttempts - attempts}\")\n",
    "\n",
    "        self.__isLocked = True\n",
    "        print(\" Account Locked due to multiple wrong PIN attempts!\")\n",
    "        return False\n",
    "\n",
    "\n",
    "    def details(self):\n",
    "        if self.verify_pin():\n",
    "            '''Details of the Account Holder'''\n",
    "            print(f\"Account Holder Name: {self.accountHolderName}\")\n",
    "            # first2Char = self.accountNumber[:2]\n",
    "            # last2Char = self.accountNumber[3:]\n",
    "            # fullAccountNumber = first2Char + \"XXXX\" + last2Char\n",
    "            print(f\"Your Account Number is: {self.accountNumber}\")\n",
    "            print(f\"Current Balance is: ₹{self.__balance}\")\n",
    "            print(f\"Your Phone Number is: {self.phoneNumber}\")\n",
    "\n",
    "    def displayBalance(self):\n",
    "        if self.verify_pin():\n",
    "            print(f\"Your Current Balance is: ₹{self.__balance}\")\n",
    "\n",
    "    def depositeCash(self):\n",
    "        if self.verify_pin():\n",
    "            amount = int(input(\"Enter Your Amount ₹: \"))\n",
    "            if amount > 0:\n",
    "                self.__balance += amount\n",
    "                print(f\"Deposited ₹{amount}.\\nUpdated Balance ₹{self.__balance}\")\n",
    "            else:\n",
    "                print(\"❌ Enter a Valid Amount\")\n",
    "\n",
    "    def wittCash(self):\n",
    "        if self.verify_pin():\n",
    "            try:\n",
    "                amount = int(input(\"Enter Amount to Withdraw ₹: \"))\n",
    "                if amount > 0:\n",
    "                    if amount <= self.__balance:\n",
    "                        self.__balance -= amount\n",
    "                        print(f\"Withdrawal ₹{amount}\\nCurrent Balance ₹{self.__balance}\")\n",
    "                    else:\n",
    "                        print(\"❌ Insufficient Funds\")\n",
    "                else:\n",
    "                    print(\"❌ Invalid Amount !!!\")\n",
    "            except ValueError:\n",
    "                print(\"❌ Invalid input. Please enter numbers only.\")\n",
    "\n",
    "             \n",
    "    def changeName(self):\n",
    "        if self.verify_pin():\n",
    "            oldName = input(\"Enter Your Old Name: \")\n",
    "            if self.accountHolderName == oldName:\n",
    "                newName = input('Enter your New Name: ')\n",
    "                if newName != oldName:\n",
    "                    if newName.replace(' ', '').isalpha():\n",
    "                        value = input(\"Are you sure you want to change your Name [Y/N]: \").lower()\n",
    "                        if value in ['y', 'yes']:\n",
    "                            self.accountHolderName = newName\n",
    "                            print(f\"User name updated successfully: {self.accountHolderName}\")\n",
    "                        else:\n",
    "                            print(\"❌ Cancelled. User Name not changed.\")\n",
    "                    else:\n",
    "                        print(\"❌ Name should contain only alphabet characters.\")\n",
    "                else:\n",
    "                    print(\"❌ Old name and New name can't be the same\")\n",
    "            else:\n",
    "                print(\"❌ Incorrect Current User Name\")\n",
    "                \n",
    "    def showAccontNumber(self):\n",
    "        if self.verify_pin():\n",
    "            print(f\"Your Current Account Number is: {self.accountNumber}\")\n",
    "\n",
    "    def changePIN(self):\n",
    "            phonenumber = input(\"enter last 4 digits of your linked phone number: \")\n",
    "            if phonenumber == self.phoneNumber[6:10]:\n",
    "                newPin = input(\"Create new PIN: \")\n",
    "                reConfirm = input(\"Re-Enter your New PIN: \")\n",
    "                \n",
    "                if newPin == reConfirm:\n",
    "                    \n",
    "                    if self.__pin != newPin:\n",
    "                        self.__pin = newPin\n",
    "                        print(\"✔️ Your New PIN Updated Successfully!\")\n",
    "                    else:\n",
    "                        print(\"❌ Old PIN and New PIN can't be the Same.\")\n",
    "                else:\n",
    "                    print(\"❌ Error: New PIN and Re-Entered PIN do not match.\")\n",
    "            else:\n",
    "                print(\"enter valid digits of your phone number!!! \")\n",
    "\n",
    "    def trans(self):\n",
    "        print(\"\"\"\n",
    "        \\n1. Account Details\n",
    "        \\n2. Account Balance\n",
    "        \\n3. Deposit Cash\n",
    "        \\n4. Withdraw Cash\n",
    "        \\n5. Change Name\n",
    "        \\n6. Show Account Number\n",
    "        \\n7. Change PIN\n",
    "        \\n8. Exit\n",
    "        \"\"\")\n",
    "        while True:\n",
    "            try:\n",
    "                opt = int(input(\"Choose an Option: \"))\n",
    "            except:\n",
    "                print(\"Error: Choose Correct Option\")\n",
    "            else:\n",
    "                if opt == 1:\n",
    "                    self.details()\n",
    "                elif opt == 2:\n",
    "                    self.displayBalance()\n",
    "                elif opt == 3:\n",
    "                    self.depositeCash()\n",
    "                elif opt == 4:\n",
    "                    self.wittCash()\n",
    "                elif opt == 5:\n",
    "                    self.changeName()\n",
    "                elif opt == 6:\n",
    "                    self.showAccontNumber()\n",
    "                elif opt == 7:\n",
    "                    self.changePIN()\n",
    "                elif opt == 8:\n",
    "                    print(\"\\nThank You\")\n",
    "                    break\n",
    "\n",
    "a1 = atm()\n",
    "a1.trans()"
   ]
  },
  {
   "cell_type": "code",
   "execution_count": null,
   "id": "5b3c3773-2c81-47b5-8a41-2c1878d33611",
   "metadata": {},
   "outputs": [],
   "source": [
    "# phone number , phone number last 4 digits for pin change, 3 attempt logic, clearer else logic for withdraw,"
   ]
  }
 ],
 "metadata": {
  "kernelspec": {
   "display_name": "Python 3 (ipykernel)",
   "language": "python",
   "name": "python3"
  },
  "language_info": {
   "codemirror_mode": {
    "name": "ipython",
    "version": 3
   },
   "file_extension": ".py",
   "mimetype": "text/x-python",
   "name": "python",
   "nbconvert_exporter": "python",
   "pygments_lexer": "ipython3",
   "version": "3.13.5"
  }
 },
 "nbformat": 4,
 "nbformat_minor": 5
}
