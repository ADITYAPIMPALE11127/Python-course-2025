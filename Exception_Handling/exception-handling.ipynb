{
 "cells": [
  {
   "cell_type": "markdown",
   "id": "41f9b96c-83f3-4bbb-8b17-52420a08a531",
   "metadata": {},
   "source": [
    "## Exception Handling: -\n",
    "* An exception is an event, which occurs during the execution of a program that disrupts the normal flow of the program's instructions.\n",
    "* In general, when a Python scripts encounters a situation that it cannot cope with, it raises an exception.\n",
    "* An exception is a Python Object that represents an error.\n",
    "* When a Python scripts raises an exception , it must handle the exception immediately otherwise it terminates and quits.\n",
    "* If you have some suspicious code that may raise an exception, you can defend your program by placing the suspicious code in a try:block.\n",
    "* After the tr:block, include an except: statement, followed by a block of code which handles the problem as elegently as possible.\n",
    "* Common Exceptions:\n",
    "    * Zero DivisionError\n",
    "    * NameError\n",
    "    * ValueError\n",
    "    * IOError\n",
    "    * EOFError\n",
    "    * IdentationError\n",
    "    * KeyError"
   ]
  },
  {
   "cell_type": "markdown",
   "id": "b6ea0071-a66d-40e9-b2f8-bd85bdfd0bf6",
   "metadata": {},
   "source": [
    "### below line throws an error "
   ]
  },
  {
   "cell_type": "code",
   "execution_count": 1,
   "id": "0f6263c9-3d2c-4a53-9453-b9fab7b1677a",
   "metadata": {},
   "outputs": [
    {
     "ename": "ZeroDivisionError",
     "evalue": "division by zero",
     "output_type": "error",
     "traceback": [
      "\u001b[31m---------------------------------------------------------------------------\u001b[39m",
      "\u001b[31mZeroDivisionError\u001b[39m                         Traceback (most recent call last)",
      "\u001b[36mCell\u001b[39m\u001b[36m \u001b[39m\u001b[32mIn[1]\u001b[39m\u001b[32m, line 1\u001b[39m\n\u001b[32m----> \u001b[39m\u001b[32m1\u001b[39m \u001b[38;5;28mprint\u001b[39m(\u001b[32;43m1\u001b[39;49m\u001b[43m/\u001b[49m\u001b[32;43m0\u001b[39;49m)\n\u001b[32m      2\u001b[39m \u001b[38;5;28mprint\u001b[39m(\u001b[33m'\u001b[39m\u001b[33mhello aditya\u001b[39m\u001b[33m'\u001b[39m)\n",
      "\u001b[31mZeroDivisionError\u001b[39m: division by zero"
     ]
    }
   ],
   "source": [
    "print(1/0)\n",
    "print('hello aditya')"
   ]
  },
  {
   "cell_type": "markdown",
   "id": "c0d4b65c-09a8-4f6e-acea-1984e7d146f5",
   "metadata": {},
   "source": [
    "### To handle such we use try:block"
   ]
  },
  {
   "cell_type": "code",
   "execution_count": 3,
   "id": "eb48d835-fd1c-4506-80d1-c51d90d914bc",
   "metadata": {},
   "outputs": [
    {
     "name": "stdout",
     "output_type": "stream",
     "text": [
      "It throws an error ZeroDivisionError\n",
      "Hello World\n"
     ]
    }
   ],
   "source": [
    "# This handles error by try anc catch so it prints an error \n",
    "# and moves on for the next line of code to execute \n",
    "try:\n",
    "    1/0\n",
    "except ZeroDivisionError:\n",
    "    print(\"It throws an error ZeroDivisionError\")\n",
    "\n",
    "print('Hello World')"
   ]
  },
  {
   "cell_type": "markdown",
   "id": "e512fe4f-bfb7-4548-add7-1769d4c89cbb",
   "metadata": {},
   "source": [
    "### Name Error"
   ]
  },
  {
   "cell_type": "code",
   "execution_count": 4,
   "id": "b43450d7-d517-45df-9a63-2a8704c56a70",
   "metadata": {},
   "outputs": [
    {
     "ename": "NameError",
     "evalue": "name 'list2' is not defined",
     "output_type": "error",
     "traceback": [
      "\u001b[31m---------------------------------------------------------------------------\u001b[39m",
      "\u001b[31mNameError\u001b[39m                                 Traceback (most recent call last)",
      "\u001b[36mCell\u001b[39m\u001b[36m \u001b[39m\u001b[32mIn[4]\u001b[39m\u001b[32m, line 3\u001b[39m\n\u001b[32m      1\u001b[39m list1 = []\n\u001b[32m      2\u001b[39m count = \u001b[32m0\u001b[39m\n\u001b[32m----> \u001b[39m\u001b[32m3\u001b[39m \u001b[38;5;28mprint\u001b[39m(\u001b[43mlist2\u001b[49m)\n",
      "\u001b[31mNameError\u001b[39m: name 'list2' is not defined"
     ]
    }
   ],
   "source": [
    "list1 = []\n",
    "count = 0\n",
    "print(list2)"
   ]
  },
  {
   "cell_type": "code",
   "execution_count": 5,
   "id": "1e9ce552-4bf6-414f-8985-d53420362079",
   "metadata": {},
   "outputs": [
    {
     "name": "stdout",
     "output_type": "stream",
     "text": [
      "its list1 and not list2 , it is a NameError\n"
     ]
    }
   ],
   "source": [
    "list1 = []\n",
    "try:\n",
    "    print(list2)\n",
    "except NameError:\n",
    "    print(\"its list1 and not list2 , it is a NameError\")"
   ]
  },
  {
   "cell_type": "markdown",
   "id": "979f8590-a406-473d-93c8-a06f6bcd8bdd",
   "metadata": {},
   "source": [
    "### Type Error"
   ]
  },
  {
   "cell_type": "code",
   "execution_count": 6,
   "id": "05346a3a-db7d-4347-9f5a-099d5842648b",
   "metadata": {},
   "outputs": [
    {
     "name": "stdin",
     "output_type": "stream",
     "text": [
      "enter any value: 12\n",
      "enter a string value:  apple\n"
     ]
    },
    {
     "ename": "TypeError",
     "evalue": "unsupported operand type(s) for +: 'int' and 'str'",
     "output_type": "error",
     "traceback": [
      "\u001b[31m---------------------------------------------------------------------------\u001b[39m",
      "\u001b[31mTypeError\u001b[39m                                 Traceback (most recent call last)",
      "\u001b[36mCell\u001b[39m\u001b[36m \u001b[39m\u001b[32mIn[6]\u001b[39m\u001b[32m, line 4\u001b[39m\n\u001b[32m      1\u001b[39m x = \u001b[38;5;28mint\u001b[39m(\u001b[38;5;28minput\u001b[39m(\u001b[33m\"\u001b[39m\u001b[33menter any value:\u001b[39m\u001b[33m\"\u001b[39m))\n\u001b[32m      2\u001b[39m y = \u001b[38;5;28minput\u001b[39m(\u001b[33m\"\u001b[39m\u001b[33menter a string value: \u001b[39m\u001b[33m\"\u001b[39m)\n\u001b[32m----> \u001b[39m\u001b[32m4\u001b[39m z = \u001b[43mx\u001b[49m\u001b[43m+\u001b[49m\u001b[43my\u001b[49m\n\u001b[32m      5\u001b[39m \u001b[38;5;28mprint\u001b[39m(z)\n",
      "\u001b[31mTypeError\u001b[39m: unsupported operand type(s) for +: 'int' and 'str'"
     ]
    }
   ],
   "source": [
    "x = int(input(\"enter any value:\"))\n",
    "y = input(\"enter a string value: \")\n",
    "\n",
    "z = x+y\n",
    "print(z)"
   ]
  },
  {
   "cell_type": "code",
   "execution_count": 10,
   "id": "35330b88-b756-4315-86be-54bd0eb4452a",
   "metadata": {},
   "outputs": [
    {
     "name": "stdout",
     "output_type": "stream",
     "text": [
      "This is a data type error, as string cannot conate number\n"
     ]
    }
   ],
   "source": [
    "try:\n",
    "    z = x + y\n",
    "    print(z)\n",
    "except TypeError:\n",
    "    print(\"This is a data type error, as string cannot conate number\")"
   ]
  },
  {
   "cell_type": "markdown",
   "id": "fec367e3-1754-4cac-9d02-2587e954dedf",
   "metadata": {},
   "source": [
    "### Index Error"
   ]
  },
  {
   "cell_type": "code",
   "execution_count": 12,
   "id": "3f087396-d977-498a-9eda-d4627e7c07d5",
   "metadata": {},
   "outputs": [
    {
     "ename": "IndexError",
     "evalue": "list index out of range",
     "output_type": "error",
     "traceback": [
      "\u001b[31m---------------------------------------------------------------------------\u001b[39m",
      "\u001b[31mIndexError\u001b[39m                                Traceback (most recent call last)",
      "\u001b[36mCell\u001b[39m\u001b[36m \u001b[39m\u001b[32mIn[12]\u001b[39m\u001b[32m, line 2\u001b[39m\n\u001b[32m      1\u001b[39m list1 = [\u001b[32m10\u001b[39m,\u001b[32m20\u001b[39m,\u001b[32m30\u001b[39m,\u001b[32m49\u001b[39m]\n\u001b[32m----> \u001b[39m\u001b[32m2\u001b[39m \u001b[43mlist1\u001b[49m\u001b[43m[\u001b[49m\u001b[32;43m6\u001b[39;49m\u001b[43m]\u001b[49m\n",
      "\u001b[31mIndexError\u001b[39m: list index out of range"
     ]
    }
   ],
   "source": [
    "list1 = [10,20,30,49]\n",
    "list1[6]"
   ]
  },
  {
   "cell_type": "code",
   "execution_count": 13,
   "id": "77091af7-1f01-4eac-80a1-43b6daafc279",
   "metadata": {},
   "outputs": [
    {
     "name": "stdout",
     "output_type": "stream",
     "text": [
      "Out of index, Index Error\n"
     ]
    }
   ],
   "source": [
    "list1 = [10,20,30,49]\n",
    "try:\n",
    "    list1[9]\n",
    "except IndexError:\n",
    "    print(\"Out of index, Index Error\")"
   ]
  },
  {
   "cell_type": "markdown",
   "id": "36831e56-01f7-44c8-8b8c-94775053c0b7",
   "metadata": {},
   "source": [
    "### KeyError"
   ]
  },
  {
   "cell_type": "code",
   "execution_count": 14,
   "id": "dc590bec-f465-45ec-bc40-2cf67edecf56",
   "metadata": {},
   "outputs": [
    {
     "data": {
      "text/plain": [
       "{'name': 'aditya', 'age': 23, 'email': 'asas@gmail.com'}"
      ]
     },
     "execution_count": 14,
     "metadata": {},
     "output_type": "execute_result"
    }
   ],
   "source": [
    "dict1 = dict(name='aditya',age=23,email='asas@gmail.com')\n",
    "dict1"
   ]
  },
  {
   "cell_type": "code",
   "execution_count": 15,
   "id": "71444633-02df-4764-b2e5-54ad009bec0d",
   "metadata": {},
   "outputs": [
    {
     "ename": "KeyError",
     "evalue": "'address'",
     "output_type": "error",
     "traceback": [
      "\u001b[31m---------------------------------------------------------------------------\u001b[39m",
      "\u001b[31mKeyError\u001b[39m                                  Traceback (most recent call last)",
      "\u001b[36mCell\u001b[39m\u001b[36m \u001b[39m\u001b[32mIn[15]\u001b[39m\u001b[32m, line 1\u001b[39m\n\u001b[32m----> \u001b[39m\u001b[32m1\u001b[39m \u001b[43mdict1\u001b[49m\u001b[43m[\u001b[49m\u001b[33;43m'\u001b[39;49m\u001b[33;43maddress\u001b[39;49m\u001b[33;43m'\u001b[39;49m\u001b[43m]\u001b[49m\n",
      "\u001b[31mKeyError\u001b[39m: 'address'"
     ]
    }
   ],
   "source": [
    "dict1['address']"
   ]
  },
  {
   "cell_type": "code",
   "execution_count": 16,
   "id": "f115d4ee-f9a2-4fec-a2df-af92ae643a7f",
   "metadata": {},
   "outputs": [
    {
     "name": "stdout",
     "output_type": "stream",
     "text": [
      "It is a key error, as key does not exists\n"
     ]
    }
   ],
   "source": [
    "try:\n",
    "    dict1['address']\n",
    "except KeyError:\n",
    "    print(\"It is a key error, as key does not exists\")"
   ]
  },
  {
   "cell_type": "markdown",
   "id": "6d1ad304-1688-4b36-b216-55934664eded",
   "metadata": {},
   "source": [
    "### Default Error"
   ]
  },
  {
   "cell_type": "code",
   "execution_count": 18,
   "id": "84b66490-891c-499e-89c0-edb3f7a71a1c",
   "metadata": {},
   "outputs": [
    {
     "name": "stdin",
     "output_type": "stream",
     "text": [
      "enter a number 10\n"
     ]
    },
    {
     "name": "stdout",
     "output_type": "stream",
     "text": [
      "the entered value is a :  10.0\n"
     ]
    },
    {
     "name": "stdin",
     "output_type": "stream",
     "text": [
      "enter a number fgd3\n"
     ]
    },
    {
     "name": "stdout",
     "output_type": "stream",
     "text": [
      "The process is not running\n"
     ]
    }
   ],
   "source": [
    "num1 =  float(input(\"enter a number\"))\n",
    "print(\"the entered value is a : \",num1)\n",
    "\n",
    "try:\n",
    "    num2 = float(input(\"enter a number\"))\n",
    "    print(\"the entered value is a : \",num2)\n",
    "    value = num1 / num2\n",
    "    print(\"the process is running with the value = \",value)\n",
    "except:\n",
    "    print(\"The process is not running\")"
   ]
  },
  {
   "cell_type": "markdown",
   "id": "3f851837-62c8-447a-8439-38ce223b5ff4",
   "metadata": {},
   "source": [
    "### multiple excepts"
   ]
  },
  {
   "cell_type": "code",
   "execution_count": 25,
   "id": "23e3b046-d1e4-4878-9910-d7c4ea835ad9",
   "metadata": {},
   "outputs": [
    {
     "name": "stdin",
     "output_type": "stream",
     "text": [
      "enter a number 10\n",
      "enter a number dd\n"
     ]
    },
    {
     "name": "stdout",
     "output_type": "stream",
     "text": [
      "You should provide a number not any other char\n"
     ]
    }
   ],
   "source": [
    "num1 =  float(input(\"enter a number\"))\n",
    "try:\n",
    "    \n",
    "    num2 = float(input(\"enter a number\"))\n",
    "    value = num1 / num2\n",
    "    print(\"the process is running with value: \",value)\n",
    "except ZeroDivisionError:\n",
    "    print(\"Since a number cannot be divided by zero this is ZerodivisionError\")\n",
    "except ValueError:\n",
    "    print(\"You should provide a number not any other char\")\n",
    "except TypeError:\n",
    "    print(\"enter a number not a string\")\n",
    "except:\n",
    "    print(\"something went wrong\")"
   ]
  },
  {
   "cell_type": "code",
   "execution_count": 29,
   "id": "f128548c-3b45-4944-b3df-ea7368edf750",
   "metadata": {},
   "outputs": [
    {
     "name": "stdin",
     "output_type": "stream",
     "text": [
      "enter a number 10\n",
      "enter a number 20\n"
     ]
    },
    {
     "name": "stdout",
     "output_type": "stream",
     "text": [
      "-3\n",
      "the process is running with value:  0.5\n",
      "\n",
      "the code is completed\n"
     ]
    }
   ],
   "source": [
    "\n",
    "try:\n",
    "    num1 =  float(input(\"enter a number\"))\n",
    "    num2 = float(input(\"enter a number\"))\n",
    "    value = num1 / num2\n",
    "  \n",
    "except ZeroDivisionError:\n",
    "    print(\"Since a number cannot be divided by zero this is ZerodivisionError\")\n",
    "except ValueError:\n",
    "    print(\"You should provide a number not any other char\")\n",
    "except TypeError:\n",
    "    print(\"enter a number not a string\")\n",
    "except:\n",
    "    print(\"something went wrong\")\n",
    "else:\n",
    "    # any coding can be done here\n",
    "    a = 10\n",
    "    b =13\n",
    "    c = a - b\n",
    "    print(c)\n",
    "    print(\"the process is running with value: \",value)\n",
    "finally:\n",
    "    print(\"\\nthe code is completed\")"
   ]
  },
  {
   "cell_type": "code",
   "execution_count": null,
   "id": "0c6d926d-b7c9-4eec-8e1a-84fa90c93136",
   "metadata": {},
   "outputs": [],
   "source": []
  }
 ],
 "metadata": {
  "kernelspec": {
   "display_name": "Python 3 (ipykernel)",
   "language": "python",
   "name": "python3"
  },
  "language_info": {
   "codemirror_mode": {
    "name": "ipython",
    "version": 3
   },
   "file_extension": ".py",
   "mimetype": "text/x-python",
   "name": "python",
   "nbconvert_exporter": "python",
   "pygments_lexer": "ipython3",
   "version": "3.13.5"
  }
 },
 "nbformat": 4,
 "nbformat_minor": 5
}
