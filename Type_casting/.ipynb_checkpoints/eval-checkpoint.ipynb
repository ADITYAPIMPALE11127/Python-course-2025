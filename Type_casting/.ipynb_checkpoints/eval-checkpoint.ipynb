{
 "cells": [
  {
   "cell_type": "markdown",
   "id": "e0684d68-a9b8-4bce-9293-31508111a786",
   "metadata": {},
   "source": [
    "#### eval() - evaluates a string as a Python expression"
   ]
  },
  {
   "cell_type": "code",
   "execution_count": 1,
   "id": "4182d485-7491-408c-be9f-4ff561912edf",
   "metadata": {},
   "outputs": [
    {
     "name": "stdout",
     "output_type": "stream",
     "text": [
      "32\n"
     ]
    }
   ],
   "source": [
    "x = \"12\"               # x is a string, not a number\n",
    "x1 = eval(x)           # eval() evaluates the string \"12\" as a Python expression → returns integer 12\n",
    "y = 20\n",
    "sum = x1 + y           # 12 + 20 = 32\n",
    "print(sum)             # Output: 32\n"
   ]
  },
  {
   "cell_type": "code",
   "execution_count": 2,
   "id": "459dabf4-bf0e-4568-9f01-758f50fd2717",
   "metadata": {},
   "outputs": [
    {
     "name": "stdout",
     "output_type": "stream",
     "text": [
      "<class 'float'>\n"
     ]
    }
   ],
   "source": [
    "q = \"12.5\"\n",
    "q1 = eval(q)\n",
    "\n",
    "print(type(q1))"
   ]
  },
  {
   "cell_type": "code",
   "execution_count": 1,
   "id": "190a0bf5-e5be-470d-9752-896f3ca9606f",
   "metadata": {},
   "outputs": [
    {
     "name": "stdout",
     "output_type": "stream",
     "text": [
      "35\n"
     ]
    }
   ],
   "source": [
    "x = \"12 + 23\"\n",
    "x1 = eval(x)\n",
    "print(x1)"
   ]
  },
  {
   "cell_type": "code",
   "execution_count": null,
   "id": "b70a4fc7-5264-485f-ae81-f5f87b0bf837",
   "metadata": {},
   "outputs": [],
   "source": []
  }
 ],
 "metadata": {
  "kernelspec": {
   "display_name": "Python 3 (ipykernel)",
   "language": "python",
   "name": "python3"
  },
  "language_info": {
   "codemirror_mode": {
    "name": "ipython",
    "version": 3
   },
   "file_extension": ".py",
   "mimetype": "text/x-python",
   "name": "python",
   "nbconvert_exporter": "python",
   "pygments_lexer": "ipython3",
   "version": "3.13.5"
  }
 },
 "nbformat": 4,
 "nbformat_minor": 5
}
