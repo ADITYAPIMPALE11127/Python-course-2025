{
 "cells": [
  {
   "cell_type": "markdown",
   "id": "005f219c",
   "metadata": {},
   "source": [
    "### Recursion"
   ]
  },
  {
   "cell_type": "markdown",
   "id": "9de1288f",
   "metadata": {},
   "source": [
    "* Calling a function inside a function is known as recursion "
   ]
  },
  {
   "cell_type": "markdown",
   "id": "89b3898e",
   "metadata": {},
   "source": [
    "##### Factorial using recursion"
   ]
  },
  {
   "cell_type": "code",
   "execution_count": 1,
   "id": "a008f33d",
   "metadata": {},
   "outputs": [
    {
     "name": "stdout",
     "output_type": "stream",
     "text": [
      "120\n"
     ]
    }
   ],
   "source": [
    "def normalFactorial(num):\n",
    "    fact = 1\n",
    "    for i in range(1,num + 1):\n",
    "        fact *= i\n",
    "    return fact\n",
    "\n",
    "print(normalFactorial(5))"
   ]
  },
  {
   "cell_type": "code",
   "execution_count": 2,
   "id": "7ac964ad",
   "metadata": {},
   "outputs": [
    {
     "name": "stdout",
     "output_type": "stream",
     "text": [
      "120\n"
     ]
    }
   ],
   "source": [
    "def factorial(n):\n",
    "    if n == 0:\n",
    "        return 1\n",
    "    return n * factorial(n - 1) # calling function inside a function\n",
    "\n",
    "print(factorial(5))"
   ]
  },
  {
   "cell_type": "markdown",
   "id": "c2345659",
   "metadata": {},
   "source": [
    "##### Sum of first n natural numbers using recursion"
   ]
  },
  {
   "cell_type": "code",
   "execution_count": 1,
   "id": "c899531f",
   "metadata": {},
   "outputs": [
    {
     "name": "stdout",
     "output_type": "stream",
     "text": [
      "55\n"
     ]
    }
   ],
   "source": [
    "def naturalSum(num):\n",
    "    if num < 0:\n",
    "        return False\n",
    "    if num == 0:\n",
    "        return 0\n",
    "    return num + naturalSum(num - 1)\n",
    "\n",
    "print(naturalSum(10))"
   ]
  },
  {
   "cell_type": "code",
   "execution_count": null,
   "id": "d2d5958c",
   "metadata": {},
   "outputs": [],
   "source": []
  }
 ],
 "metadata": {
  "kernelspec": {
   "display_name": "Python 3",
   "language": "python",
   "name": "python3"
  },
  "language_info": {
   "codemirror_mode": {
    "name": "ipython",
    "version": 3
   },
   "file_extension": ".py",
   "mimetype": "text/x-python",
   "name": "python",
   "nbconvert_exporter": "python",
   "pygments_lexer": "ipython3",
   "version": "3.9.12"
  }
 },
 "nbformat": 4,
 "nbformat_minor": 5
}
