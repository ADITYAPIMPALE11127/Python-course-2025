{
 "cells": [
  {
   "cell_type": "code",
   "execution_count": 1,
   "id": "2916dd70-1461-4008-88fd-6bfe10e84a01",
   "metadata": {},
   "outputs": [],
   "source": [
    "# 1. Write a lambda function to calculate the square of a number.\n"
   ]
  },
  {
   "cell_type": "code",
   "execution_count": 2,
   "id": "f8c79de4-9bd0-4fa1-8497-178c52138e91",
   "metadata": {},
   "outputs": [
    {
     "data": {
      "text/plain": [
       "16"
      ]
     },
     "execution_count": 2,
     "metadata": {},
     "output_type": "execute_result"
    }
   ],
   "source": [
    "sqaure = lambda x : x ** 2\n",
    "\n",
    "sqaure(4)"
   ]
  },
  {
   "cell_type": "code",
   "execution_count": 3,
   "id": "9fcf893e-d797-4031-9c33-760e36dfe6c9",
   "metadata": {},
   "outputs": [],
   "source": [
    "# 2. Use a lambda function with map() to add 5 to each number in the list:\n",
    "   # nums = [1, 2, 3, 4]\n"
   ]
  },
  {
   "cell_type": "code",
   "execution_count": 25,
   "id": "fc62071d-627d-4a1f-bf6a-971051801610",
   "metadata": {},
   "outputs": [
    {
     "name": "stdout",
     "output_type": "stream",
     "text": [
      "10\n"
     ]
    }
   ],
   "source": [
    "nums = [1, 2, 3, 4]\n",
    "added = sum(map(lambda x : x,nums))\n",
    "print(added)"
   ]
  },
  {
   "cell_type": "code",
   "execution_count": 21,
   "id": "1c764af8-6b2d-42e1-b8b8-689a1d55bac2",
   "metadata": {},
   "outputs": [
    {
     "name": "stdout",
     "output_type": "stream",
     "text": [
      "10\n"
     ]
    }
   ],
   "source": [
    "print(added)"
   ]
  },
  {
   "cell_type": "code",
   "execution_count": 27,
   "id": "ff649755-8ed4-4a95-a559-b018b41e996b",
   "metadata": {},
   "outputs": [],
   "source": [
    "# 3. Use filter() with a lambda to find even numbers from a list:  nums = [5, 8, 11, 14, 17, 20]"
   ]
  },
  {
   "cell_type": "code",
   "execution_count": 29,
   "id": "7ea16b4d-bf51-4c58-82e5-63e7cb1d2f28",
   "metadata": {},
   "outputs": [
    {
     "name": "stdout",
     "output_type": "stream",
     "text": [
      "[8, 14, 20]\n"
     ]
    }
   ],
   "source": [
    "nums = [5, 8, 11, 14, 17, 20]\n",
    "even = list(filter(lambda x : x % 2 == 0,nums))\n",
    "print(even)"
   ]
  },
  {
   "cell_type": "code",
   "execution_count": 30,
   "id": "2aad1037-b9cb-4c9e-a774-f66a14b71ba3",
   "metadata": {},
   "outputs": [],
   "source": [
    "# 4. Use reduce() with a lambda to compute the product of all elements in a list:\n",
    "   # nums = [2, 3, 4, 5]\n",
    "   # (Hint: from functools import reduce)\n"
   ]
  },
  {
   "cell_type": "code",
   "execution_count": 31,
   "id": "e3ecccb7-cec0-475d-9be2-1ff9ab0b814b",
   "metadata": {},
   "outputs": [
    {
     "name": "stdout",
     "output_type": "stream",
     "text": [
      "120\n"
     ]
    }
   ],
   "source": [
    "from functools import reduce\n",
    "nums = [2,3,4,5]\n",
    "product = reduce(lambda x,y : x * y,nums )\n",
    "print(product)"
   ]
  },
  {
   "cell_type": "code",
   "execution_count": 32,
   "id": "b4ae034f-e8c8-4908-8f2c-6101fba46bff",
   "metadata": {},
   "outputs": [],
   "source": [
    "# 6. Write a lambda that checks if a string starts with 'A'."
   ]
  },
  {
   "cell_type": "code",
   "execution_count": 34,
   "id": "764702df-6c32-4b31-81f4-7e3daadbeec9",
   "metadata": {},
   "outputs": [
    {
     "data": {
      "text/plain": [
       "True"
      ]
     },
     "execution_count": 34,
     "metadata": {},
     "output_type": "execute_result"
    }
   ],
   "source": [
    "starts_with_A = lambda s: len(s) > 0 and s[0] == 'A'\n",
    "starts_with_A('Aditya')"
   ]
  },
  {
   "cell_type": "code",
   "execution_count": 38,
   "id": "608c8985-a04c-48b2-9bb2-b2a24b5669f3",
   "metadata": {},
   "outputs": [],
   "source": [
    "# 7. Use a lambda function with map() to convert a list of Celsius temperatures to Fahrenheit:\n",
    "#    temps = [0, 20, 37, 100]"
   ]
  },
  {
   "cell_type": "code",
   "execution_count": 39,
   "id": "e7465351-6140-4c9f-83ef-bdfe04969bf6",
   "metadata": {},
   "outputs": [
    {
     "name": "stdout",
     "output_type": "stream",
     "text": [
      "[32.0, 68.0, 98.60000000000001, 212.0]\n"
     ]
    }
   ],
   "source": [
    "c_to_f = lambda x : x * (9 / 5) + 32\n",
    "temps = [0,20,37,100]\n",
    "new_temps_in_farhen = list(map(c_to_f,temps))\n",
    "print(new_temps_in_farhen)"
   ]
  },
  {
   "cell_type": "code",
   "execution_count": 40,
   "id": "fa9eb0b9-037c-4199-91c8-3192c8f0a5d3",
   "metadata": {},
   "outputs": [],
   "source": [
    "# 8. Given a list of strings, filter all strings with length > 3 using a lambda:\n",
    "   # words = ['pen', 'notebook', 'apple', 'go']\n"
   ]
  },
  {
   "cell_type": "code",
   "execution_count": 42,
   "id": "d60f6e79-64e9-4a52-a840-41cba9c687e4",
   "metadata": {},
   "outputs": [
    {
     "name": "stdout",
     "output_type": "stream",
     "text": [
      "['notebook', 'apple']\n"
     ]
    }
   ],
   "source": [
    "str1 = lambda x : len(x) > 3\n",
    "words = ['pen', 'notebook', 'apple', 'go']\n",
    "morethan3 = list(filter(str1,words))\n",
    "print(morethan3)"
   ]
  },
  {
   "cell_type": "code",
   "execution_count": null,
   "id": "bf332a9d-7a8c-4eda-b658-a43da1b083fc",
   "metadata": {},
   "outputs": [],
   "source": []
  }
 ],
 "metadata": {
  "kernelspec": {
   "display_name": "Python 3 (ipykernel)",
   "language": "python",
   "name": "python3"
  },
  "language_info": {
   "codemirror_mode": {
    "name": "ipython",
    "version": 3
   },
   "file_extension": ".py",
   "mimetype": "text/x-python",
   "name": "python",
   "nbconvert_exporter": "python",
   "pygments_lexer": "ipython3",
   "version": "3.13.5"
  }
 },
 "nbformat": 4,
 "nbformat_minor": 5
}
