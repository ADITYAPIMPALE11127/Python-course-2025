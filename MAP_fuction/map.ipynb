{
 "cells": [
  {
   "cell_type": "markdown",
   "id": "d85176d4",
   "metadata": {},
   "source": [
    "#### The map() function is used to apply a function to every item in a list (or any iterable).\n",
    "##### syntax map(function, iterable)\n",
    "##### map returns a map object\n",
    " "
   ]
  },
  {
   "cell_type": "code",
   "execution_count": 7,
   "id": "69513f9c",
   "metadata": {},
   "outputs": [
    {
     "name": "stdout",
     "output_type": "stream",
     "text": [
      "[8, 27, 64, 125, 216, 343, 512]\n"
     ]
    }
   ],
   "source": [
    "numbers = [2,3,4,5,6,7,8]\n",
    "\n",
    "def cubes(x):\n",
    "    return x**3\n",
    "\n",
    "new = list(map(cubes,numbers))\n",
    "print(new)"
   ]
  },
  {
   "cell_type": "code",
   "execution_count": 8,
   "id": "8ad6ff83",
   "metadata": {},
   "outputs": [
    {
     "name": "stdout",
     "output_type": "stream",
     "text": [
      "('Hello aditya', 'Hello sahil', 'Hello Rohit', 'Hello Ram')\n"
     ]
    }
   ],
   "source": [
    "tuple1 = (\"aditya\",\"sahil\",\"Rohit\",\"Ram\")\n",
    "def greet(s):\n",
    "    return \"Hello\" +\" \"+ s\n",
    "\n",
    "newTuples = tuple(map(greet,tuple1))\n",
    "print(newTuples)"
   ]
  },
  {
   "cell_type": "code",
   "execution_count": 9,
   "id": "a183ade6",
   "metadata": {},
   "outputs": [
    {
     "data": {
      "text/plain": [
       "['APPLE', 'BANANA', 'CHERRY']"
      ]
     },
     "execution_count": 9,
     "metadata": {},
     "output_type": "execute_result"
    }
   ],
   "source": [
    "fruits = [\"apple\", \"banana\", \"cherry\"]\n",
    "def uppercasing(f):\n",
    "    return f.upper()    \n",
    "newFruits = list(map(uppercasing,fruits))\n",
    "newFruits"
   ]
  },
  {
   "cell_type": "code",
   "execution_count": 12,
   "id": "76018be9",
   "metadata": {},
   "outputs": [
    {
     "data": {
      "text/plain": [
       "['Python', 'Java', 'C++']"
      ]
     },
     "execution_count": 12,
     "metadata": {},
     "output_type": "execute_result"
    }
   ],
   "source": [
    "langs = [\"python\",\"java\",\"c++\"]\n",
    "def capitalIt(string):\n",
    "    return string.capitalize()\n",
    "cap_langs = list(map(capitalIt,langs))\n",
    "cap_langs"
   ]
  },
  {
   "cell_type": "code",
   "execution_count": 16,
   "id": "88b35490",
   "metadata": {},
   "outputs": [
    {
     "data": {
      "text/plain": [
       "[8, 3, 12]"
      ]
     },
     "execution_count": 16,
     "metadata": {},
     "output_type": "execute_result"
    }
   ],
   "source": [
    "words = [\"elephant\", \"cat\", \"hippopotamus\"]\n",
    "def calLength(string):\n",
    "    return len(string)\n",
    "len_of_words = list(map(calLength,words))\n",
    "len_of_words"
   ]
  },
  {
   "cell_type": "code",
   "execution_count": null,
   "id": "8ff83fda",
   "metadata": {},
   "outputs": [],
   "source": []
  }
 ],
 "metadata": {
  "kernelspec": {
   "display_name": "Python 3",
   "language": "python",
   "name": "python3"
  },
  "language_info": {
   "codemirror_mode": {
    "name": "ipython",
    "version": 3
   },
   "file_extension": ".py",
   "mimetype": "text/x-python",
   "name": "python",
   "nbconvert_exporter": "python",
   "pygments_lexer": "ipython3",
   "version": "3.13.3"
  }
 },
 "nbformat": 4,
 "nbformat_minor": 5
}
