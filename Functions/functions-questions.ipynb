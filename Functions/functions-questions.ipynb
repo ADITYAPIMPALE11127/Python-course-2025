{
 "cells": [
  {
   "cell_type": "markdown",
   "id": "3b6b3965-ce46-4e9d-bc5e-817d830d9496",
   "metadata": {},
   "source": [
    "# 1. Define a function to convert *Celsius to Fahrenheit*.\n"
   ]
  },
  {
   "cell_type": "code",
   "execution_count": 1,
   "id": "0344ca7d-1d78-4990-88b2-115bf885285d",
   "metadata": {},
   "outputs": [
    {
     "data": {
      "text/plain": [
       "212.0"
      ]
     },
     "execution_count": 1,
     "metadata": {},
     "output_type": "execute_result"
    }
   ],
   "source": [
    "def celtofar(c):\n",
    "    f = (c * 9 /5) + 32\n",
    "    return f\n",
    "\n",
    "celtofar(100)"
   ]
  },
  {
   "cell_type": "markdown",
   "id": "d095d6a7-b6b2-46f5-b2af-f9285f13b0ff",
   "metadata": {},
   "source": [
    "### 2. Write a function to check if a number is a *perfect square*."
   ]
  },
  {
   "cell_type": "code",
   "execution_count": 27,
   "id": "3effff7f-06c6-4ee7-9cf1-fec91dc1896e",
   "metadata": {},
   "outputs": [
    {
     "name": "stdout",
     "output_type": "stream",
     "text": [
      "256 is a perfect sqaure\n"
     ]
    }
   ],
   "source": [
    "def perfectSqaure(n):\n",
    "    if n < 0:\n",
    "        return False\n",
    "    lst = []\n",
    "    for i in range(1, n + 1):\n",
    "        lst.append(i*i)\n",
    "    if  n in lst:\n",
    "        print(f\"{n} is a perfect sqaure\")\n",
    "    else:\n",
    "        print(f\"{n} is not a perfect sqaure\")\n",
    "perfectSqaure(256)"
   ]
  },
  {
   "cell_type": "markdown",
   "id": "25c41458-7d84-46f0-b28b-acb2b3bada26",
   "metadata": {},
   "source": [
    "### 3. Create a function to return the *length of a string*."
   ]
  },
  {
   "cell_type": "code",
   "execution_count": 3,
   "id": "9c4bda8b-3cf7-4ec0-a4a2-f8ccac38708d",
   "metadata": {},
   "outputs": [
    {
     "data": {
      "text/plain": [
       "6"
      ]
     },
     "execution_count": 3,
     "metadata": {},
     "output_type": "execute_result"
    }
   ],
   "source": [
    "def length_count(string1):\n",
    "    count = 0\n",
    "    for i in string1:\n",
    "        count += 1\n",
    "    return count\n",
    "length_count(\"aditya\")"
   ]
  },
  {
   "cell_type": "markdown",
   "id": "39c5cb10-3822-470b-834c-757ba801cbfc",
   "metadata": {},
   "source": [
    "### 4. Define a function to find the *sum of all digits* of a number."
   ]
  },
  {
   "cell_type": "code",
   "execution_count": 6,
   "id": "e6fb5a31-4933-4160-83a4-fdd47775f83e",
   "metadata": {},
   "outputs": [
    {
     "name": "stdin",
     "output_type": "stream",
     "text": [
      "enter a number:  12345678910\n"
     ]
    },
    {
     "data": {
      "text/plain": [
       "46"
      ]
     },
     "execution_count": 6,
     "metadata": {},
     "output_type": "execute_result"
    }
   ],
   "source": [
    "def sumDigits():\n",
    "    n = input(\"enter a number: \" )\n",
    "    sum1 = 0\n",
    "    for i in n:\n",
    "        a = int(i)\n",
    "        sum1 += a\n",
    "    return sum1\n",
    "sumDigits()"
   ]
  },
  {
   "cell_type": "markdown",
   "id": "ece08bc8-13fb-4797-8021-0e22eed2b27b",
   "metadata": {},
   "source": [
    "### 5. Write a function that accepts a string and returns it in *uppercase*."
   ]
  },
  {
   "cell_type": "code",
   "execution_count": 8,
   "id": "5ce655b6-3970-47b2-be6a-94f12eb93b03",
   "metadata": {},
   "outputs": [
    {
     "data": {
      "text/plain": [
       "'ADITYA'"
      ]
     },
     "execution_count": 8,
     "metadata": {},
     "output_type": "execute_result"
    }
   ],
   "source": [
    "def upperMaker(word):\n",
    "    uppercase = word.upper()\n",
    "    return uppercase\n",
    "\n",
    "upperMaker(\"aditya\")"
   ]
  },
  {
   "cell_type": "markdown",
   "id": "e9e755eb-1f86-4f1e-88c0-24ffed223ee0",
   "metadata": {},
   "source": [
    "### 6. Define a function to count the number of *words in a sentence*."
   ]
  },
  {
   "cell_type": "code",
   "execution_count": 12,
   "id": "7570173f-0652-41b9-950e-142080070e00",
   "metadata": {},
   "outputs": [
    {
     "name": "stdin",
     "output_type": "stream",
     "text": [
      "enter a sentence:  the brown fox\n"
     ]
    },
    {
     "name": "stdout",
     "output_type": "stream",
     "text": [
      "words in the sentence: ['the', 'brown', 'fox']\n",
      "no of words are: 3\n"
     ]
    }
   ],
   "source": [
    "def wordCount():\n",
    "    sen = input(\"enter a sentence: \")\n",
    "    sen1 = sen.split()\n",
    "    countWord = 0\n",
    "    for word in sen1:\n",
    "        countWord += 1\n",
    "    print(f\"words in the sentence: {sen1}\")\n",
    "    print(f\"no of words are: {countWord}\")\n",
    "wordCount()"
   ]
  },
  {
   "cell_type": "markdown",
   "id": "ab54c428-565b-418d-a91d-eb4fb2535d4a",
   "metadata": {},
   "source": [
    "### 7. Write a function to return the *smallest number in a list*."
   ]
  },
  {
   "cell_type": "code",
   "execution_count": 14,
   "id": "3f134c4f-048a-4da5-8232-0cb65e982950",
   "metadata": {},
   "outputs": [
    {
     "name": "stdout",
     "output_type": "stream",
     "text": [
      "The smallest no in the list is: 1\n"
     ]
    }
   ],
   "source": [
    "def smallestNum (list1):\n",
    "    min1 = list1[0]\n",
    "    for num in list1:\n",
    "        if num < min1:\n",
    "            min1 = num\n",
    "    print(f\"The smallest no in the list is: {min1}\")\n",
    "\n",
    "smallestNum([1,2,3,4,1,23,22,21])"
   ]
  },
  {
   "cell_type": "code",
   "execution_count": 71,
   "id": "6fe7297e-84ee-4844-8496-078c2f710ceb",
   "metadata": {},
   "outputs": [
    {
     "name": "stdin",
     "output_type": "stream",
     "text": [
      "Enter any value (0 to stop):  1\n",
      "Enter any value (0 to stop):  2\n",
      "Enter any value (0 to stop):  12\n",
      "Enter any value (0 to stop):  34\n",
      "Enter any value (0 to stop):  2\n",
      "Enter any value (0 to stop):  0\n"
     ]
    },
    {
     "name": "stdout",
     "output_type": "stream",
     "text": [
      "The smallest number in the list is: 1 and max: 34\n"
     ]
    }
   ],
   "source": [
    "def minNum():\n",
    "    listVal = []\n",
    "    while True:\n",
    "        userVal = int(input(\"Enter any value (0 to stop): \"))\n",
    "        if userVal == 0:  \n",
    "            break\n",
    "        listVal.append(userVal)\n",
    "    min1 = listVal[0]\n",
    "    max1 = listVal[-1]\n",
    "    for num in listVal:\n",
    "        if num < min1:\n",
    "            min1 = num\n",
    "        if num> max1:\n",
    "            max1 = num\n",
    "    print(f\"The smallest number in the list is: {min1} and max: {max1}\")\n",
    "minNum()"
   ]
  },
  {
   "cell_type": "markdown",
   "id": "2662f6dd-9686-4524-97ed-2d2607cf404e",
   "metadata": {},
   "source": [
    "### 8. Define a function that *multiplies all items in a list*."
   ]
  },
  {
   "cell_type": "code",
   "execution_count": 15,
   "id": "19d2024b-6f0a-47ab-99bf-b87c18652df9",
   "metadata": {},
   "outputs": [
    {
     "name": "stdout",
     "output_type": "stream",
     "text": [
      "The multiplication all items in the list is: 24\n"
     ]
    }
   ],
   "source": [
    "def multList(lst):\n",
    "    mult = 1\n",
    "    for num in lst:\n",
    "        mult *= num\n",
    "    print(f\"The multiplication all items in the list is: {mult}\")\n",
    "\n",
    "multList([1,2,3,4])"
   ]
  },
  {
   "cell_type": "markdown",
   "id": "dee71284-ec3c-4ab8-a4c2-e677106a50ba",
   "metadata": {},
   "source": [
    "### 9. Create a function to check if a number is *Armstrong number*."
   ]
  },
  {
   "cell_type": "code",
   "execution_count": 36,
   "id": "a6b5f8d0-d068-4bed-a4f7-d5ad779afb69",
   "metadata": {},
   "outputs": [
    {
     "name": "stdin",
     "output_type": "stream",
     "text": [
      "enter a number:  153\n"
     ]
    },
    {
     "name": "stdout",
     "output_type": "stream",
     "text": [
      "153 is a armstrong number\n"
     ]
    }
   ],
   "source": [
    "def armstrongNumber():\n",
    "    n = input(\"enter a number: \")\n",
    "    sumCube = 0\n",
    "    for i in n:\n",
    "        a = int(i)\n",
    "        cube = a ** 3\n",
    "        sumCube += cube\n",
    "    if int(n) == sumCube:\n",
    "        print(f\"{n} is a armstrong number\")\n",
    "    else:\n",
    "        print(f\" {n} is not an armstrong number\")\n",
    "\n",
    "armstrongNumber()"
   ]
  },
  {
   "cell_type": "markdown",
   "id": "7e7262ac-3e43-4213-b4e3-cc2895f813f4",
   "metadata": {},
   "source": [
    "### 10. Write a function that returns *True if a number is palindrome*, else False."
   ]
  },
  {
   "cell_type": "code",
   "execution_count": 43,
   "id": "07833ad7-3f2a-4ee0-ba52-959f30a4877c",
   "metadata": {},
   "outputs": [
    {
     "name": "stdin",
     "output_type": "stream",
     "text": [
      "enter a string:  madam\n"
     ]
    },
    {
     "name": "stdout",
     "output_type": "stream",
     "text": [
      "madam\n"
     ]
    },
    {
     "data": {
      "text/plain": [
       "True"
      ]
     },
     "execution_count": 43,
     "metadata": {},
     "output_type": "execute_result"
    }
   ],
   "source": [
    "def palindromeCheck():\n",
    "    str1 = input(\"enter a string: \")\n",
    "    rev = \"\"\n",
    "    for ch in str1:\n",
    "        rev = ch + rev\n",
    "    print(rev)\n",
    "    if rev == str1:\n",
    "        return True\n",
    "    else:\n",
    "        return False\n",
    "palindromeCheck()"
   ]
  },
  {
   "cell_type": "markdown",
   "id": "6dcf5c40-aa35-4261-b3d7-82a2ff7971cb",
   "metadata": {},
   "source": [
    "### 11. Create a function that accepts a list and returns the *average of numbers*."
   ]
  },
  {
   "cell_type": "code",
   "execution_count": 45,
   "id": "3fb7c37a-c6f7-45d1-8189-f7f61df40fbc",
   "metadata": {},
   "outputs": [
    {
     "name": "stdout",
     "output_type": "stream",
     "text": [
      "the average of all numbers in the list is:  2.5\n"
     ]
    }
   ],
   "source": [
    "def averageList(list1):\n",
    "    sum1 = 0\n",
    "    count = 0\n",
    "    for i in list1:\n",
    "        sum1 += i\n",
    "        count += 1\n",
    "        avg = sum1 / count\n",
    "    print(f\"the average of all numbers in the list is:  {avg}\")\n",
    "\n",
    "averageList([1,2,3,4])"
   ]
  },
  {
   "cell_type": "markdown",
   "id": "1ac83db1-1986-4b32-b32b-f166fff738c7",
   "metadata": {},
   "source": [
    "### 12. Write a function that takes two strings and returns *True if they are anagrams*."
   ]
  },
  {
   "cell_type": "code",
   "execution_count": 52,
   "id": "a45a5e84-1a72-4edb-bf6c-5d2356fef0a7",
   "metadata": {},
   "outputs": [
    {
     "name": "stdin",
     "output_type": "stream",
     "text": [
      "enter 1st string:  pad\n",
      "enter 2nd string:  dap\n"
     ]
    },
    {
     "name": "stdout",
     "output_type": "stream",
     "text": [
      "pad and dap are anagrams\n"
     ]
    }
   ],
   "source": [
    "def anagram():\n",
    "    str1 = input(\"enter 1st string: \")\n",
    "    str2 = input(\"enter 2nd string: \")\n",
    "\n",
    "    if len(str1) != len(str2):\n",
    "        print(f\"As the length of both string does not match, the strings are not an anagram\")\n",
    "\n",
    "    sorted1 = sorted(str1)\n",
    "    sorted2 = sorted(str2)\n",
    "    if sorted1 == sorted2:\n",
    "        print(f\"{str1} and {str2} are anagrams\")\n",
    "    else:\n",
    "        print(f\"{str1} and {str2} are not anagrams\")\n",
    "anagram()"
   ]
  },
  {
   "cell_type": "markdown",
   "id": "eef019c7-5836-450e-b508-2b2744900047",
   "metadata": {},
   "source": [
    "### 13. Define a function that takes a list and returns the *count of even numbers*.\n"
   ]
  },
  {
   "cell_type": "code",
   "execution_count": 54,
   "id": "aaa31bda-147f-4fe8-b2a7-a5ad902fb41f",
   "metadata": {},
   "outputs": [
    {
     "name": "stdout",
     "output_type": "stream",
     "text": [
      "[1, 2, 3, 4, 5, 6, 7, 8, 9] has in total 4 even numbers\n"
     ]
    }
   ],
   "source": [
    "def countEven(lst):\n",
    "    count = 0\n",
    "    for num in lst:\n",
    "        if num % 2 == 0:\n",
    "            count +=1\n",
    "    print(F\"{lst} has in total {count} even numbers\")\n",
    "countEven([1,2,3,4,5,6,7,8,9])"
   ]
  },
  {
   "cell_type": "markdown",
   "id": "0912e81b-5160-41bd-91fb-69c224ff9f9a",
   "metadata": {},
   "source": [
    "### 14. Write a function to remove *duplicates from a list*."
   ]
  },
  {
   "cell_type": "code",
   "execution_count": 56,
   "id": "2024b3c4-9e16-415a-9112-2a4192699f59",
   "metadata": {},
   "outputs": [
    {
     "data": {
      "text/plain": [
       "[1, 4, 22, 33]"
      ]
     },
     "execution_count": 56,
     "metadata": {},
     "output_type": "execute_result"
    }
   ],
   "source": [
    "def removeDups(lst):\n",
    "    noDups = set(lst)\n",
    "    lst = list(noDups)\n",
    "    return lst\n",
    "removeDups([1,22,33,33,22,1,4,4,1])"
   ]
  },
  {
   "cell_type": "markdown",
   "id": "974d30c1-70db-4075-a768-e8ccc48e367e",
   "metadata": {},
   "source": [
    "### 15. Write a function to check if a number is a *Harshad number* (divisible by sum of digits)."
   ]
  },
  {
   "cell_type": "code",
   "execution_count": null,
   "id": "5ae50d92-057a-46e8-9ff1-7fe78e172dd8",
   "metadata": {},
   "outputs": [],
   "source": []
  }
 ],
 "metadata": {
  "kernelspec": {
   "display_name": "Python 3 (ipykernel)",
   "language": "python",
   "name": "python3"
  },
  "language_info": {
   "codemirror_mode": {
    "name": "ipython",
    "version": 3
   },
   "file_extension": ".py",
   "mimetype": "text/x-python",
   "name": "python",
   "nbconvert_exporter": "python",
   "pygments_lexer": "ipython3",
   "version": "3.13.5"
  }
 },
 "nbformat": 4,
 "nbformat_minor": 5
}
