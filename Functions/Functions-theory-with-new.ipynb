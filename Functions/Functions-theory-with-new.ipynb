{
 "cells": [
  {
   "cell_type": "markdown",
   "id": "4dcfc110-b1f2-4184-812c-f639f964ad7e",
   "metadata": {},
   "source": [
    "## 9. Functions in Python\n",
    "* In python, a function is a group of related statements that perform a specific task.\n",
    "* Functions help break our program into smaller and modular chunks. As our program grows larger and larger, functions makes it more orgranized and manageable.\n",
    "* It avoids repetition and makes the code reusable.\n",
    "* Pre-defined functions\n",
    "* user defined functions.\n",
    "* A function is defined using def keyword followed by the function name and parenthesis().\n",
    "* Keyword def that marks the start of the function header.\n",
    "* A function name  to uniquely identify the function.\n",
    "* Function naming follows the same rule of writing identifiers in python.\n",
    "* parameters arguments through which we pass values to a function. They are optional.\n",
    "* A colon : to mark end of the function header.\n",
    "* optional documentation string docstring to describe what the function does.\n",
    "* statements must have the same identation level as 4 spaces.\n",
    "* an optional return statement to return a value from the function."
   ]
  },
  {
   "cell_type": "markdown",
   "id": "1022af48-82ba-4178-b9ba-abfdea35f6e7",
   "metadata": {},
   "source": [
    "### types of functions are: - \n",
    "#### 1. function with parameters.\n",
    "#### 2. function without parameters.\n",
    "#### 3. function with return value.\n",
    "#### 4. function without return value"
   ]
  },
  {
   "cell_type": "markdown",
   "id": "b519b9c3-571c-4f28-9598-37ace160a4ec",
   "metadata": {},
   "source": [
    "# Variables: - \n",
    "* __The input to a function is called parameter.__\n",
    "* __A variable that is declared inside a function is called a local variable.__\n",
    "* __The parameter only exists within the function (i.e. the point where the function starts and stops.)__\n",
    "* __A variable that is declared outside a function definition is a global variable and its value is accessible and modifiable thorughout the program.__"
   ]
  },
  {
   "cell_type": "code",
   "execution_count": 4,
   "id": "1fdc6302-654c-4348-9764-db10b04e1682",
   "metadata": {},
   "outputs": [
    {
     "data": {
      "text/plain": [
       "55"
      ]
     },
     "execution_count": 4,
     "metadata": {},
     "output_type": "execute_result"
    }
   ],
   "source": [
    "def sum1(n):\n",
    "    Sum = 0 \n",
    "    for i in range(1,n+1):\n",
    "        Sum+=i\n",
    "    return Sum\n",
    "\n",
    "sum1(10)"
   ]
  },
  {
   "cell_type": "code",
   "execution_count": 31,
   "id": "754f06dc-569f-4a98-943e-d4178c05ef8a",
   "metadata": {},
   "outputs": [
    {
     "data": {
      "text/plain": [
       "(11,\n",
       " 32,\n",
       " 9,\n",
       " 43,\n",
       " ['The', 'quick', 'brown', 'fox', 'jumps', 'over', 'the', 'lazy', 'dog'],\n",
       " 8,\n",
       " 35)"
      ]
     },
     "execution_count": 31,
     "metadata": {},
     "output_type": "execute_result"
    }
   ],
   "source": [
    "val = \"The quick brown fox jumps over the lazy dog\"\n",
    "def vowelConsocount():\n",
    "    Vowels = \"aeiou\"\n",
    "    consoCount,vowelCount,char_count, word_count,white_space_count  = 0,0,0,0,0\n",
    "    for ch in val:\n",
    "        char_count += 1\n",
    "        if ch in Vowels:\n",
    "            vowelCount += 1\n",
    "        else:\n",
    "            consoCount += 1\n",
    "        if ch == \" \":\n",
    "            white_space_count +=1     \n",
    "        total_char_without_white_space = char_count - white_space_count\n",
    "    words = val.split(\" \")\n",
    "    for word in words:\n",
    "        word_count += 1\n",
    "    return vowelCount,consoCount,word_count,char_count,words,white_space_count,total_char_without_white_space\n",
    "vowelConsocount()   "
   ]
  },
  {
   "cell_type": "code",
   "execution_count": null,
   "id": "7fcc86d6-1c70-4451-9177-9d86d964c459",
   "metadata": {},
   "outputs": [],
   "source": []
  }
 ],
 "metadata": {
  "kernelspec": {
   "display_name": "Python 3 (ipykernel)",
   "language": "python",
   "name": "python3"
  },
  "language_info": {
   "codemirror_mode": {
    "name": "ipython",
    "version": 3
   },
   "file_extension": ".py",
   "mimetype": "text/x-python",
   "name": "python",
   "nbconvert_exporter": "python",
   "pygments_lexer": "ipython3",
   "version": "3.13.5"
  }
 },
 "nbformat": 4,
 "nbformat_minor": 5
}
