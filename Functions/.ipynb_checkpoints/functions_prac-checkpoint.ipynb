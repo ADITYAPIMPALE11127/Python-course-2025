{
 "cells": [
  {
   "cell_type": "markdown",
   "id": "8532c5d7",
   "metadata": {},
   "source": [
    "#### Functions -  It is a reusable block of code "
   ]
  },
  {
   "cell_type": "markdown",
   "id": "09a302e9",
   "metadata": {},
   "source": [
    "#### How to assign the value of a function to a variable"
   ]
  },
  {
   "cell_type": "markdown",
   "id": "fe72e974",
   "metadata": {},
   "source": [
    "##### W.A.P to find average of numbers "
   ]
  },
  {
   "cell_type": "code",
   "execution_count": null,
   "id": "b44642f9",
   "metadata": {},
   "outputs": [
    {
     "name": "stdout",
     "output_type": "stream",
     "text": [
      "total of numbers: 5\n",
      "Total sum: 15\n",
      "average is: 3.0\n"
     ]
    }
   ],
   "source": [
    "def average(*args):\n",
    "    sum = 0\n",
    "    print(f\"total of numbers: {len(args)}\")\n",
    "    for num in args:\n",
    "        sum += num\n",
    "    avg = sum / len(args)\n",
    "    print(f\"Total sum: {sum}\")\n",
    "    # print(f\" average is: {avg}\") # does not allow to store value to the variable so variable prints as None\n",
    "    return f\"average is: {avg}\" # return allows to store value in a variable\n",
    "    \n",
    "a1 = average(1,2,3,4,5)\n",
    "print(a1)"
   ]
  },
  {
   "cell_type": "code",
   "execution_count": 13,
   "id": "5d3e292d",
   "metadata": {},
   "outputs": [
    {
     "data": {
      "text/plain": [
       "5050"
      ]
     },
     "execution_count": 13,
     "metadata": {},
     "output_type": "execute_result"
    }
   ],
   "source": [
    "\n",
    "def sum_naturals(n):\n",
    "    sum = 0 \n",
    "    for i in range(0,n+1):\n",
    "        sum +=i\n",
    "    return sum\n",
    "\n",
    "sum_naturals(100)"
   ]
  },
  {
   "cell_type": "code",
   "execution_count": 14,
   "id": "8c7538d9",
   "metadata": {},
   "outputs": [
    {
     "data": {
      "text/plain": [
       "True"
      ]
     },
     "execution_count": 14,
     "metadata": {},
     "output_type": "execute_result"
    }
   ],
   "source": [
    "def is_prime(n):\n",
    "    if n == 0:\n",
    "        return False\n",
    "    elif n == 1:\n",
    "        return False\n",
    "    temp = 0\n",
    "    for i in range(2,n):\n",
    "        if n % i == 0:\n",
    "            temp = temp + 1\n",
    "        i += 1\n",
    "    if temp > 0:\n",
    "        return False\n",
    "    else:\n",
    "        return True\n",
    "    \n",
    "is_prime(2)"
   ]
  },
  {
   "cell_type": "code",
   "execution_count": 15,
   "id": "86cd8eb3",
   "metadata": {},
   "outputs": [
    {
     "data": {
      "text/plain": [
       "33"
      ]
     },
     "execution_count": 15,
     "metadata": {},
     "output_type": "execute_result"
    }
   ],
   "source": [
    "def max_of_3(a,b,c):\n",
    "    if a > b and a > c:\n",
    "        return a\n",
    "    elif b > a and b > c:\n",
    "        return b\n",
    "    elif c > a and c > b:\n",
    "        return c\n",
    "max_of_3(20,33,11)"
   ]
  },
  {
   "cell_type": "code",
   "execution_count": 16,
   "id": "634213bf",
   "metadata": {},
   "outputs": [
    {
     "name": "stdout",
     "output_type": "stream",
     "text": [
      "madam\n"
     ]
    },
    {
     "data": {
      "text/plain": [
       "True"
      ]
     },
     "execution_count": 16,
     "metadata": {},
     "output_type": "execute_result"
    }
   ],
   "source": [
    "def is_palindrome(string1):\n",
    "    reversed = \"\"\n",
    "    for char in string1:\n",
    "        reversed = char + reversed\n",
    "    print(reversed)\n",
    "    if reversed == string1:\n",
    "        return True\n",
    "    else:\n",
    "        return False\n",
    "is_palindrome(\"madam\")"
   ]
  },
  {
   "cell_type": "code",
   "execution_count": 17,
   "id": "d8f1b073",
   "metadata": {},
   "outputs": [
    {
     "data": {
      "text/plain": [
       "2"
      ]
     },
     "execution_count": 17,
     "metadata": {},
     "output_type": "execute_result"
    }
   ],
   "source": [
    "def count_vowels(string1):\n",
    "    vowels = \"aeiou\"\n",
    "    count = 0\n",
    "    for char in string1:\n",
    "        if char.lower() in vowels:\n",
    "            count += 1\n",
    "    return count\n",
    "count_vowels(\"soham\")"
   ]
  },
  {
   "cell_type": "code",
   "execution_count": null,
   "id": "3052b3ba",
   "metadata": {},
   "outputs": [],
   "source": []
  }
 ],
 "metadata": {
  "kernelspec": {
   "display_name": "Python 3",
   "language": "python",
   "name": "python3"
  },
  "language_info": {
   "codemirror_mode": {
    "name": "ipython",
    "version": 3
   },
   "file_extension": ".py",
   "mimetype": "text/x-python",
   "name": "python",
   "nbconvert_exporter": "python",
   "pygments_lexer": "ipython3",
   "version": "3.9.12"
  }
 },
 "nbformat": 4,
 "nbformat_minor": 5
}
