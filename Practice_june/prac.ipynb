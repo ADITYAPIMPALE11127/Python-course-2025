{
 "cells": [
  {
   "cell_type": "code",
   "execution_count": null,
   "id": "5052d4cf",
   "metadata": {},
   "outputs": [
    {
     "name": "stdout",
     "output_type": "stream",
     "text": [
      "True\n"
     ]
    }
   ],
   "source": [
    "# armstrong number or not\n",
    "\n",
    "num = str(input())\n",
    "\n",
    "lst_nums = [int(digit) for digit in str(num)]\n",
    "cubed_nums = list(map(lambda x : x ** 3,lst_nums))\n",
    "num = int(num)\n",
    "sum_cubed = sum(cubed_nums)    \n",
    "if num == sum_cubed:\n",
    "        print(True)\n",
    "else:\n",
    "        print(False)"
   ]
  },
  {
   "cell_type": "code",
   "execution_count": 19,
   "id": "e5b6b3bf",
   "metadata": {},
   "outputs": [
    {
     "name": "stdout",
     "output_type": "stream",
     "text": [
      "It is a anagram\n"
     ]
    },
    {
     "data": {
      "text/plain": [
       "'It is not a anagram, length not equal'"
      ]
     },
     "execution_count": 19,
     "metadata": {},
     "output_type": "execute_result"
    }
   ],
   "source": [
    "# anagram or not\n",
    "def anagram(str1,str2):\n",
    "    if len(str1) != len(str2):\n",
    "        return (\"It is not a anagram, length not equal\")\n",
    "    sorted1 = sorted(str1)\n",
    "    sorted2 = sorted(str2)\n",
    "    if sorted1 == sorted2:\n",
    "        print(\"It is a anagram\")\n",
    "    else:\n",
    "        print(\"It is not a anagram\")\n",
    "anagram(\"silent\",\"listen\")\n",
    "anagram(\"hello\",\"worl\")"
   ]
  },
  {
   "cell_type": "code",
   "execution_count": 21,
   "id": "d930bcce",
   "metadata": {},
   "outputs": [
    {
     "data": {
      "text/plain": [
       "'progamin'"
      ]
     },
     "execution_count": 21,
     "metadata": {},
     "output_type": "execute_result"
    }
   ],
   "source": [
    "# remove duplicates from string\n",
    "def remove_duplicates(s):\n",
    "    result = \"\"\n",
    "    for char in s:\n",
    "       if char not in result:\n",
    "           result += char\n",
    "            \n",
    "    return result\n",
    "\n",
    "remove_duplicates(\"programming\")"
   ]
  },
  {
   "cell_type": "code",
   "execution_count": null,
   "id": "ff2c9fee",
   "metadata": {},
   "outputs": [
    {
     "name": "stdout",
     "output_type": "stream",
     "text": [
      "consonant count: 4, digit_count: 3, vowels_count: 1,special chars count:1\n"
     ]
    }
   ],
   "source": [
    "# count characters\n",
    "def count_chars(string1):\n",
    "    vowels_count = 0\n",
    "    consonants_count = 0\n",
    "    digit_count = 0\n",
    "    count_special_chars = 0\n",
    "    vowels=\"aeiuo\"\n",
    "    special_chars= \"!@#$%^&*()~\"\n",
    "    for char in string1:\n",
    "        if char in vowels:\n",
    "            vowels_count += 1\n",
    "        elif char.isdigit():\n",
    "            digit_count += 1\n",
    "        elif char in special_chars:\n",
    "            count_special_chars += 1\n",
    "        else:\n",
    "            consonants_count += 1\n",
    "    print( f\"consonant count: {consonants_count}, digit_count: {digit_count}, vowels_count: {vowels_count},special chars count:{count_special_chars}\")\n",
    "\n",
    "\n",
    "count_chars(\"qwert!123\")      "
   ]
  },
  {
   "cell_type": "code",
   "execution_count": 1,
   "id": "f56bbcf4",
   "metadata": {},
   "outputs": [
    {
     "data": {
      "text/plain": [
       "33"
      ]
     },
     "execution_count": 1,
     "metadata": {},
     "output_type": "execute_result"
    }
   ],
   "source": [
    "# largest number\n",
    "\n",
    "def large_num(lst):\n",
    "    temp = 0\n",
    "    for num in lst:\n",
    "        if num > temp:\n",
    "            temp = num\n",
    "    return temp\n",
    "\n",
    "large_num([1,2,33,22.33])"
   ]
  },
  {
   "cell_type": "code",
   "execution_count": 27,
   "id": "1bc79411",
   "metadata": {},
   "outputs": [
    {
     "data": {
      "text/plain": [
       "{'first_max': 34, 'second_max': 23}"
      ]
     },
     "execution_count": 27,
     "metadata": {},
     "output_type": "execute_result"
    }
   ],
   "source": [
    "# second largest number\n",
    "def second_large(lst):\n",
    "    first_max = 0\n",
    "    second_max = 0\n",
    "    for num in lst:\n",
    "        if num > first_max:\n",
    "            second_max = first_max\n",
    "            first_max = num\n",
    "        elif num > second_max:\n",
    "            second_max = num\n",
    "    return {\"first_max\":first_max,\"second_max\":second_max}\n",
    "\n",
    "second_large([12,34,23,22])"
   ]
  },
  {
   "cell_type": "code",
   "execution_count": 38,
   "id": "98f68958",
   "metadata": {},
   "outputs": [
    {
     "data": {
      "text/plain": [
       "{'1st': 2, '2nd': 7}"
      ]
     },
     "execution_count": 38,
     "metadata": {},
     "output_type": "execute_result"
    }
   ],
   "source": [
    "def two_sum(lst, target):\n",
    "    for i in range(len(lst)):\n",
    "        for j in range(i + 1, len(lst)):\n",
    "            if lst[i] + lst[j] == target:\n",
    "                return {\"1st\": lst[i], \"2nd\": lst[j]}\n",
    "\n",
    "two_sum([2,3,7,11],9)\n"
   ]
  },
  {
   "cell_type": "code",
   "execution_count": 42,
   "id": "d0a4d940",
   "metadata": {},
   "outputs": [
    {
     "data": {
      "text/plain": [
       "[2, 3, 45]"
      ]
     },
     "execution_count": 42,
     "metadata": {},
     "output_type": "execute_result"
    }
   ],
   "source": [
    "def three_sum(lst, target):\n",
    "    for i in range(len(lst)):\n",
    "        for j in range(i+1, len(lst)):\n",
    "            for k in range(j+1, len(lst)):\n",
    "                if lst[i] + lst[j] + lst[k] == target:\n",
    "                    return [lst[i], lst[j], lst[k]]\n",
    "                \n",
    "three_sum([1,2,3,45],50)"
   ]
  },
  {
   "cell_type": "code",
   "execution_count": null,
   "id": "2786240e",
   "metadata": {},
   "outputs": [],
   "source": [
    "def palindrome(str1):\n",
    "    reversed = \"\"\n",
    "    for char in str1:\n",
    "        reversed = char + reversed\n",
    "    if reversed == str1:\n",
    "        print(\"Yes\")\n",
    "    else:\n",
    "        print(\"No\")"
   ]
  },
  {
   "cell_type": "code",
   "execution_count": 12,
   "id": "d89e43e9",
   "metadata": {},
   "outputs": [
    {
     "name": "stdout",
     "output_type": "stream",
     "text": [
      "AI love I\n"
     ]
    }
   ],
   "source": [
    "string1 = \"I love AI\"\n",
    "lst = string1.split()\n",
    "reversed_words = lst[::-1]\n",
    "result = \" \".join(reversed_words)\n",
    "print(result)"
   ]
  },
  {
   "cell_type": "code",
   "execution_count": 14,
   "id": "913431dc",
   "metadata": {},
   "outputs": [
    {
     "name": "stdout",
     "output_type": "stream",
     "text": [
      "Even\n",
      "Odd\n",
      "Odd\n",
      "Odd\n",
      "Even\n",
      "Even\n",
      "Even\n",
      "Odd\n",
      "Odd\n",
      "Even\n",
      "{'even_count': 5, 'odd_count': 5}\n"
     ]
    }
   ],
   "source": [
    "lst = [12,23,21,33,14,68,46,31,5,6]\n",
    "\n",
    "def sort_even_odd(lst):\n",
    "    even_count = 0\n",
    "    odd_count = 0\n",
    "    for num in lst:\n",
    "        if num % 2 == 0:\n",
    "            even_count += 1\n",
    "            print(\"Even\")\n",
    "        elif num % 2 != 0:\n",
    "            odd_count += 1\n",
    "            print(\"Odd\")\n",
    "    return {\"even_count\":even_count,\"odd_count\":odd_count}\n",
    "\n",
    "print(sort_even_odd(lst))"
   ]
  },
  {
   "cell_type": "code",
   "execution_count": 13,
   "id": "e8ce71a1",
   "metadata": {},
   "outputs": [
    {
     "name": "stdout",
     "output_type": "stream",
     "text": [
      "False its not an anagram, length does not match\n"
     ]
    }
   ],
   "source": [
    "def anagram(str1,str2):\n",
    "    if len(str1) != len(str2):\n",
    "        print(\"False its not an anagram, length does not match\")\n",
    "    \n",
    "    sort1 = sorted(str1)\n",
    "    sort2 = sorted(str2)\n",
    "    \n",
    "    if sort1 == sort2:\n",
    "        print(\"True, it is a anagram\")\n",
    "\n",
    "anagram(\"silent\",\"liste\")"
   ]
  },
  {
   "cell_type": "code",
   "execution_count": null,
   "id": "ba14b823",
   "metadata": {},
   "outputs": [],
   "source": [
    "size = int(input(\"enter size of the string\"))\n",
    "str1 = str(input(\"Enter the string: \"))\n"
   ]
  }
 ],
 "metadata": {
  "kernelspec": {
   "display_name": "Python 3",
   "language": "python",
   "name": "python3"
  },
  "language_info": {
   "codemirror_mode": {
    "name": "ipython",
    "version": 3
   },
   "file_extension": ".py",
   "mimetype": "text/x-python",
   "name": "python",
   "nbconvert_exporter": "python",
   "pygments_lexer": "ipython3",
   "version": "3.9.12"
  }
 },
 "nbformat": 4,
 "nbformat_minor": 5
}
