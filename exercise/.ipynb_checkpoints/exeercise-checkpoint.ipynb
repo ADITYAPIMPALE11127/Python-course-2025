{
 "cells": [
  {
   "cell_type": "code",
   "execution_count": null,
   "id": "d0220723",
   "metadata": {},
   "outputs": [],
   "source": [
    "nums  = [5,25,125,1500]\n",
    "\n",
    "list(map(lambda x : 'samll' if x < 10 else 'medium' if x < 100 else 'large', nums))"
   ]
  }
 ],
 "metadata": {
  "kernelspec": {
   "display_name": "Python 3",
   "language": "python",
   "name": "python3"
  },
  "language_info": {
   "codemirror_mode": {
    "name": "ipython",
    "version": 3
   },
   "file_extension": ".py",
   "mimetype": "text/x-python",
   "name": "python",
   "nbconvert_exporter": "python",
   "pygments_lexer": "ipython3",
   "version": "3.13.5"
  }
 },
 "nbformat": 4,
 "nbformat_minor": 5
}
