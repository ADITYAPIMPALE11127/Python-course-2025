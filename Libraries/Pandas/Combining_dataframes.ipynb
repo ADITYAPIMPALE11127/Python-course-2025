{
 "cells": [
  {
   "cell_type": "markdown",
   "id": "6b4fa6e8-10fb-4559-a2b8-bb618d24a948",
   "metadata": {},
   "source": [
    "### Combining Dataframes"
   ]
  },
  {
   "cell_type": "code",
   "execution_count": 1,
   "id": "55dd869d-1010-4e05-923c-4afebb6c41cf",
   "metadata": {},
   "outputs": [],
   "source": [
    "import pandas as pd"
   ]
  },
  {
   "cell_type": "code",
   "execution_count": 2,
   "id": "3134ce17-0f0f-47ee-b4d7-f53fd15c2650",
   "metadata": {},
   "outputs": [],
   "source": [
    "import numpy as np"
   ]
  },
  {
   "cell_type": "markdown",
   "id": "f62da26a-f50b-4120-bec5-2ae762a38d4a",
   "metadata": {},
   "source": [
    "* Concatenation is simply pasting the two Dataframes together, by columns:"
   ]
  },
  {
   "cell_type": "code",
   "execution_count": 3,
   "id": "faf4d3ce-1d9d-4fbf-8119-6886981eaec3",
   "metadata": {},
   "outputs": [],
   "source": [
    "data_one = {\n",
    "    'A': ['A0','A1','A2','A3'],\n",
    "    'B': ['B0','B1','B2','B3']\n",
    "}\n",
    "data_two = {\n",
    "    'C': ['C0','C1','C2','C3'],\n",
    "    'D': ['D0','D1','D2','D3']\n",
    "}"
   ]
  },
  {
   "cell_type": "code",
   "execution_count": 8,
   "id": "57fc15e5-586e-4d51-8bb9-67edbb856f32",
   "metadata": {},
   "outputs": [
    {
     "name": "stdout",
     "output_type": "stream",
     "text": [
      "    A   B   C   D\n",
      "0  A0  B0  C0  D0\n",
      "1  A1  B1  C1  D1\n",
      "2  A2  B2  C2  D2\n",
      "3  A3  B3  C3  D3\n"
     ]
    }
   ],
   "source": [
    "df1 = pd.DataFrame(data_one)\n",
    "df2 = pd.DataFrame(data_two)\n",
    "\n",
    "# Concatenate column-wise\n",
    "data_by_column = pd.concat([df1, df2], axis=1)\n",
    "print(data_by_column)"
   ]
  },
  {
   "cell_type": "code",
   "execution_count": 9,
   "id": "f063e032-9327-4171-abaa-f41c808cf1da",
   "metadata": {},
   "outputs": [
    {
     "name": "stdout",
     "output_type": "stream",
     "text": [
      "     A    B    C    D\n",
      "0   A0   B0  NaN  NaN\n",
      "1   A1   B1  NaN  NaN\n",
      "2   A2   B2  NaN  NaN\n",
      "3   A3   B3  NaN  NaN\n",
      "0  NaN  NaN   C0   D0\n",
      "1  NaN  NaN   C1   D1\n",
      "2  NaN  NaN   C2   D2\n",
      "3  NaN  NaN   C3   D3\n"
     ]
    }
   ],
   "source": [
    "data_by_row = pd.concat([df1,df2], axis=0) # fills up NaN values data os not there\n",
    "print(data_by_row)"
   ]
  },
  {
   "cell_type": "markdown",
   "id": "3647fcea-cf64-43f6-a9b4-9e7ba5fcc136",
   "metadata": {},
   "source": [
    "* Often Dataframes are not in the exact same order or format, meaning we can not simply concatenate them togehter\n",
    "* In such cases we need to merge the Dataframes"
   ]
  },
  {
   "cell_type": "markdown",
   "id": "0d93fa28-8678-4948-bb81-9e9da5ecea75",
   "metadata": {},
   "source": [
    "### Merge"
   ]
  },
  {
   "cell_type": "code",
   "execution_count": 11,
   "id": "2d1ce410-513a-4021-8497-077b97149e65",
   "metadata": {},
   "outputs": [],
   "source": [
    "reg = pd.DataFrame(\n",
    "    { 'reg_id': [1,2,3,4],\n",
    "      'name': ['A','B','C','D']\n",
    "    }\n",
    ")\n",
    "\n",
    "        "
   ]
  },
  {
   "cell_type": "code",
   "execution_count": 12,
   "id": "208bdd72-0610-43b0-b526-b6c168ba23c5",
   "metadata": {},
   "outputs": [],
   "source": [
    "login = pd.DataFrame(\n",
    "    {\n",
    "        'log_id' : [1,2,3,4],\n",
    "        'name': ['X','Y','A','B']\n",
    "    }\n",
    ")\n"
   ]
  },
  {
   "cell_type": "markdown",
   "id": "79c4d536-1a54-4615-90cd-21d3d13ed5c2",
   "metadata": {},
   "source": [
    "* inner join"
   ]
  },
  {
   "cell_type": "code",
   "execution_count": 14,
   "id": "02824465-5b2d-4f5b-a326-cde610d8f961",
   "metadata": {},
   "outputs": [
    {
     "data": {
      "text/html": [
       "<div>\n",
       "<style scoped>\n",
       "    .dataframe tbody tr th:only-of-type {\n",
       "        vertical-align: middle;\n",
       "    }\n",
       "\n",
       "    .dataframe tbody tr th {\n",
       "        vertical-align: top;\n",
       "    }\n",
       "\n",
       "    .dataframe thead th {\n",
       "        text-align: right;\n",
       "    }\n",
       "</style>\n",
       "<table border=\"1\" class=\"dataframe\">\n",
       "  <thead>\n",
       "    <tr style=\"text-align: right;\">\n",
       "      <th></th>\n",
       "      <th>reg_id</th>\n",
       "      <th>name</th>\n",
       "      <th>log_id</th>\n",
       "    </tr>\n",
       "  </thead>\n",
       "  <tbody>\n",
       "    <tr>\n",
       "      <th>0</th>\n",
       "      <td>1</td>\n",
       "      <td>A</td>\n",
       "      <td>3</td>\n",
       "    </tr>\n",
       "    <tr>\n",
       "      <th>1</th>\n",
       "      <td>2</td>\n",
       "      <td>B</td>\n",
       "      <td>4</td>\n",
       "    </tr>\n",
       "  </tbody>\n",
       "</table>\n",
       "</div>"
      ],
      "text/plain": [
       "   reg_id name  log_id\n",
       "0       1    A       3\n",
       "1       2    B       4"
      ]
     },
     "execution_count": 14,
     "metadata": {},
     "output_type": "execute_result"
    }
   ],
   "source": [
    "pd.merge(reg,login, how='inner',on = 'name')"
   ]
  },
  {
   "cell_type": "markdown",
   "id": "f757f2f8-2461-44a8-a36b-60fd98be1dd0",
   "metadata": {},
   "source": [
    "* outer join"
   ]
  },
  {
   "cell_type": "code",
   "execution_count": 15,
   "id": "2f445921-28f4-46fb-9386-768ae0bf92b9",
   "metadata": {},
   "outputs": [
    {
     "data": {
      "text/html": [
       "<div>\n",
       "<style scoped>\n",
       "    .dataframe tbody tr th:only-of-type {\n",
       "        vertical-align: middle;\n",
       "    }\n",
       "\n",
       "    .dataframe tbody tr th {\n",
       "        vertical-align: top;\n",
       "    }\n",
       "\n",
       "    .dataframe thead th {\n",
       "        text-align: right;\n",
       "    }\n",
       "</style>\n",
       "<table border=\"1\" class=\"dataframe\">\n",
       "  <thead>\n",
       "    <tr style=\"text-align: right;\">\n",
       "      <th></th>\n",
       "      <th>reg_id</th>\n",
       "      <th>name</th>\n",
       "      <th>log_id</th>\n",
       "    </tr>\n",
       "  </thead>\n",
       "  <tbody>\n",
       "    <tr>\n",
       "      <th>0</th>\n",
       "      <td>1.0</td>\n",
       "      <td>A</td>\n",
       "      <td>3.0</td>\n",
       "    </tr>\n",
       "    <tr>\n",
       "      <th>1</th>\n",
       "      <td>2.0</td>\n",
       "      <td>B</td>\n",
       "      <td>4.0</td>\n",
       "    </tr>\n",
       "    <tr>\n",
       "      <th>2</th>\n",
       "      <td>3.0</td>\n",
       "      <td>C</td>\n",
       "      <td>NaN</td>\n",
       "    </tr>\n",
       "    <tr>\n",
       "      <th>3</th>\n",
       "      <td>4.0</td>\n",
       "      <td>D</td>\n",
       "      <td>NaN</td>\n",
       "    </tr>\n",
       "    <tr>\n",
       "      <th>4</th>\n",
       "      <td>NaN</td>\n",
       "      <td>X</td>\n",
       "      <td>1.0</td>\n",
       "    </tr>\n",
       "    <tr>\n",
       "      <th>5</th>\n",
       "      <td>NaN</td>\n",
       "      <td>Y</td>\n",
       "      <td>2.0</td>\n",
       "    </tr>\n",
       "  </tbody>\n",
       "</table>\n",
       "</div>"
      ],
      "text/plain": [
       "   reg_id name  log_id\n",
       "0     1.0    A     3.0\n",
       "1     2.0    B     4.0\n",
       "2     3.0    C     NaN\n",
       "3     4.0    D     NaN\n",
       "4     NaN    X     1.0\n",
       "5     NaN    Y     2.0"
      ]
     },
     "execution_count": 15,
     "metadata": {},
     "output_type": "execute_result"
    }
   ],
   "source": [
    "pd.merge(reg,login, how='outer',on = 'name')"
   ]
  },
  {
   "cell_type": "markdown",
   "id": "93d8666e-04d4-45c2-a606-c6b79123201f",
   "metadata": {},
   "source": [
    "* left join"
   ]
  },
  {
   "cell_type": "code",
   "execution_count": 16,
   "id": "5c49a05c-2d4f-4802-9255-5ebe308c67f9",
   "metadata": {},
   "outputs": [
    {
     "data": {
      "text/html": [
       "<div>\n",
       "<style scoped>\n",
       "    .dataframe tbody tr th:only-of-type {\n",
       "        vertical-align: middle;\n",
       "    }\n",
       "\n",
       "    .dataframe tbody tr th {\n",
       "        vertical-align: top;\n",
       "    }\n",
       "\n",
       "    .dataframe thead th {\n",
       "        text-align: right;\n",
       "    }\n",
       "</style>\n",
       "<table border=\"1\" class=\"dataframe\">\n",
       "  <thead>\n",
       "    <tr style=\"text-align: right;\">\n",
       "      <th></th>\n",
       "      <th>reg_id</th>\n",
       "      <th>name</th>\n",
       "      <th>log_id</th>\n",
       "    </tr>\n",
       "  </thead>\n",
       "  <tbody>\n",
       "    <tr>\n",
       "      <th>0</th>\n",
       "      <td>1</td>\n",
       "      <td>A</td>\n",
       "      <td>3.0</td>\n",
       "    </tr>\n",
       "    <tr>\n",
       "      <th>1</th>\n",
       "      <td>2</td>\n",
       "      <td>B</td>\n",
       "      <td>4.0</td>\n",
       "    </tr>\n",
       "    <tr>\n",
       "      <th>2</th>\n",
       "      <td>3</td>\n",
       "      <td>C</td>\n",
       "      <td>NaN</td>\n",
       "    </tr>\n",
       "    <tr>\n",
       "      <th>3</th>\n",
       "      <td>4</td>\n",
       "      <td>D</td>\n",
       "      <td>NaN</td>\n",
       "    </tr>\n",
       "  </tbody>\n",
       "</table>\n",
       "</div>"
      ],
      "text/plain": [
       "   reg_id name  log_id\n",
       "0       1    A     3.0\n",
       "1       2    B     4.0\n",
       "2       3    C     NaN\n",
       "3       4    D     NaN"
      ]
     },
     "execution_count": 16,
     "metadata": {},
     "output_type": "execute_result"
    }
   ],
   "source": [
    "pd.merge(reg,login, how='left',on = 'name')"
   ]
  },
  {
   "cell_type": "markdown",
   "id": "ec44cd2c-f8d8-499c-bec7-f7df658586f1",
   "metadata": {},
   "source": [
    "* right join"
   ]
  },
  {
   "cell_type": "code",
   "execution_count": 17,
   "id": "512e40e6-76c7-4314-99f3-08c4071f6052",
   "metadata": {},
   "outputs": [
    {
     "data": {
      "text/html": [
       "<div>\n",
       "<style scoped>\n",
       "    .dataframe tbody tr th:only-of-type {\n",
       "        vertical-align: middle;\n",
       "    }\n",
       "\n",
       "    .dataframe tbody tr th {\n",
       "        vertical-align: top;\n",
       "    }\n",
       "\n",
       "    .dataframe thead th {\n",
       "        text-align: right;\n",
       "    }\n",
       "</style>\n",
       "<table border=\"1\" class=\"dataframe\">\n",
       "  <thead>\n",
       "    <tr style=\"text-align: right;\">\n",
       "      <th></th>\n",
       "      <th>reg_id</th>\n",
       "      <th>name</th>\n",
       "      <th>log_id</th>\n",
       "    </tr>\n",
       "  </thead>\n",
       "  <tbody>\n",
       "    <tr>\n",
       "      <th>0</th>\n",
       "      <td>NaN</td>\n",
       "      <td>X</td>\n",
       "      <td>1</td>\n",
       "    </tr>\n",
       "    <tr>\n",
       "      <th>1</th>\n",
       "      <td>NaN</td>\n",
       "      <td>Y</td>\n",
       "      <td>2</td>\n",
       "    </tr>\n",
       "    <tr>\n",
       "      <th>2</th>\n",
       "      <td>1.0</td>\n",
       "      <td>A</td>\n",
       "      <td>3</td>\n",
       "    </tr>\n",
       "    <tr>\n",
       "      <th>3</th>\n",
       "      <td>2.0</td>\n",
       "      <td>B</td>\n",
       "      <td>4</td>\n",
       "    </tr>\n",
       "  </tbody>\n",
       "</table>\n",
       "</div>"
      ],
      "text/plain": [
       "   reg_id name  log_id\n",
       "0     NaN    X       1\n",
       "1     NaN    Y       2\n",
       "2     1.0    A       3\n",
       "3     2.0    B       4"
      ]
     },
     "execution_count": 17,
     "metadata": {},
     "output_type": "execute_result"
    }
   ],
   "source": [
    "pd.merge(reg,login, how='right',on = 'name')"
   ]
  },
  {
   "cell_type": "code",
   "execution_count": null,
   "id": "4c3ddf8e-5fc7-4c10-bef4-dc85cbd25483",
   "metadata": {},
   "outputs": [],
   "source": []
  },
  {
   "cell_type": "code",
   "execution_count": null,
   "id": "96bda5ba-208b-48cb-aec8-09ff0addb428",
   "metadata": {},
   "outputs": [],
   "source": []
  }
 ],
 "metadata": {
  "kernelspec": {
   "display_name": "Python 3 (ipykernel)",
   "language": "python",
   "name": "python3"
  },
  "language_info": {
   "codemirror_mode": {
    "name": "ipython",
    "version": 3
   },
   "file_extension": ".py",
   "mimetype": "text/x-python",
   "name": "python",
   "nbconvert_exporter": "python",
   "pygments_lexer": "ipython3",
   "version": "3.13.5"
  }
 },
 "nbformat": 4,
 "nbformat_minor": 5
}
