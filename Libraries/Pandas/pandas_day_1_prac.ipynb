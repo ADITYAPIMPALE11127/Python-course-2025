{
 "cells": [
  {
   "cell_type": "markdown",
   "id": "a7f8d094",
   "metadata": {},
   "source": [
    "#### **Series** -  holds an array of inof along with named index\n",
    "##### One dimensional array format\n",
    "* data is numerically organized"
   ]
  },
  {
   "cell_type": "code",
   "execution_count": 1,
   "id": "ba2524ed",
   "metadata": {},
   "outputs": [],
   "source": [
    "import pandas as pd"
   ]
  },
  {
   "cell_type": "code",
   "execution_count": 2,
   "id": "eb01d932",
   "metadata": {},
   "outputs": [],
   "source": [
    "countries = ['india','USA','Japan']\n",
    "independence_years = [1947,1776,1890]"
   ]
  },
  {
   "cell_type": "code",
   "execution_count": 3,
   "id": "cfcba1e7",
   "metadata": {},
   "outputs": [
    {
     "data": {
      "application/vnd.microsoft.datawrangler.viewer.v0+json": {
       "columns": [
        {
         "name": "index",
         "rawType": "int64",
         "type": "integer"
        },
        {
         "name": "0",
         "rawType": "object",
         "type": "string"
        }
       ],
       "ref": "b8761122-49e4-4276-acf3-23f0d3650ae4",
       "rows": [
        [
         "1947",
         "india"
        ],
        [
         "1776",
         "USA"
        ],
        [
         "1890",
         "Japan"
        ]
       ],
       "shape": {
        "columns": 1,
        "rows": 3
       }
      },
      "text/plain": [
       "1947    india\n",
       "1776      USA\n",
       "1890    Japan\n",
       "dtype: object"
      ]
     },
     "execution_count": 3,
     "metadata": {},
     "output_type": "execute_result"
    }
   ],
   "source": [
    "pd.Series(countries,independence_years)"
   ]
  },
  {
   "cell_type": "code",
   "execution_count": 5,
   "id": "427f1cfc",
   "metadata": {},
   "outputs": [
    {
     "data": {
      "text/plain": [
       "array([[1, 2, 3],\n",
       "       [4, 5, 6],\n",
       "       [7, 8, 9]])"
      ]
     },
     "execution_count": 5,
     "metadata": {},
     "output_type": "execute_result"
    }
   ],
   "source": [
    "import numpy as np\n",
    "mat = np.array([ [1,2,3],[4,5,6],[7,8,9],[10,11,12] ])\n",
    "mat[0:3]"
   ]
  },
  {
   "cell_type": "code",
   "execution_count": 7,
   "id": "fa14a107",
   "metadata": {},
   "outputs": [
    {
     "data": {
      "text/plain": [
       "array([[0.88518756, 0.9375257 , 0.59286176],\n",
       "       [0.09996001, 0.131413  , 0.1012665 ]])"
      ]
     },
     "execution_count": 7,
     "metadata": {},
     "output_type": "execute_result"
    }
   ],
   "source": [
    "np.random.rand(2,3)"
   ]
  },
  {
   "cell_type": "code",
   "execution_count": null,
   "id": "7c120841",
   "metadata": {},
   "outputs": [],
   "source": []
  }
 ],
 "metadata": {
  "kernelspec": {
   "display_name": "Python 3",
   "language": "python",
   "name": "python3"
  },
  "language_info": {
   "codemirror_mode": {
    "name": "ipython",
    "version": 3
   },
   "file_extension": ".py",
   "mimetype": "text/x-python",
   "name": "python",
   "nbconvert_exporter": "python",
   "pygments_lexer": "ipython3",
   "version": "3.9.12"
  }
 },
 "nbformat": 4,
 "nbformat_minor": 5
}
