{
 "cells": [
  {
   "cell_type": "code",
   "execution_count": 1,
   "id": "20779b0a",
   "metadata": {},
   "outputs": [],
   "source": [
    "import pandas as pd\n",
    "import numpy as np"
   ]
  },
  {
   "cell_type": "code",
   "execution_count": 3,
   "id": "da21413c",
   "metadata": {},
   "outputs": [],
   "source": [
    "df  = pd.read_csv(\"../../data/tips.csv\")"
   ]
  },
  {
   "cell_type": "markdown",
   "id": "1b47aded",
   "metadata": {},
   "source": [
    "#### head() returns first 10 entries , if parameter given like (12) then 12 entries shown "
   ]
  },
  {
   "cell_type": "code",
   "execution_count": 4,
   "id": "b7218e33",
   "metadata": {},
   "outputs": [
    {
     "data": {
      "application/vnd.microsoft.datawrangler.viewer.v0+json": {
       "columns": [
        {
         "name": "index",
         "rawType": "int64",
         "type": "integer"
        },
        {
         "name": "total_bill",
         "rawType": "float64",
         "type": "float"
        },
        {
         "name": "tip",
         "rawType": "float64",
         "type": "float"
        },
        {
         "name": "sex",
         "rawType": "object",
         "type": "string"
        },
        {
         "name": "smoker",
         "rawType": "object",
         "type": "string"
        },
        {
         "name": "day",
         "rawType": "object",
         "type": "string"
        },
        {
         "name": "time",
         "rawType": "object",
         "type": "string"
        },
        {
         "name": "size",
         "rawType": "int64",
         "type": "integer"
        },
        {
         "name": "price_per_person",
         "rawType": "float64",
         "type": "float"
        },
        {
         "name": "Payer Name",
         "rawType": "object",
         "type": "string"
        },
        {
         "name": "CC Number",
         "rawType": "int64",
         "type": "integer"
        },
        {
         "name": "Payment ID",
         "rawType": "object",
         "type": "string"
        }
       ],
       "ref": "40ccd049-2ee6-490e-82b3-bf15d658f786",
       "rows": [
        [
         "0",
         "16.99",
         "1.01",
         "Female",
         "No",
         "Sun",
         "Dinner",
         "2",
         "8.49",
         "Christy Cunningham",
         "3560325168603410",
         "Sun2959"
        ],
        [
         "1",
         "10.34",
         "1.66",
         "Male",
         "No",
         "Sun",
         "Dinner",
         "3",
         "3.45",
         "Douglas Tucker",
         "4478071379779230",
         "Sun4608"
        ],
        [
         "2",
         "21.01",
         "3.5",
         "Male",
         "No",
         "Sun",
         "Dinner",
         "3",
         "7.0",
         "Travis Walters",
         "6011812112971322",
         "Sun4458"
        ],
        [
         "3",
         "23.68",
         "3.31",
         "Male",
         "No",
         "Sun",
         "Dinner",
         "2",
         "11.84",
         "Nathaniel Harris",
         "4676137647685994",
         "Sun5260"
        ],
        [
         "4",
         "24.59",
         "3.61",
         "Female",
         "No",
         "Sun",
         "Dinner",
         "4",
         "6.15",
         "Tonya Carter",
         "4832732618637221",
         "Sun2251"
        ]
       ],
       "shape": {
        "columns": 11,
        "rows": 5
       }
      },
      "text/html": [
       "<div>\n",
       "<style scoped>\n",
       "    .dataframe tbody tr th:only-of-type {\n",
       "        vertical-align: middle;\n",
       "    }\n",
       "\n",
       "    .dataframe tbody tr th {\n",
       "        vertical-align: top;\n",
       "    }\n",
       "\n",
       "    .dataframe thead th {\n",
       "        text-align: right;\n",
       "    }\n",
       "</style>\n",
       "<table border=\"1\" class=\"dataframe\">\n",
       "  <thead>\n",
       "    <tr style=\"text-align: right;\">\n",
       "      <th></th>\n",
       "      <th>total_bill</th>\n",
       "      <th>tip</th>\n",
       "      <th>sex</th>\n",
       "      <th>smoker</th>\n",
       "      <th>day</th>\n",
       "      <th>time</th>\n",
       "      <th>size</th>\n",
       "      <th>price_per_person</th>\n",
       "      <th>Payer Name</th>\n",
       "      <th>CC Number</th>\n",
       "      <th>Payment ID</th>\n",
       "    </tr>\n",
       "  </thead>\n",
       "  <tbody>\n",
       "    <tr>\n",
       "      <th>0</th>\n",
       "      <td>16.99</td>\n",
       "      <td>1.01</td>\n",
       "      <td>Female</td>\n",
       "      <td>No</td>\n",
       "      <td>Sun</td>\n",
       "      <td>Dinner</td>\n",
       "      <td>2</td>\n",
       "      <td>8.49</td>\n",
       "      <td>Christy Cunningham</td>\n",
       "      <td>3560325168603410</td>\n",
       "      <td>Sun2959</td>\n",
       "    </tr>\n",
       "    <tr>\n",
       "      <th>1</th>\n",
       "      <td>10.34</td>\n",
       "      <td>1.66</td>\n",
       "      <td>Male</td>\n",
       "      <td>No</td>\n",
       "      <td>Sun</td>\n",
       "      <td>Dinner</td>\n",
       "      <td>3</td>\n",
       "      <td>3.45</td>\n",
       "      <td>Douglas Tucker</td>\n",
       "      <td>4478071379779230</td>\n",
       "      <td>Sun4608</td>\n",
       "    </tr>\n",
       "    <tr>\n",
       "      <th>2</th>\n",
       "      <td>21.01</td>\n",
       "      <td>3.50</td>\n",
       "      <td>Male</td>\n",
       "      <td>No</td>\n",
       "      <td>Sun</td>\n",
       "      <td>Dinner</td>\n",
       "      <td>3</td>\n",
       "      <td>7.00</td>\n",
       "      <td>Travis Walters</td>\n",
       "      <td>6011812112971322</td>\n",
       "      <td>Sun4458</td>\n",
       "    </tr>\n",
       "    <tr>\n",
       "      <th>3</th>\n",
       "      <td>23.68</td>\n",
       "      <td>3.31</td>\n",
       "      <td>Male</td>\n",
       "      <td>No</td>\n",
       "      <td>Sun</td>\n",
       "      <td>Dinner</td>\n",
       "      <td>2</td>\n",
       "      <td>11.84</td>\n",
       "      <td>Nathaniel Harris</td>\n",
       "      <td>4676137647685994</td>\n",
       "      <td>Sun5260</td>\n",
       "    </tr>\n",
       "    <tr>\n",
       "      <th>4</th>\n",
       "      <td>24.59</td>\n",
       "      <td>3.61</td>\n",
       "      <td>Female</td>\n",
       "      <td>No</td>\n",
       "      <td>Sun</td>\n",
       "      <td>Dinner</td>\n",
       "      <td>4</td>\n",
       "      <td>6.15</td>\n",
       "      <td>Tonya Carter</td>\n",
       "      <td>4832732618637221</td>\n",
       "      <td>Sun2251</td>\n",
       "    </tr>\n",
       "  </tbody>\n",
       "</table>\n",
       "</div>"
      ],
      "text/plain": [
       "   total_bill   tip     sex smoker  day    time  size  price_per_person  \\\n",
       "0       16.99  1.01  Female     No  Sun  Dinner     2              8.49   \n",
       "1       10.34  1.66    Male     No  Sun  Dinner     3              3.45   \n",
       "2       21.01  3.50    Male     No  Sun  Dinner     3              7.00   \n",
       "3       23.68  3.31    Male     No  Sun  Dinner     2             11.84   \n",
       "4       24.59  3.61  Female     No  Sun  Dinner     4              6.15   \n",
       "\n",
       "           Payer Name         CC Number Payment ID  \n",
       "0  Christy Cunningham  3560325168603410    Sun2959  \n",
       "1      Douglas Tucker  4478071379779230    Sun4608  \n",
       "2      Travis Walters  6011812112971322    Sun4458  \n",
       "3    Nathaniel Harris  4676137647685994    Sun5260  \n",
       "4        Tonya Carter  4832732618637221    Sun2251  "
      ]
     },
     "execution_count": 4,
     "metadata": {},
     "output_type": "execute_result"
    }
   ],
   "source": [
    "df.head()"
   ]
  },
  {
   "cell_type": "code",
   "execution_count": 8,
   "id": "736d0204",
   "metadata": {},
   "outputs": [
    {
     "data": {
      "application/vnd.microsoft.datawrangler.viewer.v0+json": {
       "columns": [
        {
         "name": "index",
         "rawType": "int64",
         "type": "integer"
        },
        {
         "name": "total_bill",
         "rawType": "float64",
         "type": "float"
        },
        {
         "name": "tip",
         "rawType": "float64",
         "type": "float"
        },
        {
         "name": "sex",
         "rawType": "object",
         "type": "string"
        },
        {
         "name": "smoker",
         "rawType": "object",
         "type": "string"
        },
        {
         "name": "day",
         "rawType": "object",
         "type": "string"
        },
        {
         "name": "time",
         "rawType": "object",
         "type": "string"
        },
        {
         "name": "size",
         "rawType": "int64",
         "type": "integer"
        },
        {
         "name": "price_per_person",
         "rawType": "float64",
         "type": "float"
        },
        {
         "name": "Payer Name",
         "rawType": "object",
         "type": "string"
        },
        {
         "name": "CC Number",
         "rawType": "int64",
         "type": "integer"
        },
        {
         "name": "Payment ID",
         "rawType": "object",
         "type": "string"
        }
       ],
       "ref": "85797de5-2e04-49e8-bcfe-3d244c3fae24",
       "rows": [
        [
         "0",
         "16.99",
         "1.01",
         "Female",
         "No",
         "Sun",
         "Dinner",
         "2",
         "8.49",
         "Christy Cunningham",
         "3560325168603410",
         "Sun2959"
        ],
        [
         "1",
         "10.34",
         "1.66",
         "Male",
         "No",
         "Sun",
         "Dinner",
         "3",
         "3.45",
         "Douglas Tucker",
         "4478071379779230",
         "Sun4608"
        ],
        [
         "2",
         "21.01",
         "3.5",
         "Male",
         "No",
         "Sun",
         "Dinner",
         "3",
         "7.0",
         "Travis Walters",
         "6011812112971322",
         "Sun4458"
        ],
        [
         "3",
         "23.68",
         "3.31",
         "Male",
         "No",
         "Sun",
         "Dinner",
         "2",
         "11.84",
         "Nathaniel Harris",
         "4676137647685994",
         "Sun5260"
        ],
        [
         "4",
         "24.59",
         "3.61",
         "Female",
         "No",
         "Sun",
         "Dinner",
         "4",
         "6.15",
         "Tonya Carter",
         "4832732618637221",
         "Sun2251"
        ],
        [
         "5",
         "25.29",
         "4.71",
         "Male",
         "No",
         "Sun",
         "Dinner",
         "4",
         "6.32",
         "Erik Smith",
         "213140353657882",
         "Sun9679"
        ],
        [
         "6",
         "8.77",
         "2.0",
         "Male",
         "No",
         "Sun",
         "Dinner",
         "2",
         "4.38",
         "Kristopher Johnson",
         "2223727524230344",
         "Sun5985"
        ],
        [
         "7",
         "26.88",
         "3.12",
         "Male",
         "No",
         "Sun",
         "Dinner",
         "4",
         "6.72",
         "Robert Buck",
         "3514785077705092",
         "Sun8157"
        ],
        [
         "8",
         "15.04",
         "1.96",
         "Male",
         "No",
         "Sun",
         "Dinner",
         "2",
         "7.52",
         "Joseph Mcdonald",
         "3522866365840377",
         "Sun6820"
        ],
        [
         "9",
         "14.78",
         "3.23",
         "Male",
         "No",
         "Sun",
         "Dinner",
         "2",
         "7.39",
         "Jerome Abbott",
         "3532124519049786",
         "Sun3775"
        ],
        [
         "10",
         "10.27",
         "1.71",
         "Male",
         "No",
         "Sun",
         "Dinner",
         "2",
         "5.14",
         "William Riley",
         "566287581219",
         "Sun2546"
        ],
        [
         "11",
         "35.26",
         "5.0",
         "Female",
         "No",
         "Sun",
         "Dinner",
         "4",
         "8.82",
         "Diane Macias",
         "4577817359320969",
         "Sun6686"
        ]
       ],
       "shape": {
        "columns": 11,
        "rows": 12
       }
      },
      "text/html": [
       "<div>\n",
       "<style scoped>\n",
       "    .dataframe tbody tr th:only-of-type {\n",
       "        vertical-align: middle;\n",
       "    }\n",
       "\n",
       "    .dataframe tbody tr th {\n",
       "        vertical-align: top;\n",
       "    }\n",
       "\n",
       "    .dataframe thead th {\n",
       "        text-align: right;\n",
       "    }\n",
       "</style>\n",
       "<table border=\"1\" class=\"dataframe\">\n",
       "  <thead>\n",
       "    <tr style=\"text-align: right;\">\n",
       "      <th></th>\n",
       "      <th>total_bill</th>\n",
       "      <th>tip</th>\n",
       "      <th>sex</th>\n",
       "      <th>smoker</th>\n",
       "      <th>day</th>\n",
       "      <th>time</th>\n",
       "      <th>size</th>\n",
       "      <th>price_per_person</th>\n",
       "      <th>Payer Name</th>\n",
       "      <th>CC Number</th>\n",
       "      <th>Payment ID</th>\n",
       "    </tr>\n",
       "  </thead>\n",
       "  <tbody>\n",
       "    <tr>\n",
       "      <th>0</th>\n",
       "      <td>16.99</td>\n",
       "      <td>1.01</td>\n",
       "      <td>Female</td>\n",
       "      <td>No</td>\n",
       "      <td>Sun</td>\n",
       "      <td>Dinner</td>\n",
       "      <td>2</td>\n",
       "      <td>8.49</td>\n",
       "      <td>Christy Cunningham</td>\n",
       "      <td>3560325168603410</td>\n",
       "      <td>Sun2959</td>\n",
       "    </tr>\n",
       "    <tr>\n",
       "      <th>1</th>\n",
       "      <td>10.34</td>\n",
       "      <td>1.66</td>\n",
       "      <td>Male</td>\n",
       "      <td>No</td>\n",
       "      <td>Sun</td>\n",
       "      <td>Dinner</td>\n",
       "      <td>3</td>\n",
       "      <td>3.45</td>\n",
       "      <td>Douglas Tucker</td>\n",
       "      <td>4478071379779230</td>\n",
       "      <td>Sun4608</td>\n",
       "    </tr>\n",
       "    <tr>\n",
       "      <th>2</th>\n",
       "      <td>21.01</td>\n",
       "      <td>3.50</td>\n",
       "      <td>Male</td>\n",
       "      <td>No</td>\n",
       "      <td>Sun</td>\n",
       "      <td>Dinner</td>\n",
       "      <td>3</td>\n",
       "      <td>7.00</td>\n",
       "      <td>Travis Walters</td>\n",
       "      <td>6011812112971322</td>\n",
       "      <td>Sun4458</td>\n",
       "    </tr>\n",
       "    <tr>\n",
       "      <th>3</th>\n",
       "      <td>23.68</td>\n",
       "      <td>3.31</td>\n",
       "      <td>Male</td>\n",
       "      <td>No</td>\n",
       "      <td>Sun</td>\n",
       "      <td>Dinner</td>\n",
       "      <td>2</td>\n",
       "      <td>11.84</td>\n",
       "      <td>Nathaniel Harris</td>\n",
       "      <td>4676137647685994</td>\n",
       "      <td>Sun5260</td>\n",
       "    </tr>\n",
       "    <tr>\n",
       "      <th>4</th>\n",
       "      <td>24.59</td>\n",
       "      <td>3.61</td>\n",
       "      <td>Female</td>\n",
       "      <td>No</td>\n",
       "      <td>Sun</td>\n",
       "      <td>Dinner</td>\n",
       "      <td>4</td>\n",
       "      <td>6.15</td>\n",
       "      <td>Tonya Carter</td>\n",
       "      <td>4832732618637221</td>\n",
       "      <td>Sun2251</td>\n",
       "    </tr>\n",
       "    <tr>\n",
       "      <th>5</th>\n",
       "      <td>25.29</td>\n",
       "      <td>4.71</td>\n",
       "      <td>Male</td>\n",
       "      <td>No</td>\n",
       "      <td>Sun</td>\n",
       "      <td>Dinner</td>\n",
       "      <td>4</td>\n",
       "      <td>6.32</td>\n",
       "      <td>Erik Smith</td>\n",
       "      <td>213140353657882</td>\n",
       "      <td>Sun9679</td>\n",
       "    </tr>\n",
       "    <tr>\n",
       "      <th>6</th>\n",
       "      <td>8.77</td>\n",
       "      <td>2.00</td>\n",
       "      <td>Male</td>\n",
       "      <td>No</td>\n",
       "      <td>Sun</td>\n",
       "      <td>Dinner</td>\n",
       "      <td>2</td>\n",
       "      <td>4.38</td>\n",
       "      <td>Kristopher Johnson</td>\n",
       "      <td>2223727524230344</td>\n",
       "      <td>Sun5985</td>\n",
       "    </tr>\n",
       "    <tr>\n",
       "      <th>7</th>\n",
       "      <td>26.88</td>\n",
       "      <td>3.12</td>\n",
       "      <td>Male</td>\n",
       "      <td>No</td>\n",
       "      <td>Sun</td>\n",
       "      <td>Dinner</td>\n",
       "      <td>4</td>\n",
       "      <td>6.72</td>\n",
       "      <td>Robert Buck</td>\n",
       "      <td>3514785077705092</td>\n",
       "      <td>Sun8157</td>\n",
       "    </tr>\n",
       "    <tr>\n",
       "      <th>8</th>\n",
       "      <td>15.04</td>\n",
       "      <td>1.96</td>\n",
       "      <td>Male</td>\n",
       "      <td>No</td>\n",
       "      <td>Sun</td>\n",
       "      <td>Dinner</td>\n",
       "      <td>2</td>\n",
       "      <td>7.52</td>\n",
       "      <td>Joseph Mcdonald</td>\n",
       "      <td>3522866365840377</td>\n",
       "      <td>Sun6820</td>\n",
       "    </tr>\n",
       "    <tr>\n",
       "      <th>9</th>\n",
       "      <td>14.78</td>\n",
       "      <td>3.23</td>\n",
       "      <td>Male</td>\n",
       "      <td>No</td>\n",
       "      <td>Sun</td>\n",
       "      <td>Dinner</td>\n",
       "      <td>2</td>\n",
       "      <td>7.39</td>\n",
       "      <td>Jerome Abbott</td>\n",
       "      <td>3532124519049786</td>\n",
       "      <td>Sun3775</td>\n",
       "    </tr>\n",
       "    <tr>\n",
       "      <th>10</th>\n",
       "      <td>10.27</td>\n",
       "      <td>1.71</td>\n",
       "      <td>Male</td>\n",
       "      <td>No</td>\n",
       "      <td>Sun</td>\n",
       "      <td>Dinner</td>\n",
       "      <td>2</td>\n",
       "      <td>5.14</td>\n",
       "      <td>William Riley</td>\n",
       "      <td>566287581219</td>\n",
       "      <td>Sun2546</td>\n",
       "    </tr>\n",
       "    <tr>\n",
       "      <th>11</th>\n",
       "      <td>35.26</td>\n",
       "      <td>5.00</td>\n",
       "      <td>Female</td>\n",
       "      <td>No</td>\n",
       "      <td>Sun</td>\n",
       "      <td>Dinner</td>\n",
       "      <td>4</td>\n",
       "      <td>8.82</td>\n",
       "      <td>Diane Macias</td>\n",
       "      <td>4577817359320969</td>\n",
       "      <td>Sun6686</td>\n",
       "    </tr>\n",
       "  </tbody>\n",
       "</table>\n",
       "</div>"
      ],
      "text/plain": [
       "    total_bill   tip     sex smoker  day    time  size  price_per_person  \\\n",
       "0        16.99  1.01  Female     No  Sun  Dinner     2              8.49   \n",
       "1        10.34  1.66    Male     No  Sun  Dinner     3              3.45   \n",
       "2        21.01  3.50    Male     No  Sun  Dinner     3              7.00   \n",
       "3        23.68  3.31    Male     No  Sun  Dinner     2             11.84   \n",
       "4        24.59  3.61  Female     No  Sun  Dinner     4              6.15   \n",
       "5        25.29  4.71    Male     No  Sun  Dinner     4              6.32   \n",
       "6         8.77  2.00    Male     No  Sun  Dinner     2              4.38   \n",
       "7        26.88  3.12    Male     No  Sun  Dinner     4              6.72   \n",
       "8        15.04  1.96    Male     No  Sun  Dinner     2              7.52   \n",
       "9        14.78  3.23    Male     No  Sun  Dinner     2              7.39   \n",
       "10       10.27  1.71    Male     No  Sun  Dinner     2              5.14   \n",
       "11       35.26  5.00  Female     No  Sun  Dinner     4              8.82   \n",
       "\n",
       "            Payer Name         CC Number Payment ID  \n",
       "0   Christy Cunningham  3560325168603410    Sun2959  \n",
       "1       Douglas Tucker  4478071379779230    Sun4608  \n",
       "2       Travis Walters  6011812112971322    Sun4458  \n",
       "3     Nathaniel Harris  4676137647685994    Sun5260  \n",
       "4         Tonya Carter  4832732618637221    Sun2251  \n",
       "5           Erik Smith   213140353657882    Sun9679  \n",
       "6   Kristopher Johnson  2223727524230344    Sun5985  \n",
       "7          Robert Buck  3514785077705092    Sun8157  \n",
       "8      Joseph Mcdonald  3522866365840377    Sun6820  \n",
       "9        Jerome Abbott  3532124519049786    Sun3775  \n",
       "10       William Riley      566287581219    Sun2546  \n",
       "11        Diane Macias  4577817359320969    Sun6686  "
      ]
     },
     "execution_count": 8,
     "metadata": {},
     "output_type": "execute_result"
    }
   ],
   "source": [
    "df.head(12)"
   ]
  },
  {
   "cell_type": "markdown",
   "id": "66bfcc7b",
   "metadata": {},
   "source": [
    "#### info() returns the details like "
   ]
  },
  {
   "cell_type": "code",
   "execution_count": 5,
   "id": "5caf931b",
   "metadata": {},
   "outputs": [
    {
     "name": "stdout",
     "output_type": "stream",
     "text": [
      "<class 'pandas.core.frame.DataFrame'>\n",
      "RangeIndex: 244 entries, 0 to 243\n",
      "Data columns (total 11 columns):\n",
      " #   Column            Non-Null Count  Dtype  \n",
      "---  ------            --------------  -----  \n",
      " 0   total_bill        244 non-null    float64\n",
      " 1   tip               244 non-null    float64\n",
      " 2   sex               244 non-null    object \n",
      " 3   smoker            244 non-null    object \n",
      " 4   day               244 non-null    object \n",
      " 5   time              244 non-null    object \n",
      " 6   size              244 non-null    int64  \n",
      " 7   price_per_person  244 non-null    float64\n",
      " 8   Payer Name        244 non-null    object \n",
      " 9   CC Number         244 non-null    int64  \n",
      " 10  Payment ID        244 non-null    object \n",
      "dtypes: float64(3), int64(2), object(6)\n",
      "memory usage: 21.1+ KB\n"
     ]
    }
   ],
   "source": [
    "df.info()"
   ]
  },
  {
   "cell_type": "code",
   "execution_count": 6,
   "id": "82a17094",
   "metadata": {},
   "outputs": [
    {
     "data": {
      "application/vnd.microsoft.datawrangler.viewer.v0+json": {
       "columns": [
        {
         "name": "index",
         "rawType": "object",
         "type": "string"
        },
        {
         "name": "total_bill",
         "rawType": "float64",
         "type": "float"
        },
        {
         "name": "tip",
         "rawType": "float64",
         "type": "float"
        },
        {
         "name": "size",
         "rawType": "float64",
         "type": "float"
        },
        {
         "name": "price_per_person",
         "rawType": "float64",
         "type": "float"
        },
        {
         "name": "CC Number",
         "rawType": "float64",
         "type": "float"
        }
       ],
       "ref": "d35ec24c-337d-4de3-97d8-049d15bda2c8",
       "rows": [
        [
         "count",
         "244.0",
         "244.0",
         "244.0",
         "244.0",
         "244.0"
        ],
        [
         "mean",
         "19.78594262295082",
         "2.99827868852459",
         "2.569672131147541",
         "7.888196721311474",
         "2563495562019613.0"
        ],
        [
         "std",
         "8.902411954856856",
         "1.3836381890011822",
         "0.9510998047322344",
         "2.9142341225118225",
         "2369339882289543.5"
        ],
        [
         "min",
         "3.07",
         "1.0",
         "1.0",
         "2.88",
         "60406789937.0"
        ],
        [
         "25%",
         "13.3475",
         "2.0",
         "2.0",
         "5.8",
         "30407308242440.0"
        ],
        [
         "50%",
         "17.795",
         "2.9",
         "2.0",
         "7.255",
         "3525317610005860.5"
        ],
        [
         "75%",
         "24.127499999999998",
         "3.5625",
         "3.0",
         "9.39",
         "4553675399499020.0"
        ],
        [
         "max",
         "50.81",
         "10.0",
         "6.0",
         "20.27",
         "6596453823950595.0"
        ]
       ],
       "shape": {
        "columns": 5,
        "rows": 8
       }
      },
      "text/html": [
       "<div>\n",
       "<style scoped>\n",
       "    .dataframe tbody tr th:only-of-type {\n",
       "        vertical-align: middle;\n",
       "    }\n",
       "\n",
       "    .dataframe tbody tr th {\n",
       "        vertical-align: top;\n",
       "    }\n",
       "\n",
       "    .dataframe thead th {\n",
       "        text-align: right;\n",
       "    }\n",
       "</style>\n",
       "<table border=\"1\" class=\"dataframe\">\n",
       "  <thead>\n",
       "    <tr style=\"text-align: right;\">\n",
       "      <th></th>\n",
       "      <th>total_bill</th>\n",
       "      <th>tip</th>\n",
       "      <th>size</th>\n",
       "      <th>price_per_person</th>\n",
       "      <th>CC Number</th>\n",
       "    </tr>\n",
       "  </thead>\n",
       "  <tbody>\n",
       "    <tr>\n",
       "      <th>count</th>\n",
       "      <td>244.000000</td>\n",
       "      <td>244.000000</td>\n",
       "      <td>244.000000</td>\n",
       "      <td>244.000000</td>\n",
       "      <td>2.440000e+02</td>\n",
       "    </tr>\n",
       "    <tr>\n",
       "      <th>mean</th>\n",
       "      <td>19.785943</td>\n",
       "      <td>2.998279</td>\n",
       "      <td>2.569672</td>\n",
       "      <td>7.888197</td>\n",
       "      <td>2.563496e+15</td>\n",
       "    </tr>\n",
       "    <tr>\n",
       "      <th>std</th>\n",
       "      <td>8.902412</td>\n",
       "      <td>1.383638</td>\n",
       "      <td>0.951100</td>\n",
       "      <td>2.914234</td>\n",
       "      <td>2.369340e+15</td>\n",
       "    </tr>\n",
       "    <tr>\n",
       "      <th>min</th>\n",
       "      <td>3.070000</td>\n",
       "      <td>1.000000</td>\n",
       "      <td>1.000000</td>\n",
       "      <td>2.880000</td>\n",
       "      <td>6.040679e+10</td>\n",
       "    </tr>\n",
       "    <tr>\n",
       "      <th>25%</th>\n",
       "      <td>13.347500</td>\n",
       "      <td>2.000000</td>\n",
       "      <td>2.000000</td>\n",
       "      <td>5.800000</td>\n",
       "      <td>3.040731e+13</td>\n",
       "    </tr>\n",
       "    <tr>\n",
       "      <th>50%</th>\n",
       "      <td>17.795000</td>\n",
       "      <td>2.900000</td>\n",
       "      <td>2.000000</td>\n",
       "      <td>7.255000</td>\n",
       "      <td>3.525318e+15</td>\n",
       "    </tr>\n",
       "    <tr>\n",
       "      <th>75%</th>\n",
       "      <td>24.127500</td>\n",
       "      <td>3.562500</td>\n",
       "      <td>3.000000</td>\n",
       "      <td>9.390000</td>\n",
       "      <td>4.553675e+15</td>\n",
       "    </tr>\n",
       "    <tr>\n",
       "      <th>max</th>\n",
       "      <td>50.810000</td>\n",
       "      <td>10.000000</td>\n",
       "      <td>6.000000</td>\n",
       "      <td>20.270000</td>\n",
       "      <td>6.596454e+15</td>\n",
       "    </tr>\n",
       "  </tbody>\n",
       "</table>\n",
       "</div>"
      ],
      "text/plain": [
       "       total_bill         tip        size  price_per_person     CC Number\n",
       "count  244.000000  244.000000  244.000000        244.000000  2.440000e+02\n",
       "mean    19.785943    2.998279    2.569672          7.888197  2.563496e+15\n",
       "std      8.902412    1.383638    0.951100          2.914234  2.369340e+15\n",
       "min      3.070000    1.000000    1.000000          2.880000  6.040679e+10\n",
       "25%     13.347500    2.000000    2.000000          5.800000  3.040731e+13\n",
       "50%     17.795000    2.900000    2.000000          7.255000  3.525318e+15\n",
       "75%     24.127500    3.562500    3.000000          9.390000  4.553675e+15\n",
       "max     50.810000   10.000000    6.000000         20.270000  6.596454e+15"
      ]
     },
     "execution_count": 6,
     "metadata": {},
     "output_type": "execute_result"
    }
   ],
   "source": [
    "df.describe()"
   ]
  },
  {
   "cell_type": "code",
   "execution_count": 7,
   "id": "18f615c5",
   "metadata": {},
   "outputs": [
    {
     "data": {
      "application/vnd.microsoft.datawrangler.viewer.v0+json": {
       "columns": [
        {
         "name": "index",
         "rawType": "int64",
         "type": "integer"
        },
        {
         "name": "total_bill",
         "rawType": "float64",
         "type": "float"
        },
        {
         "name": "tip",
         "rawType": "float64",
         "type": "float"
        },
        {
         "name": "sex",
         "rawType": "object",
         "type": "string"
        },
        {
         "name": "smoker",
         "rawType": "object",
         "type": "string"
        },
        {
         "name": "day",
         "rawType": "object",
         "type": "string"
        },
        {
         "name": "time",
         "rawType": "object",
         "type": "string"
        },
        {
         "name": "size",
         "rawType": "int64",
         "type": "integer"
        },
        {
         "name": "price_per_person",
         "rawType": "float64",
         "type": "float"
        },
        {
         "name": "Payer Name",
         "rawType": "object",
         "type": "string"
        },
        {
         "name": "CC Number",
         "rawType": "int64",
         "type": "integer"
        },
        {
         "name": "Payment ID",
         "rawType": "object",
         "type": "string"
        }
       ],
       "ref": "ee1203e1-310c-4a23-b756-864748a0510b",
       "rows": [
        [
         "239",
         "29.03",
         "5.92",
         "Male",
         "No",
         "Sat",
         "Dinner",
         "3",
         "9.68",
         "Michael Avila",
         "5296068606052842",
         "Sat2657"
        ],
        [
         "240",
         "27.18",
         "2.0",
         "Female",
         "Yes",
         "Sat",
         "Dinner",
         "2",
         "13.59",
         "Monica Sanders",
         "3506806155565404",
         "Sat1766"
        ],
        [
         "241",
         "22.67",
         "2.0",
         "Male",
         "Yes",
         "Sat",
         "Dinner",
         "2",
         "11.34",
         "Keith Wong",
         "6011891618747196",
         "Sat3880"
        ],
        [
         "242",
         "17.82",
         "1.75",
         "Male",
         "No",
         "Sat",
         "Dinner",
         "2",
         "8.91",
         "Dennis Dixon",
         "4375220550950",
         "Sat17"
        ],
        [
         "243",
         "18.78",
         "3.0",
         "Female",
         "No",
         "Thur",
         "Dinner",
         "2",
         "9.39",
         "Michelle Hardin",
         "3511451626698139",
         "Thur672"
        ]
       ],
       "shape": {
        "columns": 11,
        "rows": 5
       }
      },
      "text/html": [
       "<div>\n",
       "<style scoped>\n",
       "    .dataframe tbody tr th:only-of-type {\n",
       "        vertical-align: middle;\n",
       "    }\n",
       "\n",
       "    .dataframe tbody tr th {\n",
       "        vertical-align: top;\n",
       "    }\n",
       "\n",
       "    .dataframe thead th {\n",
       "        text-align: right;\n",
       "    }\n",
       "</style>\n",
       "<table border=\"1\" class=\"dataframe\">\n",
       "  <thead>\n",
       "    <tr style=\"text-align: right;\">\n",
       "      <th></th>\n",
       "      <th>total_bill</th>\n",
       "      <th>tip</th>\n",
       "      <th>sex</th>\n",
       "      <th>smoker</th>\n",
       "      <th>day</th>\n",
       "      <th>time</th>\n",
       "      <th>size</th>\n",
       "      <th>price_per_person</th>\n",
       "      <th>Payer Name</th>\n",
       "      <th>CC Number</th>\n",
       "      <th>Payment ID</th>\n",
       "    </tr>\n",
       "  </thead>\n",
       "  <tbody>\n",
       "    <tr>\n",
       "      <th>239</th>\n",
       "      <td>29.03</td>\n",
       "      <td>5.92</td>\n",
       "      <td>Male</td>\n",
       "      <td>No</td>\n",
       "      <td>Sat</td>\n",
       "      <td>Dinner</td>\n",
       "      <td>3</td>\n",
       "      <td>9.68</td>\n",
       "      <td>Michael Avila</td>\n",
       "      <td>5296068606052842</td>\n",
       "      <td>Sat2657</td>\n",
       "    </tr>\n",
       "    <tr>\n",
       "      <th>240</th>\n",
       "      <td>27.18</td>\n",
       "      <td>2.00</td>\n",
       "      <td>Female</td>\n",
       "      <td>Yes</td>\n",
       "      <td>Sat</td>\n",
       "      <td>Dinner</td>\n",
       "      <td>2</td>\n",
       "      <td>13.59</td>\n",
       "      <td>Monica Sanders</td>\n",
       "      <td>3506806155565404</td>\n",
       "      <td>Sat1766</td>\n",
       "    </tr>\n",
       "    <tr>\n",
       "      <th>241</th>\n",
       "      <td>22.67</td>\n",
       "      <td>2.00</td>\n",
       "      <td>Male</td>\n",
       "      <td>Yes</td>\n",
       "      <td>Sat</td>\n",
       "      <td>Dinner</td>\n",
       "      <td>2</td>\n",
       "      <td>11.34</td>\n",
       "      <td>Keith Wong</td>\n",
       "      <td>6011891618747196</td>\n",
       "      <td>Sat3880</td>\n",
       "    </tr>\n",
       "    <tr>\n",
       "      <th>242</th>\n",
       "      <td>17.82</td>\n",
       "      <td>1.75</td>\n",
       "      <td>Male</td>\n",
       "      <td>No</td>\n",
       "      <td>Sat</td>\n",
       "      <td>Dinner</td>\n",
       "      <td>2</td>\n",
       "      <td>8.91</td>\n",
       "      <td>Dennis Dixon</td>\n",
       "      <td>4375220550950</td>\n",
       "      <td>Sat17</td>\n",
       "    </tr>\n",
       "    <tr>\n",
       "      <th>243</th>\n",
       "      <td>18.78</td>\n",
       "      <td>3.00</td>\n",
       "      <td>Female</td>\n",
       "      <td>No</td>\n",
       "      <td>Thur</td>\n",
       "      <td>Dinner</td>\n",
       "      <td>2</td>\n",
       "      <td>9.39</td>\n",
       "      <td>Michelle Hardin</td>\n",
       "      <td>3511451626698139</td>\n",
       "      <td>Thur672</td>\n",
       "    </tr>\n",
       "  </tbody>\n",
       "</table>\n",
       "</div>"
      ],
      "text/plain": [
       "     total_bill   tip     sex smoker   day    time  size  price_per_person  \\\n",
       "239       29.03  5.92    Male     No   Sat  Dinner     3              9.68   \n",
       "240       27.18  2.00  Female    Yes   Sat  Dinner     2             13.59   \n",
       "241       22.67  2.00    Male    Yes   Sat  Dinner     2             11.34   \n",
       "242       17.82  1.75    Male     No   Sat  Dinner     2              8.91   \n",
       "243       18.78  3.00  Female     No  Thur  Dinner     2              9.39   \n",
       "\n",
       "          Payer Name         CC Number Payment ID  \n",
       "239    Michael Avila  5296068606052842    Sat2657  \n",
       "240   Monica Sanders  3506806155565404    Sat1766  \n",
       "241       Keith Wong  6011891618747196    Sat3880  \n",
       "242     Dennis Dixon     4375220550950      Sat17  \n",
       "243  Michelle Hardin  3511451626698139    Thur672  "
      ]
     },
     "execution_count": 7,
     "metadata": {},
     "output_type": "execute_result"
    }
   ],
   "source": [
    "df.tail()"
   ]
  },
  {
   "cell_type": "code",
   "execution_count": 10,
   "id": "768d10d4",
   "metadata": {},
   "outputs": [
    {
     "data": {
      "application/vnd.microsoft.datawrangler.viewer.v0+json": {
       "columns": [
        {
         "name": "index",
         "rawType": "object",
         "type": "string"
        },
        {
         "name": "count",
         "rawType": "float64",
         "type": "float"
        },
        {
         "name": "mean",
         "rawType": "float64",
         "type": "float"
        },
        {
         "name": "std",
         "rawType": "float64",
         "type": "float"
        },
        {
         "name": "min",
         "rawType": "float64",
         "type": "float"
        },
        {
         "name": "25%",
         "rawType": "float64",
         "type": "float"
        },
        {
         "name": "50%",
         "rawType": "float64",
         "type": "float"
        },
        {
         "name": "75%",
         "rawType": "float64",
         "type": "float"
        },
        {
         "name": "max",
         "rawType": "float64",
         "type": "float"
        }
       ],
       "ref": "04a69d16-c395-453a-bf2b-2ec54fe95679",
       "rows": [
        [
         "total_bill",
         "244.0",
         "19.78594262295082",
         "8.902411954856856",
         "3.07",
         "13.3475",
         "17.795",
         "24.127499999999998",
         "50.81"
        ],
        [
         "tip",
         "244.0",
         "2.99827868852459",
         "1.3836381890011822",
         "1.0",
         "2.0",
         "2.9",
         "3.5625",
         "10.0"
        ],
        [
         "size",
         "244.0",
         "2.569672131147541",
         "0.9510998047322344",
         "1.0",
         "2.0",
         "2.0",
         "3.0",
         "6.0"
        ],
        [
         "price_per_person",
         "244.0",
         "7.888196721311474",
         "2.9142341225118225",
         "2.88",
         "5.8",
         "7.255",
         "9.39",
         "20.27"
        ],
        [
         "CC Number",
         "244.0",
         "2563495562019613.0",
         "2369339882289543.5",
         "60406789937.0",
         "30407308242440.0",
         "3525317610005860.5",
         "4553675399499020.0",
         "6596453823950595.0"
        ]
       ],
       "shape": {
        "columns": 8,
        "rows": 5
       }
      },
      "text/html": [
       "<div>\n",
       "<style scoped>\n",
       "    .dataframe tbody tr th:only-of-type {\n",
       "        vertical-align: middle;\n",
       "    }\n",
       "\n",
       "    .dataframe tbody tr th {\n",
       "        vertical-align: top;\n",
       "    }\n",
       "\n",
       "    .dataframe thead th {\n",
       "        text-align: right;\n",
       "    }\n",
       "</style>\n",
       "<table border=\"1\" class=\"dataframe\">\n",
       "  <thead>\n",
       "    <tr style=\"text-align: right;\">\n",
       "      <th></th>\n",
       "      <th>count</th>\n",
       "      <th>mean</th>\n",
       "      <th>std</th>\n",
       "      <th>min</th>\n",
       "      <th>25%</th>\n",
       "      <th>50%</th>\n",
       "      <th>75%</th>\n",
       "      <th>max</th>\n",
       "    </tr>\n",
       "  </thead>\n",
       "  <tbody>\n",
       "    <tr>\n",
       "      <th>total_bill</th>\n",
       "      <td>244.0</td>\n",
       "      <td>1.978594e+01</td>\n",
       "      <td>8.902412e+00</td>\n",
       "      <td>3.070000e+00</td>\n",
       "      <td>1.334750e+01</td>\n",
       "      <td>1.779500e+01</td>\n",
       "      <td>2.412750e+01</td>\n",
       "      <td>5.081000e+01</td>\n",
       "    </tr>\n",
       "    <tr>\n",
       "      <th>tip</th>\n",
       "      <td>244.0</td>\n",
       "      <td>2.998279e+00</td>\n",
       "      <td>1.383638e+00</td>\n",
       "      <td>1.000000e+00</td>\n",
       "      <td>2.000000e+00</td>\n",
       "      <td>2.900000e+00</td>\n",
       "      <td>3.562500e+00</td>\n",
       "      <td>1.000000e+01</td>\n",
       "    </tr>\n",
       "    <tr>\n",
       "      <th>size</th>\n",
       "      <td>244.0</td>\n",
       "      <td>2.569672e+00</td>\n",
       "      <td>9.510998e-01</td>\n",
       "      <td>1.000000e+00</td>\n",
       "      <td>2.000000e+00</td>\n",
       "      <td>2.000000e+00</td>\n",
       "      <td>3.000000e+00</td>\n",
       "      <td>6.000000e+00</td>\n",
       "    </tr>\n",
       "    <tr>\n",
       "      <th>price_per_person</th>\n",
       "      <td>244.0</td>\n",
       "      <td>7.888197e+00</td>\n",
       "      <td>2.914234e+00</td>\n",
       "      <td>2.880000e+00</td>\n",
       "      <td>5.800000e+00</td>\n",
       "      <td>7.255000e+00</td>\n",
       "      <td>9.390000e+00</td>\n",
       "      <td>2.027000e+01</td>\n",
       "    </tr>\n",
       "    <tr>\n",
       "      <th>CC Number</th>\n",
       "      <td>244.0</td>\n",
       "      <td>2.563496e+15</td>\n",
       "      <td>2.369340e+15</td>\n",
       "      <td>6.040679e+10</td>\n",
       "      <td>3.040731e+13</td>\n",
       "      <td>3.525318e+15</td>\n",
       "      <td>4.553675e+15</td>\n",
       "      <td>6.596454e+15</td>\n",
       "    </tr>\n",
       "  </tbody>\n",
       "</table>\n",
       "</div>"
      ],
      "text/plain": [
       "                  count          mean           std           min  \\\n",
       "total_bill        244.0  1.978594e+01  8.902412e+00  3.070000e+00   \n",
       "tip               244.0  2.998279e+00  1.383638e+00  1.000000e+00   \n",
       "size              244.0  2.569672e+00  9.510998e-01  1.000000e+00   \n",
       "price_per_person  244.0  7.888197e+00  2.914234e+00  2.880000e+00   \n",
       "CC Number         244.0  2.563496e+15  2.369340e+15  6.040679e+10   \n",
       "\n",
       "                           25%           50%           75%           max  \n",
       "total_bill        1.334750e+01  1.779500e+01  2.412750e+01  5.081000e+01  \n",
       "tip               2.000000e+00  2.900000e+00  3.562500e+00  1.000000e+01  \n",
       "size              2.000000e+00  2.000000e+00  3.000000e+00  6.000000e+00  \n",
       "price_per_person  5.800000e+00  7.255000e+00  9.390000e+00  2.027000e+01  \n",
       "CC Number         3.040731e+13  3.525318e+15  4.553675e+15  6.596454e+15  "
      ]
     },
     "execution_count": 10,
     "metadata": {},
     "output_type": "execute_result"
    }
   ],
   "source": [
    "df.describe().transpose()"
   ]
  },
  {
   "cell_type": "markdown",
   "id": "6394562c",
   "metadata": {},
   "source": [
    "#### Selection and Indexing"
   ]
  },
  {
   "cell_type": "markdown",
   "id": "1fe63309",
   "metadata": {},
   "source": [
    "#### Selecting single column also known as series"
   ]
  },
  {
   "cell_type": "code",
   "execution_count": 11,
   "id": "18ded977",
   "metadata": {},
   "outputs": [
    {
     "data": {
      "application/vnd.microsoft.datawrangler.viewer.v0+json": {
       "columns": [
        {
         "name": "index",
         "rawType": "int64",
         "type": "integer"
        },
        {
         "name": "total_bill",
         "rawType": "float64",
         "type": "float"
        }
       ],
       "ref": "44987f0c-dcb0-4441-b844-27df93dcc233",
       "rows": [
        [
         "0",
         "16.99"
        ],
        [
         "1",
         "10.34"
        ],
        [
         "2",
         "21.01"
        ],
        [
         "3",
         "23.68"
        ],
        [
         "4",
         "24.59"
        ],
        [
         "5",
         "25.29"
        ],
        [
         "6",
         "8.77"
        ],
        [
         "7",
         "26.88"
        ],
        [
         "8",
         "15.04"
        ],
        [
         "9",
         "14.78"
        ],
        [
         "10",
         "10.27"
        ],
        [
         "11",
         "35.26"
        ],
        [
         "12",
         "15.42"
        ],
        [
         "13",
         "18.43"
        ],
        [
         "14",
         "14.83"
        ],
        [
         "15",
         "21.58"
        ],
        [
         "16",
         "10.33"
        ],
        [
         "17",
         "16.29"
        ],
        [
         "18",
         "16.97"
        ],
        [
         "19",
         "20.65"
        ],
        [
         "20",
         "17.92"
        ],
        [
         "21",
         "20.29"
        ],
        [
         "22",
         "15.77"
        ],
        [
         "23",
         "39.42"
        ],
        [
         "24",
         "19.82"
        ],
        [
         "25",
         "17.81"
        ],
        [
         "26",
         "13.37"
        ],
        [
         "27",
         "12.69"
        ],
        [
         "28",
         "21.7"
        ],
        [
         "29",
         "19.65"
        ],
        [
         "30",
         "9.55"
        ],
        [
         "31",
         "18.35"
        ],
        [
         "32",
         "15.06"
        ],
        [
         "33",
         "20.69"
        ],
        [
         "34",
         "17.78"
        ],
        [
         "35",
         "24.06"
        ],
        [
         "36",
         "16.31"
        ],
        [
         "37",
         "16.93"
        ],
        [
         "38",
         "18.69"
        ],
        [
         "39",
         "31.27"
        ],
        [
         "40",
         "16.04"
        ],
        [
         "41",
         "17.46"
        ],
        [
         "42",
         "13.94"
        ],
        [
         "43",
         "9.68"
        ],
        [
         "44",
         "30.4"
        ],
        [
         "45",
         "18.29"
        ],
        [
         "46",
         "22.23"
        ],
        [
         "47",
         "32.4"
        ],
        [
         "48",
         "28.55"
        ],
        [
         "49",
         "18.04"
        ]
       ],
       "shape": {
        "columns": 1,
        "rows": 244
       }
      },
      "text/plain": [
       "0      16.99\n",
       "1      10.34\n",
       "2      21.01\n",
       "3      23.68\n",
       "4      24.59\n",
       "       ...  \n",
       "239    29.03\n",
       "240    27.18\n",
       "241    22.67\n",
       "242    17.82\n",
       "243    18.78\n",
       "Name: total_bill, Length: 244, dtype: float64"
      ]
     },
     "execution_count": 11,
     "metadata": {},
     "output_type": "execute_result"
    }
   ],
   "source": [
    "df[\"total_bill\"]"
   ]
  },
  {
   "cell_type": "markdown",
   "id": "fbfd2431",
   "metadata": {},
   "source": [
    "#### Select multiple columns"
   ]
  },
  {
   "cell_type": "code",
   "execution_count": 13,
   "id": "3b9d7138",
   "metadata": {},
   "outputs": [
    {
     "data": {
      "application/vnd.microsoft.datawrangler.viewer.v0+json": {
       "columns": [
        {
         "name": "index",
         "rawType": "int64",
         "type": "integer"
        },
        {
         "name": "sex",
         "rawType": "object",
         "type": "string"
        },
        {
         "name": "total_bill",
         "rawType": "float64",
         "type": "float"
        }
       ],
       "ref": "ae74221f-72b8-407f-bb93-205b940d7685",
       "rows": [
        [
         "0",
         "Female",
         "16.99"
        ],
        [
         "1",
         "Male",
         "10.34"
        ],
        [
         "2",
         "Male",
         "21.01"
        ],
        [
         "3",
         "Male",
         "23.68"
        ],
        [
         "4",
         "Female",
         "24.59"
        ],
        [
         "5",
         "Male",
         "25.29"
        ],
        [
         "6",
         "Male",
         "8.77"
        ],
        [
         "7",
         "Male",
         "26.88"
        ],
        [
         "8",
         "Male",
         "15.04"
        ],
        [
         "9",
         "Male",
         "14.78"
        ],
        [
         "10",
         "Male",
         "10.27"
        ],
        [
         "11",
         "Female",
         "35.26"
        ],
        [
         "12",
         "Male",
         "15.42"
        ],
        [
         "13",
         "Male",
         "18.43"
        ],
        [
         "14",
         "Female",
         "14.83"
        ],
        [
         "15",
         "Male",
         "21.58"
        ],
        [
         "16",
         "Female",
         "10.33"
        ],
        [
         "17",
         "Male",
         "16.29"
        ],
        [
         "18",
         "Female",
         "16.97"
        ],
        [
         "19",
         "Male",
         "20.65"
        ],
        [
         "20",
         "Male",
         "17.92"
        ],
        [
         "21",
         "Female",
         "20.29"
        ],
        [
         "22",
         "Female",
         "15.77"
        ],
        [
         "23",
         "Male",
         "39.42"
        ],
        [
         "24",
         "Male",
         "19.82"
        ],
        [
         "25",
         "Male",
         "17.81"
        ],
        [
         "26",
         "Male",
         "13.37"
        ],
        [
         "27",
         "Male",
         "12.69"
        ],
        [
         "28",
         "Male",
         "21.7"
        ],
        [
         "29",
         "Female",
         "19.65"
        ],
        [
         "30",
         "Male",
         "9.55"
        ],
        [
         "31",
         "Male",
         "18.35"
        ],
        [
         "32",
         "Female",
         "15.06"
        ],
        [
         "33",
         "Female",
         "20.69"
        ],
        [
         "34",
         "Male",
         "17.78"
        ],
        [
         "35",
         "Male",
         "24.06"
        ],
        [
         "36",
         "Male",
         "16.31"
        ],
        [
         "37",
         "Female",
         "16.93"
        ],
        [
         "38",
         "Male",
         "18.69"
        ],
        [
         "39",
         "Male",
         "31.27"
        ],
        [
         "40",
         "Male",
         "16.04"
        ],
        [
         "41",
         "Male",
         "17.46"
        ],
        [
         "42",
         "Male",
         "13.94"
        ],
        [
         "43",
         "Male",
         "9.68"
        ],
        [
         "44",
         "Male",
         "30.4"
        ],
        [
         "45",
         "Male",
         "18.29"
        ],
        [
         "46",
         "Male",
         "22.23"
        ],
        [
         "47",
         "Male",
         "32.4"
        ],
        [
         "48",
         "Male",
         "28.55"
        ],
        [
         "49",
         "Male",
         "18.04"
        ]
       ],
       "shape": {
        "columns": 2,
        "rows": 244
       }
      },
      "text/html": [
       "<div>\n",
       "<style scoped>\n",
       "    .dataframe tbody tr th:only-of-type {\n",
       "        vertical-align: middle;\n",
       "    }\n",
       "\n",
       "    .dataframe tbody tr th {\n",
       "        vertical-align: top;\n",
       "    }\n",
       "\n",
       "    .dataframe thead th {\n",
       "        text-align: right;\n",
       "    }\n",
       "</style>\n",
       "<table border=\"1\" class=\"dataframe\">\n",
       "  <thead>\n",
       "    <tr style=\"text-align: right;\">\n",
       "      <th></th>\n",
       "      <th>sex</th>\n",
       "      <th>total_bill</th>\n",
       "    </tr>\n",
       "  </thead>\n",
       "  <tbody>\n",
       "    <tr>\n",
       "      <th>0</th>\n",
       "      <td>Female</td>\n",
       "      <td>16.99</td>\n",
       "    </tr>\n",
       "    <tr>\n",
       "      <th>1</th>\n",
       "      <td>Male</td>\n",
       "      <td>10.34</td>\n",
       "    </tr>\n",
       "    <tr>\n",
       "      <th>2</th>\n",
       "      <td>Male</td>\n",
       "      <td>21.01</td>\n",
       "    </tr>\n",
       "    <tr>\n",
       "      <th>3</th>\n",
       "      <td>Male</td>\n",
       "      <td>23.68</td>\n",
       "    </tr>\n",
       "    <tr>\n",
       "      <th>4</th>\n",
       "      <td>Female</td>\n",
       "      <td>24.59</td>\n",
       "    </tr>\n",
       "    <tr>\n",
       "      <th>...</th>\n",
       "      <td>...</td>\n",
       "      <td>...</td>\n",
       "    </tr>\n",
       "    <tr>\n",
       "      <th>239</th>\n",
       "      <td>Male</td>\n",
       "      <td>29.03</td>\n",
       "    </tr>\n",
       "    <tr>\n",
       "      <th>240</th>\n",
       "      <td>Female</td>\n",
       "      <td>27.18</td>\n",
       "    </tr>\n",
       "    <tr>\n",
       "      <th>241</th>\n",
       "      <td>Male</td>\n",
       "      <td>22.67</td>\n",
       "    </tr>\n",
       "    <tr>\n",
       "      <th>242</th>\n",
       "      <td>Male</td>\n",
       "      <td>17.82</td>\n",
       "    </tr>\n",
       "    <tr>\n",
       "      <th>243</th>\n",
       "      <td>Female</td>\n",
       "      <td>18.78</td>\n",
       "    </tr>\n",
       "  </tbody>\n",
       "</table>\n",
       "<p>244 rows × 2 columns</p>\n",
       "</div>"
      ],
      "text/plain": [
       "        sex  total_bill\n",
       "0    Female       16.99\n",
       "1      Male       10.34\n",
       "2      Male       21.01\n",
       "3      Male       23.68\n",
       "4    Female       24.59\n",
       "..      ...         ...\n",
       "239    Male       29.03\n",
       "240  Female       27.18\n",
       "241    Male       22.67\n",
       "242    Male       17.82\n",
       "243  Female       18.78\n",
       "\n",
       "[244 rows x 2 columns]"
      ]
     },
     "execution_count": 13,
     "metadata": {},
     "output_type": "execute_result"
    }
   ],
   "source": [
    "df[[\"sex\",\"total_bill\"]]"
   ]
  },
  {
   "cell_type": "markdown",
   "id": "fc162649",
   "metadata": {},
   "source": [
    "##### Create a column 'tip_per_person'"
   ]
  },
  {
   "cell_type": "code",
   "execution_count": 16,
   "id": "81b27b72",
   "metadata": {},
   "outputs": [
    {
     "data": {
      "application/vnd.microsoft.datawrangler.viewer.v0+json": {
       "columns": [
        {
         "name": "index",
         "rawType": "int64",
         "type": "integer"
        },
        {
         "name": "tip_per_person",
         "rawType": "float64",
         "type": "float"
        }
       ],
       "ref": "c9e15b42-dd42-4371-b76a-20bf8a6974b5",
       "rows": [
        [
         "0",
         "0.505"
        ],
        [
         "1",
         "0.5533333333333333"
        ],
        [
         "2",
         "1.1666666666666667"
        ],
        [
         "3",
         "1.655"
        ],
        [
         "4",
         "0.9025"
        ],
        [
         "5",
         "1.1775"
        ],
        [
         "6",
         "1.0"
        ],
        [
         "7",
         "0.78"
        ],
        [
         "8",
         "0.98"
        ],
        [
         "9",
         "1.615"
        ],
        [
         "10",
         "0.855"
        ],
        [
         "11",
         "1.25"
        ],
        [
         "12",
         "0.785"
        ],
        [
         "13",
         "0.75"
        ],
        [
         "14",
         "1.51"
        ],
        [
         "15",
         "1.96"
        ],
        [
         "16",
         "0.5566666666666666"
        ],
        [
         "17",
         "1.2366666666666666"
        ],
        [
         "18",
         "1.1666666666666667"
        ],
        [
         "19",
         "1.1166666666666667"
        ],
        [
         "20",
         "2.04"
        ],
        [
         "21",
         "1.375"
        ],
        [
         "22",
         "1.115"
        ],
        [
         "23",
         "1.895"
        ],
        [
         "24",
         "1.59"
        ],
        [
         "25",
         "0.585"
        ],
        [
         "26",
         "1.0"
        ],
        [
         "27",
         "1.0"
        ],
        [
         "28",
         "2.15"
        ],
        [
         "29",
         "1.5"
        ],
        [
         "30",
         "0.725"
        ],
        [
         "31",
         "0.625"
        ],
        [
         "32",
         "1.5"
        ],
        [
         "33",
         "0.6125"
        ],
        [
         "34",
         "1.635"
        ],
        [
         "35",
         "1.2"
        ],
        [
         "36",
         "0.6666666666666666"
        ],
        [
         "37",
         "1.0233333333333332"
        ],
        [
         "38",
         "0.77"
        ],
        [
         "39",
         "1.6666666666666667"
        ],
        [
         "40",
         "0.7466666666666667"
        ],
        [
         "41",
         "1.27"
        ],
        [
         "42",
         "1.53"
        ],
        [
         "43",
         "0.66"
        ],
        [
         "44",
         "1.4"
        ],
        [
         "45",
         "1.5"
        ],
        [
         "46",
         "2.5"
        ],
        [
         "47",
         "1.5"
        ],
        [
         "48",
         "0.6833333333333332"
        ],
        [
         "49",
         "1.5"
        ]
       ],
       "shape": {
        "columns": 1,
        "rows": 244
       }
      },
      "text/plain": [
       "0      0.505000\n",
       "1      0.553333\n",
       "2      1.166667\n",
       "3      1.655000\n",
       "4      0.902500\n",
       "         ...   \n",
       "239    1.973333\n",
       "240    1.000000\n",
       "241    1.000000\n",
       "242    0.875000\n",
       "243    1.500000\n",
       "Name: tip_per_person, Length: 244, dtype: float64"
      ]
     },
     "execution_count": 16,
     "metadata": {},
     "output_type": "execute_result"
    }
   ],
   "source": [
    "df['tip_per_person'] = np.divide(df['tip'], df['size'])\n",
    "df['tip_per_person']"
   ]
  },
  {
   "cell_type": "markdown",
   "id": "c3e2dc8d",
   "metadata": {},
   "source": [
    "#### Remove columns "
   ]
  },
  {
   "cell_type": "code",
   "execution_count": 19,
   "id": "a57a54de",
   "metadata": {},
   "outputs": [
    {
     "data": {
      "application/vnd.microsoft.datawrangler.viewer.v0+json": {
       "columns": [
        {
         "name": "index",
         "rawType": "int64",
         "type": "integer"
        },
        {
         "name": "tip",
         "rawType": "float64",
         "type": "float"
        },
        {
         "name": "sex",
         "rawType": "object",
         "type": "string"
        },
        {
         "name": "smoker",
         "rawType": "object",
         "type": "string"
        },
        {
         "name": "day",
         "rawType": "object",
         "type": "string"
        },
        {
         "name": "time",
         "rawType": "object",
         "type": "string"
        },
        {
         "name": "size",
         "rawType": "int64",
         "type": "integer"
        },
        {
         "name": "price_per_person",
         "rawType": "float64",
         "type": "float"
        },
        {
         "name": "Payer Name",
         "rawType": "object",
         "type": "string"
        },
        {
         "name": "CC Number",
         "rawType": "int64",
         "type": "integer"
        },
        {
         "name": "Payment ID",
         "rawType": "object",
         "type": "string"
        },
        {
         "name": "tip_per_person",
         "rawType": "float64",
         "type": "float"
        }
       ],
       "ref": "05801d2d-d55b-481a-83e2-9b95998082e6",
       "rows": [
        [
         "0",
         "1.01",
         "Female",
         "No",
         "Sun",
         "Dinner",
         "2",
         "8.49",
         "Christy Cunningham",
         "3560325168603410",
         "Sun2959",
         "0.505"
        ],
        [
         "1",
         "1.66",
         "Male",
         "No",
         "Sun",
         "Dinner",
         "3",
         "3.45",
         "Douglas Tucker",
         "4478071379779230",
         "Sun4608",
         "0.5533333333333333"
        ],
        [
         "2",
         "3.5",
         "Male",
         "No",
         "Sun",
         "Dinner",
         "3",
         "7.0",
         "Travis Walters",
         "6011812112971322",
         "Sun4458",
         "1.1666666666666667"
        ],
        [
         "3",
         "3.31",
         "Male",
         "No",
         "Sun",
         "Dinner",
         "2",
         "11.84",
         "Nathaniel Harris",
         "4676137647685994",
         "Sun5260",
         "1.655"
        ],
        [
         "4",
         "3.61",
         "Female",
         "No",
         "Sun",
         "Dinner",
         "4",
         "6.15",
         "Tonya Carter",
         "4832732618637221",
         "Sun2251",
         "0.9025"
        ],
        [
         "5",
         "4.71",
         "Male",
         "No",
         "Sun",
         "Dinner",
         "4",
         "6.32",
         "Erik Smith",
         "213140353657882",
         "Sun9679",
         "1.1775"
        ],
        [
         "6",
         "2.0",
         "Male",
         "No",
         "Sun",
         "Dinner",
         "2",
         "4.38",
         "Kristopher Johnson",
         "2223727524230344",
         "Sun5985",
         "1.0"
        ],
        [
         "7",
         "3.12",
         "Male",
         "No",
         "Sun",
         "Dinner",
         "4",
         "6.72",
         "Robert Buck",
         "3514785077705092",
         "Sun8157",
         "0.78"
        ],
        [
         "8",
         "1.96",
         "Male",
         "No",
         "Sun",
         "Dinner",
         "2",
         "7.52",
         "Joseph Mcdonald",
         "3522866365840377",
         "Sun6820",
         "0.98"
        ],
        [
         "9",
         "3.23",
         "Male",
         "No",
         "Sun",
         "Dinner",
         "2",
         "7.39",
         "Jerome Abbott",
         "3532124519049786",
         "Sun3775",
         "1.615"
        ],
        [
         "10",
         "1.71",
         "Male",
         "No",
         "Sun",
         "Dinner",
         "2",
         "5.14",
         "William Riley",
         "566287581219",
         "Sun2546",
         "0.855"
        ],
        [
         "11",
         "5.0",
         "Female",
         "No",
         "Sun",
         "Dinner",
         "4",
         "8.82",
         "Diane Macias",
         "4577817359320969",
         "Sun6686",
         "1.25"
        ],
        [
         "12",
         "1.57",
         "Male",
         "No",
         "Sun",
         "Dinner",
         "2",
         "7.71",
         "Chad Harrington",
         "577040572932",
         "Sun1300",
         "0.785"
        ],
        [
         "13",
         "3.0",
         "Male",
         "No",
         "Sun",
         "Dinner",
         "4",
         "4.61",
         "Joshua Jones",
         "6011163105616890",
         "Sun2971",
         "0.75"
        ],
        [
         "14",
         "3.02",
         "Female",
         "No",
         "Sun",
         "Dinner",
         "2",
         "7.42",
         "Vanessa Jones",
         "30016702287574",
         "Sun3848",
         "1.51"
        ],
        [
         "15",
         "3.92",
         "Male",
         "No",
         "Sun",
         "Dinner",
         "2",
         "10.79",
         "Matthew Reilly",
         "180073029785069",
         "Sun1878",
         "1.96"
        ],
        [
         "16",
         "1.67",
         "Female",
         "No",
         "Sun",
         "Dinner",
         "3",
         "3.44",
         "Elizabeth Foster",
         "4240025044626033",
         "Sun9715",
         "0.5566666666666666"
        ],
        [
         "17",
         "3.71",
         "Male",
         "No",
         "Sun",
         "Dinner",
         "3",
         "5.43",
         "John Pittman",
         "6521340257218708",
         "Sun2998",
         "1.2366666666666666"
        ],
        [
         "18",
         "3.5",
         "Female",
         "No",
         "Sun",
         "Dinner",
         "3",
         "5.66",
         "Laura Martinez",
         "30422275171379",
         "Sun2789",
         "1.1666666666666667"
        ],
        [
         "19",
         "3.35",
         "Male",
         "No",
         "Sat",
         "Dinner",
         "3",
         "6.88",
         "Timothy Oneal",
         "6568069240986485",
         "Sat9213",
         "1.1166666666666667"
        ],
        [
         "20",
         "4.08",
         "Male",
         "No",
         "Sat",
         "Dinner",
         "2",
         "8.96",
         "Thomas Rice",
         "4403296224639756",
         "Sat1709",
         "2.04"
        ],
        [
         "21",
         "2.75",
         "Female",
         "No",
         "Sat",
         "Dinner",
         "2",
         "10.14",
         "Natalie Gardner",
         "5448125351489749",
         "Sat9618",
         "1.375"
        ],
        [
         "22",
         "2.23",
         "Female",
         "No",
         "Sat",
         "Dinner",
         "2",
         "7.88",
         "Ashley Shelton",
         "3524119516293213",
         "Sat9786",
         "1.115"
        ],
        [
         "23",
         "7.58",
         "Male",
         "No",
         "Sat",
         "Dinner",
         "4",
         "9.86",
         "Lance Peterson",
         "3542584061609808",
         "Sat239",
         "1.895"
        ],
        [
         "24",
         "3.18",
         "Male",
         "No",
         "Sat",
         "Dinner",
         "2",
         "9.91",
         "Christopher Ross",
         "36739148167928",
         "Sat6236",
         "1.59"
        ],
        [
         "25",
         "2.34",
         "Male",
         "No",
         "Sat",
         "Dinner",
         "4",
         "4.45",
         "Robert Perkins",
         "30502930499388",
         "Sat907",
         "0.585"
        ],
        [
         "26",
         "2.0",
         "Male",
         "No",
         "Sat",
         "Dinner",
         "2",
         "6.68",
         "Kyle Avery",
         "6531339539615499",
         "Sat6651",
         "1.0"
        ],
        [
         "27",
         "2.0",
         "Male",
         "No",
         "Sat",
         "Dinner",
         "2",
         "6.34",
         "Patrick Barber",
         "30155551880343",
         "Sat394",
         "1.0"
        ],
        [
         "28",
         "4.3",
         "Male",
         "No",
         "Sat",
         "Dinner",
         "2",
         "10.85",
         "David Collier",
         "5529694315416009",
         "Sat3697",
         "2.15"
        ],
        [
         "29",
         "3.0",
         "Female",
         "No",
         "Sat",
         "Dinner",
         "2",
         "9.82",
         "Melinda Murphy",
         "5489272944576051",
         "Sat2467",
         "1.5"
        ],
        [
         "30",
         "1.45",
         "Male",
         "No",
         "Sat",
         "Dinner",
         "2",
         "4.78",
         "Grant Hall",
         "30196517521548",
         "Sat4099",
         "0.725"
        ],
        [
         "31",
         "2.5",
         "Male",
         "No",
         "Sat",
         "Dinner",
         "4",
         "4.59",
         "Danny Santiago",
         "630415546013",
         "Sat4947",
         "0.625"
        ],
        [
         "32",
         "3.0",
         "Female",
         "No",
         "Sat",
         "Dinner",
         "2",
         "7.53",
         "Amanda Wilson",
         "213186304291560",
         "Sat1327",
         "1.5"
        ],
        [
         "33",
         "2.45",
         "Female",
         "No",
         "Sat",
         "Dinner",
         "4",
         "5.17",
         "Amber Francis",
         "377742985258914",
         "Sat6649",
         "0.6125"
        ],
        [
         "34",
         "3.27",
         "Male",
         "No",
         "Sat",
         "Dinner",
         "2",
         "8.89",
         "Jacob Castillo",
         "3551492000704805",
         "Sat8124",
         "1.635"
        ],
        [
         "35",
         "3.6",
         "Male",
         "No",
         "Sat",
         "Dinner",
         "3",
         "8.02",
         "Joseph Mullins",
         "5519770449260299",
         "Sat632",
         "1.2"
        ],
        [
         "36",
         "2.0",
         "Male",
         "No",
         "Sat",
         "Dinner",
         "3",
         "5.44",
         "William Ford",
         "3527691170179398",
         "Sat9139",
         "0.6666666666666666"
        ],
        [
         "37",
         "3.07",
         "Female",
         "No",
         "Sat",
         "Dinner",
         "3",
         "5.64",
         "Erin Lewis",
         "5161695527390786",
         "Sat6406",
         "1.0233333333333332"
        ],
        [
         "38",
         "2.31",
         "Male",
         "No",
         "Sat",
         "Dinner",
         "3",
         "6.23",
         "Brandon Bradley",
         "4427601595688633",
         "Sat4056",
         "0.77"
        ],
        [
         "39",
         "5.0",
         "Male",
         "No",
         "Sat",
         "Dinner",
         "3",
         "10.42",
         "Mr. Brandon Berry",
         "6011525851069856",
         "Sat6373",
         "1.6666666666666667"
        ],
        [
         "40",
         "2.24",
         "Male",
         "No",
         "Sat",
         "Dinner",
         "3",
         "5.35",
         "Adam Edwards",
         "3544447755679420",
         "Sat8549",
         "0.7466666666666667"
        ],
        [
         "41",
         "2.54",
         "Male",
         "No",
         "Sun",
         "Dinner",
         "2",
         "8.73",
         "David Boyer",
         "3536678244278149",
         "Sun9460",
         "1.27"
        ],
        [
         "42",
         "3.06",
         "Male",
         "No",
         "Sun",
         "Dinner",
         "2",
         "6.97",
         "Bryan Brown",
         "36231182760859",
         "Sun1699",
         "1.53"
        ],
        [
         "43",
         "1.32",
         "Male",
         "No",
         "Sun",
         "Dinner",
         "2",
         "4.84",
         "Christopher Spears",
         "4387671121369212",
         "Sun3279",
         "0.66"
        ],
        [
         "44",
         "5.6",
         "Male",
         "No",
         "Sun",
         "Dinner",
         "4",
         "7.6",
         "Todd Cooper",
         "503846761263",
         "Sun2274",
         "1.4"
        ],
        [
         "45",
         "3.0",
         "Male",
         "No",
         "Sun",
         "Dinner",
         "2",
         "9.14",
         "Richard Fitzgerald",
         "375156610762053",
         "Sun8643",
         "1.5"
        ],
        [
         "46",
         "5.0",
         "Male",
         "No",
         "Sun",
         "Dinner",
         "2",
         "11.12",
         "Joshua Gilmore",
         "4292072734899",
         "Sun7097",
         "2.5"
        ],
        [
         "47",
         "6.0",
         "Male",
         "No",
         "Sun",
         "Dinner",
         "4",
         "8.1",
         "James Barnes",
         "3552002592874186",
         "Sun9677",
         "1.5"
        ],
        [
         "48",
         "2.05",
         "Male",
         "No",
         "Sun",
         "Dinner",
         "3",
         "9.52",
         "Austin Fisher",
         "6011481668986587",
         "Sun4142",
         "0.6833333333333332"
        ],
        [
         "49",
         "3.0",
         "Male",
         "No",
         "Sun",
         "Dinner",
         "2",
         "9.02",
         "William Roth",
         "6573923967142503",
         "Sun9774",
         "1.5"
        ]
       ],
       "shape": {
        "columns": 11,
        "rows": 244
       }
      },
      "text/html": [
       "<div>\n",
       "<style scoped>\n",
       "    .dataframe tbody tr th:only-of-type {\n",
       "        vertical-align: middle;\n",
       "    }\n",
       "\n",
       "    .dataframe tbody tr th {\n",
       "        vertical-align: top;\n",
       "    }\n",
       "\n",
       "    .dataframe thead th {\n",
       "        text-align: right;\n",
       "    }\n",
       "</style>\n",
       "<table border=\"1\" class=\"dataframe\">\n",
       "  <thead>\n",
       "    <tr style=\"text-align: right;\">\n",
       "      <th></th>\n",
       "      <th>tip</th>\n",
       "      <th>sex</th>\n",
       "      <th>smoker</th>\n",
       "      <th>day</th>\n",
       "      <th>time</th>\n",
       "      <th>size</th>\n",
       "      <th>price_per_person</th>\n",
       "      <th>Payer Name</th>\n",
       "      <th>CC Number</th>\n",
       "      <th>Payment ID</th>\n",
       "      <th>tip_per_person</th>\n",
       "    </tr>\n",
       "  </thead>\n",
       "  <tbody>\n",
       "    <tr>\n",
       "      <th>0</th>\n",
       "      <td>1.01</td>\n",
       "      <td>Female</td>\n",
       "      <td>No</td>\n",
       "      <td>Sun</td>\n",
       "      <td>Dinner</td>\n",
       "      <td>2</td>\n",
       "      <td>8.49</td>\n",
       "      <td>Christy Cunningham</td>\n",
       "      <td>3560325168603410</td>\n",
       "      <td>Sun2959</td>\n",
       "      <td>0.505000</td>\n",
       "    </tr>\n",
       "    <tr>\n",
       "      <th>1</th>\n",
       "      <td>1.66</td>\n",
       "      <td>Male</td>\n",
       "      <td>No</td>\n",
       "      <td>Sun</td>\n",
       "      <td>Dinner</td>\n",
       "      <td>3</td>\n",
       "      <td>3.45</td>\n",
       "      <td>Douglas Tucker</td>\n",
       "      <td>4478071379779230</td>\n",
       "      <td>Sun4608</td>\n",
       "      <td>0.553333</td>\n",
       "    </tr>\n",
       "    <tr>\n",
       "      <th>2</th>\n",
       "      <td>3.50</td>\n",
       "      <td>Male</td>\n",
       "      <td>No</td>\n",
       "      <td>Sun</td>\n",
       "      <td>Dinner</td>\n",
       "      <td>3</td>\n",
       "      <td>7.00</td>\n",
       "      <td>Travis Walters</td>\n",
       "      <td>6011812112971322</td>\n",
       "      <td>Sun4458</td>\n",
       "      <td>1.166667</td>\n",
       "    </tr>\n",
       "    <tr>\n",
       "      <th>3</th>\n",
       "      <td>3.31</td>\n",
       "      <td>Male</td>\n",
       "      <td>No</td>\n",
       "      <td>Sun</td>\n",
       "      <td>Dinner</td>\n",
       "      <td>2</td>\n",
       "      <td>11.84</td>\n",
       "      <td>Nathaniel Harris</td>\n",
       "      <td>4676137647685994</td>\n",
       "      <td>Sun5260</td>\n",
       "      <td>1.655000</td>\n",
       "    </tr>\n",
       "    <tr>\n",
       "      <th>4</th>\n",
       "      <td>3.61</td>\n",
       "      <td>Female</td>\n",
       "      <td>No</td>\n",
       "      <td>Sun</td>\n",
       "      <td>Dinner</td>\n",
       "      <td>4</td>\n",
       "      <td>6.15</td>\n",
       "      <td>Tonya Carter</td>\n",
       "      <td>4832732618637221</td>\n",
       "      <td>Sun2251</td>\n",
       "      <td>0.902500</td>\n",
       "    </tr>\n",
       "    <tr>\n",
       "      <th>...</th>\n",
       "      <td>...</td>\n",
       "      <td>...</td>\n",
       "      <td>...</td>\n",
       "      <td>...</td>\n",
       "      <td>...</td>\n",
       "      <td>...</td>\n",
       "      <td>...</td>\n",
       "      <td>...</td>\n",
       "      <td>...</td>\n",
       "      <td>...</td>\n",
       "      <td>...</td>\n",
       "    </tr>\n",
       "    <tr>\n",
       "      <th>239</th>\n",
       "      <td>5.92</td>\n",
       "      <td>Male</td>\n",
       "      <td>No</td>\n",
       "      <td>Sat</td>\n",
       "      <td>Dinner</td>\n",
       "      <td>3</td>\n",
       "      <td>9.68</td>\n",
       "      <td>Michael Avila</td>\n",
       "      <td>5296068606052842</td>\n",
       "      <td>Sat2657</td>\n",
       "      <td>1.973333</td>\n",
       "    </tr>\n",
       "    <tr>\n",
       "      <th>240</th>\n",
       "      <td>2.00</td>\n",
       "      <td>Female</td>\n",
       "      <td>Yes</td>\n",
       "      <td>Sat</td>\n",
       "      <td>Dinner</td>\n",
       "      <td>2</td>\n",
       "      <td>13.59</td>\n",
       "      <td>Monica Sanders</td>\n",
       "      <td>3506806155565404</td>\n",
       "      <td>Sat1766</td>\n",
       "      <td>1.000000</td>\n",
       "    </tr>\n",
       "    <tr>\n",
       "      <th>241</th>\n",
       "      <td>2.00</td>\n",
       "      <td>Male</td>\n",
       "      <td>Yes</td>\n",
       "      <td>Sat</td>\n",
       "      <td>Dinner</td>\n",
       "      <td>2</td>\n",
       "      <td>11.34</td>\n",
       "      <td>Keith Wong</td>\n",
       "      <td>6011891618747196</td>\n",
       "      <td>Sat3880</td>\n",
       "      <td>1.000000</td>\n",
       "    </tr>\n",
       "    <tr>\n",
       "      <th>242</th>\n",
       "      <td>1.75</td>\n",
       "      <td>Male</td>\n",
       "      <td>No</td>\n",
       "      <td>Sat</td>\n",
       "      <td>Dinner</td>\n",
       "      <td>2</td>\n",
       "      <td>8.91</td>\n",
       "      <td>Dennis Dixon</td>\n",
       "      <td>4375220550950</td>\n",
       "      <td>Sat17</td>\n",
       "      <td>0.875000</td>\n",
       "    </tr>\n",
       "    <tr>\n",
       "      <th>243</th>\n",
       "      <td>3.00</td>\n",
       "      <td>Female</td>\n",
       "      <td>No</td>\n",
       "      <td>Thur</td>\n",
       "      <td>Dinner</td>\n",
       "      <td>2</td>\n",
       "      <td>9.39</td>\n",
       "      <td>Michelle Hardin</td>\n",
       "      <td>3511451626698139</td>\n",
       "      <td>Thur672</td>\n",
       "      <td>1.500000</td>\n",
       "    </tr>\n",
       "  </tbody>\n",
       "</table>\n",
       "<p>244 rows × 11 columns</p>\n",
       "</div>"
      ],
      "text/plain": [
       "      tip     sex smoker   day    time  size  price_per_person  \\\n",
       "0    1.01  Female     No   Sun  Dinner     2              8.49   \n",
       "1    1.66    Male     No   Sun  Dinner     3              3.45   \n",
       "2    3.50    Male     No   Sun  Dinner     3              7.00   \n",
       "3    3.31    Male     No   Sun  Dinner     2             11.84   \n",
       "4    3.61  Female     No   Sun  Dinner     4              6.15   \n",
       "..    ...     ...    ...   ...     ...   ...               ...   \n",
       "239  5.92    Male     No   Sat  Dinner     3              9.68   \n",
       "240  2.00  Female    Yes   Sat  Dinner     2             13.59   \n",
       "241  2.00    Male    Yes   Sat  Dinner     2             11.34   \n",
       "242  1.75    Male     No   Sat  Dinner     2              8.91   \n",
       "243  3.00  Female     No  Thur  Dinner     2              9.39   \n",
       "\n",
       "             Payer Name         CC Number Payment ID  tip_per_person  \n",
       "0    Christy Cunningham  3560325168603410    Sun2959        0.505000  \n",
       "1        Douglas Tucker  4478071379779230    Sun4608        0.553333  \n",
       "2        Travis Walters  6011812112971322    Sun4458        1.166667  \n",
       "3      Nathaniel Harris  4676137647685994    Sun5260        1.655000  \n",
       "4          Tonya Carter  4832732618637221    Sun2251        0.902500  \n",
       "..                  ...               ...        ...             ...  \n",
       "239       Michael Avila  5296068606052842    Sat2657        1.973333  \n",
       "240      Monica Sanders  3506806155565404    Sat1766        1.000000  \n",
       "241          Keith Wong  6011891618747196    Sat3880        1.000000  \n",
       "242        Dennis Dixon     4375220550950      Sat17        0.875000  \n",
       "243     Michelle Hardin  3511451626698139    Thur672        1.500000  \n",
       "\n",
       "[244 rows x 11 columns]"
      ]
     },
     "execution_count": 19,
     "metadata": {},
     "output_type": "execute_result"
    }
   ],
   "source": [
    "df.drop('total_bill', axis= 1)"
   ]
  },
  {
   "cell_type": "code",
   "execution_count": null,
   "id": "b2813640",
   "metadata": {},
   "outputs": [],
   "source": []
  }
 ],
 "metadata": {
  "kernelspec": {
   "display_name": "Python 3",
   "language": "python",
   "name": "python3"
  },
  "language_info": {
   "codemirror_mode": {
    "name": "ipython",
    "version": 3
   },
   "file_extension": ".py",
   "mimetype": "text/x-python",
   "name": "python",
   "nbconvert_exporter": "python",
   "pygments_lexer": "ipython3",
   "version": "3.9.12"
  }
 },
 "nbformat": 4,
 "nbformat_minor": 5
}
