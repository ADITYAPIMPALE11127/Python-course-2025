{
 "cells": [
  {
   "cell_type": "markdown",
   "id": "2c4b9479-b975-4ec7-9291-c23d19396c4a",
   "metadata": {},
   "source": [
    "#### Create a NumPy array with numbers 5, 10, 15, 20 and print its type and shape."
   ]
  },
  {
   "cell_type": "code",
   "execution_count": 1,
   "id": "5f26ba15-c4e0-4d21-be19-b55e4a7f9762",
   "metadata": {},
   "outputs": [
    {
     "name": "stdout",
     "output_type": "stream",
     "text": [
      "[ 5 10 15 20]\n",
      "<class 'numpy.ndarray'>\n",
      "(4,)\n"
     ]
    }
   ],
   "source": [
    "import numpy as np\n",
    "arr = np.array([5,10,15,20])\n",
    "print(arr)\n",
    "print(type(arr))\n",
    "print(arr.shape)"
   ]
  },
  {
   "cell_type": "markdown",
   "id": "8fa8b832-8f24-4928-af09-975356177f82",
   "metadata": {},
   "source": [
    "#### 1. From Python list"
   ]
  },
  {
   "cell_type": "code",
   "execution_count": 2,
   "id": "e1d7f73e-b4fb-4df8-afd9-2e849e8382ee",
   "metadata": {},
   "outputs": [
    {
     "data": {
      "text/plain": [
       "array([1, 2, 3])"
      ]
     },
     "execution_count": 2,
     "metadata": {},
     "output_type": "execute_result"
    }
   ],
   "source": [
    "np.array([1, 2, 3])"
   ]
  },
  {
   "cell_type": "markdown",
   "id": "0ce215fb-c96f-43c6-9b57-90fb5f0aaa91",
   "metadata": {},
   "source": [
    "#### 2. With all zeros"
   ]
  },
  {
   "cell_type": "code",
   "execution_count": 3,
   "id": "e0bd6867-ef46-4ff1-8edb-be4dd8bdde4b",
   "metadata": {},
   "outputs": [
    {
     "data": {
      "text/plain": [
       "array([[0., 0., 0.],\n",
       "       [0., 0., 0.]])"
      ]
     },
     "execution_count": 3,
     "metadata": {},
     "output_type": "execute_result"
    }
   ],
   "source": [
    "np.zeros((2, 3))  # 2 rows, 3 columns of 0s"
   ]
  },
  {
   "cell_type": "markdown",
   "id": "5cbeb916-19e9-49b2-96cf-5f61a0df981d",
   "metadata": {},
   "source": [
    "#### 3. With all ones"
   ]
  },
  {
   "cell_type": "code",
   "execution_count": 4,
   "id": "e71167e9-f535-4f05-b7cb-7098bcfbe548",
   "metadata": {},
   "outputs": [
    {
     "data": {
      "text/plain": [
       "array([[1., 1.],\n",
       "       [1., 1.],\n",
       "       [1., 1.]])"
      ]
     },
     "execution_count": 4,
     "metadata": {},
     "output_type": "execute_result"
    }
   ],
   "source": [
    "np.ones((3, 2))   # 3 rows, 2 columns of 1s"
   ]
  },
  {
   "cell_type": "markdown",
   "id": "54ea430e-b0a7-4413-b13a-4c2e6730847a",
   "metadata": {},
   "source": [
    "#### 4. With a specific value"
   ]
  },
  {
   "cell_type": "code",
   "execution_count": 5,
   "id": "bbfa5757-e101-448f-9484-5e3a82e0f83e",
   "metadata": {},
   "outputs": [
    {
     "data": {
      "text/plain": [
       "array([[7, 7],\n",
       "       [7, 7]])"
      ]
     },
     "execution_count": 5,
     "metadata": {},
     "output_type": "execute_result"
    }
   ],
   "source": [
    "np.full((2, 2), 7)  # 2x2 filled with 7"
   ]
  },
  {
   "cell_type": "markdown",
   "id": "f37f7fa2-c7f7-4efd-b461-3325515f0388",
   "metadata": {},
   "source": [
    "#### 5. Range of numbers"
   ]
  },
  {
   "cell_type": "code",
   "execution_count": 6,
   "id": "27f9091e-1635-4a8c-b614-ee1dd2535239",
   "metadata": {},
   "outputs": [
    {
     "data": {
      "text/plain": [
       "array([1, 3, 5, 7, 9])"
      ]
     },
     "execution_count": 6,
     "metadata": {},
     "output_type": "execute_result"
    }
   ],
   "source": [
    "np.arange(1, 10, 2)  # start=1, stop<10, step=2"
   ]
  },
  {
   "cell_type": "markdown",
   "id": "73aad1e5-6cd3-449a-ba05-43648c2f74f7",
   "metadata": {},
   "source": [
    "#### 6. Evenly spaced numbers"
   ]
  },
  {
   "cell_type": "code",
   "execution_count": 10,
   "id": "94d568e2-58b1-41ff-b960-74cee355c063",
   "metadata": {},
   "outputs": [
    {
     "data": {
      "text/plain": [
       "array([0.  , 0.25, 0.5 , 0.75, 1.  ])"
      ]
     },
     "execution_count": 10,
     "metadata": {},
     "output_type": "execute_result"
    }
   ],
   "source": [
    "np.linspace(0, 1, 5)  # 5 points between 0 and 1"
   ]
  },
  {
   "cell_type": "markdown",
   "id": "3f0f0370-59d7-4c6f-bcf8-596abcb150e8",
   "metadata": {},
   "source": [
    "### Coding Drill:\n",
    "* Create:\n",
    "  *  1.    A 3×3 array of all 9s"
   ]
  },
  {
   "cell_type": "code",
   "execution_count": 14,
   "id": "b05fee86-e0e2-4f5c-9048-ddf33abc57f8",
   "metadata": {},
   "outputs": [
    {
     "data": {
      "text/plain": [
       "array([[9, 9, 9],\n",
       "       [9, 9, 9],\n",
       "       [9, 9, 9]])"
      ]
     },
     "execution_count": 14,
     "metadata": {},
     "output_type": "execute_result"
    }
   ],
   "source": [
    "np.full((3,3),9)"
   ]
  },
  {
   "cell_type": "markdown",
   "id": "710d6ce0-f9e7-4035-94b2-9d6a442118e3",
   "metadata": {},
   "source": [
    "* 2. A 1D array of numbers from 20 to 30 with a step of 2"
   ]
  },
  {
   "cell_type": "code",
   "execution_count": 15,
   "id": "bdabe992-5385-4d20-b108-6cdbd4dd45dd",
   "metadata": {},
   "outputs": [
    {
     "data": {
      "text/plain": [
       "array([20, 23, 26, 29])"
      ]
     },
     "execution_count": 15,
     "metadata": {},
     "output_type": "execute_result"
    }
   ],
   "source": [
    "np.arange(20,30,3)"
   ]
  },
  {
   "cell_type": "code",
   "execution_count": null,
   "id": "b49aa6ef-3032-4584-b0c1-3f2e208cb14f",
   "metadata": {},
   "outputs": [],
   "source": []
  }
 ],
 "metadata": {
  "kernelspec": {
   "display_name": "Python 3 (ipykernel)",
   "language": "python",
   "name": "python3"
  },
  "language_info": {
   "codemirror_mode": {
    "name": "ipython",
    "version": 3
   },
   "file_extension": ".py",
   "mimetype": "text/x-python",
   "name": "python",
   "nbconvert_exporter": "python",
   "pygments_lexer": "ipython3",
   "version": "3.13.5"
  }
 },
 "nbformat": 4,
 "nbformat_minor": 5
}
