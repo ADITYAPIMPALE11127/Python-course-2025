{
 "cells": [
  {
   "cell_type": "markdown",
   "id": "2c4b9479-b975-4ec7-9291-c23d19396c4a",
   "metadata": {},
   "source": [
    "####  2️⃣ Create a NumPy array with numbers 5, 10, 15, 20 and print its type and shape."
   ]
  },
  {
   "cell_type": "code",
   "execution_count": 2,
   "id": "5f26ba15-c4e0-4d21-be19-b55e4a7f9762",
   "metadata": {},
   "outputs": [
    {
     "name": "stdout",
     "output_type": "stream",
     "text": [
      "[ 5 10 15 20]\n",
      "<class 'numpy.ndarray'>\n",
      "(4,)\n"
     ]
    }
   ],
   "source": [
    "import numpy as np\n",
    "arr = np.array([5,10,15,20])\n",
    "print(arr)\n",
    "print(type(arr))\n",
    "print(arr.shape)"
   ]
  },
  {
   "cell_type": "markdown",
   "id": "8fa8b832-8f24-4928-af09-975356177f82",
   "metadata": {},
   "source": [
    "#### 1. From Python list"
   ]
  },
  {
   "cell_type": "code",
   "execution_count": 3,
   "id": "e1d7f73e-b4fb-4df8-afd9-2e849e8382ee",
   "metadata": {},
   "outputs": [
    {
     "data": {
      "text/plain": [
       "array([1, 2, 3])"
      ]
     },
     "execution_count": 3,
     "metadata": {},
     "output_type": "execute_result"
    }
   ],
   "source": [
    "np.array([1, 2, 3])"
   ]
  },
  {
   "cell_type": "markdown",
   "id": "0ce215fb-c96f-43c6-9b57-90fb5f0aaa91",
   "metadata": {},
   "source": [
    "#### 2. With all zeros"
   ]
  },
  {
   "cell_type": "code",
   "execution_count": 4,
   "id": "e0bd6867-ef46-4ff1-8edb-be4dd8bdde4b",
   "metadata": {},
   "outputs": [
    {
     "data": {
      "text/plain": [
       "array([[0., 0., 0.],\n",
       "       [0., 0., 0.]])"
      ]
     },
     "execution_count": 4,
     "metadata": {},
     "output_type": "execute_result"
    }
   ],
   "source": [
    "np.zeros((2, 3))  # 2 rows, 3 columns of 0s"
   ]
  },
  {
   "cell_type": "markdown",
   "id": "5cbeb916-19e9-49b2-96cf-5f61a0df981d",
   "metadata": {},
   "source": [
    "#### 3. With all ones"
   ]
  },
  {
   "cell_type": "code",
   "execution_count": 5,
   "id": "e71167e9-f535-4f05-b7cb-7098bcfbe548",
   "metadata": {},
   "outputs": [
    {
     "data": {
      "text/plain": [
       "array([[1., 1.],\n",
       "       [1., 1.],\n",
       "       [1., 1.]])"
      ]
     },
     "execution_count": 5,
     "metadata": {},
     "output_type": "execute_result"
    }
   ],
   "source": [
    "np.ones((3, 2))   # 3 rows, 2 columns of 1s"
   ]
  },
  {
   "cell_type": "markdown",
   "id": "54ea430e-b0a7-4413-b13a-4c2e6730847a",
   "metadata": {},
   "source": [
    "#### 4. With a specific value"
   ]
  },
  {
   "cell_type": "code",
   "execution_count": 6,
   "id": "bbfa5757-e101-448f-9484-5e3a82e0f83e",
   "metadata": {},
   "outputs": [
    {
     "data": {
      "text/plain": [
       "array([[7, 7],\n",
       "       [7, 7]])"
      ]
     },
     "execution_count": 6,
     "metadata": {},
     "output_type": "execute_result"
    }
   ],
   "source": [
    "np.full((2, 2), 7)  # 2x2 filled with 7"
   ]
  },
  {
   "cell_type": "markdown",
   "id": "f37f7fa2-c7f7-4efd-b461-3325515f0388",
   "metadata": {},
   "source": [
    "#### 5. Range of numbers"
   ]
  },
  {
   "cell_type": "code",
   "execution_count": 7,
   "id": "27f9091e-1635-4a8c-b614-ee1dd2535239",
   "metadata": {},
   "outputs": [
    {
     "data": {
      "text/plain": [
       "array([1, 3, 5, 7, 9])"
      ]
     },
     "execution_count": 7,
     "metadata": {},
     "output_type": "execute_result"
    }
   ],
   "source": [
    "np.arange(1, 10, 2)  # start=1, stop<10, step=2"
   ]
  },
  {
   "cell_type": "markdown",
   "id": "73aad1e5-6cd3-449a-ba05-43648c2f74f7",
   "metadata": {},
   "source": [
    "#### 6. Evenly spaced numbers"
   ]
  },
  {
   "cell_type": "code",
   "execution_count": 8,
   "id": "94d568e2-58b1-41ff-b960-74cee355c063",
   "metadata": {},
   "outputs": [
    {
     "data": {
      "text/plain": [
       "array([0.  , 0.25, 0.5 , 0.75, 1.  ])"
      ]
     },
     "execution_count": 8,
     "metadata": {},
     "output_type": "execute_result"
    }
   ],
   "source": [
    "np.linspace(0, 1, 5)  # 5 points between 0 and 1"
   ]
  },
  {
   "cell_type": "markdown",
   "id": "3f0f0370-59d7-4c6f-bcf8-596abcb150e8",
   "metadata": {},
   "source": [
    "### Coding Drill:\n",
    "* Create:\n",
    "  *  1.    A 3×3 array of all 9s"
   ]
  },
  {
   "cell_type": "code",
   "execution_count": 9,
   "id": "b05fee86-e0e2-4f5c-9048-ddf33abc57f8",
   "metadata": {},
   "outputs": [
    {
     "data": {
      "text/plain": [
       "array([[9, 9, 9],\n",
       "       [9, 9, 9],\n",
       "       [9, 9, 9]])"
      ]
     },
     "execution_count": 9,
     "metadata": {},
     "output_type": "execute_result"
    }
   ],
   "source": [
    "np.full((3,3),9)"
   ]
  },
  {
   "cell_type": "markdown",
   "id": "710d6ce0-f9e7-4035-94b2-9d6a442118e3",
   "metadata": {},
   "source": [
    "* 2. A 1D array of numbers from 20 to 30 with a step of 2"
   ]
  },
  {
   "cell_type": "code",
   "execution_count": 10,
   "id": "bdabe992-5385-4d20-b108-6cdbd4dd45dd",
   "metadata": {},
   "outputs": [
    {
     "data": {
      "text/plain": [
       "array([20, 23, 26, 29])"
      ]
     },
     "execution_count": 10,
     "metadata": {},
     "output_type": "execute_result"
    }
   ],
   "source": [
    "np.arange(20,30,3)"
   ]
  },
  {
   "cell_type": "markdown",
   "id": "b4cc7776-e611-436e-8c40-9c20ae57e4e9",
   "metadata": {},
   "source": [
    "### 3️⃣ Array Indexing and Slicing\n",
    "   ##### Think of it like lists, but arrays can be multi-dimensional."
   ]
  },
  {
   "cell_type": "markdown",
   "id": "645b9a3f-2989-4b06-b2b4-e72fe0e953fd",
   "metadata": {},
   "source": [
    "#### Indexing (picking single elements):"
   ]
  },
  {
   "cell_type": "code",
   "execution_count": 11,
   "id": "97c59f47-d097-467f-aead-6c0a38f903ca",
   "metadata": {},
   "outputs": [
    {
     "name": "stdout",
     "output_type": "stream",
     "text": [
      "10\n",
      "40\n"
     ]
    }
   ],
   "source": [
    "arr = np.array([10, 20, 30, 40])\n",
    "print(arr[0])   # 10\n",
    "print(arr[-1])  # 40"
   ]
  },
  {
   "cell_type": "markdown",
   "id": "07558c2c-3496-4495-83c7-81a84c101b7d",
   "metadata": {},
   "source": [
    "#### Slicing (picking ranges):"
   ]
  },
  {
   "cell_type": "code",
   "execution_count": 12,
   "id": "3dd68a6a-91f2-4049-b1b4-9de850f21957",
   "metadata": {},
   "outputs": [
    {
     "name": "stdout",
     "output_type": "stream",
     "text": [
      "[20 30 40]\n",
      "[10 20 30]\n",
      "[10 30 50]\n"
     ]
    }
   ],
   "source": [
    "arr = np.array([10, 20, 30, 40, 50])\n",
    "print(arr[1:4])   # [20 30 40]\n",
    "print(arr[:3])    # [10 20 30]\n",
    "print(arr[::2])   # [10 30 50]"
   ]
  },
  {
   "cell_type": "markdown",
   "id": "9b25e193-5053-4516-950e-9aaf6b7871e1",
   "metadata": {},
   "source": [
    "#### 2D indexing:"
   ]
  },
  {
   "cell_type": "code",
   "execution_count": 13,
   "id": "6a511134-38cc-4436-92ad-145f05b8ef67",
   "metadata": {},
   "outputs": [
    {
     "name": "stdout",
     "output_type": "stream",
     "text": [
      "2\n",
      "[4 5 6]\n",
      "[1 4]\n"
     ]
    }
   ],
   "source": [
    "mat = np.array([[1, 2, 3], [4, 5, 6]])\n",
    "print(mat[0, 1])    # row 0, col 1 → 2\n",
    "print(mat[1, :])    # all cols in row 1 → [4 5 6]\n",
    "print(mat[:, 0])    # all rows in col 0 → [1 4]"
   ]
  },
  {
   "cell_type": "markdown",
   "id": "99967220-d1f9-43dd-828e-f43c6c37020c",
   "metadata": {},
   "source": [
    "#### Example 1 – Making a 2×5 matrix uaing arange() and reshape()\n",
    "* reshape() -  it shapes the array as we give parameter like 2 x 4 or 3D parameter "
   ]
  },
  {
   "cell_type": "code",
   "execution_count": 14,
   "id": "7c99eb9f-42fc-4cfb-ae80-3e534c676360",
   "metadata": {},
   "outputs": [
    {
     "name": "stdout",
     "output_type": "stream",
     "text": [
      "[[ 1  2  3  4  5]\n",
      " [ 6  7  8  9 10]]\n"
     ]
    }
   ],
   "source": [
    "arr = np.arange(1, 11).reshape(2, 5)\n",
    "print(arr)"
   ]
  },
  {
   "cell_type": "markdown",
   "id": "ce196065-68e6-42a1-a365-36bd14f49ce2",
   "metadata": {},
   "source": [
    "### Code drill"
   ]
  },
  {
   "cell_type": "code",
   "execution_count": 15,
   "id": "c3bfded4-ad07-4798-99fb-25da7e261340",
   "metadata": {},
   "outputs": [
    {
     "name": "stdout",
     "output_type": "stream",
     "text": [
      "[8 9]\n"
     ]
    }
   ],
   "source": [
    "arr = np.array([[5, 6, 7], [8, 9, 10]])\n",
    "print(arr[1, :2])"
   ]
  },
  {
   "cell_type": "markdown",
   "id": "e8af7917-feb7-41fd-be34-433c12a35b4a",
   "metadata": {},
   "source": [
    "### Mini coding drill (Indexing & Slicing):\n",
    "\n",
    "Create a 3×3 NumPy array with numbers 1–9.\n",
    "\n",
    "Print:\n",
    "\n",
    "The element in row 2, column 3\n",
    "\n",
    "All elements from row 1\n",
    "\n",
    "The first column from all rows"
   ]
  },
  {
   "cell_type": "code",
   "execution_count": 16,
   "id": "00d8bbf3-bdbd-48f6-bbaf-3509bf8fddae",
   "metadata": {},
   "outputs": [
    {
     "name": "stdout",
     "output_type": "stream",
     "text": [
      "[[1 2 3]\n",
      " [4 5 6]\n",
      " [7 8 9]]\n"
     ]
    }
   ],
   "source": [
    "import numpy as np\n",
    "arr = np.arange(1, 10).reshape(3, 3)\n",
    "print(arr)"
   ]
  },
  {
   "cell_type": "code",
   "execution_count": 17,
   "id": "2f17d0e8-89e2-4372-bf79-67cfd4e21f5d",
   "metadata": {},
   "outputs": [
    {
     "name": "stdout",
     "output_type": "stream",
     "text": [
      "6\n"
     ]
    }
   ],
   "source": [
    "print(arr[1][2])"
   ]
  },
  {
   "cell_type": "code",
   "execution_count": 18,
   "id": "d81b2357-400e-4e22-bf36-26499dd3297e",
   "metadata": {},
   "outputs": [
    {
     "name": "stdout",
     "output_type": "stream",
     "text": [
      "[1 2 3]\n"
     ]
    }
   ],
   "source": [
    "print(arr[0])"
   ]
  },
  {
   "cell_type": "code",
   "execution_count": 19,
   "id": "d9434cf6-b678-4b10-9f69-c5d9d02a5f13",
   "metadata": {},
   "outputs": [
    {
     "name": "stdout",
     "output_type": "stream",
     "text": [
      "[1 4 7]\n"
     ]
    }
   ],
   "source": [
    "print(arr[:, 0])"
   ]
  },
  {
   "cell_type": "code",
   "execution_count": 20,
   "id": "a46a4002-baa5-4363-894d-7dae30ab3072",
   "metadata": {},
   "outputs": [],
   "source": [
    "arr1 = np.arange(1,7).reshape(2,3)"
   ]
  },
  {
   "cell_type": "code",
   "execution_count": 21,
   "id": "7c22d21e-f930-4ceb-9d38-cb821f7423ad",
   "metadata": {},
   "outputs": [
    {
     "data": {
      "text/plain": [
       "array([[1, 2, 3],\n",
       "       [4, 5, 6]])"
      ]
     },
     "execution_count": 21,
     "metadata": {},
     "output_type": "execute_result"
    }
   ],
   "source": [
    "arr1"
   ]
  },
  {
   "cell_type": "code",
   "execution_count": 22,
   "id": "7d0b3ad2-8027-4ea8-a359-4f45999710e9",
   "metadata": {},
   "outputs": [
    {
     "name": "stdout",
     "output_type": "stream",
     "text": [
      "5\n"
     ]
    }
   ],
   "source": [
    "print(arr1[1,1])"
   ]
  },
  {
   "cell_type": "markdown",
   "id": "f796a7e9-5e01-408a-8f1a-07ed84f9540a",
   "metadata": {},
   "source": [
    "#### Now try the coding drill:\n",
    "\n",
    "### Create an array from 50 to 65 (inclusive), reshape to 4×4, and print element at row 3, column 2."
   ]
  },
  {
   "cell_type": "code",
   "execution_count": 25,
   "id": "eb712921-5654-424f-91af-e9f8d309b93a",
   "metadata": {},
   "outputs": [],
   "source": [
    "arrNew1 = np.arange(50,66).reshape(4,4)"
   ]
  },
  {
   "cell_type": "code",
   "execution_count": 26,
   "id": "c28d4517-92c6-467b-94e1-a81113a27598",
   "metadata": {},
   "outputs": [
    {
     "data": {
      "text/plain": [
       "array([[50, 51, 52, 53],\n",
       "       [54, 55, 56, 57],\n",
       "       [58, 59, 60, 61],\n",
       "       [62, 63, 64, 65]])"
      ]
     },
     "execution_count": 26,
     "metadata": {},
     "output_type": "execute_result"
    }
   ],
   "source": [
    "arrNew1"
   ]
  },
  {
   "cell_type": "code",
   "execution_count": 30,
   "id": "23754eaf-fe12-4743-bf26-2949d798eb32",
   "metadata": {},
   "outputs": [
    {
     "data": {
      "text/plain": [
       "np.int64(59)"
      ]
     },
     "execution_count": 30,
     "metadata": {},
     "output_type": "execute_result"
    }
   ],
   "source": [
    "arrNew1[2,1]"
   ]
  },
  {
   "cell_type": "markdown",
   "id": "b1d28a2f-8a45-43b2-ab18-33092895c80f",
   "metadata": {},
   "source": [
    "### 4️⃣ Understanding Random Module in NumPy."
   ]
  },
  {
   "cell_type": "markdown",
   "id": "a614f82f-2271-4c39-8b5c-769367c24c70",
   "metadata": {},
   "source": [
    "##### NumPy’s random module lets you create random numbers or random samples quickly.\n",
    "  * 1. Initializing model weights randomly before training\n",
    "\n",
    "In ML models (like neural networks), we have “weights” that decide how strongly inputs affect outputs.\n",
    "\n",
    "At the start, we don’t know the right values, so we set them to random numbers (instead of all zeros — which would make the model fail to learn properly).\n",
    "\n",
    "Why random? → Helps the model start learning in different directions instead of being stuck.\n",
    "\n",
    "Example:"
   ]
  },
  {
   "cell_type": "code",
   "execution_count": 32,
   "id": "19336350-167c-47f7-87aa-f9e4fea12234",
   "metadata": {},
   "outputs": [
    {
     "data": {
      "text/plain": [
       "array([[ 1.49192093, -0.37997005,  0.40693598],\n",
       "       [ 0.99087041, -0.29102437, -0.72941424],\n",
       "       [-0.3177588 ,  0.53242969,  1.02995818]])"
      ]
     },
     "execution_count": 32,
     "metadata": {},
     "output_type": "execute_result"
    }
   ],
   "source": [
    "weights = np.random.randn(3, 3)  # 3x3 matrix of random weights\n",
    "weights"
   ]
  },
  {
   "cell_type": "markdown",
   "id": "ecdbc54e-346e-44b9-bbca-a1b79c6dbeb6",
   "metadata": {},
   "source": [
    "* 2. Splitting datasets into random train/test sets\n",
    "\n",
    "In ML, we train the model on some data (train set) and test it on unseen data (test set).\n",
    "\n",
    "We need to pick these randomly so that our test set is unbiased.\n",
    "\n",
    "Example:"
   ]
  },
  {
   "cell_type": "code",
   "execution_count": 38,
   "id": "f6061b6c-6fae-412c-b6b4-d1b5ab959ee2",
   "metadata": {},
   "outputs": [
    {
     "name": "stdout",
     "output_type": "stream",
     "text": [
      "70%: train: [ 2  4  1  6  5  3 10],\n",
      "test 30% test :[9 8 7]\n"
     ]
    }
   ],
   "source": [
    "data = np.arange(1, 11)\n",
    "np.random.shuffle(data)  # randomize order\n",
    "train, test = data[:7], data[7:]  # 70% train, 30% test\n",
    "print(f\"70%: train: {train},\\ntest 30% test :{test}\")"
   ]
  },
  {
   "cell_type": "markdown",
   "id": "3030d7da-ed51-4f55-9bbe-6e8356cf43ca",
   "metadata": {},
   "source": [
    "* 3. Data augmentation (random noise for images)\n",
    "\n",
    "If you have a small dataset, you can add small random changes to create more data for training.\n",
    "\n",
    "In image classification, adding random brightness or noise helps the model generalize better.\n",
    "\n",
    "Example:"
   ]
  },
  {
   "cell_type": "code",
   "execution_count": 43,
   "id": "7de72768-1a0a-45e7-ab68-1a2adeaee445",
   "metadata": {},
   "outputs": [
    {
     "name": "stdout",
     "output_type": "stream",
     "text": [
      " image data:\n",
      " [[100. 100. 100.]\n",
      " [100. 100. 100.]\n",
      " [100. 100. 100.]] \n",
      "noise data: \n",
      " [[ 2  8 17]\n",
      " [19  7 -8]\n",
      " [-8 16 -1]]\n",
      "augmented: \n",
      " [[102. 108. 117.]\n",
      " [119. 107.  92.]\n",
      " [ 92. 116.  99.]]\n"
     ]
    }
   ],
   "source": [
    "image = np.ones((3, 3)) * 100  # dummy grayscale image\n",
    "noise = np.random.randint(-20, 20, size=(3, 3))\n",
    "augmented = image + noise\n",
    "print(f\" image data:\\n {image} \\nnoise data: \\n {noise}\\naugmented: \\n {augmented}\")"
   ]
  },
  {
   "cell_type": "markdown",
   "id": "3f351885-740f-4fe7-bcbd-a4b116a86aa2",
   "metadata": {},
   "source": [
    "* 4. Simulations (Monte Carlo simulations)\n",
    "\n",
    "Used in finance, physics, risk analysis → run many random scenarios to estimate outcomes.\n",
    "\n",
    "Example: Estimating stock price fluctuations or predicting weather.\n",
    "\n",
    "Below This lets analysts see possible outcomes before making a decision."
   ]
  },
  {
   "cell_type": "markdown",
   "id": "9e3da7bb-0871-48ec-aea1-d1767558ac24",
   "metadata": {},
   "source": [
    "simulated_prices = np.random.normal(100, 10, size=50)  # mean=100, std=10\n",
    "print(simulated_prices)"
   ]
  },
  {
   "cell_type": "markdown",
   "id": "383c0ebd-4abc-4a4f-b83c-be11f990b001",
   "metadata": {},
   "source": [
    "#### 1.Random float between 0 and 1"
   ]
  },
  {
   "cell_type": "code",
   "execution_count": 47,
   "id": "0a804f79-227a-40c4-b232-354246a98d42",
   "metadata": {},
   "outputs": [
    {
     "name": "stdout",
     "output_type": "stream",
     "text": [
      "[0.97282806 0.20535657 0.67824765]\n"
     ]
    }
   ],
   "source": [
    "print(np.random.rand(3))  # 1D array of 3 random floats"
   ]
  },
  {
   "cell_type": "markdown",
   "id": "2b9ff25f-3db5-453e-be94-af09bc0bce91",
   "metadata": {},
   "source": [
    "#### 2. Random 2D array"
   ]
  },
  {
   "cell_type": "code",
   "execution_count": 48,
   "id": "24717bc8-39b3-41af-b799-dd2811c53e84",
   "metadata": {},
   "outputs": [
    {
     "data": {
      "text/plain": [
       "array([[0.11622855, 0.01987713, 0.45089983],\n",
       "       [0.426453  , 0.76344776, 0.815065  ]])"
      ]
     },
     "execution_count": 48,
     "metadata": {},
     "output_type": "execute_result"
    }
   ],
   "source": [
    "np.random.rand(2, 3)  # shape = (2, 3)"
   ]
  },
  {
   "cell_type": "markdown",
   "id": "e438dae2-ad26-4f62-bcab-ba44baf38b0e",
   "metadata": {},
   "source": [
    "#### 3. Random integers between a range"
   ]
  },
  {
   "cell_type": "code",
   "execution_count": 51,
   "id": "9b7a3b96-7563-431c-82ba-cff8cbbdecab",
   "metadata": {},
   "outputs": [
    {
     "data": {
      "text/plain": [
       "array([[9, 8, 2, 3],\n",
       "       [4, 9, 1, 2]], dtype=int32)"
      ]
     },
     "execution_count": 51,
     "metadata": {},
     "output_type": "execute_result"
    }
   ],
   "source": [
    "np.random.randint(1, 10, size=(2, 4))  # 2 rows × 4 cols"
   ]
  },
  {
   "cell_type": "markdown",
   "id": "8eec4114-3bd9-4989-bcf3-ecd1fd90c51f",
   "metadata": {},
   "source": [
    "#### 4. Random choice from a list"
   ]
  },
  {
   "cell_type": "code",
   "execution_count": 52,
   "id": "67325cc1-33a4-4894-820e-09287e4f503c",
   "metadata": {},
   "outputs": [
    {
     "data": {
      "text/plain": [
       "array([30, 10, 10])"
      ]
     },
     "execution_count": 52,
     "metadata": {},
     "output_type": "execute_result"
    }
   ],
   "source": [
    "np.random.choice([10, 20, 30, 40], size=3)"
   ]
  },
  {
   "cell_type": "markdown",
   "id": "0feb7fd1-b7bf-4914-b1fa-4f5c17b8f1d4",
   "metadata": {},
   "source": [
    "#### 5. Normally distributed random numbers (mean=0, std=1)"
   ]
  },
  {
   "cell_type": "code",
   "execution_count": 53,
   "id": "2ac87412-559c-42e8-b72c-3d2f605d47cd",
   "metadata": {},
   "outputs": [
    {
     "data": {
      "text/plain": [
       "array([ 1.03270968, -2.02860382,  0.46762525, -2.18276036,  0.37603188])"
      ]
     },
     "execution_count": 53,
     "metadata": {},
     "output_type": "execute_result"
    }
   ],
   "source": [
    "np.random.randn(5)"
   ]
  },
  {
   "cell_type": "markdown",
   "id": "de34d58a-557d-4f39-853c-6b7580e4acb0",
   "metadata": {},
   "source": [
    "### Code Drill\n",
    "Task:\n",
    "\n",
    "Create a dataset of 10 random integers between 50 and 100 (inclusive).\n",
    "\n",
    "Randomly shuffle them.\n",
    "\n",
    "Split into first 7 elements = train set, last 3 elements = test set."
   ]
  },
  {
   "cell_type": "code",
   "execution_count": 64,
   "id": "8354dcd4-39f8-4ce8-b99f-d62bc6e2cc5d",
   "metadata": {},
   "outputs": [],
   "source": [
    "np1 = np.random.randint(50,101, size =10)"
   ]
  },
  {
   "cell_type": "code",
   "execution_count": 66,
   "id": "e3144e54-bcb8-433a-b8ac-204191652ec0",
   "metadata": {},
   "outputs": [],
   "source": [
    "np.random.shuffle(np1)"
   ]
  },
  {
   "cell_type": "code",
   "execution_count": 67,
   "id": "e947a27d-aa2f-4fc2-a02a-dca180a7fd70",
   "metadata": {},
   "outputs": [],
   "source": [
    "train,test = np1[:7], np1[7:]"
   ]
  },
  {
   "cell_type": "code",
   "execution_count": 68,
   "id": "83fb0340-7f39-41db-87d8-26eed38d7fea",
   "metadata": {},
   "outputs": [
    {
     "name": "stdout",
     "output_type": "stream",
     "text": [
      "70%: train: [56 65 65 81 85 75 65],\n",
      "test 30% test :[81 63 51]\n"
     ]
    }
   ],
   "source": [
    "print(f\"70%: train: {train},\\ntest 30% test :{test}\")"
   ]
  },
  {
   "cell_type": "markdown",
   "id": "7bfe0cb9-717e-419d-a76e-c77fe3e4fd20",
   "metadata": {},
   "source": [
    "### 5️⃣ Mathematical Operations in NumPy.\n",
    "* Examples"
   ]
  },
  {
   "cell_type": "code",
   "execution_count": 69,
   "id": "10fc452a-2b91-4c32-86ff-6bf71e6eb2b5",
   "metadata": {},
   "outputs": [
    {
     "name": "stdout",
     "output_type": "stream",
     "text": [
      "[11 22 33]\n",
      "[ 9 18 27]\n",
      "[10 40 90]\n",
      "[10. 10. 10.]\n",
      "[3.16227766 4.47213595 5.47722558]\n",
      "[0.         0.69314718 1.09861229]\n",
      "[0.84147098 0.90929743 0.14112001]\n"
     ]
    }
   ],
   "source": [
    "import numpy as np\n",
    "\n",
    "arr1 = np.array([10, 20, 30])\n",
    "arr2 = np.array([1, 2, 3])\n",
    "\n",
    "# Element-wise math\n",
    "print(arr1 + arr2)  # [11 22 33]\n",
    "print(arr1 - arr2)  # [ 9 18 27]\n",
    "print(arr1 * arr2)  # [10 40 90]\n",
    "print(arr1 / arr2)  # [10. 10. 10.]\n",
    "\n",
    "# revise maths topics sine function and natrual log to know correctly\n",
    "\n",
    "# Built-in math functions\n",
    "print(np.sqrt(arr1))   # square root\n",
    "print(np.log(arr2))    # natural log\n",
    "print(np.sin(arr2))    # sine function\n"
   ]
  },
  {
   "cell_type": "code",
   "execution_count": 72,
   "id": "3c1c2a34-2bc5-4596-9ecb-34276fb22a63",
   "metadata": {},
   "outputs": [
    {
     "name": "stdout",
     "output_type": "stream",
     "text": [
      "[1.41421356 2.         2.44948974]\n",
      "[0.69314718 1.38629436 1.79175947]\n",
      "[2.10736074 3.38629436 4.24124921]\n"
     ]
    }
   ],
   "source": [
    "arr = np.array([2, 4, 6])\n",
    "print(np.sqrt(arr))\n",
    "print(np.log(arr))\n",
    "print(np.sqrt(arr) + np.log(arr))"
   ]
  },
  {
   "cell_type": "markdown",
   "id": "ea3f60c7-6d66-4d6a-b80b-00bbf4f5c105",
   "metadata": {},
   "source": [
    "#### Coding Drill — Normalization -  Math formula operation \n",
    "\n",
    "Self learn and esplore how to do basic calculations\n",
    "\n",
    "In ML, we often normalize features to 0–1 range so all features are comparable.\n",
    "Formula:\n",
    "normalized = (arr - min) / (max - min)"
   ]
  },
  {
   "cell_type": "markdown",
   "id": "0054df3d-a210-49d6-8c25-ff1de0bdcd4f",
   "metadata": {},
   "source": [
    "Your task:\n",
    "\n",
    "Create a NumPy array with values [10, 15, 20, 25, 30]\n",
    "\n",
    "Normalize them so the smallest = 0 and largest = 1"
   ]
  },
  {
   "cell_type": "code",
   "execution_count": 73,
   "id": "70f24033-78f3-4db1-9684-e2efff28f5d0",
   "metadata": {},
   "outputs": [
    {
     "data": {
      "text/plain": [
       "array([10, 15, 20, 25, 30])"
      ]
     },
     "execution_count": 73,
     "metadata": {},
     "output_type": "execute_result"
    }
   ],
   "source": [
    "arrNum = np.array([10,15,20,25,30])\n",
    "arrNum"
   ]
  },
  {
   "cell_type": "code",
   "execution_count": 76,
   "id": "4f88382b-34aa-4c20-a629-b211cdd92761",
   "metadata": {},
   "outputs": [],
   "source": [
    "mini = min(arrNum)"
   ]
  },
  {
   "cell_type": "code",
   "execution_count": 75,
   "id": "573ea6c8-4636-4c11-8c84-10db85b8c050",
   "metadata": {},
   "outputs": [],
   "source": [
    "maxi = max(arrNum)"
   ]
  },
  {
   "cell_type": "code",
   "execution_count": 79,
   "id": "095aaacf-9a48-433a-a17f-62a8756201f0",
   "metadata": {},
   "outputs": [],
   "source": [
    "normalized  = (arrNum - mini) / (maxi - mini)"
   ]
  },
  {
   "cell_type": "code",
   "execution_count": 80,
   "id": "395415e8-df6c-4502-be91-7341362ce417",
   "metadata": {},
   "outputs": [
    {
     "name": "stdout",
     "output_type": "stream",
     "text": [
      "[0.   0.25 0.5  0.75 1.  ]\n"
     ]
    }
   ],
   "source": [
    "print(normalized)"
   ]
  },
  {
   "cell_type": "markdown",
   "id": "98d1c512-3e97-4fad-815b-51e9075e90d2",
   "metadata": {},
   "source": [
    "#### 6️⃣ NumPy Array Operations"
   ]
  },
  {
   "cell_type": "code",
   "execution_count": 82,
   "id": "abad3007-73f8-4cb8-959c-9fb059d279d7",
   "metadata": {},
   "outputs": [],
   "source": [
    "arr = np.array([[10, 20, 30],\n",
    "                [40, 50, 60]])"
   ]
  },
  {
   "cell_type": "code",
   "execution_count": 83,
   "id": "cbcc8076-3371-4256-a7b8-96464207b5c1",
   "metadata": {},
   "outputs": [
    {
     "name": "stdout",
     "output_type": "stream",
     "text": [
      "210\n"
     ]
    }
   ],
   "source": [
    "# Total of all elements\n",
    "print(np.sum(arr))"
   ]
  },
  {
   "cell_type": "code",
   "execution_count": 84,
   "id": "46569d38-c5e7-449e-9e31-18edf6df1616",
   "metadata": {},
   "outputs": [
    {
     "name": "stdout",
     "output_type": "stream",
     "text": [
      "35.0\n"
     ]
    }
   ],
   "source": [
    "# Average of all elements\n",
    "print(np.mean(arr))"
   ]
  },
  {
   "cell_type": "code",
   "execution_count": 85,
   "id": "7d5c2475-bae9-4884-b59b-f55f8ccfa739",
   "metadata": {},
   "outputs": [
    {
     "name": "stdout",
     "output_type": "stream",
     "text": [
      "10\n",
      "60\n"
     ]
    }
   ],
   "source": [
    "# Minimum and Maximum\n",
    "print(np.min(arr))         \n",
    "print(np.max(arr))         "
   ]
  },
  {
   "cell_type": "code",
   "execution_count": 86,
   "id": "7c3cd558-5996-498c-84fd-fb3780af7104",
   "metadata": {},
   "outputs": [
    {
     "name": "stdout",
     "output_type": "stream",
     "text": [
      "17.07825127659933\n",
      "291.6666666666667\n"
     ]
    }
   ],
   "source": [
    "# Standard Deviation & Variance\n",
    "print(np.std(arr))       \n",
    "print(np.var(arr))"
   ]
  },
  {
   "cell_type": "code",
   "execution_count": 87,
   "id": "334a29a3-850f-4e8d-9771-56b8f40befde",
   "metadata": {},
   "outputs": [
    {
     "name": "stdout",
     "output_type": "stream",
     "text": [
      "[25. 35. 45.]\n"
     ]
    }
   ],
   "source": [
    "# Column-wise mean (axis=0)\n",
    "print(np.mean(arr, axis=0))"
   ]
  },
  {
   "cell_type": "code",
   "execution_count": 88,
   "id": "45343f5e-113c-4fbe-8a33-3521992b63d3",
   "metadata": {},
   "outputs": [
    {
     "name": "stdout",
     "output_type": "stream",
     "text": [
      "[ 60 150]\n"
     ]
    }
   ],
   "source": [
    "# Row-wise sum (axis=1)\n",
    "print(np.sum(arr, axis=1))"
   ]
  },
  {
   "cell_type": "markdown",
   "id": "06d800e3-db0f-455c-8154-09007e743d2b",
   "metadata": {},
   "source": [
    "#### Coding Drill\n",
    "\n",
    "Create a 4×3 array of random integers between 10 and 50. Then:\n",
    "\n",
    "Find the sum for each row.\n",
    "\n",
    "Find the mean for each column.\n",
    "\n",
    "Find the overall standard deviation of the array."
   ]
  },
  {
   "cell_type": "code",
   "execution_count": 91,
   "id": "bf4dc24f-043c-4b5c-b173-a8ff16ac5fed",
   "metadata": {},
   "outputs": [
    {
     "data": {
      "text/plain": [
       "array([[12, 12, 18],\n",
       "       [10, 32, 38],\n",
       "       [36, 33, 42],\n",
       "       [17, 36, 29]], dtype=int32)"
      ]
     },
     "execution_count": 91,
     "metadata": {},
     "output_type": "execute_result"
    }
   ],
   "source": [
    "arr3 = np.random.randint(10, 51, size=(4, 3))\n",
    "arr3"
   ]
  },
  {
   "cell_type": "code",
   "execution_count": 93,
   "id": "f9a520fb-f64e-4fd2-9913-bfec90e386fb",
   "metadata": {},
   "outputs": [
    {
     "name": "stdout",
     "output_type": "stream",
     "text": [
      "42\n",
      "80\n",
      "111\n",
      "82\n"
     ]
    }
   ],
   "source": [
    "print(np.sum(arr3[0]))\n",
    "print(np.sum(arr3[1]))\n",
    "print(np.sum(arr3[2]))\n",
    "print(np.sum(arr3[3]))"
   ]
  },
  {
   "cell_type": "code",
   "execution_count": 95,
   "id": "706e8514-c766-4d49-b356-2bddd9c87997",
   "metadata": {},
   "outputs": [
    {
     "name": "stdout",
     "output_type": "stream",
     "text": [
      "18.75\n",
      "28.25\n",
      "31.75\n"
     ]
    }
   ],
   "source": [
    "print(np.mean(arr3[:,0]))\n",
    "print(np.mean(arr3[:,1]))\n",
    "print(np.mean(arr3[:,2]))"
   ]
  },
  {
   "cell_type": "code",
   "execution_count": 96,
   "id": "ff654f78-b04b-4e8d-bd97-538f155ffb2e",
   "metadata": {},
   "outputs": [
    {
     "name": "stdout",
     "output_type": "stream",
     "text": [
      "11.128978689289807\n"
     ]
    }
   ],
   "source": [
    "print(np.std(arr3))"
   ]
  },
  {
   "cell_type": "markdown",
   "id": "9c48ce5c-2465-4b57-a45e-c135635b7f16",
   "metadata": {},
   "source": [
    "### 7️⃣ Array Reshaping"
   ]
  },
  {
   "cell_type": "code",
   "execution_count": 99,
   "id": "578aab0c-c92d-4caf-bbce-72e77d14af2d",
   "metadata": {},
   "outputs": [
    {
     "name": "stdout",
     "output_type": "stream",
     "text": [
      "\n",
      "[[ 1  2  3  4]\n",
      " [ 5  6  7  8]\n",
      " [ 9 10 11 12]]\n",
      "\n",
      "[[ 1  2  3  4  5  6]\n",
      " [ 7  8  9 10 11 12]]\n",
      "\n",
      "[[[ 1  2  3]\n",
      "  [ 4  5  6]]\n",
      "\n",
      " [[ 7  8  9]\n",
      "  [10 11 12]]]\n"
     ]
    }
   ],
   "source": [
    "arr = np.arange(1, 13)\n",
    "print()\n",
    "# 1D → 2D\n",
    "print(arr.reshape(3, 4))\n",
    "print()\n",
    "# Auto-calculate rows\n",
    "print(arr.reshape(-1, 6))\n",
    "print()\n",
    "# 1D → 3D\n",
    "print(arr.reshape(2, 2, 3))\n"
   ]
  },
  {
   "cell_type": "code",
   "execution_count": 100,
   "id": "00d1bf43-09b3-4914-8b6d-82d24bc4aeda",
   "metadata": {},
   "outputs": [],
   "source": [
    "arr4 = np.arange(8)"
   ]
  },
  {
   "cell_type": "code",
   "execution_count": 101,
   "id": "53cdc9ea-bfd4-47db-a075-663c8b3d7515",
   "metadata": {},
   "outputs": [
    {
     "data": {
      "text/plain": [
       "array([0, 1, 2, 3, 4, 5, 6, 7])"
      ]
     },
     "execution_count": 101,
     "metadata": {},
     "output_type": "execute_result"
    }
   ],
   "source": [
    "arr4"
   ]
  },
  {
   "cell_type": "code",
   "execution_count": 103,
   "id": "ae0883c6-edd4-4728-b6d7-2e5a4febda87",
   "metadata": {},
   "outputs": [
    {
     "data": {
      "text/plain": [
       "array([[0, 1, 2, 3],\n",
       "       [4, 5, 6, 7]])"
      ]
     },
     "execution_count": 103,
     "metadata": {},
     "output_type": "execute_result"
    }
   ],
   "source": [
    "arr4.reshape(2,-1)"
   ]
  },
  {
   "cell_type": "markdown",
   "id": "f58379b4-9334-441e-94db-4527055d4947",
   "metadata": {},
   "source": [
    "### Code Drill\n",
    "Do you want to try the reshaping coding drill now?\n",
    "It’s the one where you:\n",
    "\n",
    "Make numbers 1–24\n",
    "\n",
    "Reshape to 4×6\n",
    "\n",
    "Reshape to (2, 3, 4)"
   ]
  },
  {
   "cell_type": "code",
   "execution_count": 104,
   "id": "059ccdd9-4862-4cad-a276-eccf26b77821",
   "metadata": {},
   "outputs": [],
   "source": [
    "arrNew2 = np.arange(1,25)"
   ]
  },
  {
   "cell_type": "code",
   "execution_count": 105,
   "id": "a3036c60-fca9-46da-acd3-14d7d3241393",
   "metadata": {},
   "outputs": [
    {
     "name": "stdout",
     "output_type": "stream",
     "text": [
      "[[ 1  2  3  4  5  6]\n",
      " [ 7  8  9 10 11 12]\n",
      " [13 14 15 16 17 18]\n",
      " [19 20 21 22 23 24]]\n"
     ]
    }
   ],
   "source": [
    "print(arrNew2.reshape(4,6))"
   ]
  },
  {
   "cell_type": "code",
   "execution_count": 107,
   "id": "26e6d111-5515-4813-ad5f-e2b8ad8a795d",
   "metadata": {},
   "outputs": [
    {
     "name": "stdout",
     "output_type": "stream",
     "text": [
      "[[[ 1  2  3  4]\n",
      "  [ 5  6  7  8]\n",
      "  [ 9 10 11 12]]\n",
      "\n",
      " [[13 14 15 16]\n",
      "  [17 18 19 20]\n",
      "  [21 22 23 24]]]\n"
     ]
    }
   ],
   "source": [
    "print(arrNew2.reshape(2,3,4))"
   ]
  },
  {
   "cell_type": "markdown",
   "id": "4169fcc1-777b-4a00-abf7-25e4eaa31ec0",
   "metadata": {},
   "source": [
    "### 8️⃣ Random Number Generation\n",
    "#### Examples : - "
   ]
  },
  {
   "cell_type": "code",
   "execution_count": 108,
   "id": "45317f0e-5bae-4158-b9c3-829da55107e9",
   "metadata": {},
   "outputs": [
    {
     "name": "stdout",
     "output_type": "stream",
     "text": [
      "[6 9 6 1 1]\n"
     ]
    }
   ],
   "source": [
    "# Reproducible random integers\n",
    "np.random.seed(1)\n",
    "print(np.random.randint(1, 10, size=5))"
   ]
  },
  {
   "cell_type": "code",
   "execution_count": 109,
   "id": "fce20421-ef7d-48cc-8bda-2458105617ff",
   "metadata": {},
   "outputs": [
    {
     "name": "stdout",
     "output_type": "stream",
     "text": [
      "[0.39658073 0.38791074 0.66974604]\n"
     ]
    }
   ],
   "source": [
    "# Random floats between 0 and 1\n",
    "print(np.random.rand(3))"
   ]
  },
  {
   "cell_type": "code",
   "execution_count": 110,
   "id": "84948a99-5c3d-4a8a-a1f1-be7c244529e2",
   "metadata": {},
   "outputs": [
    {
     "name": "stdout",
     "output_type": "stream",
     "text": [
      "[4 6]\n"
     ]
    }
   ],
   "source": [
    "# Random choice from list\n",
    "print(np.random.choice([2, 4, 6, 8], size=2))"
   ]
  },
  {
   "cell_type": "code",
   "execution_count": 111,
   "id": "48240b54-8ed1-4d2d-a4c4-65fc52f7e841",
   "metadata": {},
   "outputs": [
    {
     "name": "stdout",
     "output_type": "stream",
     "text": [
      "[47.67656838 54.30913559 36.7286901  55.76132458]\n"
     ]
    }
   ],
   "source": [
    "# Normal distribution: mean=50, std=5\n",
    "print(np.random.normal(50, 5, size=4))"
   ]
  },
  {
   "cell_type": "code",
   "execution_count": 115,
   "id": "4ac13a3a-cc8e-4c76-a103-40aa77e933c4",
   "metadata": {},
   "outputs": [
    {
     "name": "stdout",
     "output_type": "stream",
     "text": [
      "[48 69 26 68 84]\n"
     ]
    }
   ],
   "source": [
    "np.random.seed(7)\n",
    "print(np.random.randint(1, 100, size=5))"
   ]
  },
  {
   "cell_type": "markdown",
   "id": "240da11c-cafd-497c-bd0b-dd52088d93cb",
   "metadata": {},
   "source": [
    "### Coding Drill\n",
    "Task:\n",
    "\n",
    "Generate 8 random integers between 1 and 50 with seed=21.\n",
    "\n",
    "Run the same code twice and check if the results are identical.\n",
    "\n",
    "Then remove the seed line and run again to see the difference."
   ]
  },
  {
   "cell_type": "code",
   "execution_count": 118,
   "id": "50ad26e2-d7a4-4a04-984d-46176db56bc8",
   "metadata": {},
   "outputs": [
    {
     "name": "stdout",
     "output_type": "stream",
     "text": [
      "[10 16  5 49 49 36 35 50]\n"
     ]
    }
   ],
   "source": [
    "np.random.seed(21)  \n",
    "nums = np.random.randint(1, 51, size=8)\n",
    "print(nums)"
   ]
  },
  {
   "cell_type": "code",
   "execution_count": null,
   "id": "95d36293-e9a6-49e7-b8f9-c77ba7f8503c",
   "metadata": {},
   "outputs": [],
   "source": []
  }
 ],
 "metadata": {
  "kernelspec": {
   "display_name": "Python 3 (ipykernel)",
   "language": "python",
   "name": "python3"
  },
  "language_info": {
   "codemirror_mode": {
    "name": "ipython",
    "version": 3
   },
   "file_extension": ".py",
   "mimetype": "text/x-python",
   "name": "python",
   "nbconvert_exporter": "python",
   "pygments_lexer": "ipython3",
   "version": "3.13.5"
  }
 },
 "nbformat": 4,
 "nbformat_minor": 5
}
