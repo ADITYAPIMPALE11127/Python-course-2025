{
 "cells": [
  {
   "cell_type": "markdown",
   "id": "6a8ef508",
   "metadata": {},
   "source": [
    "### NUMPY "
   ]
  },
  {
   "cell_type": "code",
   "execution_count": 55,
   "id": "b61e641c",
   "metadata": {},
   "outputs": [],
   "source": [
    "import numpy as np"
   ]
  },
  {
   "cell_type": "code",
   "execution_count": 56,
   "id": "7155723a",
   "metadata": {},
   "outputs": [],
   "source": [
    "array_1 = np.array([1,2,3,4])"
   ]
  },
  {
   "cell_type": "code",
   "execution_count": 57,
   "id": "87609b9e",
   "metadata": {},
   "outputs": [
    {
     "data": {
      "text/plain": [
       "numpy.ndarray"
      ]
     },
     "execution_count": 57,
     "metadata": {},
     "output_type": "execute_result"
    }
   ],
   "source": [
    "type(array_1)"
   ]
  },
  {
   "cell_type": "code",
   "execution_count": 58,
   "id": "3d5a3792",
   "metadata": {},
   "outputs": [
    {
     "data": {
      "text/plain": [
       "array([[  12,   45,   32],\n",
       "       [2323,   44,   22]])"
      ]
     },
     "execution_count": 58,
     "metadata": {},
     "output_type": "execute_result"
    }
   ],
   "source": [
    "my_mat = np.array([[12,45,32],[2323,44,22]]) \n",
    "my_mat"
   ]
  },
  {
   "cell_type": "code",
   "execution_count": 59,
   "id": "c2267894",
   "metadata": {},
   "outputs": [
    {
     "data": {
      "text/plain": [
       "32"
      ]
     },
     "execution_count": 59,
     "metadata": {},
     "output_type": "execute_result"
    }
   ],
   "source": [
    "nested_lst = [[12,45,32],[2323,44,22]] # grabbing in a nested list\n",
    "nested_lst[0][2]"
   ]
  },
  {
   "cell_type": "code",
   "execution_count": 60,
   "id": "8fdac051",
   "metadata": {},
   "outputs": [
    {
     "data": {
      "text/plain": [
       "np.int64(45)"
      ]
     },
     "execution_count": 60,
     "metadata": {},
     "output_type": "execute_result"
    }
   ],
   "source": [
    "# grabbing an element  in a n dimensional array\n",
    "my_mat[0][1]"
   ]
  },
  {
   "cell_type": "code",
   "execution_count": 61,
   "id": "f5fc140e",
   "metadata": {},
   "outputs": [
    {
     "data": {
      "text/plain": [
       "array([[11, 12, 13, 21],\n",
       "       [14, 15, 16, 22],\n",
       "       [17, 18, 19, 23]])"
      ]
     },
     "execution_count": 61,
     "metadata": {},
     "output_type": "execute_result"
    }
   ],
   "source": [
    "my_mat2 = np.array([[11,12,13,21],[14,15,16,22],[17,18,19,23]])\n",
    "my_mat2 "
   ]
  },
  {
   "cell_type": "code",
   "execution_count": 62,
   "id": "c9ef3edf",
   "metadata": {},
   "outputs": [
    {
     "data": {
      "text/plain": [
       "np.int64(19)"
      ]
     },
     "execution_count": 62,
     "metadata": {},
     "output_type": "execute_result"
    }
   ],
   "source": [
    "my_mat2[-1][-2] # grabbing by -ve indexing "
   ]
  },
  {
   "cell_type": "markdown",
   "id": "59695375",
   "metadata": {},
   "source": [
    "### Grabbing 18 from the matrix"
   ]
  },
  {
   "cell_type": "code",
   "execution_count": 63,
   "id": "13b69514",
   "metadata": {},
   "outputs": [
    {
     "data": {
      "text/plain": [
       "np.int64(18)"
      ]
     },
     "execution_count": 63,
     "metadata": {},
     "output_type": "execute_result"
    }
   ],
   "source": [
    "my_mat2[2][1]"
   ]
  },
  {
   "cell_type": "code",
   "execution_count": 64,
   "id": "22e6af30",
   "metadata": {},
   "outputs": [
    {
     "data": {
      "text/plain": [
       "np.int64(18)"
      ]
     },
     "execution_count": 64,
     "metadata": {},
     "output_type": "execute_result"
    }
   ],
   "source": [
    "my_mat2[2][-3]"
   ]
  },
  {
   "cell_type": "code",
   "execution_count": 65,
   "id": "a82de95e",
   "metadata": {},
   "outputs": [
    {
     "data": {
      "text/plain": [
       "np.int64(18)"
      ]
     },
     "execution_count": 65,
     "metadata": {},
     "output_type": "execute_result"
    }
   ],
   "source": [
    "my_mat2[-1][1]"
   ]
  },
  {
   "cell_type": "code",
   "execution_count": 66,
   "id": "4f04a364",
   "metadata": {},
   "outputs": [
    {
     "data": {
      "text/plain": [
       "np.int64(18)"
      ]
     },
     "execution_count": 66,
     "metadata": {},
     "output_type": "execute_result"
    }
   ],
   "source": [
    "my_mat2[-1][-3]"
   ]
  },
  {
   "cell_type": "markdown",
   "id": "941f5065",
   "metadata": {},
   "source": [
    "#### Grabbing by column"
   ]
  },
  {
   "cell_type": "code",
   "execution_count": null,
   "id": "60f8a69d",
   "metadata": {},
   "outputs": [
    {
     "data": {
      "text/plain": [
       "array([11, 14, 17])"
      ]
     },
     "execution_count": 68,
     "metadata": {},
     "output_type": "execute_result"
    }
   ],
   "source": [
    "my_mat2[:,0] "
   ]
  },
  {
   "cell_type": "markdown",
   "id": "cdc98b7b",
   "metadata": {},
   "source": [
    "#### Assiging values"
   ]
  },
  {
   "cell_type": "code",
   "execution_count": null,
   "id": "1304c4f6",
   "metadata": {},
   "outputs": [
    {
     "data": {
      "text/plain": [
       "array([[ 11,  12,  13, 100],\n",
       "       [ 14,  15,  16,  22],\n",
       "       [ 17,  18,  19,  23]])"
      ]
     },
     "execution_count": 70,
     "metadata": {},
     "output_type": "execute_result"
    }
   ],
   "source": [
    "my_mat2[0,-1] = 100 # Assigning only a single unit\n",
    "my_mat2"
   ]
  },
  {
   "cell_type": "code",
   "execution_count": 72,
   "id": "86b1d8fe",
   "metadata": {},
   "outputs": [
    {
     "data": {
      "text/plain": [
       "array([[24, 24, 24, 24],\n",
       "       [14, 15, 16, 22],\n",
       "       [17, 18, 19, 23]])"
      ]
     },
     "execution_count": 72,
     "metadata": {},
     "output_type": "execute_result"
    }
   ],
   "source": [
    "my_mat2[0] = 24 # assigning a single value to whole row\n",
    "my_mat2"
   ]
  },
  {
   "cell_type": "code",
   "execution_count": 76,
   "id": "0677410f",
   "metadata": {},
   "outputs": [
    {
     "data": {
      "text/plain": [
       "array([[24, 24, 24, 24],\n",
       "       [14, 15, 16, 22],\n",
       "       [ 1,  2,  3,  4]])"
      ]
     },
     "execution_count": 76,
     "metadata": {},
     "output_type": "execute_result"
    }
   ],
   "source": [
    "demo_lst = [1,2,3,4]\n",
    "my_mat2[2] = demo_lst\n",
    "my_mat2 # assigning a whole new array to the [2] of the matrix"
   ]
  },
  {
   "cell_type": "markdown",
   "id": "8367eb4c",
   "metadata": {},
   "source": [
    "#### Element wise Properties"
   ]
  },
  {
   "cell_type": "code",
   "execution_count": null,
   "id": "87ae65b3",
   "metadata": {},
   "outputs": [
    {
     "data": {
      "text/plain": [
       "array([[ 7, 16, 27],\n",
       "       [28, 40, 54]])"
      ]
     },
     "execution_count": 77,
     "metadata": {},
     "output_type": "execute_result"
    }
   ],
   "source": [
    "arr1 = np.array([7,8,9])\n",
    "arr2 = np.array([[1,2,3],[4,5,6]])"
   ]
  },
  {
   "cell_type": "code",
   "execution_count": null,
   "id": "616cf4ee",
   "metadata": {},
   "outputs": [
    {
     "data": {
      "text/plain": [
       "array([14, 16, 18])"
      ]
     },
     "execution_count": 78,
     "metadata": {},
     "output_type": "execute_result"
    }
   ],
   "source": [
    "arr1 * 2 #scaler multiplication"
   ]
  },
  {
   "cell_type": "code",
   "execution_count": 80,
   "id": "bee898eb",
   "metadata": {},
   "outputs": [
    {
     "data": {
      "text/plain": [
       "array([[3, 4, 5],\n",
       "       [6, 7, 8]])"
      ]
     },
     "execution_count": 80,
     "metadata": {},
     "output_type": "execute_result"
    }
   ],
   "source": [
    "arr2 + 2 # adding 2 to each element in arr2"
   ]
  },
  {
   "cell_type": "code",
   "execution_count": 82,
   "id": "bec557ec",
   "metadata": {},
   "outputs": [
    {
     "data": {
      "text/plain": [
       "array([28, 40, 54])"
      ]
     },
     "execution_count": 82,
     "metadata": {},
     "output_type": "execute_result"
    }
   ],
   "source": [
    "arr1  * arr2[1]  # mult of matrix with element of arr[1]"
   ]
  },
  {
   "cell_type": "markdown",
   "id": "f44eef2f",
   "metadata": {},
   "source": [
    "#### Types of Data , Numpy supports and mostly used :  int, float, string, bool, complex"
   ]
  },
  {
   "cell_type": "code",
   "execution_count": 84,
   "id": "fc8f0eb3",
   "metadata": {},
   "outputs": [
    {
     "data": {
      "text/plain": [
       "array([[1., 2., 3.],\n",
       "       [4., 5., 6.]], dtype=float16)"
      ]
     },
     "execution_count": 84,
     "metadata": {},
     "output_type": "execute_result"
    }
   ],
   "source": [
    "arr2 = np.array([[1,2,3],[4,5,6]],dtype=np.float16)\n",
    "arr2"
   ]
  },
  {
   "cell_type": "code",
   "execution_count": 86,
   "id": "7b8809bf",
   "metadata": {},
   "outputs": [
    {
     "data": {
      "text/plain": [
       "array([[ True,  True, False],\n",
       "       [ True,  True,  True]])"
      ]
     },
     "execution_count": 86,
     "metadata": {},
     "output_type": "execute_result"
    }
   ],
   "source": [
    "arr2 = np.array([[1,2,0],[4,5,6]],dtype=np.bool)\n",
    "arr2"
   ]
  },
  {
   "cell_type": "markdown",
   "id": "bd1d177c",
   "metadata": {},
   "source": [
    "##### Built in methods to create an array "
   ]
  },
  {
   "cell_type": "markdown",
   "id": "3a7981bc",
   "metadata": {},
   "source": [
    "#### arange: returns even space values within a given interval"
   ]
  },
  {
   "cell_type": "code",
   "execution_count": 88,
   "id": "610ad23c",
   "metadata": {},
   "outputs": [
    {
     "data": {
      "text/plain": [
       "array([11, 12, 13, 14, 15, 16, 17, 18, 19, 20])"
      ]
     },
     "execution_count": 88,
     "metadata": {},
     "output_type": "execute_result"
    }
   ],
   "source": [
    "np.arange(11,21)"
   ]
  },
  {
   "cell_type": "code",
   "execution_count": 89,
   "id": "60eb979e",
   "metadata": {},
   "outputs": [
    {
     "data": {
      "text/plain": [
       "array([ 0,  1,  2,  3,  4,  5,  6,  7,  8,  9, 10, 11, 12, 13, 14])"
      ]
     },
     "execution_count": 89,
     "metadata": {},
     "output_type": "execute_result"
    }
   ],
   "source": [
    "np.arange(15)"
   ]
  },
  {
   "cell_type": "code",
   "execution_count": null,
   "id": "c1de5956",
   "metadata": {},
   "outputs": [
    {
     "data": {
      "text/plain": [
       "array([ 0,  2,  4,  6,  8, 10, 12, 14])"
      ]
     },
     "execution_count": 90,
     "metadata": {},
     "output_type": "execute_result"
    }
   ],
   "source": [
    "# using step size\n",
    "\n",
    "np.arange(0,15,2) # step size is 2"
   ]
  },
  {
   "cell_type": "code",
   "execution_count": 91,
   "id": "bb9c26b7",
   "metadata": {},
   "outputs": [
    {
     "data": {
      "text/plain": [
       "array([[0., 0., 0., 0.],\n",
       "       [0., 0., 0., 0.],\n",
       "       [0., 0., 0., 0.]])"
      ]
     },
     "execution_count": 91,
     "metadata": {},
     "output_type": "execute_result"
    }
   ],
   "source": [
    "# to create an array of 0s\n",
    "\n",
    "np.zeros((3,4))"
   ]
  },
  {
   "cell_type": "code",
   "execution_count": 92,
   "id": "74fdd624",
   "metadata": {},
   "outputs": [
    {
     "data": {
      "text/plain": [
       "array([[1., 1., 1., 1.],\n",
       "       [1., 1., 1., 1.],\n",
       "       [1., 1., 1., 1.]])"
      ]
     },
     "execution_count": 92,
     "metadata": {},
     "output_type": "execute_result"
    }
   ],
   "source": [
    "np.ones((3,4))"
   ]
  },
  {
   "cell_type": "markdown",
   "id": "a55733ca",
   "metadata": {},
   "source": [
    "#### Line space = returns evenly spaced numbers over a specified interval"
   ]
  },
  {
   "cell_type": "code",
   "execution_count": 94,
   "id": "481d30d8",
   "metadata": {},
   "outputs": [
    {
     "data": {
      "text/plain": [
       "array([  0.        ,   5.26315789,  10.52631579,  15.78947368,\n",
       "        21.05263158,  26.31578947,  31.57894737,  36.84210526,\n",
       "        42.10526316,  47.36842105,  52.63157895,  57.89473684,\n",
       "        63.15789474,  68.42105263,  73.68421053,  78.94736842,\n",
       "        84.21052632,  89.47368421,  94.73684211, 100.        ])"
      ]
     },
     "execution_count": 94,
     "metadata": {},
     "output_type": "execute_result"
    }
   ],
   "source": [
    "np.linspace(0,100,20)"
   ]
  },
  {
   "cell_type": "markdown",
   "id": "409c21c7",
   "metadata": {},
   "source": [
    "### Eye"
   ]
  },
  {
   "cell_type": "code",
   "execution_count": 96,
   "id": "74576ccb",
   "metadata": {},
   "outputs": [
    {
     "data": {
      "text/plain": [
       "array([[1., 0., 0.],\n",
       "       [0., 1., 0.],\n",
       "       [0., 0., 1.]])"
      ]
     },
     "execution_count": 96,
     "metadata": {},
     "output_type": "execute_result"
    }
   ],
   "source": [
    "np.eye(3) # to create an identity matrix"
   ]
  },
  {
   "cell_type": "markdown",
   "id": "4bb4abd7",
   "metadata": {},
   "source": [
    "#### Attributes and methods of array"
   ]
  },
  {
   "cell_type": "code",
   "execution_count": null,
   "id": "0463ce65",
   "metadata": {},
   "outputs": [],
   "source": []
  }
 ],
 "metadata": {
  "kernelspec": {
   "display_name": "Python 3",
   "language": "python",
   "name": "python3"
  },
  "language_info": {
   "codemirror_mode": {
    "name": "ipython",
    "version": 3
   },
   "file_extension": ".py",
   "mimetype": "text/x-python",
   "name": "python",
   "nbconvert_exporter": "python",
   "pygments_lexer": "ipython3",
   "version": "3.9.12"
  }
 },
 "nbformat": 4,
 "nbformat_minor": 5
}
