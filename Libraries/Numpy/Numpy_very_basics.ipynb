{
 "cells": [
  {
   "cell_type": "markdown",
   "id": "f4662143-f1b2-4118-b8e5-12a1ee2364dc",
   "metadata": {},
   "source": [
    "* finding average flat prices in a district by having city flat prices using lists "
   ]
  },
  {
   "cell_type": "code",
   "execution_count": 9,
   "id": "8b8d13fe-0323-4c19-8b77-a64e50912add",
   "metadata": {},
   "outputs": [
    {
     "name": "stdout",
     "output_type": "stream",
     "text": [
      "41.68\n"
     ]
    }
   ],
   "source": [
    "flat_prices = [33.4,43,37,45,50]\n",
    "total = 0\n",
    "for price in flat_prices:\n",
    "    total += price\n",
    "# print(total)\n",
    "average_price = total / len(flat_prices)\n",
    "\n",
    "print(average_price)"
   ]
  },
  {
   "cell_type": "markdown",
   "id": "1f8f4a75-9382-4813-8365-7705749ca167",
   "metadata": {},
   "source": [
    "* finding average flat prices in a district by having city flat prices using NUMPY"
   ]
  },
  {
   "cell_type": "code",
   "execution_count": 5,
   "id": "6f554e30-e3be-497b-9241-bf344de79e46",
   "metadata": {},
   "outputs": [],
   "source": [
    "import numpy as np"
   ]
  },
  {
   "cell_type": "code",
   "execution_count": 8,
   "id": "c24c889d-58b3-4c2b-8d0e-f19477b430e1",
   "metadata": {},
   "outputs": [
    {
     "name": "stdout",
     "output_type": "stream",
     "text": [
      "41.68\n"
     ]
    }
   ],
   "source": [
    "flat_prices = np.array([33.4,43,37,45,50])\n",
    "\n",
    "average_price = np.mean(flat_prices)\n",
    "print(average_price)"
   ]
  },
  {
   "cell_type": "markdown",
   "id": "f37c7af9-22ad-421e-9716-85a4d38bf4a4",
   "metadata": {},
   "source": [
    "## Array creation methods"
   ]
  },
  {
   "cell_type": "markdown",
   "id": "a1e0a8ee-6b3e-4a00-8248-8cff97b40e03",
   "metadata": {},
   "source": [
    "* One dimansional Array"
   ]
  },
  {
   "cell_type": "code",
   "execution_count": 10,
   "id": "b4578fe2-86b3-4b12-9d9c-868961094660",
   "metadata": {},
   "outputs": [
    {
     "name": "stdout",
     "output_type": "stream",
     "text": [
      "[1 2 3 4 5]\n"
     ]
    }
   ],
   "source": [
    "arr_one = np.array([1,2,3,4,5])\n",
    "print(arr_one)"
   ]
  },
  {
   "cell_type": "markdown",
   "id": "fb3176e7-809f-4ddc-9c5d-30c4d947175d",
   "metadata": {},
   "source": [
    "* Two Dimensional Array also known as matrix"
   ]
  },
  {
   "cell_type": "code",
   "execution_count": 13,
   "id": "7879a7f5-86b0-49fe-9a3f-d7e6c7ed76bb",
   "metadata": {},
   "outputs": [
    {
     "name": "stdout",
     "output_type": "stream",
     "text": [
      "[[1 2 3]\n",
      " [4 5 6]\n",
      " [7 8 9]]\n"
     ]
    }
   ],
   "source": [
    "arr_2d = np.array([[1,2,3],[4,5,6],[7,8,9]])\n",
    "print(arr_2d)"
   ]
  },
  {
   "cell_type": "markdown",
   "id": "13267ce9-23fc-4519-8fae-76a53d7ecbd4",
   "metadata": {},
   "source": [
    "* multi-dimensional array like 3d,4d,5d"
   ]
  },
  {
   "cell_type": "code",
   "execution_count": 14,
   "id": "7e63d087-b282-4769-b13b-d7ac9b84b89c",
   "metadata": {},
   "outputs": [
    {
     "name": "stdout",
     "output_type": "stream",
     "text": [
      "[[[1, 2], [3, 4]], [[5, 6], [7, 8]], [[9, 10], [11, 12]]]\n"
     ]
    }
   ],
   "source": [
    "array_3d = [\n",
    "    [ [1, 2], [3, 4] ],\n",
    "    [ [5, 6], [7, 8] ],\n",
    "    [ [9, 10], [11, 12] ]\n",
    "]\n",
    "print(array_3d)\n"
   ]
  },
  {
   "cell_type": "markdown",
   "id": "3d070fa1-0650-4d73-9f3b-f46099e3c709",
   "metadata": {},
   "source": [
    "* Way to convert a list into a array in numpy"
   ]
  },
  {
   "cell_type": "code",
   "execution_count": 17,
   "id": "86ac9eab-6560-4825-bd5c-d2d4f45dbf3f",
   "metadata": {},
   "outputs": [
    {
     "name": "stdout",
     "output_type": "stream",
     "text": [
      "this is a list , which is slow: ['aditya', 'amol', 'rohan', 'mohit']\n",
      "this is a numpy array, which is fast and memory efficient: ['aditya' 'amol' 'rohan' 'mohit']\n"
     ]
    }
   ],
   "source": [
    "names = ['aditya','amol','rohan','mohit']\n",
    "arr = np.array(names)\n",
    "print(f\"this is a list , which is slow: {names}\")\n",
    "print(f'this is a numpy array, which is fast and memory efficient: {arr}')"
   ]
  },
  {
   "cell_type": "markdown",
   "id": "5b15f699-12d8-4335-a40a-018aa1860e05",
   "metadata": {},
   "source": [
    "* Creating an array with default values\n",
    "\n",
    "* 1st way: np.zeros can be used to create an array with 0 as values\n",
    "\n",
    "* where the zeros() method takes the shape of the array e.g. 2 or 2,3 i.e. total 6 elements"
   ]
  },
  {
   "cell_type": "code",
   "execution_count": 20,
   "id": "22cbcc73-e34f-44fb-90ed-1660033961ee",
   "metadata": {},
   "outputs": [
    {
     "name": "stdout",
     "output_type": "stream",
     "text": [
      "[0. 0. 0. 0.]\n"
     ]
    }
   ],
   "source": [
    "zeros_arr = np.zeros(4)\n",
    "print(zeros_arr)"
   ]
  },
  {
   "cell_type": "markdown",
   "id": "c39e51ef-797f-4249-9832-f0da20e23aed",
   "metadata": {},
   "source": [
    "* 2nd way: use of ones array to create a  default array\n",
    "\n",
    "* Use  double parenthesis to while making a 2d or 3d matrix shaped array, e.g. ((3,4))"
   ]
  },
  {
   "cell_type": "code",
   "execution_count": 22,
   "id": "d7c3ef8c-5955-4ddc-a98e-705fb5979c5d",
   "metadata": {},
   "outputs": [
    {
     "name": "stdout",
     "output_type": "stream",
     "text": [
      "[[1. 1. 1.]\n",
      " [1. 1. 1.]]\n"
     ]
    }
   ],
   "source": [
    "ones_arr = np.ones((2,3))\n",
    "print(ones_arr)"
   ]
  },
  {
   "cell_type": "markdown",
   "id": "0723f589-1587-49a5-9cd2-0748ab2994bd",
   "metadata": {},
   "source": [
    "* 3rd way:  use of full() method to fill any desired value to create an array\n",
    "\n",
    "* Here below, 1st parameter is the shape and 2nd is the desired value to be filled"
   ]
  },
  {
   "cell_type": "code",
   "execution_count": 27,
   "id": "783a6243-f1dc-4bc5-81c1-4faf0c10d0b1",
   "metadata": {},
   "outputs": [
    {
     "name": "stdout",
     "output_type": "stream",
     "text": [
      "[[12 12 12]\n",
      " [12 12 12]]\n"
     ]
    }
   ],
   "source": [
    "custom_arr = np.full((2,3),12)\n",
    "print(custom_arr)"
   ]
  },
  {
   "cell_type": "markdown",
   "id": "ca2e57ab-208d-42d4-957d-d07e04291388",
   "metadata": {},
   "source": [
    "* When creating a sequnce of numbers in an array we use\n",
    "* arange(start,stop,step) which returns an array"
   ]
  },
  {
   "cell_type": "code",
   "execution_count": 36,
   "id": "72ed1a6a-ca18-44a4-94d0-f68e3178ef4f",
   "metadata": {},
   "outputs": [
    {
     "name": "stdout",
     "output_type": "stream",
     "text": [
      "[ 2  4  6  8 10]\n"
     ]
    }
   ],
   "source": [
    "even_arr = np.arange(2,11,2)\n",
    "print(even_arr)"
   ]
  },
  {
   "cell_type": "markdown",
   "id": "ffb5dfeb-424d-41aa-a809-b59d18816f0c",
   "metadata": {},
   "source": [
    "* gets neagtive numbers with step size of 2 from -11 to 0"
   ]
  },
  {
   "cell_type": "code",
   "execution_count": 43,
   "id": "706fd455-cdf7-4fcd-8500-eb075a716136",
   "metadata": {},
   "outputs": [
    {
     "name": "stdout",
     "output_type": "stream",
     "text": [
      "[-11  -9  -7  -5  -3  -1]\n"
     ]
    }
   ],
   "source": [
    "negative_arr = np.arange(-11,0,2) \n",
    "print(negative_arr)"
   ]
  },
  {
   "cell_type": "markdown",
   "id": "5d64adb0-b1c8-486f-a2d6-64203dd43591",
   "metadata": {},
   "source": [
    "* Way to create an identity matrix , we get 1's in the diagonal "
   ]
  },
  {
   "cell_type": "code",
   "execution_count": 44,
   "id": "7affe1ce-7c4e-4183-b1c1-46bc02ff1ff4",
   "metadata": {},
   "outputs": [
    {
     "name": "stdout",
     "output_type": "stream",
     "text": [
      "[[1. 0. 0.]\n",
      " [0. 1. 0.]\n",
      " [0. 0. 1.]]\n"
     ]
    }
   ],
   "source": [
    "identity_matrix = np.eye(3)\n",
    "print(identity_matrix)"
   ]
  },
  {
   "cell_type": "code",
   "execution_count": null,
   "id": "4f4a46c9-09ff-4411-8b32-735f5210bbba",
   "metadata": {},
   "outputs": [],
   "source": []
  }
 ],
 "metadata": {
  "kernelspec": {
   "display_name": "Python 3 (ipykernel)",
   "language": "python",
   "name": "python3"
  },
  "language_info": {
   "codemirror_mode": {
    "name": "ipython",
    "version": 3
   },
   "file_extension": ".py",
   "mimetype": "text/x-python",
   "name": "python",
   "nbconvert_exporter": "python",
   "pygments_lexer": "ipython3",
   "version": "3.13.5"
  }
 },
 "nbformat": 4,
 "nbformat_minor": 5
}
