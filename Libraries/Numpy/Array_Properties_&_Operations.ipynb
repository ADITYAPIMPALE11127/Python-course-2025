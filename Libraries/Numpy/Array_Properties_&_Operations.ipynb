{
 "cells": [
  {
   "cell_type": "markdown",
   "id": "549b6088-eb12-446a-8e1d-483c4d576116",
   "metadata": {},
   "source": [
    "## Array Properties / attributes"
   ]
  },
  {
   "cell_type": "code",
   "execution_count": 1,
   "id": "3c860b1e-0079-4b66-80e1-aed91516673a",
   "metadata": {},
   "outputs": [],
   "source": [
    "import numpy as np"
   ]
  },
  {
   "cell_type": "markdown",
   "id": "5a1b848e-832f-4762-9c6d-10d2e2dd7aec",
   "metadata": {},
   "source": [
    "* shape() method helps us to know the size of the array "
   ]
  },
  {
   "cell_type": "code",
   "execution_count": 3,
   "id": "0cfa6c1b-d685-4c8b-9c33-9506b217e744",
   "metadata": {},
   "outputs": [
    {
     "name": "stdout",
     "output_type": "stream",
     "text": [
      "(2, 3)\n"
     ]
    }
   ],
   "source": [
    "arr_2d = np.array([[1,2,3],[4,5,6]])\n",
    "print(arr_2d.shape) # here it tells us that there is 2 rows and 3 columns in this 2d array"
   ]
  },
  {
   "cell_type": "markdown",
   "id": "99ec1711-6c84-449c-877a-f1550512d4af",
   "metadata": {},
   "source": [
    "* size method - Tells us the total size of an array or dataset"
   ]
  },
  {
   "cell_type": "code",
   "execution_count": 4,
   "id": "38161d94-a1df-4288-9228-ba92c5cab97e",
   "metadata": {},
   "outputs": [
    {
     "data": {
      "text/plain": [
       "6"
      ]
     },
     "execution_count": 4,
     "metadata": {},
     "output_type": "execute_result"
    }
   ],
   "source": [
    "arr_2d.size"
   ]
  },
  {
   "cell_type": "markdown",
   "id": "453669bb-cf11-401f-a080-603da28c2ab5",
   "metadata": {},
   "source": [
    "* ndim - tells the no of dimensions in a  dataset"
   ]
  },
  {
   "cell_type": "code",
   "execution_count": 9,
   "id": "704746ae-11a0-45d5-bc9f-8b7fb3d1cf51",
   "metadata": {},
   "outputs": [
    {
     "name": "stdout",
     "output_type": "stream",
     "text": [
      "[[[25 25]\n",
      "  [25 25]\n",
      "  [25 25]]\n",
      "\n",
      " [[25 25]\n",
      "  [25 25]\n",
      "  [25 25]]\n",
      "\n",
      " [[25 25]\n",
      "  [25 25]\n",
      "  [25 25]]]\n",
      "3\n"
     ]
    }
   ],
   "source": [
    "arr1 = np.full((3,3,2),25)\n",
    "print(arr1)\n",
    "print(arr1.ndim)"
   ]
  },
  {
   "cell_type": "code",
   "execution_count": 12,
   "id": "06f6e944-5597-4fe8-a1bf-799383ba3fd3",
   "metadata": {},
   "outputs": [
    {
     "name": "stdout",
     "output_type": "stream",
     "text": [
      "[[[1 2 3]\n",
      "  [4 5 6]\n",
      "  [7 8 9]]]\n"
     ]
    },
    {
     "data": {
      "text/plain": [
       "3"
      ]
     },
     "execution_count": 12,
     "metadata": {},
     "output_type": "execute_result"
    }
   ],
   "source": [
    "arr_3d = np.array([[[1,2,3],[4,5,6],[7,8,9]]])\n",
    "print(arr_3d)\n",
    "arr_3d.ndim"
   ]
  },
  {
   "cell_type": "markdown",
   "id": "2ca399a1-2769-405d-9709-344e37be58eb",
   "metadata": {},
   "source": [
    "dtype -  tells us the type of data in the array or dataset"
   ]
  },
  {
   "cell_type": "code",
   "execution_count": 18,
   "id": "f2642532-6759-4e67-997f-fcf9c8a59356",
   "metadata": {},
   "outputs": [
    {
     "name": "stdout",
     "output_type": "stream",
     "text": [
      "[[2.55 2.55 2.55 2.55]\n",
      " [2.55 2.55 2.55 2.55]\n",
      " [2.55 2.55 2.55 2.55]\n",
      " [2.55 2.55 2.55 2.55]]\n",
      "\n",
      "type of data is: float64\n"
     ]
    }
   ],
   "source": [
    "arr = np.full((4,4),2.55)\n",
    "print(arr)\n",
    "print()\n",
    "print(f\"type of data is: {arr.dtype}\")"
   ]
  },
  {
   "cell_type": "code",
   "execution_count": null,
   "id": "bcae5c0f-0b9d-400a-a525-af6be13c9bcf",
   "metadata": {},
   "outputs": [],
   "source": []
  }
 ],
 "metadata": {
  "kernelspec": {
   "display_name": "Python 3 (ipykernel)",
   "language": "python",
   "name": "python3"
  },
  "language_info": {
   "codemirror_mode": {
    "name": "ipython",
    "version": 3
   },
   "file_extension": ".py",
   "mimetype": "text/x-python",
   "name": "python",
   "nbconvert_exporter": "python",
   "pygments_lexer": "ipython3",
   "version": "3.13.5"
  }
 },
 "nbformat": 4,
 "nbformat_minor": 5
}
