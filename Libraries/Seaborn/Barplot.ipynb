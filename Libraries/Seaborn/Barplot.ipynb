{
 "cells": [
  {
   "cell_type": "markdown",
   "id": "26730dfd-3c6b-4e34-b0fa-c22d6b86bca1",
   "metadata": {},
   "source": [
    "### summary of barplot:\n",
    "\n",
    "Purpose: Compare average (mean by default) of a numeric variable across categories.\n",
    "\n",
    "Bar height: Mean of y for each x.\n",
    "\n",
    "Black line: Confidence interval (CI) around the mean (default 95%).\n",
    "\n",
    "Key params:\n",
    "\n",
    "hue → split by subcategory.\n",
    "\n",
    "estimator → change mean to median/sum/etc.\n",
    "\n",
    "ci=None → remove error bars.\n",
    "\n",
    "order → custom category order.\n",
    "\n",
    "palette → control colors.\n",
    "\n",
    "orient=\"h\" → horizontal bars.\n",
    "\n",
    "Difference from countplot: barplot shows averages, countplot shows counts.\n",
    "\n",
    "Use case: Compare group means (e.g., avg tip by gender, avg bill by day)."
   ]
  },
  {
   "cell_type": "code",
   "execution_count": 3,
   "id": "0abdc961-db96-491c-9965-e1a8d564627c",
   "metadata": {},
   "outputs": [],
   "source": [
    "import numpy as np\n",
    "import pandas as pd\n",
    "import seaborn as sns\n",
    "import matplotlib.pyplot as plt\n",
    "%matplotlib inline"
   ]
  },
  {
   "cell_type": "code",
   "execution_count": 4,
   "id": "379f6c49-6587-427c-a66c-b9f69cfaa161",
   "metadata": {},
   "outputs": [],
   "source": [
    "tips  = sns.load_dataset('tips')"
   ]
  },
  {
   "cell_type": "code",
   "execution_count": 5,
   "id": "157ca07d-2edc-4d0d-8379-d55d5500ac86",
   "metadata": {},
   "outputs": [
    {
     "data": {
      "text/html": [
       "<div>\n",
       "<style scoped>\n",
       "    .dataframe tbody tr th:only-of-type {\n",
       "        vertical-align: middle;\n",
       "    }\n",
       "\n",
       "    .dataframe tbody tr th {\n",
       "        vertical-align: top;\n",
       "    }\n",
       "\n",
       "    .dataframe thead th {\n",
       "        text-align: right;\n",
       "    }\n",
       "</style>\n",
       "<table border=\"1\" class=\"dataframe\">\n",
       "  <thead>\n",
       "    <tr style=\"text-align: right;\">\n",
       "      <th></th>\n",
       "      <th>total_bill</th>\n",
       "      <th>tip</th>\n",
       "      <th>sex</th>\n",
       "      <th>smoker</th>\n",
       "      <th>day</th>\n",
       "      <th>time</th>\n",
       "      <th>size</th>\n",
       "    </tr>\n",
       "  </thead>\n",
       "  <tbody>\n",
       "    <tr>\n",
       "      <th>0</th>\n",
       "      <td>16.99</td>\n",
       "      <td>1.01</td>\n",
       "      <td>Female</td>\n",
       "      <td>No</td>\n",
       "      <td>Sun</td>\n",
       "      <td>Dinner</td>\n",
       "      <td>2</td>\n",
       "    </tr>\n",
       "    <tr>\n",
       "      <th>1</th>\n",
       "      <td>10.34</td>\n",
       "      <td>1.66</td>\n",
       "      <td>Male</td>\n",
       "      <td>No</td>\n",
       "      <td>Sun</td>\n",
       "      <td>Dinner</td>\n",
       "      <td>3</td>\n",
       "    </tr>\n",
       "    <tr>\n",
       "      <th>2</th>\n",
       "      <td>21.01</td>\n",
       "      <td>3.50</td>\n",
       "      <td>Male</td>\n",
       "      <td>No</td>\n",
       "      <td>Sun</td>\n",
       "      <td>Dinner</td>\n",
       "      <td>3</td>\n",
       "    </tr>\n",
       "    <tr>\n",
       "      <th>3</th>\n",
       "      <td>23.68</td>\n",
       "      <td>3.31</td>\n",
       "      <td>Male</td>\n",
       "      <td>No</td>\n",
       "      <td>Sun</td>\n",
       "      <td>Dinner</td>\n",
       "      <td>2</td>\n",
       "    </tr>\n",
       "    <tr>\n",
       "      <th>4</th>\n",
       "      <td>24.59</td>\n",
       "      <td>3.61</td>\n",
       "      <td>Female</td>\n",
       "      <td>No</td>\n",
       "      <td>Sun</td>\n",
       "      <td>Dinner</td>\n",
       "      <td>4</td>\n",
       "    </tr>\n",
       "    <tr>\n",
       "      <th>...</th>\n",
       "      <td>...</td>\n",
       "      <td>...</td>\n",
       "      <td>...</td>\n",
       "      <td>...</td>\n",
       "      <td>...</td>\n",
       "      <td>...</td>\n",
       "      <td>...</td>\n",
       "    </tr>\n",
       "    <tr>\n",
       "      <th>239</th>\n",
       "      <td>29.03</td>\n",
       "      <td>5.92</td>\n",
       "      <td>Male</td>\n",
       "      <td>No</td>\n",
       "      <td>Sat</td>\n",
       "      <td>Dinner</td>\n",
       "      <td>3</td>\n",
       "    </tr>\n",
       "    <tr>\n",
       "      <th>240</th>\n",
       "      <td>27.18</td>\n",
       "      <td>2.00</td>\n",
       "      <td>Female</td>\n",
       "      <td>Yes</td>\n",
       "      <td>Sat</td>\n",
       "      <td>Dinner</td>\n",
       "      <td>2</td>\n",
       "    </tr>\n",
       "    <tr>\n",
       "      <th>241</th>\n",
       "      <td>22.67</td>\n",
       "      <td>2.00</td>\n",
       "      <td>Male</td>\n",
       "      <td>Yes</td>\n",
       "      <td>Sat</td>\n",
       "      <td>Dinner</td>\n",
       "      <td>2</td>\n",
       "    </tr>\n",
       "    <tr>\n",
       "      <th>242</th>\n",
       "      <td>17.82</td>\n",
       "      <td>1.75</td>\n",
       "      <td>Male</td>\n",
       "      <td>No</td>\n",
       "      <td>Sat</td>\n",
       "      <td>Dinner</td>\n",
       "      <td>2</td>\n",
       "    </tr>\n",
       "    <tr>\n",
       "      <th>243</th>\n",
       "      <td>18.78</td>\n",
       "      <td>3.00</td>\n",
       "      <td>Female</td>\n",
       "      <td>No</td>\n",
       "      <td>Thur</td>\n",
       "      <td>Dinner</td>\n",
       "      <td>2</td>\n",
       "    </tr>\n",
       "  </tbody>\n",
       "</table>\n",
       "<p>244 rows × 7 columns</p>\n",
       "</div>"
      ],
      "text/plain": [
       "     total_bill   tip     sex smoker   day    time  size\n",
       "0         16.99  1.01  Female     No   Sun  Dinner     2\n",
       "1         10.34  1.66    Male     No   Sun  Dinner     3\n",
       "2         21.01  3.50    Male     No   Sun  Dinner     3\n",
       "3         23.68  3.31    Male     No   Sun  Dinner     2\n",
       "4         24.59  3.61  Female     No   Sun  Dinner     4\n",
       "..          ...   ...     ...    ...   ...     ...   ...\n",
       "239       29.03  5.92    Male     No   Sat  Dinner     3\n",
       "240       27.18  2.00  Female    Yes   Sat  Dinner     2\n",
       "241       22.67  2.00    Male    Yes   Sat  Dinner     2\n",
       "242       17.82  1.75    Male     No   Sat  Dinner     2\n",
       "243       18.78  3.00  Female     No  Thur  Dinner     2\n",
       "\n",
       "[244 rows x 7 columns]"
      ]
     },
     "execution_count": 5,
     "metadata": {},
     "output_type": "execute_result"
    }
   ],
   "source": [
    "tips"
   ]
  },
  {
   "cell_type": "markdown",
   "id": "8e3de75f-2c6d-433c-93a0-714babd8790c",
   "metadata": {},
   "source": [
    "### 1. What is a Barplot in Seaborn?\n",
    "\n",
    "A barplot shows the relationship between a categorical variable (x) and a numeric variable (y).\n",
    "\n",
    "On the x-axis: categories (like \"sex\", \"day\", \"smoker\")\n",
    "\n",
    "On the y-axis: some numeric measure (like \"total_bill\", \"tip\")\n",
    "\n",
    "👉 Difference from countplot:\n",
    "\n",
    "countplot → counts number of occurrences in each category.\n",
    "\n",
    "barplot → shows the mean (by default) of a numeric variable for each category."
   ]
  },
  {
   "cell_type": "code",
   "execution_count": 36,
   "id": "6a367ad1-5c2b-4850-8372-2418104b6506",
   "metadata": {},
   "outputs": [
    {
     "data": {
      "text/plain": [
       "<Axes: xlabel='day', ylabel='tip'>"
      ]
     },
     "execution_count": 36,
     "metadata": {},
     "output_type": "execute_result"
    },
    {
     "data": {
      "image/png": "[encoded data removed]",
      "text/plain": [
       "<Figure size 640x480 with 1 Axes>"
      ]
     },
     "metadata": {},
     "output_type": "display_data"
    }
   ],
   "source": [
    "sns.barplot(x = 'day',y='tip',data=tips)"
   ]
  },
  {
   "cell_type": "code",
   "execution_count": 7,
   "id": "c16839ea-0787-468a-ab23-fb6bb03f8402",
   "metadata": {},
   "outputs": [
    {
     "data": {
      "text/plain": [
       "<Axes: xlabel='day', ylabel='total_bill'>"
      ]
     },
     "execution_count": 7,
     "metadata": {},
     "output_type": "execute_result"
    },
    {
     "data": {
      "image/png": "[encoded data removed]",
      "text/plain": [
       "<Figure size 640x480 with 1 Axes>"
      ]
     },
     "metadata": {},
     "output_type": "display_data"
    }
   ],
   "source": [
    "sns.barplot(x='day',y='total_bill',data=tips)"
   ]
  },
  {
   "cell_type": "markdown",
   "id": "ebd2d3b2-30fe-4707-ba10-06fe987b8e1d",
   "metadata": {},
   "source": [
    "### plotting with extra attribute by sex for tips dataset\n",
    "### Important Parameters\n",
    "\n",
    "x, y → variables (categorical & numerical)\n",
    "\n",
    "hue → split bars into subcategories"
   ]
  },
  {
   "cell_type": "code",
   "execution_count": 16,
   "id": "f02fd39c-ef3d-41e9-97f6-5146755f66c7",
   "metadata": {},
   "outputs": [
    {
     "data": {
      "text/plain": [
       "<Axes: xlabel='day', ylabel='total_bill'>"
      ]
     },
     "execution_count": 16,
     "metadata": {},
     "output_type": "execute_result"
    },
    {
     "data": {
      "image/png": "[encoded data removed]",
      "text/plain": [
       "<Figure size 640x480 with 1 Axes>"
      ]
     },
     "metadata": {},
     "output_type": "display_data"
    }
   ],
   "source": [
    "sns.barplot(x = 'day',y = 'total_bill',data = tips, hue = 'sex',palette='winter_r')"
   ]
  },
  {
   "cell_type": "code",
   "execution_count": 17,
   "id": "f685b7e4-13bb-4329-ba78-eb96debb119d",
   "metadata": {},
   "outputs": [
    {
     "data": {
      "text/plain": [
       "<Axes: xlabel='day', ylabel='total_bill'>"
      ]
     },
     "execution_count": 17,
     "metadata": {},
     "output_type": "execute_result"
    },
    {
     "data": {
      "image/png": "[encoded data removed]",
      "text/plain": [
       "<Figure size 640x480 with 1 Axes>"
      ]
     },
     "metadata": {},
     "output_type": "display_data"
    }
   ],
   "source": [
    "sns.barplot(x='day',y='total_bill',data = tips,hue='smoker')"
   ]
  },
  {
   "cell_type": "markdown",
   "id": "f0ab19bf-c050-416d-9a80-c31ae6ebb13a",
   "metadata": {},
   "source": [
    "#### Horizontal barplots"
   ]
  },
  {
   "cell_type": "code",
   "execution_count": 23,
   "id": "0f782d5d-afce-4537-a70f-88066fe668b2",
   "metadata": {},
   "outputs": [
    {
     "data": {
      "text/plain": [
       "<Axes: xlabel='total_bill', ylabel='day'>"
      ]
     },
     "execution_count": 23,
     "metadata": {},
     "output_type": "execute_result"
    },
    {
     "data": {
      "image/png": "[encoded data removed]",
      "text/plain": [
       "<Figure size 640x480 with 1 Axes>"
      ]
     },
     "metadata": {},
     "output_type": "display_data"
    }
   ],
   "source": [
    "sns.barplot(x = 'total_bill', y ='day',data = tips,palette='spring',hue='sex')"
   ]
  },
  {
   "cell_type": "markdown",
   "id": "97962386-9263-4de1-a85c-7f941c020ccd",
   "metadata": {},
   "source": [
    "### day vs tip by order"
   ]
  },
  {
   "cell_type": "code",
   "execution_count": 27,
   "id": "d1eb4d65-a089-421b-8531-ff81a40558c0",
   "metadata": {},
   "outputs": [
    {
     "data": {
      "text/plain": [
       "<Axes: xlabel='day', ylabel='tip'>"
      ]
     },
     "execution_count": 27,
     "metadata": {},
     "output_type": "execute_result"
    },
    {
     "data": {
      "image/png": "[encoded data removed]",
      "text/plain": [
       "<Figure size 640x480 with 1 Axes>"
      ]
     },
     "metadata": {},
     "output_type": "display_data"
    }
   ],
   "source": [
    "sns.barplot(x = 'day',y='tip',data=tips,hue='sex',palette='spring',order=['Sat','Sun','Thur','Fri'])"
   ]
  },
  {
   "cell_type": "markdown",
   "id": "07daa711-102f-4d48-b659-277e70db3cb8",
   "metadata": {},
   "source": [
    "### Why is it useful?\n",
    "\n",
    "Yes, it’s really useful, because the average is not always the best summary.\n",
    "\n",
    "Skewed data? (like bills where one customer spent ₹500 while most spent ₹50) → Mean gets distorted → Use median.\n",
    "\n",
    "Need total values? → Use sum.\n",
    "\n",
    "Want to see variability? → Use np.std (standard deviation).\n",
    "\n",
    "Want counts with a barplot (instead of countplot)?\n",
    "\n",
    "sns.barplot(x=\"day\", y=\"total_bill\", data=tips, estimator=len)\n",
    "\n",
    "\n",
    "→ Counts how many rows per day (like countplot)."
   ]
  },
  {
   "cell_type": "code",
   "execution_count": 29,
   "id": "aa9efe67-f5f9-41ea-9b84-a6717600c2d8",
   "metadata": {},
   "outputs": [
    {
     "data": {
      "text/plain": [
       "<Axes: xlabel='day', ylabel='total_bill'>"
      ]
     },
     "execution_count": 29,
     "metadata": {},
     "output_type": "execute_result"
    },
    {
     "data": {
      "image/png": "[encoded data removed]",
      "text/plain": [
       "<Figure size 640x480 with 1 Axes>"
      ]
     },
     "metadata": {},
     "output_type": "display_data"
    }
   ],
   "source": [
    "# Median instead of mean\n",
    "sns.barplot(y='total_bill',x= 'day', data=tips, estimator=np.median)"
   ]
  },
  {
   "cell_type": "markdown",
   "id": "0bb5386c-26ed-404b-be66-681a672befaf",
   "metadata": {},
   "source": [
    "### to remove confidence intervals\n",
    "What is ci in Seaborn Barplot? \n",
    "\n",
    "## confidence intervals is also known as 'errorbar=None'\n",
    "\n",
    "ci stands for confidence interval.\n",
    "\n",
    "A confidence interval is a range that estimates where the true population mean lies.\n",
    "\n",
    "By default, Seaborn shows a 95% CI (the black vertical lines on each bar).\n",
    "\n",
    "So when you see a bar for \"Sun\" with a black line on top, that line shows:\n",
    "👉 \"We are 95% confident the true average lies somewhere in this range.\""
   ]
  },
  {
   "cell_type": "code",
   "execution_count": 35,
   "id": "ebe6e87d-8f93-440b-874f-5d228c87679f",
   "metadata": {},
   "outputs": [
    {
     "data": {
      "text/plain": [
       "<Axes: xlabel='day', ylabel='total_bill'>"
      ]
     },
     "execution_count": 35,
     "metadata": {},
     "output_type": "execute_result"
    },
    {
     "data": {
      "image/png": "[encoded data removed]",
      "text/plain": [
       "<Figure size 640x480 with 1 Axes>"
      ]
     },
     "metadata": {},
     "output_type": "display_data"
    }
   ],
   "source": [
    "sns.barplot(x='day',y='total_bill',data = tips,hue='smoker',errorbar=None)"
   ]
  },
  {
   "cell_type": "code",
   "execution_count": null,
   "id": "5b79a2f7-8777-4795-920d-1091990b42c0",
   "metadata": {},
   "outputs": [],
   "source": []
  }
 ],
 "metadata": {
  "kernelspec": {
   "display_name": "Python 3 (ipykernel)",
   "language": "python",
   "name": "python3"
  },
  "language_info": {
   "codemirror_mode": {
    "name": "ipython",
    "version": 3
   },
   "file_extension": ".py",
   "mimetype": "text/x-python",
   "name": "python",
   "nbconvert_exporter": "python",
   "pygments_lexer": "ipython3",
   "version": "3.13.5"
  }
 },
 "nbformat": 4,
 "nbformat_minor": 5
}
