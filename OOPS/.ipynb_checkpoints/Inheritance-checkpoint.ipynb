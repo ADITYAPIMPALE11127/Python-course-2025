{
 "cells": [
  {
   "cell_type": "markdown",
   "id": "9456cdd5-a06d-4dfb-8a97-674bb4c19b49",
   "metadata": {},
   "source": [
    "## Single Inheritance\n",
    "* What is Single Inheritance?\n",
    "\n",
    "Single Inheritance means a child class inherits from exactly one parent class.\n",
    "\n",
    "The child gets access to all the properties (variables and methods) of the parent.\n",
    "\n",
    "It can also define its own new properties."
   ]
  },
  {
   "cell_type": "code",
   "execution_count": 3,
   "id": "217f0f81-60f4-4936-b4d5-22467e8e6177",
   "metadata": {},
   "outputs": [
    {
     "name": "stdout",
     "output_type": "stream",
     "text": [
      "Apple Sony iphone TV\n"
     ]
    }
   ],
   "source": [
    "class a: # parent \n",
    "    brandName1 = 'Apple'\n",
    "    brandName2 = 'Sony'\n",
    "class b(a): # child class inherits from parent class\n",
    "    product1 = 'iphone'\n",
    "    product2  = 'TV'\n",
    "\n",
    "obj1 = b()\n",
    "print(obj1.brandName1,obj1.brandName2,obj1.product1,obj1.product2)"
   ]
  },
  {
   "cell_type": "markdown",
   "id": "3c42021e-cd8f-4b42-b22c-db4801900442",
   "metadata": {},
   "source": [
    "## Multilevel Inheritance :  parent, child, grandchild\n",
    "### What is Multilevel Inheritance?\n",
    "\n",
    "In multilevel inheritance, a class inherits from another child class, creating a chain of inheritance.\n",
    "\n",
    "#### Example: Grandparent → Parent → Child.\n",
    "\n",
    "The last child class has access to all properties from its parent and grandparent.\n",
    "\n",
    "🔹 In your code:\n",
    "\n",
    "class a1 → Grandparent class\n",
    "\n",
    "Attributes: brandName1, brandName2.\n",
    "\n",
    "class b1(a1) → Parent class\n",
    "\n",
    "Inherits from a1.\n",
    "\n",
    "Adds: product1, product2.\n",
    "\n",
    "class c1(b1) → Child class\n",
    "\n",
    "Inherits from b1 (and indirectly from a1)."
   ]
  },
  {
   "cell_type": "code",
   "execution_count": 5,
   "id": "246979f0-bc0a-46a2-b910-ce8cfb2d6cf9",
   "metadata": {},
   "outputs": [
    {
     "name": "stdout",
     "output_type": "stream",
     "text": [
      "Amazon\n",
      "Flipkart\n",
      "Candles\n",
      "Soaps\n",
      "4.5\n",
      "4.2\n"
     ]
    }
   ],
   "source": [
    "class a1:\n",
    "    brandName1 = \"Amazon\"\n",
    "    brandName2 = \"Flipkart\"\n",
    "class b1(a1):\n",
    "    product1 = \"Candles\"\n",
    "    product2 = \"Soaps\"\n",
    "class c1(b1):\n",
    "    rating1 = 4.5\n",
    "    rating2 = 4.2\n",
    "\n",
    "user1 = c1()\n",
    "print(user1.brandName1)\n",
    "print(user1.brandName2)\n",
    "print(user1.product1)\n",
    "print(user1.product2)\n",
    "print(user1.rating1)\n",
    "print(user1.rating2)"
   ]
  },
  {
   "cell_type": "markdown",
   "id": "86ffe8b3-6297-44f6-a77d-23f3ec5beee9",
   "metadata": {},
   "source": [
    "## Multiple Inheritance\n",
    "What is Multiple Inheritance?\n",
    "\n",
    "A child class inherits from more than one parent class.\n",
    "\n",
    "Example: class d1(a1, b1, c1) → d1 gets properties from a1, b1, and c1."
   ]
  },
  {
   "cell_type": "code",
   "execution_count": 6,
   "id": "80049fdf-02ae-4cd8-8370-8c85c82014a9",
   "metadata": {},
   "outputs": [
    {
     "name": "stdout",
     "output_type": "stream",
     "text": [
      "Amazon\n",
      "Flipkart\n",
      "Candles\n",
      "Soaps\n",
      "4.5\n",
      "4.2\n",
      "120 rupees\n",
      "110 rupees\n"
     ]
    }
   ],
   "source": [
    "class a1:\n",
    "    brandName1 = \"Amazon\"\n",
    "    brandName2 = \"Flipkart\"\n",
    "class b1:\n",
    "    product1 = \"Candles\"\n",
    "    product2 = \"Soaps\"\n",
    "class c1:\n",
    "    rating1 = 4.5\n",
    "    rating2 = 4.2\n",
    "\n",
    "class d1(a1,b1,c1):\n",
    "    price1 = \"120 rupees\"\n",
    "    price2 = \"110 rupees\"\n",
    "\n",
    "user1 = d1()\n",
    "print(user1.brandName1)\n",
    "print(user1.brandName2)\n",
    "print(user1.product1)\n",
    "print(user1.product2)\n",
    "print(user1.rating1)\n",
    "print(user1.rating2)\n",
    "print(user1.price1)\n",
    "print(user1.price2)"
   ]
  },
  {
   "cell_type": "markdown",
   "id": "72e315e8-3c44-4621-b76b-db232e32d938",
   "metadata": {},
   "source": [
    "## Hierarichical Inheritance\n",
    "🔹 What is Hierarchical Inheritance?\n",
    "\n",
    "In hierarchical inheritance, multiple child classes inherit from the same parent class.\n",
    "\n",
    "Each child gets all the properties of the parent, but can also have its own.\n",
    "\n",
    "The children are siblings — they do not inherit from each other."
   ]
  },
  {
   "cell_type": "code",
   "execution_count": 7,
   "id": "a9e831c5-7788-4bca-8a32-c4f3c9980694",
   "metadata": {},
   "outputs": [
    {
     "name": "stdout",
     "output_type": "stream",
     "text": [
      "Amazon\n",
      "Flipkart\n",
      "Candles\n",
      "Soaps\n",
      "Amazon\n",
      "Flipkart\n",
      "4.5\n",
      "4.2\n",
      "Amazon\n",
      "Flipkart\n",
      "120 rupees\n",
      "110 rupees\n"
     ]
    }
   ],
   "source": [
    "class a1:\n",
    "    brandName1 = \"Amazon\"\n",
    "    brandName2 = \"Flipkart\"\n",
    "class b1(a1):\n",
    "    product1 = \"Candles\"\n",
    "    product2 = \"Soaps\"\n",
    "class c1(a1):\n",
    "    rating1 = 4.5\n",
    "    rating2 = 4.2\n",
    "\n",
    "class d1(a1):\n",
    "    price1 = \"120 rupees\"\n",
    "    price2 = \"110 rupees\"\n",
    "uesr1 = b1()\n",
    "print(user1.brandName1)\n",
    "print(user1.brandName2)\n",
    "print(user1.product1)\n",
    "print(user1.product2)\n",
    "\n",
    "user2 = c1()\n",
    "print(user2.brandName1)\n",
    "print(user2.brandName2)\n",
    "print(user2.rating1)\n",
    "print(user2.rating2)\n",
    "\n",
    "user3 = d1()\n",
    "print(user3.brandName1)\n",
    "print(user3.brandName2)\n",
    "print(user3.price1)\n",
    "print(user3.price2)"
   ]
  },
  {
   "cell_type": "markdown",
   "id": "32ab314a-ef08-4501-af9b-11015a064740",
   "metadata": {},
   "source": [
    "## Hybrid Inheritance\n"
   ]
  },
  {
   "cell_type": "code",
   "execution_count": 9,
   "id": "4a2a1630-a260-44e1-8d78-7d68dd8eb7c4",
   "metadata": {},
   "outputs": [
    {
     "name": "stdout",
     "output_type": "stream",
     "text": [
      "Dog barks\n",
      "This is a pet animal\n",
      "Puppy is playful\n"
     ]
    }
   ],
   "source": [
    "class Animal: #parent\n",
    "    def sound(self):\n",
    "        return 'Animal makes a sound'\n",
    "        \n",
    "class Dog(Animal):\n",
    "    def sound(self):\n",
    "        return 'Dog barks'\n",
    "class Pet:\n",
    "    def pet_type(self):\n",
    "        return 'This is a pet animal'\n",
    "class Puppy(Dog,Pet):\n",
    "    def behaviour(self):\n",
    "        return 'Puppy is playful'\n",
    "\n",
    "rocky = Puppy()\n",
    "print(rocky.sound())\n",
    "print(rocky.pet_type())\n",
    "print(rocky.behaviour())"
   ]
  },
  {
   "cell_type": "code",
   "execution_count": null,
   "id": "2ec7c028-b428-42e7-9b12-e9689a410f5d",
   "metadata": {},
   "outputs": [],
   "source": []
  }
 ],
 "metadata": {
  "kernelspec": {
   "display_name": "Python 3 (ipykernel)",
   "language": "python",
   "name": "python3"
  },
  "language_info": {
   "codemirror_mode": {
    "name": "ipython",
    "version": 3
   },
   "file_extension": ".py",
   "mimetype": "text/x-python",
   "name": "python",
   "nbconvert_exporter": "python",
   "pygments_lexer": "ipython3",
   "version": "3.13.5"
  }
 },
 "nbformat": 4,
 "nbformat_minor": 5
}
