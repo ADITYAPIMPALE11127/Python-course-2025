{
 "cells": [
  {
   "cell_type": "code",
   "execution_count": null,
   "id": "8614aff4",
   "metadata": {},
   "outputs": [],
   "source": [
    "class Dog:  # class 1 for dog\n",
    "    def __init__(self,name):\n",
    "        self.name = name\n",
    "    def speak(self):\n",
    "        return self.name + ' says Woof Woof!!' # concat\n",
    "\n",
    "class Cat: # class 2 for cat\n",
    "    def __init__(self,name):\n",
    "        self.name = name\n",
    "    \n",
    "    def speak(self):\n",
    "        return self.name + ' says Meow Meow!!'"
   ]
  },
  {
   "cell_type": "code",
   "execution_count": null,
   "id": "0fb30645",
   "metadata": {},
   "outputs": [],
   "source": [
    "fready = Dog(name='Fready')\n",
    "\n",
    "cookie  = Cat(name='cookie')"
   ]
  },
  {
   "cell_type": "code",
   "execution_count": null,
   "id": "356d87cf",
   "metadata": {},
   "outputs": [
    {
     "data": {
      "text/plain": [
       "'Fready says Woof Woof!!'"
      ]
     },
     "execution_count": 68,
     "metadata": {},
     "output_type": "execute_result"
    }
   ],
   "source": [
    "fready.speak()"
   ]
  },
  {
   "cell_type": "code",
   "execution_count": null,
   "id": "7463a802",
   "metadata": {},
   "outputs": [
    {
     "data": {
      "text/plain": [
       "'cookie says Meow Meow!!'"
      ]
     },
     "execution_count": 69,
     "metadata": {},
     "output_type": "execute_result"
    }
   ],
   "source": [
    "cookie.speak()"
   ]
  },
  {
   "cell_type": "markdown",
   "id": "211bc537",
   "metadata": {},
   "source": [
    "#### 1.  For Loop method"
   ]
  },
  {
   "cell_type": "code",
   "execution_count": null,
   "id": "c56a03b6",
   "metadata": {},
   "outputs": [
    {
     "name": "stdout",
     "output_type": "stream",
     "text": [
      "Fready says Woof Woof!!\n",
      "cookie says Meow Meow!!\n"
     ]
    }
   ],
   "source": [
    "for pet in [fready,cookie]:\n",
    "    print(pet.speak())"
   ]
  },
  {
   "cell_type": "markdown",
   "id": "0f50896f",
   "metadata": {},
   "source": [
    "#### Special Methods"
   ]
  },
  {
   "cell_type": "code",
   "execution_count": null,
   "id": "c7f5a42f",
   "metadata": {},
   "outputs": [],
   "source": [
    "class Book:\n",
    "    def __init__(self, title, author, pages):\n",
    "        \"\"\"\n",
    "        Constructor method - called when creating a new Book instance\n",
    "        Initializes the book's attributes and prints a creation message\n",
    "        \n",
    "        Parameters:\n",
    "            title (str): The title of the book\n",
    "            author (str): The author of the book\n",
    "            pages (int): Number of pages in the book\n",
    "        \"\"\"\n",
    "        print('Congrats!! You have created a book')\n",
    "        self.title = title    # Assign title to instance variable\n",
    "        self.author = author # Assign author to instance variable\n",
    "        self.pages = pages   # Assign pages to instance variable\n",
    "    \n",
    "    def __str__(self):\n",
    "        \"\"\"\n",
    "        String representation method - called by str() and print()\n",
    "        Returns a formatted string with book information\n",
    "        \"\"\"\n",
    "        return f\"Title: {self.title}\\nPages: {self.pages}\\nAuthor: {self.author}\"\n",
    "    \n",
    "    def __len__(self):\n",
    "        \"\"\"\n",
    "        Length method - called by len()\n",
    "        Returns the number of pages in the book\n",
    "        \"\"\"\n",
    "        return self.pages\n",
    "    \n",
    "    def __del__(self):\n",
    "        \"\"\"\n",
    "        Destructor method - called when the object is about to be destroyed\n",
    "        Prints a message indicating the book is being deleted\n",
    "        \"\"\"\n",
    "        print('A book is destroyed')\n",
    "\n",
    "\n",
    "# Example usage:\n",
    "# my_book = Book(\"Python 101\", \"John Doe\", 200)\n",
    "# print(my_book)      # Calls __str__\n",
    "# print(len(my_book)) # Calls __len__\n",
    "# del my_book         # Calls __del__"
   ]
  },
  {
   "cell_type": "code",
   "execution_count": null,
   "id": "d8b8e540",
   "metadata": {},
   "outputs": [
    {
     "name": "stdout",
     "output_type": "stream",
     "text": [
      "Congrats!! You have created a book\n"
     ]
    }
   ],
   "source": [
    "b1 = Book(title='1984',pages=180,author= 'Geirge Orwell')"
   ]
  },
  {
   "cell_type": "code",
   "execution_count": null,
   "id": "8fb7dd5e",
   "metadata": {},
   "outputs": [
    {
     "name": "stdout",
     "output_type": "stream",
     "text": [
      "Title: 1984\n",
      "Pages: 180\n",
      "Author: Geirge Orwell\n"
     ]
    }
   ],
   "source": [
    "print(b1)"
   ]
  },
  {
   "cell_type": "code",
   "execution_count": null,
   "id": "04ee7bbe",
   "metadata": {},
   "outputs": [
    {
     "data": {
      "text/plain": [
       "180"
      ]
     },
     "execution_count": 74,
     "metadata": {},
     "output_type": "execute_result"
    }
   ],
   "source": [
    "len(b1)"
   ]
  },
  {
   "cell_type": "code",
   "execution_count": null,
   "id": "3142e82c",
   "metadata": {},
   "outputs": [
    {
     "name": "stdout",
     "output_type": "stream",
     "text": [
      "A book is destroyed\n"
     ]
    }
   ],
   "source": [
    "del b1"
   ]
  },
  {
   "cell_type": "markdown",
   "id": "aa7c9bb2",
   "metadata": {},
   "source": [
    "#### Create a Bank Account class that enables deposit and withdrawal"
   ]
  },
  {
   "cell_type": "code",
   "execution_count": 3,
   "metadata": {},
   "outputs": [],
   "source": [
    "class BankAccount:\n",
    "    def __init__(self, account_holder, balance=0):  # Fixed parameter order\n",
    "        self.balance = balance\n",
    "        self.account_holder = account_holder\n",
    "    \n",
    "    def deposit(self, amount):\n",
    "        self.balance += amount\n",
    "        return f'You have deposited {amount}. The updated balance is {self.balance}'\n",
    "    \n",
    "    def withdraw(self, amount):\n",
    "        if amount <= self.balance:\n",
    "            self.balance -= amount\n",
    "            return f'You have withdrawn {amount}. The updated balance is {self.balance}'  # Fixed \"withdrawn\"\n",
    "        else:\n",
    "            return 'Insufficient Funds'\n",
    "\n",
    "class SavingsAccount(BankAccount):\n",
    "    def __init__(self, account_holder, balance=0, interest_rate=0.04):  # Added account_holder\n",
    "        super().__init__(account_holder, balance)  # Pass account_holder to parent\n",
    "        self.interest_rate = interest_rate\n",
    "    \n",
    "    def apply_interest_rate(self):\n",
    "        self.balance = self.balance + (self.balance * self.interest_rate)\n",
    "        return self.balance\n",
    "\n",
    "\n",
    "# Example usage:\n",
    "# regular_account = BankAccount(\"John Doe\", 100)\n",
    "# savings_account = SavingsAccount(\"Jane Smith\", 500)"
   ]
  },
  {
   "cell_type": "code",
   "execution_count": 5,
   "metadata": {},
   "outputs": [],
   "source": [
    "sb = SavingsAccount(balance=10000, interest_rate=0.05,account_holder=\"Aditya Pimpale\")"
   ]
  },
  {
   "cell_type": "code",
   "execution_count": 7,
   "metadata": {},
   "outputs": [
    {
     "data": {
      "text/plain": [
       "10000"
      ]
     },
     "execution_count": 7,
     "metadata": {},
     "output_type": "execute_result"
    }
   ],
   "source": [
    "sb.balance"
   ]
  },
  {
   "cell_type": "code",
   "execution_count": 8,
   "id": "d5f5d49c",
   "metadata": {},
   "outputs": [
    {
     "data": {
      "text/plain": [
       "'You have withdrawn 200. The updated balance is 9800'"
      ]
     },
     "execution_count": 8,
     "metadata": {},
     "output_type": "execute_result"
    }
   ],
   "source": [
    "sb.withdraw(200)"
   ]
  },
  {
   "cell_type": "code",
   "execution_count": 9,
   "id": "6062e133",
   "metadata": {},
   "outputs": [
    {
     "data": {
      "text/plain": [
       "'You have deposited 21231. The updated balance is 31031'"
      ]
     },
     "execution_count": 9,
     "metadata": {},
     "output_type": "execute_result"
    }
   ],
   "source": [
    "sb.deposit(21231)"
   ]
  },
  {
   "cell_type": "code",
   "execution_count": 11,
   "id": "fb33c931",
   "metadata": {},
   "outputs": [
    {
     "name": "stdout",
     "output_type": "stream",
     "text": [
      "<__main__.SavingsAccount object at 0x000001E6DD30BDC0>\n"
     ]
    }
   ],
   "source": [
    "print(sb)"
   ]
  },
  {
   "cell_type": "code",
   "execution_count": null,
   "id": "abb0441f",
   "metadata": {},
   "outputs": [],
   "source": []
  }
 ],
 "metadata": {
  "kernelspec": {
   "display_name": "Python 3",
   "language": "python",
   "name": "python3"
  },
  "language_info": {
   "codemirror_mode": {
    "name": "ipython",
    "version": 3
   },
   "file_extension": ".py",
   "mimetype": "text/x-python",
   "name": "python",
   "nbconvert_exporter": "python",
   "pygments_lexer": "ipython3",
   "version": "3.9.12"
  }
 },
 "nbformat": 4,
 "nbformat_minor": 5
}
