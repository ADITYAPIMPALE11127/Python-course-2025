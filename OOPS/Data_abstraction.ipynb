{
 "cells": [
  {
   "cell_type": "markdown",
   "id": "072acaa9-69d5-4ca2-b4e7-9fbdf9590071",
   "metadata": {},
   "source": [
    "# Data Abstraction\n",
    "* Data abstraction is an Object oriented programming concept where you hide the implementation details of a class and expose only the necessary functionalities to the user.\n",
    "* example in real real life:\n",
    "   * when you drive a car, you use the steering wheel, accelator, and breaks ---- but you dont't need to know the complex details of how the engine or transmission works.\n",
    "   * In python, abstraction is mainly achieved using abstract classes and methods.\n",
    "\n",
    "# How abstraction works in python.\n",
    "* Python provides the abc(Abstract base class) module to implement abstraction.\n",
    "  * Abstract class: A class that cannot be instantiated (you can't create objects from it).\n",
    "  * Abstract Method: A method declared in the abstract class, but without implementation. The child class must implement it."
   ]
  },
  {
   "cell_type": "code",
   "execution_count": 5,
   "id": "49d48f25-801b-401f-aec0-288d9b7091a7",
   "metadata": {},
   "outputs": [
    {
     "name": "stdout",
     "output_type": "stream",
     "text": [
      "Car engine started\n",
      "Car engine stopped\n"
     ]
    }
   ],
   "source": [
    "from abc import ABC, abstractmethod\n",
    "\n",
    "class Vehicle(ABC):\n",
    "    @abstractmethod # abstract method implementation\n",
    "    def start(self):\n",
    "        pass\n",
    "        \n",
    "    @abstractmethod\n",
    "    def stop(self):\n",
    "        pass\n",
    "\n",
    "class Car(Vehicle):\n",
    "    def start(self):\n",
    "        return (\"Car engine started\")\n",
    "    def stop(self):\n",
    "        return (\"Car engine stopped\")\n",
    "\n",
    "WagonR = Car()\n",
    "print(WagonR.start())\n",
    "print(WagonR.stop())"
   ]
  },
  {
   "cell_type": "code",
   "execution_count": 8,
   "id": "0eebbeba-7bdc-4c1c-91e8-6a86dd1b9176",
   "metadata": {},
   "outputs": [
    {
     "name": "stdout",
     "output_type": "stream",
     "text": [
      "Himalayan 411\n"
     ]
    }
   ],
   "source": [
    "class BIKE(Vehicle):\n",
    "    def BikeName(self):\n",
    "        return (\"Himalayan 411\")\n",
    "    def start(self):\n",
    "        pass\n",
    "    def stop(self):\n",
    "        pass\n",
    "\n",
    "bike1 = BIKE()\n",
    "print(bike1.BikeName())"
   ]
  },
  {
   "cell_type": "code",
   "execution_count": 13,
   "id": "3c5d195c-9fc1-44d1-919a-4b43b4b51291",
   "metadata": {},
   "outputs": [
    {
     "name": "stdout",
     "output_type": "stream",
     "text": [
      "My name is Aditya\n"
     ]
    },
    {
     "data": {
      "text/plain": [
       "'Good sense of humour'"
      ]
     },
     "execution_count": 13,
     "metadata": {},
     "output_type": "execute_result"
    }
   ],
   "source": [
    "class Human(ABC):\n",
    "    @abstractmethod\n",
    "    def speak(self):\n",
    "        pass\n",
    "    @abstractmethod\n",
    "    def walk(self):\n",
    "        pass\n",
    "    @abstractmethod\n",
    "    def senseofHumour(self):\n",
    "        pass\n",
    "\n",
    "class Aditya(Human):\n",
    "    def speak():\n",
    "        pass\n",
    "    def walk():\n",
    "        pass\n",
    "    def senseofHumour(self):\n",
    "        return 'Good sense of humour'\n",
    "    def name(self):\n",
    "        return (\"My name is Aditya\")\n",
    "a1 = Aditya()\n",
    "print(a1.name())\n",
    "a1.senseofHumour()"
   ]
  },
  {
   "cell_type": "code",
   "execution_count": null,
   "id": "ba9cbd72-bebe-49ae-b508-edfee36e2bf1",
   "metadata": {},
   "outputs": [],
   "source": []
  }
 ],
 "metadata": {
  "kernelspec": {
   "display_name": "Python 3 (ipykernel)",
   "language": "python",
   "name": "python3"
  },
  "language_info": {
   "codemirror_mode": {
    "name": "ipython",
    "version": 3
   },
   "file_extension": ".py",
   "mimetype": "text/x-python",
   "name": "python",
   "nbconvert_exporter": "python",
   "pygments_lexer": "ipython3",
   "version": "3.13.5"
  }
 },
 "nbformat": 4,
 "nbformat_minor": 5
}
