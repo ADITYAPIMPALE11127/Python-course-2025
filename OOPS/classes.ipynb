{
 "cells": [
  {
   "cell_type": "code",
   "execution_count": null,
   "id": "39e82672",
   "metadata": {},
   "outputs": [],
   "source": [
    "class Employee: # Employee class\n",
    "    company=\"Thermax\"\n",
    "# self is a way to reference the object of the class which is being created\n",
    "    def get_salary(self): \n",
    "        return 26000\n"
   ]
  },
  {
   "cell_type": "code",
   "execution_count": null,
   "id": "bc74b46e",
   "metadata": {},
   "outputs": [
    {
     "name": "stdout",
     "output_type": "stream",
     "text": [
      "26000\n",
      "<__main__.Employee object at 0x0000022515324F70>\n"
     ]
    }
   ],
   "source": [
    "suvarna = Employee() #object i.e instance of class Employee\n",
    "print(suvarna.get_salary())\n",
    "print(suvarna)# prints the object details"
   ]
  },
  {
   "cell_type": "code",
   "execution_count": 7,
   "id": "550681b1",
   "metadata": {},
   "outputs": [
    {
     "name": "stdout",
     "output_type": "stream",
     "text": [
      "Thermax\n"
     ]
    }
   ],
   "source": [
    "print(suvarna.company)"
   ]
  },
  {
   "cell_type": "code",
   "execution_count": null,
   "id": "8ca78fe5",
   "metadata": {},
   "outputs": [],
   "source": []
  }
 ],
 "metadata": {
  "kernelspec": {
   "display_name": "Python 3",
   "language": "python",
   "name": "python3"
  },
  "language_info": {
   "codemirror_mode": {
    "name": "ipython",
    "version": 3
   },
   "file_extension": ".py",
   "mimetype": "text/x-python",
   "name": "python",
   "nbconvert_exporter": "python",
   "pygments_lexer": "ipython3",
   "version": "3.9.12"
  }
 },
 "nbformat": 4,
 "nbformat_minor": 5
}
