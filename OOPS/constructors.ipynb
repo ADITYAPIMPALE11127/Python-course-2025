{
 "cells": [
  {
   "cell_type": "code",
   "execution_count": 7,
   "id": "12649c90",
   "metadata": {},
   "outputs": [
    {
     "name": "stdout",
     "output_type": "stream",
     "text": [
      "<__main__.Book object at 0x000001E5D12A4C10>\n"
     ]
    }
   ],
   "source": [
    "class Book:\n",
    "    pass\n",
    "\n",
    "my_book = Book()\n",
    "print(my_book)"
   ]
  },
  {
   "cell_type": "code",
   "execution_count": 8,
   "id": "347a1195",
   "metadata": {},
   "outputs": [
    {
     "data": {
      "text/plain": [
       "'Aditya'"
      ]
     },
     "execution_count": 8,
     "metadata": {},
     "output_type": "execute_result"
    }
   ],
   "source": [
    "class Person:\n",
    "    def __init__(self,name,age):\n",
    "        self.name = name\n",
    "        self.age = age\n",
    "        \n",
    "person1 = Person(\"Aditya\",23)\n",
    "\n",
    "person1.name"
   ]
  },
  {
   "cell_type": "code",
   "execution_count": 10,
   "id": "22f63e2b",
   "metadata": {},
   "outputs": [
    {
     "data": {
      "text/plain": [
       "23"
      ]
     },
     "execution_count": 10,
     "metadata": {},
     "output_type": "execute_result"
    }
   ],
   "source": [
    "person1.age"
   ]
  },
  {
   "cell_type": "code",
   "execution_count": 12,
   "id": "52c2adf8",
   "metadata": {},
   "outputs": [],
   "source": [
    "class Person:\n",
    "    def __init__(self,name,age):\n",
    "        self.name = name\n",
    "        self.age = age\n",
    "    def greet(self):\n",
    "        print(f\"Hello, my name is {self.name} and I am {self.age}\")"
   ]
  },
  {
   "cell_type": "code",
   "execution_count": 13,
   "id": "fa9e37bd",
   "metadata": {},
   "outputs": [
    {
     "name": "stdout",
     "output_type": "stream",
     "text": [
      "Hello, my name is Aditi Dixit and I am 23\n"
     ]
    }
   ],
   "source": [
    "aditi = Person(\"Aditi Dixit\",23)\n",
    "aditi.greet()"
   ]
  },
  {
   "cell_type": "code",
   "execution_count": null,
   "id": "bb7371a8",
   "metadata": {},
   "outputs": [],
   "source": []
  }
 ],
 "metadata": {
  "kernelspec": {
   "display_name": "Python 3",
   "language": "python",
   "name": "python3"
  },
  "language_info": {
   "codemirror_mode": {
    "name": "ipython",
    "version": 3
   },
   "file_extension": ".py",
   "mimetype": "text/x-python",
   "name": "python",
   "nbconvert_exporter": "python",
   "pygments_lexer": "ipython3",
   "version": "3.9.12"
  }
 },
 "nbformat": 4,
 "nbformat_minor": 5
}
