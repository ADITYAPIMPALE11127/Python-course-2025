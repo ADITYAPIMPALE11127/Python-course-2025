{
 "cells": [
  {
   "cell_type": "markdown",
   "id": "187f9825-74c3-41b4-bd3f-00c96cc912ad",
   "metadata": {},
   "source": [
    "## Encapsulation\n",
    "* Encapsulation is an OOP concept where we bundle the data (variables) and the methods (functions) that operate on that data into a single unit.\n",
    "* It also restricts direct access to some data , meaning you can hide sensitive information from the outside world and control access using getters and setters.\n",
    "\n",
    " * In real life example: A bank account object contains:\n",
    " * Data:  Account Number, Balance.\n",
    " * Method: Deposite , withdraw\n",
    " * The account balance should not be directly modified by anyone, only through controlled methods.\n",
    "\n",
    "\n",
    "### Key Points: - \n",
    "* Public memebers: Accessible everywhere.\n",
    "* Private memebers: Declared with double underscore, not accesible directly outside the class.\n",
    "* Protected members: Declared with single underscore means to be treated as priavte , but still accessible."
   ]
  },
  {
   "cell_type": "code",
   "execution_count": 5,
   "id": "3ebe405f-c133-4516-be6b-c77c0cb40555",
   "metadata": {},
   "outputs": [
    {
     "name": "stdout",
     "output_type": "stream",
     "text": [
      "account number is:1123131231\n",
      "Your account balance is:  1000\n"
     ]
    }
   ],
   "source": [
    "# Encapsulation\n",
    "class BankAccount:\n",
    "    def __init__(self,accountNumber, balance):\n",
    "        self.accountNumber = accountNumber # public attribute\n",
    "        self.__balance = balance # private  attribute\n",
    "\n",
    "# Getter Method\n",
    "    def get_balance(self):\n",
    "        return self.__balance\n",
    "# Setter Method\n",
    "    def depositAmount(self):\n",
    "        amount = int(input(\"enter your amount: \"))\n",
    "        if amount > 0:\n",
    "            self.__balance += amount\n",
    "            print(f\"your deposited amount is: {amount}\\nUpdated Bank balance is:{self.__balance}\")\n",
    "        else:\n",
    "            print(f\"{amount} is invalid deposite amount\")\n",
    "\n",
    "    def withdrawAmount(self):\n",
    "        amount = int(input(\"enter your amount, you want to withdraw: \"))\n",
    "        if 0 < amount <= self.__balance:\n",
    "            self.__balance -= amount\n",
    "            print(f\"Amount withdrawn is: {amount}\\nUpdated bank balance is:{self.__balance}\")\n",
    "        else:\n",
    "            print(f\"Amount is entered is invalid or balance is insufficient\")\n",
    "\n",
    "user1 = BankAccount(\"1123131231\",1000)\n",
    "print(f\"account number is:{user1.accountNumber}\") # accesing public attribute\n",
    "print(\"Your account balance is: \",user1.get_balance()) # accesing  private attribute"
   ]
  },
  {
   "cell_type": "code",
   "execution_count": 6,
   "id": "ec634458-b332-41d4-908d-37853fa6f56c",
   "metadata": {},
   "outputs": [
    {
     "name": "stdin",
     "output_type": "stream",
     "text": [
      "enter your amount:  12000\n"
     ]
    },
    {
     "name": "stdout",
     "output_type": "stream",
     "text": [
      "your deposited amount is: 12000\n",
      "Updated Bank balance is:13000\n"
     ]
    }
   ],
   "source": [
    "user1.depositAmount()"
   ]
  },
  {
   "cell_type": "code",
   "execution_count": 8,
   "id": "49032be1-3012-4c90-88ac-dc1a972c2776",
   "metadata": {},
   "outputs": [
    {
     "name": "stdin",
     "output_type": "stream",
     "text": [
      "enter your amount, you want to withdraw:  1100\n"
     ]
    },
    {
     "name": "stdout",
     "output_type": "stream",
     "text": [
      "Amount withdrawn is: 1100\n",
      "Updated bank balance is:11900\n"
     ]
    }
   ],
   "source": [
    "user1.withdrawAmount()"
   ]
  },
  {
   "cell_type": "code",
   "execution_count": null,
   "id": "317fc735-a2a9-47df-b9ba-13b5f07774ca",
   "metadata": {},
   "outputs": [],
   "source": []
  }
 ],
 "metadata": {
  "kernelspec": {
   "display_name": "Python 3 (ipykernel)",
   "language": "python",
   "name": "python3"
  },
  "language_info": {
   "codemirror_mode": {
    "name": "ipython",
    "version": 3
   },
   "file_extension": ".py",
   "mimetype": "text/x-python",
   "name": "python",
   "nbconvert_exporter": "python",
   "pygments_lexer": "ipython3",
   "version": "3.13.5"
  }
 },
 "nbformat": 4,
 "nbformat_minor": 5
}
