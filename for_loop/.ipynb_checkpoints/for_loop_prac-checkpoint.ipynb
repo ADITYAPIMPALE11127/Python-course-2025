{
 "cells": [
  {
   "cell_type": "code",
   "execution_count": 1,
   "id": "79a85c62",
   "metadata": {},
   "outputs": [
    {
     "data": {
      "text/plain": [
       "28"
      ]
     },
     "execution_count": 1,
     "metadata": {},
     "output_type": "execute_result"
    }
   ],
   "source": [
    "lst = [1,2,3,4,5,6,7]\n",
    "sum = 0\n",
    "for i in lst:\n",
    "    sum = sum + i\n",
    "    \n",
    "sum"
   ]
  },
  {
   "cell_type": "code",
   "execution_count": 2,
   "id": "6581b54a",
   "metadata": {},
   "outputs": [
    {
     "name": "stdout",
     "output_type": "stream",
     "text": [
      "1\n",
      "3\n",
      "5\n",
      "7\n",
      "9\n",
      "11\n",
      "13\n",
      "15\n",
      "17\n",
      "19\n",
      "21\n",
      "23\n",
      "25\n",
      "27\n",
      "29\n",
      "31\n",
      "33\n",
      "35\n",
      "37\n",
      "39\n",
      "41\n",
      "43\n",
      "45\n",
      "47\n",
      "49\n",
      "51\n",
      "53\n",
      "55\n",
      "57\n",
      "59\n",
      "61\n",
      "63\n",
      "65\n",
      "67\n",
      "69\n",
      "71\n",
      "73\n",
      "75\n",
      "77\n",
      "79\n",
      "81\n",
      "83\n",
      "85\n",
      "87\n",
      "89\n",
      "91\n",
      "93\n",
      "95\n",
      "97\n",
      "99\n"
     ]
    }
   ],
   "source": [
    "for i in range(1,101):\n",
    "    if i % 2 != 0:\n",
    "        print(i)"
   ]
  },
  {
   "cell_type": "code",
   "execution_count": 4,
   "id": "02a30e76",
   "metadata": {},
   "outputs": [
    {
     "name": "stdout",
     "output_type": "stream",
     "text": [
      "3 * 1 = 3\n",
      "3 * 2 = 6\n",
      "3 * 3 = 9\n",
      "3 * 4 = 12\n",
      "3 * 5 = 15\n",
      "3 * 6 = 18\n",
      "3 * 7 = 21\n",
      "3 * 8 = 24\n",
      "3 * 9 = 27\n",
      "3 * 10 = 30\n"
     ]
    }
   ],
   "source": [
    "num = int(input())\n",
    "\n",
    "for i in range(1,11):\n",
    "    mult = num * i\n",
    "    print(f\"{num} * {i} = {mult}\")\n",
    "    i += 1\n",
    "    "
   ]
  },
  {
   "cell_type": "code",
   "execution_count": 8,
   "id": "38621f97",
   "metadata": {},
   "outputs": [
    {
     "data": {
      "text/plain": [
       "120"
      ]
     },
     "execution_count": 8,
     "metadata": {},
     "output_type": "execute_result"
    }
   ],
   "source": [
    "num = int(input())\n",
    "fact = 1\n",
    "for i in range(1, num + 1):\n",
    "    fact = fact * i\n",
    "fact\n"
   ]
  },
  {
   "cell_type": "markdown",
   "id": "1a76175b-ea0f-42ea-9cfb-2797e111f494",
   "metadata": {},
   "source": [
    "* Write a loop that prints each number in the list [10, 20, 30] multiplied by 2."
   ]
  },
  {
   "cell_type": "code",
   "execution_count": 1,
   "id": "2cb33fe5-1028-4643-a7b0-94d2385c7d20",
   "metadata": {},
   "outputs": [
    {
     "name": "stdout",
     "output_type": "stream",
     "text": [
      "20\n",
      "40\n",
      "60\n"
     ]
    }
   ],
   "source": [
    "arr = [10,20,30]\n",
    "\n",
    "for i in arr:\n",
    "    print(i * 2)"
   ]
  },
  {
   "cell_type": "markdown",
   "id": "bc2569bc-976f-411f-86fb-52fcf9b4a614",
   "metadata": {},
   "source": [
    "* Write a loop that prints each character in \"python\" on a separate line, but in uppercase."
   ]
  },
  {
   "cell_type": "code",
   "execution_count": 2,
   "id": "652326b6-07a5-4619-88fe-5474c0e3a532",
   "metadata": {},
   "outputs": [
    {
     "name": "stdout",
     "output_type": "stream",
     "text": [
      "P\n",
      "Y\n",
      "T\n",
      "H\n",
      "O\n",
      "N\n"
     ]
    }
   ],
   "source": [
    "str1 = \"python\"\n",
    "for ch in str1:\n",
    "    print(ch.upper())"
   ]
  },
  {
   "cell_type": "markdown",
   "id": "269bac95-8bfb-4af0-886d-dfaa7893218c",
   "metadata": {},
   "source": [
    "* Write a loop using range() to print the even numbers from 2 to 10 (inclusive)."
   ]
  },
  {
   "cell_type": "code",
   "execution_count": 3,
   "id": "5ff17120-ffd7-4fd8-b5f8-22ace68c381c",
   "metadata": {},
   "outputs": [
    {
     "name": "stdout",
     "output_type": "stream",
     "text": [
      "2\n",
      "4\n",
      "6\n",
      "8\n",
      "10\n"
     ]
    }
   ],
   "source": [
    "for i in range(2,11):\n",
    "    if i % 2 == 0:\n",
    "        print(i)"
   ]
  },
  {
   "cell_type": "markdown",
   "id": "c5f23069-c8ff-4c46-934b-be9b8f6e8d21",
   "metadata": {},
   "source": [
    "#### enumerate() gives you both the index and the value."
   ]
  },
  {
   "cell_type": "code",
   "execution_count": 4,
   "id": "0a50a686-49a9-4568-b8c9-fd2550799e69",
   "metadata": {},
   "outputs": [
    {
     "name": "stdout",
     "output_type": "stream",
     "text": [
      "0 red\n",
      "1 green\n",
      "2 blue\n"
     ]
    }
   ],
   "source": [
    "colors = [\"red\", \"green\", \"blue\"]\n",
    "for index, color in enumerate(colors):\n",
    "    print(index, color)"
   ]
  },
  {
   "cell_type": "code",
   "execution_count": 7,
   "id": "21ae7d84-a314-410d-a2c7-aecbbcfc3bfc",
   "metadata": {},
   "outputs": [
    {
     "name": "stdout",
     "output_type": "stream",
     "text": [
      "Word 0: hi\n",
      "Word 1: hello\n",
      "Word 2: hey\n"
     ]
    }
   ],
   "source": [
    "words = [\"hi\", \"hello\", \"hey\"]\n",
    "for index, word in enumerate(words):\n",
    "    print(f\"Word {index}: {word}\")"
   ]
  },
  {
   "cell_type": "markdown",
   "id": "9792af7a-ac37-44d9-ab39-720b0e302d04",
   "metadata": {},
   "source": [
    "### when using nested for loops , outer loop starts ->> inner loop finishes ->> 2nd iteration of outer loop ->> inner loop finishes\n",
    "\n",
    "* for outer in OUTER_LIST:\n",
    "    * for inner in INNER_LIST:\n",
    "        *  inner loop runs fully before outer changes\n"
   ]
  },
  {
   "cell_type": "code",
   "execution_count": 8,
   "id": "fc7ab401-13c2-4fa7-9d73-d27ba3ab2cdd",
   "metadata": {},
   "outputs": [
    {
     "name": "stdout",
     "output_type": "stream",
     "text": [
      "1 10\n",
      "1 20\n",
      "2 10\n",
      "2 20\n"
     ]
    }
   ],
   "source": [
    "for x in [1, 2]:\n",
    "    for y in [10, 20]:\n",
    "        print(x, y)"
   ]
  },
  {
   "cell_type": "code",
   "execution_count": 9,
   "id": "fdb65d48-edb6-40ff-84a0-d619911e72f7",
   "metadata": {},
   "outputs": [
    {
     "name": "stdout",
     "output_type": "stream",
     "text": [
      "a c\n",
      "a d\n",
      "b c\n",
      "b d\n"
     ]
    }
   ],
   "source": [
    "for x in [\"a\",\"b\"]:\n",
    "    for y in [\"c\",\"d\"]:\n",
    "        print(x,y)"
   ]
  },
  {
   "cell_type": "code",
   "execution_count": null,
   "id": "ef8712cd-3efb-4e8a-ada5-2345c52a8d84",
   "metadata": {},
   "outputs": [],
   "source": []
  }
 ],
 "metadata": {
  "kernelspec": {
   "display_name": "Python 3 (ipykernel)",
   "language": "python",
   "name": "python3"
  },
  "language_info": {
   "codemirror_mode": {
    "name": "ipython",
    "version": 3
   },
   "file_extension": ".py",
   "mimetype": "text/x-python",
   "name": "python",
   "nbconvert_exporter": "python",
   "pygments_lexer": "ipython3",
   "version": "3.13.5"
  }
 },
 "nbformat": 4,
 "nbformat_minor": 5
}
