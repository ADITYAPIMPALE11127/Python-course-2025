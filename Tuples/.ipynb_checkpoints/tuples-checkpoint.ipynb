{
 "cells": [
  {
   "cell_type": "markdown",
   "id": "77eb2867",
   "metadata": {},
   "source": [
    "#### Tuples are ordered but immutable or unchangable collections, cannot be changed after creation"
   ]
  },
  {
   "cell_type": "markdown",
   "id": "637790d9",
   "metadata": {},
   "source": [
    "##### If we are handling large project collections of data may be changed, so that collections be immutable we use tuples\n",
    "### tuples in python are :\n",
    "#### faster than lists, used as dictionary keys since they are hashable and safe from unintended modifications"
   ]
  },
  {
   "cell_type": "code",
   "execution_count": 2,
   "id": "d5cbe22e",
   "metadata": {},
   "outputs": [
    {
     "data": {
      "text/plain": [
       "tuple"
      ]
     },
     "execution_count": 2,
     "metadata": {},
     "output_type": "execute_result"
    }
   ],
   "source": [
    "a = (1,) # tuple for a single element can be defined as (1,)\n",
    "type(a)"
   ]
  },
  {
   "cell_type": "code",
   "execution_count": null,
   "id": "90f03ea9",
   "metadata": {},
   "outputs": [
    {
     "data": {
      "text/plain": [
       "45"
      ]
     },
     "execution_count": 4,
     "metadata": {},
     "output_type": "execute_result"
    }
   ],
   "source": [
    "tuple1 = (1,43,22,45,356,21)\n",
    "tuple1[3] # accessing a tuple element by index"
   ]
  },
  {
   "cell_type": "markdown",
   "id": "31d8f01c",
   "metadata": {},
   "source": [
    "### Tuple unpacking"
   ]
  },
  {
   "cell_type": "code",
   "execution_count": null,
   "id": "02090136",
   "metadata": {},
   "outputs": [
    {
     "data": {
      "text/plain": [
       "(1, 56, 76, 87, 54, 24, 3)"
      ]
     },
     "execution_count": 9,
     "metadata": {},
     "output_type": "execute_result"
    }
   ],
   "source": [
    "tuple2 = (1,56,76,87,54,24,3)\n",
    "len(tuple2) # getting length of a tuple if the size is not known\n",
    "a,b,c,d,e,f,g = tuple2\n",
    "a,b,c,d,e,f,g"
   ]
  },
  {
   "cell_type": "markdown",
   "id": "7605d4f6",
   "metadata": {},
   "source": [
    "### Tuple Methods"
   ]
  },
  {
   "cell_type": "code",
   "execution_count": 19,
   "id": "a614ac27",
   "metadata": {},
   "outputs": [
    {
     "data": {
      "text/plain": [
       "('count return the total frequncy of the tuple: ', 3)"
      ]
     },
     "execution_count": 19,
     "metadata": {},
     "output_type": "execute_result"
    }
   ],
   "source": [
    "tup1 = (1,2,2,2,3,4,5,5,6,7,7,8,9,9,9)\n",
    "\"count return the total frequncy of the tuple: \",tup1.count(2) # count()"
   ]
  },
  {
   "cell_type": "code",
   "execution_count": 22,
   "id": "0be1ca7b",
   "metadata": {},
   "outputs": [
    {
     "data": {
      "text/plain": [
       "('index method returns the 1st occurance of the tuple', 6)"
      ]
     },
     "execution_count": 22,
     "metadata": {},
     "output_type": "execute_result"
    }
   ],
   "source": [
    "\"index method returns the 1st occurance of the tuple\",tup1.index(5) # returns first occurance by index"
   ]
  },
  {
   "cell_type": "code",
   "execution_count": null,
   "id": "2fb98c2a",
   "metadata": {},
   "outputs": [],
   "source": []
  }
 ],
 "metadata": {
  "kernelspec": {
   "display_name": "Python 3",
   "language": "python",
   "name": "python3"
  },
  "language_info": {
   "codemirror_mode": {
    "name": "ipython",
    "version": 3
   },
   "file_extension": ".py",
   "mimetype": "text/x-python",
   "name": "python",
   "nbconvert_exporter": "python",
   "pygments_lexer": "ipython3",
   "version": "3.9.12"
  }
 },
 "nbformat": 4,
 "nbformat_minor": 5
}
