{
 "cells": [
  {
   "cell_type": "markdown",
   "id": "b26319da-3cd9-4224-8af0-e4dd8d79329b",
   "metadata": {},
   "source": [
    "### Tuples\n",
    "* Tuples are immutable lists and cannot be changed in any way once it is created.\n",
    "* Tuples are defined in the same way as lists.\n",
    "* Tuples are enclosed within parenthesis in round braces.\n",
    "* Tuples are ordered, indexed collections of data.\n",
    "* Similar to string indices, the first value in the tuple will have the index[0], the second value will be\n",
    "    * Negative indices are counted from the end of the tuple, just like lists as well as strings.\n",
    "    * Tuples also have the same strucutre where commas separate values.\n",
    "    * Tuples can store duplicates.\n",
    "    * Tuples allow you to store several data items, including string, integer and float in one variable."
   ]
  },
  {
   "cell_type": "code",
   "execution_count": 1,
   "id": "976414db-9afd-4c35-a076-f556878347a0",
   "metadata": {},
   "outputs": [
    {
     "name": "stdout",
     "output_type": "stream",
     "text": [
      "(1, 2, 3) <class 'tuple'>\n"
     ]
    }
   ],
   "source": [
    "x = (1,2,3)\n",
    "print(x,type(x))"
   ]
  },
  {
   "cell_type": "markdown",
   "id": "cb64db17-0104-49bb-adc9-3370044fa723",
   "metadata": {},
   "source": [
    "### Single element without comma then its int "
   ]
  },
  {
   "cell_type": "code",
   "execution_count": 2,
   "id": "99136815-d7c5-485d-87c0-ff9707eeb2c9",
   "metadata": {},
   "outputs": [
    {
     "name": "stdout",
     "output_type": "stream",
     "text": [
      "10 <class 'int'>\n"
     ]
    }
   ],
   "source": [
    "y = (10)\n",
    "print(y,type(y))"
   ]
  },
  {
   "cell_type": "markdown",
   "id": "3a297308-e1f3-486e-a8ac-21a0aa70f7a2",
   "metadata": {},
   "source": [
    "### If comma at end then its tuple"
   ]
  },
  {
   "cell_type": "code",
   "execution_count": 4,
   "id": "4f54ee1d-df63-4ad7-a13a-8b66ebc1ab65",
   "metadata": {},
   "outputs": [
    {
     "name": "stdout",
     "output_type": "stream",
     "text": [
      "(10,) <class 'tuple'>\n"
     ]
    }
   ],
   "source": [
    "y1 = (10,)\n",
    "print(y1,type(y1))"
   ]
  },
  {
   "cell_type": "markdown",
   "id": "f4d0e07e-73f2-40aa-975e-7ae3960832c9",
   "metadata": {},
   "source": [
    "#### If we remove append, extend, insert, update, delete from lists its a tuple then, that is immutable "
   ]
  },
  {
   "cell_type": "markdown",
   "id": "8512dc6f-f9c7-4dce-b017-f20ec2224b10",
   "metadata": {},
   "source": [
    "### Tuples can be concatenated "
   ]
  },
  {
   "cell_type": "code",
   "execution_count": 5,
   "id": "a124ebfa-f381-4d52-839e-988be31e91eb",
   "metadata": {},
   "outputs": [
    {
     "name": "stdout",
     "output_type": "stream",
     "text": [
      "(1, 2, 3, 4, 5, 6)\n"
     ]
    }
   ],
   "source": [
    "t1 = (1,2,3)\n",
    "t2 = (4,5,6)\n",
    "print(t1 + t2)"
   ]
  },
  {
   "cell_type": "markdown",
   "id": "d5656052-958f-45b8-963e-9d5f1f32a190",
   "metadata": {},
   "source": [
    "### Whole Tuple can be deleted "
   ]
  },
  {
   "cell_type": "code",
   "execution_count": 7,
   "id": "e3272d67-b4e4-4443-9be8-6f374f50e0fd",
   "metadata": {},
   "outputs": [],
   "source": [
    "del(t1)"
   ]
  },
  {
   "cell_type": "code",
   "execution_count": 8,
   "id": "b3ace6f6-dfea-4d59-bd93-8288c76341f1",
   "metadata": {},
   "outputs": [
    {
     "ename": "NameError",
     "evalue": "name 't1' is not defined",
     "output_type": "error",
     "traceback": [
      "\u001b[31m---------------------------------------------------------------------------\u001b[39m",
      "\u001b[31mNameError\u001b[39m                                 Traceback (most recent call last)",
      "\u001b[36mCell\u001b[39m\u001b[36m \u001b[39m\u001b[32mIn[8]\u001b[39m\u001b[32m, line 1\u001b[39m\n\u001b[32m----> \u001b[39m\u001b[32m1\u001b[39m \u001b[43mt1\u001b[49m\n",
      "\u001b[31mNameError\u001b[39m: name 't1' is not defined"
     ]
    }
   ],
   "source": [
    "t1"
   ]
  },
  {
   "cell_type": "code",
   "execution_count": null,
   "id": "83ad69cc-4db7-4d1d-8b93-44589f01a750",
   "metadata": {},
   "outputs": [],
   "source": []
  }
 ],
 "metadata": {
  "kernelspec": {
   "display_name": "Python 3 (ipykernel)",
   "language": "python",
   "name": "python3"
  },
  "language_info": {
   "codemirror_mode": {
    "name": "ipython",
    "version": 3
   },
   "file_extension": ".py",
   "mimetype": "text/x-python",
   "name": "python",
   "nbconvert_exporter": "python",
   "pygments_lexer": "ipython3",
   "version": "3.13.5"
  }
 },
 "nbformat": 4,
 "nbformat_minor": 5
}
