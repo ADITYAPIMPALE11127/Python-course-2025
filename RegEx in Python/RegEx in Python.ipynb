{
 "cells": [
  {
   "cell_type": "markdown",
   "id": "00077032-2a92-4ebc-a773-21cd91bea76d",
   "metadata": {},
   "source": [
    "## RegEx [Regular Expressions]\n",
    "* RegEx(Regular Expressions): Patters used to match strings value.\n",
    "* Python provide __re module for regex operations.__"
   ]
  },
  {
   "cell_type": "markdown",
   "id": "8f8c150b-c8c8-492e-8315-696270d1ebb2",
   "metadata": {},
   "source": [
    "| Pattern | Meaning                             | Example Match                    |\n",
    "| ------- | ----------------------------------- | -------------------------------- |\n",
    "| `.`     | Any single character except newline | `\"a\", \"@\", \"5\"`                  |\n",
    "| `^`     | Start of string                     | `^Hello` matches `\"Hello world\"` |\n",
    "| `$`     | End of string                       | `world$` matches `\"Hello world\"` |\n",
    "| `*`     | 0 or more repetitions               | `ab*` → `\"a\", \"ab\", \"abbb\"`      |\n",
    "| `+`     | 1 or more repetitions               | `ab+` → `\"ab\", \"abbb\"`           |\n",
    "| `?`     | 0 or 1 repetition (optional)        | `ab?` → `\"a\", \"ab\"`              |\n",
    "| `{n}`   | Exactly n repetitions               | `a{3}` → `\"aaa\"`                 |\n",
    "| `{n,}`  | n or more repetitions               | `a{2,}` → `\"aa\", \"aaa\"`          |\n",
    "| `{n,m}` | Between n and m repetitions         | `a{2,4}` → `\"aa\", \"aaa\", \"aaaa\"` |\n",
    "| `[]`    | Character set                       | `[abc]` → `\"a\", \"b\", \"c\"`        |\n",
    "| `[^ ]`  | Negated character set               | `[^a]` → any char except `\"a\"`   |\n",
    "| `\\d`    | Digit (0-9)                         | `\"5\"`                            |\n",
    "| `\\D`    | Non-digit                           | `\"a\", \"-\"`                       |\n",
    "| `\\w`    | Word character (a-zA-Z0-9_)         | `\"A\", \"9\", \"_\"`                  |\n",
    "| `\\W`    | Non-word character                  | `\"@\", \"-\"`                       |\n",
    "| `\\s`    | Whitespace (space, tab, newline)    | `\" \"`                            |\n",
    "| `\\S`    | Non-whitespace                      | `\"A\"`                            |\n"
   ]
  },
  {
   "cell_type": "markdown",
   "id": "8641c373-1135-4cf4-8785-06e63acb1e9a",
   "metadata": {},
   "source": [
    "## Basic Functions\n",
    "#### re.match(pattern, string)\n",
    "#### Checks for a match only at the beginning of the string."
   ]
  },
  {
   "cell_type": "code",
   "execution_count": 2,
   "id": "470ad0de-dbda-4398-8c41-71bbca34e497",
   "metadata": {},
   "outputs": [],
   "source": [
    "import re"
   ]
  },
  {
   "cell_type": "code",
   "execution_count": 3,
   "id": "4f808fac-4f94-4403-8462-4c33ac0ad553",
   "metadata": {},
   "outputs": [
    {
     "data": {
      "text/plain": [
       "<re.Match object; span=(0, 2), match='he'>"
      ]
     },
     "execution_count": 3,
     "metadata": {},
     "output_type": "execute_result"
    }
   ],
   "source": [
    "re.match('he','hello')"
   ]
  },
  {
   "cell_type": "code",
   "execution_count": 4,
   "id": "25a91b2b-1008-454c-ac04-eca5c206d9b7",
   "metadata": {},
   "outputs": [],
   "source": [
    "re.match('lo','hello')"
   ]
  },
  {
   "cell_type": "markdown",
   "id": "43554833-8026-495e-9665-e12304074cba",
   "metadata": {},
   "source": [
    "### re.search(patter,string)\n",
    "#### searchs anywhere in the string"
   ]
  },
  {
   "cell_type": "code",
   "execution_count": 5,
   "id": "b7fe7151-a0e5-4a9e-bcc3-ff96be0e8d09",
   "metadata": {},
   "outputs": [
    {
     "data": {
      "text/plain": [
       "<re.Match object; span=(3, 5), match='lo'>"
      ]
     },
     "execution_count": 5,
     "metadata": {},
     "output_type": "execute_result"
    }
   ],
   "source": [
    "re.search('lo','hello')"
   ]
  },
  {
   "cell_type": "markdown",
   "id": "e4693c5e-f619-417c-8adb-4d227f19c671",
   "metadata": {},
   "source": [
    "### re.findall(pattern,string)\n",
    "##### Returns all non-overlapping matches as a list."
   ]
  },
  {
   "cell_type": "code",
   "execution_count": 6,
   "id": "dd3f7c27-c3bd-4791-9ac9-63c999eef40d",
   "metadata": {},
   "outputs": [
    {
     "data": {
      "text/plain": [
       "['l', 'l']"
      ]
     },
     "execution_count": 6,
     "metadata": {},
     "output_type": "execute_result"
    }
   ],
   "source": [
    "re.findall('l', \"hello\")"
   ]
  },
  {
   "cell_type": "code",
   "execution_count": 7,
   "id": "cfcd3c89-48fb-4e8f-96dc-51399ad41b1a",
   "metadata": {},
   "outputs": [
    {
     "data": {
      "text/plain": [
       "2"
      ]
     },
     "execution_count": 7,
     "metadata": {},
     "output_type": "execute_result"
    }
   ],
   "source": [
    "x = \"hello world\"\n",
    "\n",
    "x.find('l')"
   ]
  },
  {
   "cell_type": "markdown",
   "id": "30624f86-1707-4d6c-8c5a-bc4651e1b15c",
   "metadata": {},
   "source": [
    "### re.finditer(pattern, string)\n",
    "#### Returns an iterator of match objects."
   ]
  },
  {
   "cell_type": "code",
   "execution_count": 8,
   "id": "7745e8b2-562d-4d63-8602-49e8bd542db8",
   "metadata": {},
   "outputs": [
    {
     "name": "stdout",
     "output_type": "stream",
     "text": [
      "2 l\n",
      "3 l\n"
     ]
    }
   ],
   "source": [
    "for i in re.finditer('l','hello'):\n",
    "    print(i.start(),i.group())"
   ]
  },
  {
   "cell_type": "markdown",
   "id": "e8e5f2e9-7473-47c9-b454-16073a77f283",
   "metadata": {},
   "source": [
    "## re.sub(pattern, repl, string)\n",
    "### Replaces matches with replacement."
   ]
  },
  {
   "cell_type": "code",
   "execution_count": 9,
   "id": "800c651e-97b1-433d-b5d8-3723ad17594f",
   "metadata": {},
   "outputs": [
    {
     "data": {
      "text/plain": [
       "'I like banana'"
      ]
     },
     "execution_count": 9,
     "metadata": {},
     "output_type": "execute_result"
    }
   ],
   "source": [
    "re.sub('Apple','banana', 'I like Apple')"
   ]
  },
  {
   "cell_type": "markdown",
   "id": "ec0357a3-1f0f-4296-8f3f-ed93e3c33dae",
   "metadata": {},
   "source": [
    "### re.split(pattern,string)\n",
    "#### Splits string by regex pattern."
   ]
  },
  {
   "cell_type": "code",
   "execution_count": null,
   "id": "175a3db1-0de6-4815-a25e-7b51d61baa6f",
   "metadata": {},
   "outputs": [],
   "source": []
  }
 ],
 "metadata": {
  "kernelspec": {
   "display_name": "Python 3 (ipykernel)",
   "language": "python",
   "name": "python3"
  },
  "language_info": {
   "codemirror_mode": {
    "name": "ipython",
    "version": 3
   },
   "file_extension": ".py",
   "mimetype": "text/x-python",
   "name": "python",
   "nbconvert_exporter": "python",
   "pygments_lexer": "ipython3",
   "version": "3.13.5"
  }
 },
 "nbformat": 4,
 "nbformat_minor": 5
}
