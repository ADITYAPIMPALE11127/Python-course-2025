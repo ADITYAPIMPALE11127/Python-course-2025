{
 "cells": [
  {
   "cell_type": "markdown",
   "id": "6190bd8b-04a4-45ca-ab93-ebb641b0ced6",
   "metadata": {},
   "source": [
    "## Generator in Python\n",
    "\n",
    "* Python generators are functions that returns the traversal object and a simple way of creating iterators.\n",
    "* It traverses aall the items at once.\n",
    "* The generator can also be expressed in a syntax similar to the list.\n",
    "* There is a lot of complexity in creating iteration in python. It is required to implement iter() and next() method to keep track of internal states.\n",
    "* It is lengthy process to create iterators.\n",
    "* It raise stopIteration exceptions.\n",
    "* It pauses the function execution by saving all states and yields to the caller.\n",
    "* Later, It resumes execution when a successive function is called."
   ]
  },
  {
   "cell_type": "code",
   "execution_count": 1,
   "id": "99d53b3e-02a4-4ba8-917e-fb32177261e8",
   "metadata": {},
   "outputs": [
    {
     "name": "stdout",
     "output_type": "stream",
     "text": [
      "Hello Sameul\n",
      "Python is the best\n",
      "Happy Birthday\n"
     ]
    }
   ],
   "source": [
    "def message1():\n",
    "    messageOne = \"Hello Sameul\"\n",
    "    return messageOne\n",
    "\n",
    "def message2():\n",
    "    messageTwo = \"Python is the best\"\n",
    "    return messageTwo\n",
    "\n",
    "def message3():\n",
    "    messageThree  = \"Happy Birthday\"\n",
    "    return messageThree\n",
    "\n",
    "\n",
    "print(message1())   \n",
    "print(message2())  \n",
    "print(message3())  "
   ]
  },
  {
   "cell_type": "markdown",
   "id": "728739b2-699f-4c5f-b8de-b05750543d8e",
   "metadata": {},
   "source": [
    "## With generator"
   ]
  },
  {
   "cell_type": "code",
   "execution_count": 9,
   "id": "a9fc5675-ee15-4b2d-9c6d-54fead993f11",
   "metadata": {},
   "outputs": [
    {
     "name": "stdout",
     "output_type": "stream",
     "text": [
      "Hello Sameul\n"
     ]
    }
   ],
   "source": [
    "def message1():\n",
    "    messageOne = \"Hello Sameul\"\n",
    "    yield messageOne\n",
    "\n",
    "    messageTwo = \"Python is the best\"\n",
    "    yield messageTwo\n",
    "    \n",
    "    messageThree  = \"Happy Birthday\"\n",
    "    yield messageThree\n",
    "x = message1()\n",
    "print(next(x))"
   ]
  },
  {
   "cell_type": "code",
   "execution_count": 10,
   "id": "52195eac-f6c7-4492-90a5-364f8f72b780",
   "metadata": {},
   "outputs": [
    {
     "name": "stdout",
     "output_type": "stream",
     "text": [
      "Python is the best\n"
     ]
    }
   ],
   "source": [
    "print(next(x))"
   ]
  },
  {
   "cell_type": "code",
   "execution_count": 11,
   "id": "4342d4ab-3617-4167-80cb-30ffbbb570a1",
   "metadata": {},
   "outputs": [
    {
     "name": "stdout",
     "output_type": "stream",
     "text": [
      "Happy Birthday\n"
     ]
    }
   ],
   "source": [
    "print(next(x))"
   ]
  },
  {
   "cell_type": "code",
   "execution_count": 12,
   "id": "abfc3f19-a638-4e30-85bd-33e6779718db",
   "metadata": {},
   "outputs": [
    {
     "ename": "StopIteration",
     "evalue": "",
     "output_type": "error",
     "traceback": [
      "\u001b[31m---------------------------------------------------------------------------\u001b[39m",
      "\u001b[31mStopIteration\u001b[39m                             Traceback (most recent call last)",
      "\u001b[36mCell\u001b[39m\u001b[36m \u001b[39m\u001b[32mIn[12]\u001b[39m\u001b[32m, line 1\u001b[39m\n\u001b[32m----> \u001b[39m\u001b[32m1\u001b[39m \u001b[38;5;28mprint\u001b[39m(\u001b[38;5;28;43mnext\u001b[39;49m\u001b[43m(\u001b[49m\u001b[43mx\u001b[49m\u001b[43m)\u001b[49m)\n",
      "\u001b[31mStopIteration\u001b[39m: "
     ]
    }
   ],
   "source": [
    "print(next(x))"
   ]
  },
  {
   "cell_type": "code",
   "execution_count": null,
   "id": "d6eac63d-2940-4c5a-bfd9-8c0ef7f1b471",
   "metadata": {},
   "outputs": [],
   "source": []
  }
 ],
 "metadata": {
  "kernelspec": {
   "display_name": "Python 3 (ipykernel)",
   "language": "python",
   "name": "python3"
  },
  "language_info": {
   "codemirror_mode": {
    "name": "ipython",
    "version": 3
   },
   "file_extension": ".py",
   "mimetype": "text/x-python",
   "name": "python",
   "nbconvert_exporter": "python",
   "pygments_lexer": "ipython3",
   "version": "3.13.5"
  }
 },
 "nbformat": 4,
 "nbformat_minor": 5
}
