{
 "cells": [
  {
   "cell_type": "markdown",
   "id": "93e2bbd8-6898-4b2a-90b3-b812e3de9626",
   "metadata": {},
   "source": [
    "| Escape Sequence | Meaning              | Example Code                       | Output                       |\n",
    "| --------------- | -------------------- | ---------------------------------- | ---------------------------- |\n",
    "| `\\\\`            | Backslash            | `print(\"This is a backslash: \\\\\")` | `This is a backslash: \\`     |\n",
    "| `\\'`            | Single Quote         | `print('It\\'s a pen')`             | `It's a pen`                 |\n",
    "| `\\\"`            | Double Quote         | `print(\"He said \\\"Hello\\\"\")`       | `He said \"Hello\"`            |\n",
    "| `\\n`            | New Line             | `print(\"Line1\\nLine2\")`            | `Line1`<br>`Line2`           |\n",
    "| `\\t`            | Horizontal Tab       | `print(\"Hello\\tWorld\")`            | `Hello   World`              |\n",
    "| `\\r`            | Carriage Return      | `print(\"12345\\rABCDE\")`            | `ABCDE`                      |\n",
    "| `\\b`            | Backspace            | `print(\"ABC\\bD\")`                  | `ABD`                        |\n",
    "| `\\f`            | Form Feed (new page) | `print(\"Hello\\fWorld\")`            | `Hello\f",
    "World` (might vary)   |\n",
    "| `\\v`            | Vertical Tab         | `print(\"Hello\\vWorld\")`            | `Hello\u000b",
    "World` (might vary)   |\n",
    "| `\\a`            | Bell/Alert           | `print(\"\\a\")`                      | (May beep or do nothing)     |\n",
    "| `\\0`            | Null Character       | `print(\"Null\\0Char\")`              | `Null Char` (invisible null) |\n",
    "| `\\ooo`          | Octal Value          | `print(\"\\141\")`                    | `a`                          |\n",
    "| `\\xhh`          | Hex Value            | `print(\"\\x41\")`                    | `A`                          |\n",
    "| `\\N{name}`      | Unicode by Name      | `print(\"\\N{COPYRIGHT SIGN}\")`      | `©`                          |\n",
    "| `\\uXXXX`        | Unicode 16-bit       | `print(\"\\u00A9\")`                  | `©`                          |\n",
    "| `\\UXXXXXXXX`    | Unicode 32-bit       | `print(\"\\U0001F600\")`              | 😀                           |\n"
   ]
  },
  {
   "cell_type": "code",
   "execution_count": null,
   "id": "516b9247-4804-4e73-9359-47676c6c6d06",
   "metadata": {},
   "outputs": [],
   "source": []
  }
 ],
 "metadata": {
  "kernelspec": {
   "display_name": "Python 3 (ipykernel)",
   "language": "python",
   "name": "python3"
  },
  "language_info": {
   "codemirror_mode": {
    "name": "ipython",
    "version": 3
   },
   "file_extension": ".py",
   "mimetype": "text/x-python",
   "name": "python",
   "nbconvert_exporter": "python",
   "pygments_lexer": "ipython3",
   "version": "3.13.5"
  }
 },
 "nbformat": 4,
 "nbformat_minor": 5
}
