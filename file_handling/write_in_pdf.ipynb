{
 "cells": [
  {
   "cell_type": "markdown",
   "id": "a109cc8f-9c52-4c00-bbc3-8871907444a1",
   "metadata": {},
   "source": [
    "## Using FPDF to write in a pdf "
   ]
  },
  {
   "cell_type": "code",
   "execution_count": 6,
   "id": "0fd2be1e-ab0a-4da9-8505-7e3a4ce50e66",
   "metadata": {},
   "outputs": [],
   "source": [
    "from fpdf import FPDF\n",
    "pdf = FPDF()"
   ]
  },
  {
   "cell_type": "code",
   "execution_count": 7,
   "id": "35cfcb45-dd89-4551-8aa3-9520f0aa9250",
   "metadata": {},
   "outputs": [
    {
     "name": "stderr",
     "output_type": "stream",
     "text": [
      "<>:4: SyntaxWarning: invalid escape sequence '\\P'\n",
      "<>:4: SyntaxWarning: invalid escape sequence '\\P'\n",
      "C:\\Users\\shree\\AppData\\Local\\Temp\\ipykernel_18808\\3350500170.py:4: SyntaxWarning: invalid escape sequence '\\P'\n",
      "  pdf.output(\"E:\\Python course 2025\\data\\\\mypdf.pdf\")\n"
     ]
    },
    {
     "data": {
      "text/plain": [
       "''"
      ]
     },
     "execution_count": 7,
     "metadata": {},
     "output_type": "execute_result"
    }
   ],
   "source": [
    "pdf.add_page()\n",
    "pdf.set_font(\"Arial\",size=35)\n",
    "pdf.cell(200,10,txt=\"Hello world, This is my first pdf\")\n",
    "pdf.output(\"E:\\Python course 2025\\data\\\\mypdf.pdf\")"
   ]
  },
  {
   "cell_type": "code",
   "execution_count": 9,
   "id": "02bc5886-85b9-4837-a628-37eb2c806ea6",
   "metadata": {},
   "outputs": [],
   "source": [
    "from PyPDF2 import PdfWriter"
   ]
  },
  {
   "cell_type": "code",
   "execution_count": 12,
   "id": "7993a058-d1e9-411f-ab70-0ef576b12ef0",
   "metadata": {},
   "outputs": [],
   "source": [
    "# data from user :  count vowelChar, consChar, Total characters, TotalDigits, special characters in the text."
   ]
  },
  {
   "cell_type": "code",
   "execution_count": 3,
   "id": "3f01fe4a-311e-4065-aa48-6bc0757acc03",
   "metadata": {},
   "outputs": [
    {
     "name": "stdin",
     "output_type": "stream",
     "text": [
      "Enter the file name (without extension):  aditya\n",
      "Enter the number of lines:  2\n",
      "Write line 1:  hyderabad is a big city and its very famous.\n",
      "Write line 2:  stop\n"
     ]
    },
    {
     "name": "stdout",
     "output_type": "stream",
     "text": [
      "File writing successful!\n",
      "Number of words: 10\n",
      "Total characters (with spaces): 48\n",
      "Total characters (without spaces): 40\n",
      "Total vowels: 14\n",
      "Total consonants: 26\n",
      "Total digits: 0\n",
      "Total special characters: 1\n"
     ]
    }
   ],
   "source": [
    "\n",
    "file_name = input(\"Enter the file name (without extension): \")\n",
    "complete = \"E:\\\\Python course 2025\\\\data\\\\\" + file_name + \".txt\"\n",
    "f = open(complete, \"w\")\n",
    "endpoint = int(input(\"Enter the number of lines: \"))\n",
    "for i in range(endpoint):\n",
    "    data = input(\"Write line \" + str(i+1) + \": \")\n",
    "    f.write(data + \"\\n\")\n",
    "f.close()\n",
    "print(\"File writing successful!\")\n",
    "x = open(complete, \"r\")\n",
    "data = x.read()\n",
    "x.close()\n",
    "\n",
    "word_count = 0\n",
    "char_count = 0\n",
    "space_count = 0\n",
    "vowel_count = 0\n",
    "digit_count = 0\n",
    "special_count = 0\n",
    "\n",
    "words = data.split()\n",
    "word_count = len(words)\n",
    "\n",
    "for ch in data:\n",
    "    if ch != \"\\n\":\n",
    "        char_count += 1\n",
    "        if ch == \" \":\n",
    "            space_count += 1\n",
    "        if ch.lower() in \"aeiou\":\n",
    "            vowel_count += 1\n",
    "        if ch.isdigit():\n",
    "            digit_count += 1\n",
    "        if not ch.isalnum() and ch != \" \":\n",
    "            special_count += 1\n",
    "\n",
    "\n",
    "print(\"Number of words:\", word_count)\n",
    "print(\"Total characters (with spaces):\", char_count)\n",
    "print(\"Total characters (without spaces):\", char_count - space_count)\n",
    "print(\"Total vowels:\", vowel_count)\n",
    "print(\"Total consonants:\", char_count - space_count - vowel_count)\n",
    "print(\"Total digits:\", digit_count)\n",
    "print(\"Total special characters:\", special_count)\n",
    "\n",
    "\n",
    "a = open(complete, \"a\")\n",
    "a.write(\"\\n--- File Analysis ---\\n\")\n",
    "a.write(\"Number of words: \" + str(word_count) + \"\\n\")\n",
    "a.write(\"Total characters (with spaces): \" + str(char_count) + \"\\n\")\n",
    "a.write(\"Total characters (without spaces): \" + str(char_count - space_count) + \"\\n\")\n",
    "a.write(\"Total vowels: \" + str(vowel_count) + \"\\n\")\n",
    "a.write(\"Total consonants: \" + str(char_count - space_count - vowel_count) + \"\\n\")\n",
    "a.write(\"Total digits: \" + str(digit_count) + \"\\n\")\n",
    "a.write(\"Total special characters: \" + str(special_count) + \"\\n\")\n",
    "a.close()\n"
   ]
  },
  {
   "cell_type": "code",
   "execution_count": null,
   "id": "0f5c3104-fab7-40a1-bd23-ad9eba5684bf",
   "metadata": {},
   "outputs": [],
   "source": []
  }
 ],
 "metadata": {
  "kernelspec": {
   "display_name": "Python 3 (ipykernel)",
   "language": "python",
   "name": "python3"
  },
  "language_info": {
   "codemirror_mode": {
    "name": "ipython",
    "version": 3
   },
   "file_extension": ".py",
   "mimetype": "text/x-python",
   "name": "python",
   "nbconvert_exporter": "python",
   "pygments_lexer": "ipython3",
   "version": "3.13.5"
  }
 },
 "nbformat": 4,
 "nbformat_minor": 5
}
