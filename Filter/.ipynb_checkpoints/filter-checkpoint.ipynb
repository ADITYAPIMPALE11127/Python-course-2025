{
 "cells": [
  {
   "cell_type": "markdown",
   "id": "32c26609",
   "metadata": {},
   "source": [
    "### filter() function is used to select items from a list (or any iterable) that meets a certain condition."
   ]
  },
  {
   "cell_type": "code",
   "execution_count": 1,
   "id": "3ee466e2",
   "metadata": {},
   "outputs": [
    {
     "data": {
      "text/plain": [
       "[43, 53, 24, 10]"
      ]
     },
     "execution_count": 1,
     "metadata": {},
     "output_type": "execute_result"
    }
   ],
   "source": [
    "nums = [1,2,3,4,5,6,43,53,24,10]\n",
    "def is_greater_than_9(num):\n",
    "    return num > 9\n",
    "new_list = list(filter(is_greater_than_9, nums))\n",
    "new_list\n"
   ]
  },
  {
   "cell_type": "markdown",
   "id": "e6d23adf",
   "metadata": {},
   "source": []
  }
 ],
 "metadata": {
  "kernelspec": {
   "display_name": "Python 3",
   "language": "python",
   "name": "python3"
  },
  "language_info": {
   "codemirror_mode": {
    "name": "ipython",
    "version": 3
   },
   "file_extension": ".py",
   "mimetype": "text/x-python",
   "name": "python",
   "nbconvert_exporter": "python",
   "pygments_lexer": "ipython3",
   "version": "3.13.5"
  }
 },
 "nbformat": 4,
 "nbformat_minor": 5
}
